{
 "cells": [
  {
   "cell_type": "markdown",
   "metadata": {},
   "source": [
    "This is a [jupyter](https://jupyter.org/) notebook that contains text, equations, images and executable code in one document."
   ]
  },
  {
   "cell_type": "markdown",
   "metadata": {},
   "source": [
    "$\n",
    "\\newcommand{\\dd}{\\text{d}}\n",
    "\\newcommand{\\e}{\\operatorname{e}}\n",
    "\\newcommand{\\Fc}{\\underline F}\n",
    "\\newcommand{\\Hc}{\\underline H}\n",
    "\\newcommand{\\Xc}{\\underline X}\n",
    "\\newcommand{\\Yc}{\\underline Y}\n",
    "\\newcommand{\\Zc}{\\underline Z}\n",
    "\\newcommand{\\xic}{\\underline \\xi}\n",
    "\\newcommand{\\vc}{\\underline v}\n",
    "\\newcommand{\\pc}{\\underline p}\n",
    "\\newcommand{\\xiv}{\\pmb{\\xi}}\n",
    "\\newcommand{\\Psiv}{\\pmb{\\Psi}}\n",
    "\\newcommand{\\xivc}{\\underline \\xiv}\n",
    "\\newcommand{\\xv}{\\mathbf{x}}\n",
    "\\newcommand{\\jj}{\\operatorname{j}}\n",
    "$"
   ]
  },
  {
   "cell_type": "markdown",
   "metadata": {},
   "source": [
    "# 8 Transmission over Plate Junctions\n",
    "## 8.1 Two Plates with different thickness\n",
    "![](tikzfig/plate_junction_L.svg)\n",
    "* wave transmission over any interface or junction can be studied in terms of the transmission coefficient\n",
    "\\begin{equation}\\label{eq:tau}\n",
    "\\tau = \\frac{P_T}{P_I}\n",
    "\\end{equation}\n",
    "where $P_T$ is the power transmitted and $P_I$ is the incident power\n",
    "* power in a wave\n",
    "\\begin{equation}\\label{eq:power}\n",
    "P = \\frac12\\Re(\\vc^*\\Fc) = \\frac12\\Re(\\vc^*\\Zc\\vc)\n",
    "\\end{equation}\n",
    "where $\\vc$ and $\\Zc$ can also be vector and matrix, respectively\n",
    "\n",
    "#### L-Waves\n",
    "* junction of two plates in the same plane\n",
    "* plane L-waves with wave front parallel to junction (perpendicular incidence)\n",
    "* three waves:\n",
    "  * incident wave on plate 1\n",
    "  * reflected wave on plate 1\n",
    "  * transmitted wave on plate 2\n",
    "* impedance is similar to beam:\n",
    "\\begin{equation}\\label{eq:ZLi}\n",
    "Z_{LI}=m'' c_{LI}\n",
    "\\end{equation}\n",
    "* junction at $x=0$:\n",
    "\\begin{gather}\n",
    "\\vc_1=\\vc_{1+}\\e^{-\\jj k_{L1} x} + \\vc_{1-}\\e^{\\jj k_{L1} x}\\\\\n",
    "\\vc_2=\\vc_{2+}\\e^{-\\jj k_{L2} x}\\\\\n",
    "\\Fc_1 = - \\left(\\Zc_{LI1}\\vc_{1+}\\e^{-\\jj k_{L1} x} - \\Zc_{LI1} \\vc_{1-}\\e^{\\jj k_{L1} x}\\right)\\\\\n",
    "\\Fc_2= \\Zc_{LI2}\\vc_{2+}\\e^{-\\jj k_{L2} x}\n",
    "\\end{gather}\n",
    "* at junction:\n",
    "  * velocities of all members are equal ($\\vc_1(0)=\\vc_2(0)$)\n",
    "  * sum of all forces must be zero"
   ]
  },
  {
   "cell_type": "code",
   "execution_count": 1,
   "metadata": {},
   "outputs": [
    {
     "data": {
      "text/latex": [
       "$\\displaystyle \\frac{2 Z_{LI1} v_{1+}}{Z_{LI1} + Z_{LI2}}$"
      ],
      "text/plain": [
       "2*Z_LI1*v_1+/(Z_LI1 + Z_LI2)"
      ]
     },
     "metadata": {},
     "output_type": "display_data"
    },
    {
     "data": {
      "text/latex": [
       "$\\displaystyle \\frac{4.0 Z_{LI1} Z_{LI2}}{\\left(Z_{LI1} + Z_{LI2}\\right)^{2}}$"
      ],
      "text/plain": [
       "4.0*Z_LI1*Z_LI2/(Z_LI1 + Z_LI2)**2"
      ]
     },
     "metadata": {},
     "output_type": "display_data"
    }
   ],
   "source": [
    "import sympy as sy\n",
    "ZL1, ZL2 = sy.symbols('Z_LI1 Z_LI2',positive=True) \n",
    "v11, v12, v21 = sy.symbols('v_1+ v_1- v_2+')\n",
    "# v, F at the junction x=0\n",
    "v1 = v11 + v12\n",
    "F1 = -ZL1*v11 + ZL1*v12\n",
    "v2 = v21\n",
    "F2 = ZL2*v21\n",
    "# system of two equations, solve for unkown amplitude\n",
    "# transmitted and reflected waves\n",
    "sd = sy.solve([sy.Eq(v1,v2),sy.Eq(F1+F2,0)],v21,v12,dict=True)\n",
    "# amplitude of transmitted wave = ampl. at junction\n",
    "v = sd[0][v21]\n",
    "display(v)\n",
    "# transmitted and incident power\n",
    "PT = 1/2 * sy.re(v * ZL2 * sy.conjugate(v)) \n",
    "PI = 1/2 * sy.re(v11 * ZL1 * sy.conjugate(v11)) \n",
    "# transmission coefficient\n",
    "tau = sy.simplify(PT/PI)\n",
    "display(tau)"
   ]
  },
  {
   "cell_type": "markdown",
   "metadata": {},
   "source": [
    "* the transmission coefficient depends on the impedances\n",
    "* sound reduction index\n",
    "\\begin{equation}\\label{eq:R}\n",
    "R = 10 \\lg \\frac{1}{\\tau}\\;\\text{dB}\n",
    "\\end{equation}\n",
    "* plot for different properties (ratio of thicknesses, ratio of wave speeds, ratio of densities) of both plates"
   ]
  },
  {
   "cell_type": "code",
   "execution_count": 2,
   "metadata": {},
   "outputs": [
    {
     "data": {
      "application/vnd.jupyter.widget-view+json": {
       "model_id": "95fd3599b65c4872b803de9d74a61557",
       "version_major": 2,
       "version_minor": 0
      },
      "text/plain": [
       "interactive(children=(FloatSlider(value=1.0, description='cL_2', max=10.0, min=0.1), FloatSlider(value=1.0, de…"
      ]
     },
     "metadata": {},
     "output_type": "display_data"
    }
   ],
   "source": [
    "import numpy as np\n",
    "import matplotlib.pyplot as pl\n",
    "import ipywidgets as ipw\n",
    "%matplotlib inline\n",
    "\n",
    "tau_ = sy.lambdify([ZL1,ZL2],tau)\n",
    "\n",
    "@ipw.interact(cL_2=(0.1,10),rho_2=(0.1,10))\n",
    "def plot_RL(cL_2=1.0,rho_2=1.0):\n",
    "    h2 = np.logspace(-1,1,20)\n",
    "    ZL2_ = cL_2 * rho_2 * h2\n",
    "    pl.semilogx(h2,-10*np.log10(tau_(1,ZL2_)))\n",
    "    pl.xlabel(r'$\\frac{h_2}{h_1}$')\n",
    "    pl.ylabel('R/dB')\n"
   ]
  },
  {
   "cell_type": "markdown",
   "metadata": {},
   "source": [
    "* similar approach can be used for other wave types\n",
    "* will become very complicated for junctions with more than one wave type\n",
    "\n",
    "![](tikzfig/plate_junction_exploded.svg)\n",
    "\n",
    "* alternative approach to calculate $\\tau$:\n",
    "  1. use member-local coordinate system\n",
    "  2. get impedances for all members\n",
    "  3. use transform the coordinates to junction coordinates (global)\n",
    "  4. combine all impedances and velocities at plate edge of all members of the junction\n",
    "  5. find blocked forces / tractions acting on the junction through incident wave \n",
    "  6. compute velocities at junction\n",
    "  7. compute transmitted / reflected powers and transmission coefficients\n",
    "\n",
    "* for the L-wave this is extremely simple:\n",
    "  1. coordinate system: x>0\n",
    "  2. $Z_{LIi}$\n",
    "  3. only two possibilities: coordinate transform $K_i=1$ or $K_i=-1$, applied to both $Z$ and $\\vc$\n",
    "  4. $ \\sum_i K_i Z_{LIi} K_i$\n",
    "  5. $\\Fc_j = -2 Z_{LIj} \\vc_{j+}$ where the member $j$ carries the incident wave\n",
    "  6. solve $\\left(\\sum_i K_i Z_{LIi} K_i\\right)\\vc=K_i F_j$\n",
    "  7. use \\eqref{eq:power}"
   ]
  },
  {
   "cell_type": "code",
   "execution_count": 3,
   "metadata": {},
   "outputs": [
    {
     "data": {
      "text/latex": [
       "$\\displaystyle \\frac{2 Z_{LI1} v_{1+}}{Z_{LI1} + Z_{LI2}}$"
      ],
      "text/plain": [
       "2*Z_LI1*v_1+/(Z_LI1 + Z_LI2)"
      ]
     },
     "metadata": {},
     "output_type": "display_data"
    },
    {
     "data": {
      "text/latex": [
       "$\\displaystyle \\frac{4.0 Z_{LI1} Z_{LI2}}{\\left(Z_{LI1} + Z_{LI2}\\right)^{2}}$"
      ],
      "text/plain": [
       "4.0*Z_LI1*Z_LI2/(Z_LI1 + Z_LI2)**2"
      ]
     },
     "metadata": {},
     "output_type": "display_data"
    }
   ],
   "source": [
    "# we start with step 4\n",
    "K1 = -1\n",
    "K2 = 1\n",
    "Zcomb = K1*ZL1*K1 + K2*ZL2*K2 # in this specific case, K has no effect \n",
    "Fj = -2*ZL1*v11\n",
    "v = sy.symbols(\"v\")\n",
    "v_ = sy.solve(sy.Eq(Zcomb*v,K1*Fj),v)[0]\n",
    "display(v_)\n",
    "# transmitted and incident power\n",
    "PT = 1/2 * sy.re(v_ * ZL2 * sy.conjugate(v_)) \n",
    "PI = 1/2 * sy.re(v11 * ZL1 * sy.conjugate(v11)) \n",
    "# transmission coefficient\n",
    "tau_ = sy.simplify(PT/PI)\n",
    "display(tau_)"
   ]
  },
  {
   "cell_type": "markdown",
   "metadata": {},
   "source": [
    "* this is obviously the same result as above\n",
    "* now we can easily find the result in case of three or more plates (for the simple L-wave case this is not very realistic!)\n",
    "\n",
    "![](tikzfig/plate_junction_3L.svg)\n",
    "\n",
    "* example for three plates"
   ]
  },
  {
   "cell_type": "code",
   "execution_count": 4,
   "metadata": {},
   "outputs": [
    {
     "data": {
      "text/latex": [
       "$\\displaystyle \\frac{2 Z_{LI1} v_{1+}}{Z_{LI1} + Z_{LI2} + Z_{LI3}}$"
      ],
      "text/plain": [
       "2*Z_LI1*v_1+/(Z_LI1 + Z_LI2 + Z_LI3)"
      ]
     },
     "metadata": {},
     "output_type": "display_data"
    },
    {
     "data": {
      "text/latex": [
       "$\\displaystyle \\frac{4.0 Z_{LI1} Z_{LI2}}{\\left(Z_{LI1} + Z_{LI2} + Z_{LI3}\\right)^{2}}$"
      ],
      "text/plain": [
       "4.0*Z_LI1*Z_LI2/(Z_LI1 + Z_LI2 + Z_LI3)**2"
      ]
     },
     "metadata": {},
     "output_type": "display_data"
    }
   ],
   "source": [
    "ZL3 = sy.symbols('Z_LI3',positive=True) \n",
    "K3 = 1\n",
    "Zcomb = K1*ZL1*K1 + K2*ZL2*K2 + K3*ZL3*K3\n",
    "v_ = sy.solve(sy.Eq(Zcomb*v,K1 * Fj),v)[0]\n",
    "display(v_)\n",
    "# transmitted and incident power\n",
    "PT = 1/2 * sy.re(v_ * ZL2 * sy.conjugate(v_)) \n",
    "PI = 1/2 * sy.re(v11 * ZL1 * sy.conjugate(v11)) \n",
    "# transmission coefficient\n",
    "tau_ = sy.simplify(PT/PI)\n",
    "display(tau_)"
   ]
  },
  {
   "cell_type": "markdown",
   "metadata": {},
   "source": [
    "#### Bending Waves \n",
    "![](tikzfig/plate_junction_3B.svg)\n",
    "\n",
    "* step 1-7 can also be used here as follows (details are omitted because of the complicated expressions)\n",
    "  1. local coordinate system (same as for L-Waves)\n",
    "  2. as bending waves need $v_y$ and $w_z$ velocities and $F_y$ and $M_z$ forces / moments, the impedance is now a (2x2) matrix $\\mathbf{\\Zc_B}$\n",
    "  3. as the angle $\\vartheta$ between the global plane and the individual plate  is arbitrary, the coordinate transformation $\\mathbf{K}$ is now also a matrix, connecting local $v_y$ and $w_z$ to global $v_x$, $v_y$ and $w_z$, depending on $\\vartheta$\n",
    "  4. $\\sum_i \\mathbf{K_i \\Zc_{Bi}K_i^T}$\n",
    "  5. $\\mathbf{F_j}=\\mathbf{\\Zc_{BFj}}\\vc_{j+}$ where $\\mathbf{\\Zc_{BFj}}$ is a (2x1) vector giving both blocked force and moment at the junction\n",
    "  6. solve $\\left(\\sum_i \\mathbf{K_i \\Zc_{Bi}K_i^T}\\right)\\mathbf{\\vc}=\\mathbf{K_j F_j}$\n",
    "  7. use \\eqref{eq:power}\n",
    "  \n",
    "* to demonstrate this, we use the special python package `transmission` implementing this unified approach with high-level object-oriented control\n",
    "* two plate example, as before\n",
    "* first, we define the properties of the member plates (we use typical values for steel)"
   ]
  },
  {
   "cell_type": "code",
   "execution_count": 5,
   "metadata": {},
   "outputs": [
    {
     "name": "stdout",
     "output_type": "stream",
     "text": [
      "B'= 153.84615384615387\n",
      "kB= 31.62892453951373\n"
     ]
    }
   ],
   "source": [
    "from transmission import *\n",
    "# define material\n",
    "mat1 = ElasticMaterial(dens=7800.,elas=2.1e11,poisson=0.3)\n",
    "# define plate section properties for isotropic plate 1\n",
    "sec1 = IsoPlateSec(mat=mat1,thick=2e-3)\n",
    "# bending stiffness\n",
    "print(\"B'=\",sec1.B1())\n",
    "# wave number at 500 Hz\n",
    "print(\"kB=\",sec1.kb4(2*np.pi*500)**0.25)"
   ]
  },
  {
   "cell_type": "markdown",
   "metadata": {},
   "source": [
    "* now we define the plate members and their orientation"
   ]
  },
  {
   "cell_type": "code",
   "execution_count": 6,
   "metadata": {},
   "outputs": [],
   "source": [
    "# same for plate 2 (same material, but different thickness)\n",
    "sec2 = IsoPlateSec(mat=mat1,thick=1e-3)\n",
    "# define the connection of the plates\n",
    "# two plates\n",
    "pl01 = InfPlate(sec=sec1,theta=180)\n",
    "pl02 = InfPlate(sec=sec2,theta=0)"
   ]
  },
  {
   "cell_type": "markdown",
   "metadata": {},
   "source": [
    "* finally we define the connection and compute $\\tau$"
   ]
  },
  {
   "cell_type": "code",
   "execution_count": 7,
   "metadata": {},
   "outputs": [
    {
     "name": "stdout",
     "output_type": "stream",
     "text": [
      "[0.93585115]\n"
     ]
    }
   ],
   "source": [
    "# connection\n",
    "conn = ContLineConnect()\n",
    "conn.add_member(pl01)\n",
    "conn.add_member(pl02)\n",
    "# calculate transmission for a single frequency\n",
    "fr = 500\n",
    "om = 2*np.pi*fr \n",
    "conn.get_trans(fr,pl01,2,pl02) # workaraound for bug in transmission :-(\n",
    "k = np.array((1e-5,))*sec1.kb4(om)**0.25 # wave number along junction, \n",
    "                                         # see text below    \n",
    "tau = conn.calck(om,k,pl01,2) # compute transmission coefficients\n",
    "print(tau[pl02][2])"
   ]
  },
  {
   "cell_type": "markdown",
   "metadata": {},
   "source": [
    "* it is possible to do a parametric study and plot the sound reduction index as function of the thickness ratio (as shown above for L-waves)"
   ]
  },
  {
   "cell_type": "code",
   "execution_count": 8,
   "metadata": {},
   "outputs": [
    {
     "data": {
      "image/png": "[encoded data removed]",
      "text/plain": [
       "<Figure size 640x480 with 1 Axes>"
      ]
     },
     "metadata": {},
     "output_type": "display_data"
    }
   ],
   "source": [
    "@np.vectorize\n",
    "def tau_B(h2):\n",
    "    sec2.thick = h2*sec1.thick\n",
    "    tau = conn.calck(om,k,pl01,2)\n",
    "    return tau[pl02][2][0]\n",
    "\n",
    "h2 = np.logspace(-1,1,21)\n",
    "pl.semilogx(h2,-10*np.log10(tau_B(h2)))\n",
    "pl.xlabel(r'$\\frac{h_2}{h_1}$')\n",
    "pl.ylabel('R/dB')\n",
    "#reset the thickness for further use\n",
    "sec2.thick = sec1.thick"
   ]
  },
  {
   "cell_type": "markdown",
   "metadata": {},
   "source": [
    "## 8.2 Arbitrary Junctions\n",
    "\n",
    "* we can also handle arbitrary angles $\\theta$ for the orientation  the plates\n",
    "* transfer of energy may occur from one wave type to another (e.g. bending waves to L-waves)"
   ]
  },
  {
   "cell_type": "code",
   "execution_count": 9,
   "metadata": {},
   "outputs": [
    {
     "data": {
      "image/png": "[encoded data removed]",
      "text/plain": [
       "<Figure size 640x480 with 1 Axes>"
      ]
     },
     "metadata": {},
     "output_type": "display_data"
    }
   ],
   "source": [
    "@np.vectorize\n",
    "def tau_B2(theta):#\n",
    "    pl02.theta = theta\n",
    "    tau = conn.calck(om,k,pl01,2)\n",
    "    return (tau[pl02][0][0],tau[pl02][2][0])\n",
    "\n",
    "theta = np.linspace(0,179,50)\n",
    "pl.plot(theta,-10*np.log10(tau_B2(theta)[0]),label=\"B->L\")\n",
    "pl.plot(theta,-10*np.log10(tau_B2(theta)[1]),label=\"B->B\")\n",
    "pl.legend()\n",
    "pl.xlabel(r'$\\vartheta$')\n",
    "pl.ylabel('R/dB')\n",
    "pl.ylim(0,30);"
   ]
  },
  {
   "cell_type": "markdown",
   "metadata": {},
   "source": [
    "![](tikzfig/plate_junction_incidence.svg)\n",
    "\n",
    "* so far we had only perpendicular incidence ($\\varphi=\\pi/2$)\n",
    "* any other angles will result in **periodicity** along junction (wave impedances !)\n",
    "* the dependency an the angle of incidence $\\varphi$ can be very complicated"
   ]
  },
  {
   "cell_type": "code",
   "execution_count": 10,
   "metadata": {},
   "outputs": [
    {
     "data": {
      "image/png": "[encoded data removed]",
      "text/plain": [
       "<Figure size 640x480 with 1 Axes>"
      ]
     },
     "metadata": {},
     "output_type": "display_data"
    }
   ],
   "source": [
    "pl02.theta = 90\n",
    "sec2.thick = 2e-3\n",
    "phi = np.linspace(1e-5,np.pi/2,500)\n",
    "kk = np.cos(phi)*sec1.kb4(om)**0.25\n",
    "tau = conn.calck(om,kk,pl01,2)\n",
    "pl.plot(180*phi/np.pi,-10*np.log10(tau[pl02][2]))\n",
    "pl.xlabel(r'$\\varphi$')\n",
    "pl.ylabel('R/dB')\n",
    "pl.ylim(0,30);"
   ]
  },
  {
   "cell_type": "markdown",
   "metadata": {},
   "source": [
    "* note the pole near 87° \n",
    "* often we are interested in a diffuse incidence (with same probability from every angle)\n",
    "* integration is necessary:\n",
    "\\begin{equation}\\label{eq:diffuse}\n",
    "\\overline\\tau = \\int_0^{\\pi/2}\\tau(\\varphi)sin(\\varphi)d\\varphi=\\int_0^1 \\tau(k_z)d \\frac{k_z}{k_B}\n",
    "\\end{equation}\n",
    "* example of connection between two different plates:\n",
    "![trex1.png](trex1.png)"
   ]
  },
  {
   "cell_type": "code",
   "execution_count": 11,
   "metadata": {},
   "outputs": [
    {
     "name": "stdout",
     "output_type": "stream",
     "text": [
      "1 L -> 1 ('L', 'T', 'B') : [ 3.14  4.95 33.28] dB\n",
      "1 L -> 2 ('L', 'T', 'B') : [11.43  9.52 19.76] dB\n",
      "1 T -> 1 ('L', 'T', 'B') : [ 7.22  3.44 28.11] dB\n",
      "1 T -> 2 ('L', 'T', 'B') : [11.52  5.57 20.65] dB\n",
      "1 B -> 1 ('L', 'T', 'B') : [50.59 43.13  0.54] dB\n",
      "1 B -> 2 ('L', 'T', 'B') : [26.88 24.87  9.52] dB\n",
      "2 L -> 1 ('L', 'T', 'B') : [11.98  9.79 10.13] dB\n",
      "2 L -> 2 ('L', 'T', 'B') : [ 1.59 14.7  21.17] dB\n",
      "2 T -> 1 ('L', 'T', 'B') : [12.19  5.97 10.25] dB\n",
      "2 T -> 2 ('L', 'T', 'B') : [16.84  2.49 20.56] dB\n",
      "2 B -> 1 ('L', 'T', 'B') : [38.84 37.45 11.3 ] dB\n",
      "2 B -> 2 ('L', 'T', 'B') : [39.71 36.99  0.34] dB\n"
     ]
    }
   ],
   "source": [
    "mat1=ElasticMaterial(dens=8000.,elas=2e11,poisson=0.3)\n",
    "sec1=IsoPlateSec(mat=mat1,thick=2e-3)\n",
    "mat2=ElasticMaterial(dens=5000.,elas=1e11,poisson=0.25)\n",
    "sec2=IsoPlateSec(mat=mat2,thick=1e-3)\n",
    "node=CNode() # default coordinates: (0,0)\n",
    "pl01=InfPlate(sec=sec1,theta=180)\n",
    "pl02=InfPlate(sec=sec2,theta=90)\n",
    "conn=ContLineConnect()\n",
    "conn.add_member(pl01)\n",
    "conn.add_member(pl02)\n",
    "# calculate transmission for a single frequency\n",
    "fr=500\n",
    "# print result table\n",
    "wavetypes=(\"L\",\"T\",\"B\")\n",
    "for x1 in range(2):\n",
    "    for wt in range(3):\n",
    "        for x2 in range(2):\n",
    "            frpl=conn.members[x1] # source member\n",
    "            topl=conn.members[x2] # receiver member\n",
    "            tau=conn.get_trans(fr,frpl,wt,topl)\n",
    "            print(x1+1,wavetypes[wt],\"->\",x2+1,wavetypes,\":\",\\\n",
    "                    array2string(-10*log10(tau),precision=2),\"dB\")"
   ]
  },
  {
   "cell_type": "markdown",
   "metadata": {},
   "source": [
    "* example of a connection with an extra stiffener beam along the connection (steel, dimensions in mm)\n",
    "![trex2.png](trex2.png)"
   ]
  },
  {
   "cell_type": "code",
   "execution_count": 12,
   "metadata": {},
   "outputs": [
    {
     "data": {
      "image/png": "[encoded data removed]",
      "text/plain": [
       "<Figure size 640x480 with 1 Axes>"
      ]
     },
     "metadata": {},
     "output_type": "display_data"
    }
   ],
   "source": [
    "# define steel material\n",
    "steel=ElasticMaterial(dens=7800,elas=2.1e11,poisson=0.3)\n",
    "# plate and beam section\n",
    "sec1=IsoPlateSec(mat=steel,thick=0.02)\n",
    "sec2=RectBeamSec(mat=steel,leny=0.23,lenz=0.037)\n",
    "# assemble connetion\n",
    "node1=CNode()\n",
    "pl1=InfPlate(sec=sec1,node=node1,theta=0,y0=0.037/2) #shift by half  \n",
    "pl2=InfPlate(sec=sec1,node=node1,theta=180,y0=-0.037/2) # beam width\n",
    "b1=ConnBeam(sec=sec2,node=node1,theta=0)\n",
    "conn=ContLineConnect()\n",
    "conn.add_member(pl1)\n",
    "conn.add_member(pl2)\n",
    "conn.add_member(b1)\n",
    "# calculate tau for some sixth octave center frequencies\n",
    "# and plot tau for bending waves from 1 to 2\n",
    "fr1 = 10**np.arange(2.1,4.,0.05)    \n",
    "tau1 = np.vectorize(lambda fr: conn.get_trans(fr,pl1,2,pl2)[2])(fr1)\n",
    "pl.semilogx(fr1,-10*np.log10(tau1))\n",
    "pl.xlabel(r'$f$/Hz')\n",
    "pl.ylabel('R/dB');"
   ]
  },
  {
   "cell_type": "markdown",
   "metadata": {},
   "source": [
    "* example of connection with realistic `I`-Beam (steel, plates 2 mm, flanges 4 mm, Beam 10 cm x 15 cm)\n",
    "![trex3.png](trex3.png)"
   ]
  },
  {
   "cell_type": "code",
   "execution_count": 13,
   "metadata": {},
   "outputs": [
    {
     "data": {
      "image/png": "[encoded data removed]",
      "text/plain": [
       "<Figure size 640x480 with 1 Axes>"
      ]
     },
     "metadata": {},
     "output_type": "display_data"
    }
   ],
   "source": [
    "#material and plate section parameters\n",
    "mat1=ElasticMaterial(dens=7800,elas=2e11,poisson=0.3)\n",
    "sec1=IsoPlateSec(mat=mat1,thick=2e-3) #for the plates\n",
    "sec2=IsoPlateSec(mat=mat1,thick=4e-3) #for the flanges\n",
    "#in this case we need 6 nodes\n",
    "node1=CNode(y=-0.05,z=0)\n",
    "node2=CNode(y=0,z=0)\n",
    "node3=CNode(y=0.05,z=0)\n",
    "node4=CNode(y=-0.05,z=0.15)\n",
    "node5=CNode(y=0.0,z=0.15)\n",
    "node6=CNode(y=0.05,z=0.15)\n",
    "#two plate members with given section and connection angle\n",
    "pl01=InfPlate(sec=sec1,node=node1,theta=180)\n",
    "pl02=InfPlate(sec=sec1,node=node3,theta=0)\n",
    "#five strip plates for the flange\n",
    "sp03=StripPlate(sec=sec2,node1=node1,node2=node2)\n",
    "sp05=StripPlate(sec=sec2,node1=node2,node2=node3)\n",
    "sp06=StripPlate(sec=sec2,node1=node2,node2=node5)\n",
    "sp07=StripPlate(sec=sec2,node1=node4,node2=node5)\n",
    "sp08=StripPlate(sec=sec2,node1=node5,node2=node6)\n",
    "#connection type is continuous line\n",
    "conn=ContLineConnect()\n",
    "#add the members\n",
    "conn.add_member(pl01)\n",
    "conn.add_member(pl02)\n",
    "conn.add_member(sp03)\n",
    "conn.add_member(sp05)\n",
    "conn.add_member(sp06)\n",
    "conn.add_member(sp07)\n",
    "conn.add_member(sp08)\n",
    "#calculate the transmission coeff.s for all frequencies\n",
    "fr1 = 10**np.arange(2.1,4.,0.05)    \n",
    "for fr in fr1:\n",
    "    conn.calculate(fr,100) \n",
    "    # gausspoints defaults to 50, we take 100 for improved accuracy\n",
    "# calculate tau for some sixth octave center frequencies\n",
    "# and plot tau for bending waves from 1 to 2\n",
    "tau1 = np.vectorize(lambda fr: conn.get_trans(fr,pl01,2,pl02)[2])(fr1)\n",
    "pl.semilogx(fr1,-10*np.log10(tau1))\n",
    "pl.xlabel(r'$f$/Hz')\n",
    "pl.ylabel('R/dB');"
   ]
  },
  {
   "cell_type": "markdown",
   "metadata": {},
   "source": [
    "#### ----------------------------------------\n",
    "* wave transmission over junctions is a complex phenomenon\n",
    "* transmission loss due to a jump in thickness is small\n",
    "* energy can also be transmitted from one wave type to another\n",
    "* all junctions can be analyzed using the same generic approach\n",
    "* next topic: damping"
   ]
  },
  {
   "cell_type": "markdown",
   "metadata": {},
   "source": [
    "#### License\n",
    "\n",
    "This notebook is an [Open Educational Resource](https://en.wikipedia.org/wiki/Open_educational_resources). Feel free to use it for your own purposes. The text and the images are licensed under [Creative Commons Attribution 4.0](https://creativecommons.org/licenses/by/4.0/), and any code under the [MIT license](https://opensource.org/licenses/MIT). Please attribute the work as follows: Ennes Sarradj, Structure-borne sound lecture notes, 2019."
   ]
  },
  {
   "cell_type": "code",
   "execution_count": 14,
   "metadata": {},
   "outputs": [
    {
     "data": {
      "text/html": [
       "<link href='http://fonts.googleapis.com/css?family=Roboto+Slab' rel='stylesheet' type='text/css'>\n",
       "<link href='http://fonts.googleapis.com/css?family=Roboto+Condensed' rel='stylesheet' type='text/css'>\n",
       "<link href='http://fonts.googleapis.com/css?family=Roboto:100,300,400,500,700,800,900,100italic,300italic,400italic,500italic,700italic,800italic,900italic' rel='stylesheet' type='text/css'>\n",
       "<link href='http://fonts.googleapis.com/css?family=Source+Code+Pro:300,400' rel='stylesheet' type='text/css'>\n",
       "<style>\n",
       "/*    @font-face {\n",
       "        font-family: \"Computer Modern\";\n",
       "        src: url('http://mirrors.ctan.org/fonts/cm-unicode/fonts/otf/cmunss.otf');\n",
       "    }*/\n",
       "    div.cell{\n",
       "        width:80%;\n",
       "        margin-left:auto;\n",
       "        margin-right:auto;\n",
       "    }\n",
       "    h1 {\n",
       "        font-family: 'Roboto Condensed', sans-serif;\n",
       "    }\n",
       "    h2 {\n",
       "        font-family: 'Roboto', sans-serif;\n",
       "        font-weight: 500 !important;\n",
       "        font-size: 1.5em !important;\n",
       "    }\n",
       "    h3{\n",
       "\t\tfont-family: 'Roboto', sans-serif;\n",
       "        margin-top:12px;\n",
       "        margin-bottom: 3px;\n",
       "       }\n",
       "\th4{\n",
       "\t\tfont-family: 'Roboto', sans-serif;\n",
       "       }\n",
       "    h5 {\n",
       "        font-family: 'Roboto Condensed', sans-serif;\n",
       "    }\t   \n",
       "    div.text_cell_render{\n",
       "        font-family: 'Roboto',Computer Modern, \"Helvetica Neue\", Arial, Helvetica, Geneva, sans-serif;\n",
       "        line-height: 135%;\n",
       "        font-size: 110%;\n",
       "        width:100%;\n",
       "    }\n",
       "/*    .CodeMirror{\n",
       "            font-family: \"Source Code Pro\";\n",
       "\t\t\tfont-size: 100%;\n",
       "    }*/\n",
       "/*    .prompt{\n",
       "        display: None;\n",
       "    }*/\n",
       "    .text_cell_render h1 {\n",
       "        font-weight: 200;\n",
       "        font-size: 50pt;\n",
       "\t\tline-height: 100%;\n",
       "        color:#386940;\n",
       "        margin-bottom: 0.5em;\n",
       "        margin-top: 0.5em;\n",
       "        display: block;\n",
       "    }\t\n",
       "    .text_cell_render h5 {\n",
       "        font-weight: 300;\n",
       "        font-size: 16pt;\n",
       "        color: #386940;\n",
       "        font-style: italic;\n",
       "        margin-bottom: .5em;\n",
       "        margin-top: 0.5em;\n",
       "        display: block;\n",
       "    }\n",
       "    \n",
       "    .warning{\n",
       "        color: rgb( 240, 20, 20 )\n",
       "        }\n",
       "</style>\n",
       "<script>\n",
       "    MathJax.Hub.Config({\n",
       "                TeX: {\n",
       "                    extensions: [\"AMSmath.js\"],\n",
       "                    equationNumbers: { autoNumber: \"AMS\" }\n",
       "                },\n",
       "                tex2jax: {\n",
       "                    inlineMath: [ ['$','$'], [\"\\\\(\",\"\\\\)\"] ],\n",
       "                    displayMath: [ ['$$','$$'], [\"\\\\[\",\"\\\\]\"] ]\n",
       "                },\n",
       "                displayAlign: 'center', // Change this to 'center' to center equations.\n",
       "                \"HTML-CSS\": {\n",
       "                    styles: {'.MathJax_Display': {\"margin\": 4}}\n",
       "                }\n",
       "        });\n",
       "</script>"
      ],
      "text/plain": [
       "<IPython.core.display.HTML object>"
      ]
     },
     "execution_count": 14,
     "metadata": {},
     "output_type": "execute_result"
    }
   ],
   "source": [
    "# this is just for custom formatting\n",
    "from IPython.core.display import HTML\n",
    "def css_styling():\n",
    "    styles = open(\"./custom.css\", \"r\").read()\n",
    "    return HTML(styles)\n",
    "css_styling()"
   ]
  },
  {
   "cell_type": "code",
   "execution_count": null,
   "metadata": {},
   "outputs": [],
   "source": []
  }
 ],
 "metadata": {
  "author": "mes",
  "kernelspec": {
   "display_name": "Python 3 (ipykernel)",
   "language": "python",
   "name": "python3"
  },
  "language_info": {
   "codemirror_mode": {
    "name": "ipython",
    "version": 3
   },
   "file_extension": ".py",
   "mimetype": "text/x-python",
   "name": "python",
   "nbconvert_exporter": "python",
   "pygments_lexer": "ipython3",
   "version": "3.11.5"
  },
  "latex_envs": {
   "LaTeX_envs_menu_present": true,
   "autoclose": true,
   "autocomplete": false,
   "bibliofile": "biblio.bib",
   "cite_by": "apalike",
   "current_citInitial": 1,
   "eqLabelWithNumbers": true,
   "eqNumInitial": 1,
   "hotkeys": {
    "equation": "Ctrl-E",
    "itemize": "Ctrl-I"
   },
   "labels_anchors": false,
   "latex_user_defs": false,
   "report_style_numbering": false,
   "user_envs_cfg": false
  },
  "varInspector": {
   "cols": {
    "lenName": 16,
    "lenType": 16,
    "lenVar": 40
   },
   "kernels_config": {
    "python": {
     "delete_cmd_postfix": "",
     "delete_cmd_prefix": "del ",
     "library": "var_list.py",
     "varRefreshCmd": "print(var_dic_list())"
    },
    "r": {
     "delete_cmd_postfix": ") ",
     "delete_cmd_prefix": "rm(",
     "library": "var_list.r",
     "varRefreshCmd": "cat(var_dic_list()) "
    }
   },
   "oldHeight": 122.466666,
   "position": {
    "height": "296px",
    "left": "1107px",
    "right": "37px",
    "top": "141px",
    "width": "328px"
   },
   "types_to_exclude": [
    "module",
    "function",
    "builtin_function_or_method",
    "instance",
    "_Feature"
   ],
   "varInspector_section_display": "block",
   "window_display": false
  },
  "widgets": {
   "application/vnd.jupyter.widget-state+json": {
    "state": {
     "0e5d4e8e16384d0fb4a2eb791bc1d497": {
      "model_module": "@jupyter-widgets/base",
      "model_module_version": "1.2.0",
      "model_name": "LayoutModel",
      "state": {}
     },
     "0ebc07832b5642f3b629f59333e34514": {
      "model_module": "@jupyter-widgets/output",
      "model_module_version": "1.0.0",
      "model_name": "OutputModel",
      "state": {
       "layout": "IPY_MODEL_ef2f3e482702492994ecd726cb4352b3",
       "outputs": [
        {
         "data": {
          "image/png": "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\n",
          "text/plain": "<Figure size 432x288 with 1 Axes>"
         },
         "metadata": {
          "needs_background": "light"
         },
         "output_type": "display_data"
        }
       ]
      }
     },
     "140deff74ca043e9a0b1b851207a3637": {
      "model_module": "@jupyter-widgets/base",
      "model_module_version": "1.2.0",
      "model_name": "LayoutModel",
      "state": {}
     },
     "189151a2252649da974df599b7ff8e0f": {
      "model_module": "@jupyter-widgets/controls",
      "model_module_version": "1.5.0",
      "model_name": "FloatSliderModel",
      "state": {
       "description": "cL_2",
       "layout": "IPY_MODEL_293791b3e61440539daf319caf4b0340",
       "max": 10,
       "min": 0.1,
       "step": 0.1,
       "style": "IPY_MODEL_ed70c8816de643e780f4c2f3b9ba9c81",
       "value": 1.9
      }
     },
     "20bfca12f58e4df595c6859ba993ab64": {
      "model_module": "@jupyter-widgets/base",
      "model_module_version": "1.2.0",
      "model_name": "LayoutModel",
      "state": {}
     },
     "21a8b119d86b48c292212e228b57fe7e": {
      "model_module": "@jupyter-widgets/controls",
      "model_module_version": "1.5.0",
      "model_name": "VBoxModel",
      "state": {
       "_dom_classes": [
        "widget-interact"
       ],
       "children": [
        "IPY_MODEL_62112043a2a24ba2869cf0cb20fd2929",
        "IPY_MODEL_3bb9c0b69da94557b0bc6149b6a83dec",
        "IPY_MODEL_6269532b8d1f45959e65d41110ec7e14"
       ],
       "layout": "IPY_MODEL_68ecd5cc81684ec4a5df5974c928e01a"
      }
     },
     "27a58a38c0394709905edec4eb9b47e8": {
      "model_module": "@jupyter-widgets/controls",
      "model_module_version": "1.5.0",
      "model_name": "FloatSliderModel",
      "state": {
       "description": "rho_2",
       "layout": "IPY_MODEL_c4a8cc5d1378468f9ccb4f0fa1513b46",
       "max": 10,
       "min": 0.1,
       "step": 0.1,
       "style": "IPY_MODEL_eee3c594659849b7847f5bdc642cd4aa",
       "value": 1
      }
     },
     "293791b3e61440539daf319caf4b0340": {
      "model_module": "@jupyter-widgets/base",
      "model_module_version": "1.2.0",
      "model_name": "LayoutModel",
      "state": {}
     },
     "3bb9c0b69da94557b0bc6149b6a83dec": {
      "model_module": "@jupyter-widgets/controls",
      "model_module_version": "1.5.0",
      "model_name": "FloatSliderModel",
      "state": {
       "description": "rho_2",
       "layout": "IPY_MODEL_498610ec4b154a70b529f8efd8a5b276",
       "max": 10,
       "min": 0.1,
       "step": 0.1,
       "style": "IPY_MODEL_e670bcfd68c74595ba7207dcd4d0dacd",
       "value": 1
      }
     },
     "3bf68c151c494aa6a91de6800fd58020": {
      "model_module": "@jupyter-widgets/controls",
      "model_module_version": "1.5.0",
      "model_name": "FloatSliderModel",
      "state": {
       "description": "rho_2",
       "layout": "IPY_MODEL_e4fefc451b774c3a837759c2944a4907",
       "max": 10,
       "min": 0.1,
       "step": 0.1,
       "style": "IPY_MODEL_6f825de5fd954e02b8641615f8c412fe",
       "value": 1
      }
     },
     "4539a17df68645a7a756ced05e715ea9": {
      "model_module": "@jupyter-widgets/base",
      "model_module_version": "1.2.0",
      "model_name": "LayoutModel",
      "state": {}
     },
     "498610ec4b154a70b529f8efd8a5b276": {
      "model_module": "@jupyter-widgets/base",
      "model_module_version": "1.2.0",
      "model_name": "LayoutModel",
      "state": {}
     },
     "5458fb92892c4e00a4a89f8a62a93421": {
      "model_module": "@jupyter-widgets/controls",
      "model_module_version": "1.5.0",
      "model_name": "SliderStyleModel",
      "state": {
       "description_width": ""
      }
     },
     "62112043a2a24ba2869cf0cb20fd2929": {
      "model_module": "@jupyter-widgets/controls",
      "model_module_version": "1.5.0",
      "model_name": "FloatSliderModel",
      "state": {
       "description": "cL_2",
       "layout": "IPY_MODEL_76e10bbcbc764ca198420a5e08d7d4a9",
       "max": 10,
       "min": 0.1,
       "step": 0.1,
       "style": "IPY_MODEL_8d57966aae4f4a7f9a570dc8284b0622",
       "value": 1
      }
     },
     "6269532b8d1f45959e65d41110ec7e14": {
      "model_module": "@jupyter-widgets/output",
      "model_module_version": "1.0.0",
      "model_name": "OutputModel",
      "state": {
       "layout": "IPY_MODEL_c446afd94de94ae58fc4fd54f2a997bf",
       "outputs": [
        {
         "data": {
          "image/png": "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\n",
          "text/plain": "<Figure size 432x288 with 1 Axes>"
         },
         "metadata": {
          "needs_background": "light"
         },
         "output_type": "display_data"
        }
       ]
      }
     },
     "67e21a66526e4fe88662ee0d4e570f6e": {
      "model_module": "@jupyter-widgets/output",
      "model_module_version": "1.0.0",
      "model_name": "OutputModel",
      "state": {
       "layout": "IPY_MODEL_4539a17df68645a7a756ced05e715ea9",
       "outputs": [
        {
         "data": {
          "image/png": "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\n",
          "text/plain": "<Figure size 432x288 with 1 Axes>"
         },
         "metadata": {
          "needs_background": "light"
         },
         "output_type": "display_data"
        }
       ]
      }
     },
     "680d52d8ffe7419985f71318cad1c9c5": {
      "model_module": "@jupyter-widgets/base",
      "model_module_version": "1.2.0",
      "model_name": "LayoutModel",
      "state": {}
     },
     "68ecd5cc81684ec4a5df5974c928e01a": {
      "model_module": "@jupyter-widgets/base",
      "model_module_version": "1.2.0",
      "model_name": "LayoutModel",
      "state": {}
     },
     "69e746c76d9f4852b991549f051c88ba": {
      "model_module": "@jupyter-widgets/controls",
      "model_module_version": "1.5.0",
      "model_name": "VBoxModel",
      "state": {
       "_dom_classes": [
        "widget-interact"
       ],
       "children": [
        "IPY_MODEL_92f96cd888c3441fa051bbe060914e01",
        "IPY_MODEL_27a58a38c0394709905edec4eb9b47e8",
        "IPY_MODEL_d960fbcffda54f8fbace4f9881906fc7"
       ],
       "layout": "IPY_MODEL_badf46df0842489680c1153dd0830aee"
      }
     },
     "6a9255a81572423f816ae766d5a1ab97": {
      "model_module": "@jupyter-widgets/controls",
      "model_module_version": "1.5.0",
      "model_name": "VBoxModel",
      "state": {
       "_dom_classes": [
        "widget-interact"
       ],
       "children": [
        "IPY_MODEL_189151a2252649da974df599b7ff8e0f",
        "IPY_MODEL_af819d3ec37e4caba899de727a6d9de9",
        "IPY_MODEL_0ebc07832b5642f3b629f59333e34514"
       ],
       "layout": "IPY_MODEL_680d52d8ffe7419985f71318cad1c9c5"
      }
     },
     "6dc09eedae3a4edfa04866dfea70618b": {
      "model_module": "@jupyter-widgets/controls",
      "model_module_version": "1.5.0",
      "model_name": "VBoxModel",
      "state": {
       "_dom_classes": [
        "widget-interact"
       ],
       "children": [
        "IPY_MODEL_7a93a90e3e984d758762ae2dad1e9095",
        "IPY_MODEL_3bf68c151c494aa6a91de6800fd58020",
        "IPY_MODEL_67e21a66526e4fe88662ee0d4e570f6e"
       ],
       "layout": "IPY_MODEL_140deff74ca043e9a0b1b851207a3637"
      }
     },
     "6f825de5fd954e02b8641615f8c412fe": {
      "model_module": "@jupyter-widgets/controls",
      "model_module_version": "1.5.0",
      "model_name": "SliderStyleModel",
      "state": {
       "description_width": ""
      }
     },
     "76e10bbcbc764ca198420a5e08d7d4a9": {
      "model_module": "@jupyter-widgets/base",
      "model_module_version": "1.2.0",
      "model_name": "LayoutModel",
      "state": {}
     },
     "7a93a90e3e984d758762ae2dad1e9095": {
      "model_module": "@jupyter-widgets/controls",
      "model_module_version": "1.5.0",
      "model_name": "FloatSliderModel",
      "state": {
       "description": "cL_2",
       "layout": "IPY_MODEL_7b81fa08452a498ca9b6c13a85fcecac",
       "max": 10,
       "min": 0.1,
       "step": 0.1,
       "style": "IPY_MODEL_b50397d1f1a7423493562d957a84e77e",
       "value": 1
      }
     },
     "7b81fa08452a498ca9b6c13a85fcecac": {
      "model_module": "@jupyter-widgets/base",
      "model_module_version": "1.2.0",
      "model_name": "LayoutModel",
      "state": {}
     },
     "8d57966aae4f4a7f9a570dc8284b0622": {
      "model_module": "@jupyter-widgets/controls",
      "model_module_version": "1.5.0",
      "model_name": "SliderStyleModel",
      "state": {
       "description_width": ""
      }
     },
     "92f96cd888c3441fa051bbe060914e01": {
      "model_module": "@jupyter-widgets/controls",
      "model_module_version": "1.5.0",
      "model_name": "FloatSliderModel",
      "state": {
       "description": "cL_2",
       "layout": "IPY_MODEL_20bfca12f58e4df595c6859ba993ab64",
       "max": 10,
       "min": 0.1,
       "step": 0.1,
       "style": "IPY_MODEL_5458fb92892c4e00a4a89f8a62a93421",
       "value": 1
      }
     },
     "a764badfa47f4f3b83537090a541ff7c": {
      "model_module": "@jupyter-widgets/controls",
      "model_module_version": "1.5.0",
      "model_name": "SliderStyleModel",
      "state": {
       "description_width": ""
      }
     },
     "af819d3ec37e4caba899de727a6d9de9": {
      "model_module": "@jupyter-widgets/controls",
      "model_module_version": "1.5.0",
      "model_name": "FloatSliderModel",
      "state": {
       "description": "rho_2",
       "layout": "IPY_MODEL_b9a5a8cfdb1246e09bdbbb21fce8debc",
       "max": 10,
       "min": 0.1,
       "step": 0.1,
       "style": "IPY_MODEL_a764badfa47f4f3b83537090a541ff7c",
       "value": 7.8
      }
     },
     "b50397d1f1a7423493562d957a84e77e": {
      "model_module": "@jupyter-widgets/controls",
      "model_module_version": "1.5.0",
      "model_name": "SliderStyleModel",
      "state": {
       "description_width": ""
      }
     },
     "b9a5a8cfdb1246e09bdbbb21fce8debc": {
      "model_module": "@jupyter-widgets/base",
      "model_module_version": "1.2.0",
      "model_name": "LayoutModel",
      "state": {}
     },
     "badf46df0842489680c1153dd0830aee": {
      "model_module": "@jupyter-widgets/base",
      "model_module_version": "1.2.0",
      "model_name": "LayoutModel",
      "state": {}
     },
     "c446afd94de94ae58fc4fd54f2a997bf": {
      "model_module": "@jupyter-widgets/base",
      "model_module_version": "1.2.0",
      "model_name": "LayoutModel",
      "state": {}
     },
     "c4a8cc5d1378468f9ccb4f0fa1513b46": {
      "model_module": "@jupyter-widgets/base",
      "model_module_version": "1.2.0",
      "model_name": "LayoutModel",
      "state": {}
     },
     "d960fbcffda54f8fbace4f9881906fc7": {
      "model_module": "@jupyter-widgets/output",
      "model_module_version": "1.0.0",
      "model_name": "OutputModel",
      "state": {
       "layout": "IPY_MODEL_0e5d4e8e16384d0fb4a2eb791bc1d497",
       "outputs": [
        {
         "data": {
          "image/png": "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\n",
          "text/plain": "<Figure size 432x288 with 1 Axes>"
         },
         "metadata": {
          "needs_background": "light"
         },
         "output_type": "display_data"
        }
       ]
      }
     },
     "e4fefc451b774c3a837759c2944a4907": {
      "model_module": "@jupyter-widgets/base",
      "model_module_version": "1.2.0",
      "model_name": "LayoutModel",
      "state": {}
     },
     "e670bcfd68c74595ba7207dcd4d0dacd": {
      "model_module": "@jupyter-widgets/controls",
      "model_module_version": "1.5.0",
      "model_name": "SliderStyleModel",
      "state": {
       "description_width": ""
      }
     },
     "ed70c8816de643e780f4c2f3b9ba9c81": {
      "model_module": "@jupyter-widgets/controls",
      "model_module_version": "1.5.0",
      "model_name": "SliderStyleModel",
      "state": {
       "description_width": ""
      }
     },
     "eee3c594659849b7847f5bdc642cd4aa": {
      "model_module": "@jupyter-widgets/controls",
      "model_module_version": "1.5.0",
      "model_name": "SliderStyleModel",
      "state": {
       "description_width": ""
      }
     },
     "ef2f3e482702492994ecd726cb4352b3": {
      "model_module": "@jupyter-widgets/base",
      "model_module_version": "1.2.0",
      "model_name": "LayoutModel",
      "state": {}
     }
    },
    "version_major": 2,
    "version_minor": 0
   }
  }
 },
 "nbformat": 4,
 "nbformat_minor": 2
}
