{
 "cells": [
  {
   "cell_type": "markdown",
   "metadata": {},
   "source": [
    "This is a [jupyter](https://jupyter.org/) notebook that contains text, equations, images and executable code in one document."
   ]
  },
  {
   "cell_type": "markdown",
   "metadata": {},
   "source": [
    "$\n",
    "\\newcommand{\\dd}{\\text{d}}\n",
    "\\newcommand{\\e}{\\operatorname{e}}\n",
    "\\newcommand{\\Fc}{\\underline F}\n",
    "\\newcommand{\\Hc}{\\underline H}\n",
    "\\newcommand{\\Xc}{\\underline X}\n",
    "\\newcommand{\\Yc}{\\underline Y}\n",
    "\\newcommand{\\Zc}{\\underline Z}\n",
    "\\newcommand{\\xic}{\\underline \\xi}\n",
    "\\newcommand{\\vc}{\\underline v}\n",
    "\\newcommand{\\pc}{\\underline p}\n",
    "\\newcommand{\\xiv}{\\pmb{\\xi}}\n",
    "\\newcommand{\\Psiv}{\\pmb{\\Psi}}\n",
    "\\newcommand{\\xivc}{\\underline \\xiv}\n",
    "\\newcommand{\\xv}{\\mathbf{x}}\n",
    "\\newcommand{\\jj}{\\operatorname{j}}\n",
    "$"
   ]
  },
  {
   "cell_type": "markdown",
   "metadata": {},
   "source": [
    "# 8 Transmission over Plate Junctions\n",
    "## 8.1 Two Plates with different thickness\n",
    "(sketch two plates with forces and velocities)\n",
    "\n",
    "* wave transmission over any interface or junction can be studied in terms of the transmission coefficient\n",
    "\\begin{equation}\\label{eq:tau}\n",
    "\\tau = \\frac{P_T}{P_I}\n",
    "\\end{equation}\n",
    "where $P_T$ is the power transmitted and $P_I$ is the incident power\n",
    "* power in a wave\n",
    "\\begin{equation}\\label{eq:power}\n",
    "P = \\frac12\\Re(\\vc^*\\Fc) = \\frac12\\Re(\\vc^*\\Zc\\vc)\n",
    "\\end{equation}\n",
    "where $\\vc$ and $\\Zc$ can also be vector and matrix, respectively\n",
    "\n",
    "#### L-Waves\n",
    "* junction of two plates in the same plane\n",
    "* plane L-waves with wave front parallel to junction (perpendicular incidence)\n",
    "* three waves:\n",
    "  * incident wave on plate 1\n",
    "  * reflected wave on plate 1\n",
    "  * transmitted wave on plate 2\n",
    "* impedance is similar to beam:\n",
    "\\begin{equation}\\label{eq:ZLi}\n",
    "Z_{LI}=m'' c_{LI}\n",
    "\\end{equation}\n",
    "* junction at $x=0$:\n",
    "\\begin{gather}\n",
    "\\vc_1=\\vc_{1+}\\e^{-\\jj k_{L1} x} + \\vc_{1-}\\e^{\\jj k_{L1} x}\\\\\n",
    "\\vc_2=\\vc_{2+}\\e^{-\\jj k_{L2} x}\\\\\n",
    "\\Fc_1 = - \\left(\\Zc_{LI1}\\vc_{1+}\\e^{-\\jj k_{L1} x} - \\Zc_{LI1} \\vc_{1-}\\e^{\\jj k_{L1} x}\\right)\\\\\n",
    "\\Fc_2= \\Zc_{LI2}\\vc_{2+}\\e^{-\\jj k_{L2} x}\n",
    "\\end{gather}\n",
    "* at junction:\n",
    "  * velocities of all members are equal ($\\vc_1(0)=\\vc_2(0)$)\n",
    "  * sum of all forces must be zero"
   ]
  },
  {
   "cell_type": "code",
   "execution_count": 1,
   "metadata": {},
   "outputs": [
    {
     "data": {
      "text/latex": [
       "$\\displaystyle \\frac{2 Z_{LI1} v_{1+}}{Z_{LI1} + Z_{LI2}}$"
      ],
      "text/plain": [
       "2*Z_LI1*v_1+/(Z_LI1 + Z_LI2)"
      ]
     },
     "metadata": {},
     "output_type": "display_data"
    },
    {
     "data": {
      "text/latex": [
       "$\\displaystyle \\frac{4.0 Z_{LI1} Z_{LI2}}{\\left(Z_{LI1} + Z_{LI2}\\right)^{2}}$"
      ],
      "text/plain": [
       "4.0*Z_LI1*Z_LI2/(Z_LI1 + Z_LI2)**2"
      ]
     },
     "metadata": {},
     "output_type": "display_data"
    }
   ],
   "source": [
    "import sympy as sy\n",
    "ZL1, ZL2 = sy.symbols('Z_LI1 Z_LI2',positive=True) \n",
    "v11, v12, v21 = sy.symbols('v_1+ v_1- v_2+')\n",
    "# v, F at the junction x=0\n",
    "v1 = v11 + v12\n",
    "F1 = -ZL1*v11 + ZL1*v12\n",
    "v2 = v21\n",
    "F2 = ZL2*v21\n",
    "# system of two equations, solve for unkown amplitude\n",
    "# transmitted and reflected waves\n",
    "sd = sy.solve([sy.Eq(v1,v2),sy.Eq(F1+F2,0)],v21,v12,dict=True)\n",
    "# amplitude of transmitted wave = ampl. at junction\n",
    "v = sd[0][v21]\n",
    "display(v)\n",
    "# transmitted and incident power\n",
    "PT = 1/2 * sy.re(v * ZL2 * sy.conjugate(v)) \n",
    "PI = 1/2 * sy.re(v11 * ZL1 * sy.conjugate(v11)) \n",
    "# transmission coefficient\n",
    "tau = sy.simplify(PT/PI)\n",
    "display(tau)"
   ]
  },
  {
   "cell_type": "markdown",
   "metadata": {},
   "source": [
    "* the transmission coefficient depends on the impedances\n",
    "* sound reduction index\n",
    "\\begin{equation}\\label{eq:R}\n",
    "R = 10 \\lg \\frac{1}{\\tau}\\;\\text{dB}\n",
    "\\end{equation}\n",
    "* plot for different properties (ratio of thicknesses, ratio of wave speeds, ratio of densities) of both plates"
   ]
  },
  {
   "cell_type": "code",
   "execution_count": 2,
   "metadata": {},
   "outputs": [
    {
     "data": {
      "application/vnd.jupyter.widget-view+json": {
       "model_id": "21a8b119d86b48c292212e228b57fe7e",
       "version_major": 2,
       "version_minor": 0
      },
      "text/plain": [
       "interactive(children=(FloatSlider(value=1.0, description='cL_2', max=10.0, min=0.1), FloatSlider(value=1.0, de…"
      ]
     },
     "metadata": {},
     "output_type": "display_data"
    }
   ],
   "source": [
    "import numpy as np\n",
    "import matplotlib.pyplot as pl\n",
    "import ipywidgets as ipw\n",
    "%matplotlib inline\n",
    "\n",
    "tau_ = sy.lambdify([ZL1,ZL2],tau)\n",
    "\n",
    "@ipw.interact(cL_2=(0.1,10),rho_2=(0.1,10))\n",
    "def plot_RL(cL_2=1.0,rho_2=1.0):\n",
    "    h2 = np.logspace(-1,1,20)\n",
    "    ZL2_ = cL_2 * rho_2 * h2\n",
    "    pl.semilogx(h2,-10*np.log10(tau_(1,ZL2_)))\n",
    "    pl.xlabel(r'$\\frac{h_2}{h_1}$')\n",
    "    pl.ylabel('R/dB')\n"
   ]
  },
  {
   "cell_type": "markdown",
   "metadata": {},
   "source": [
    "* similar approach can be used for other wave types\n",
    "* will become very complicated for junctions with more than on wave type\n",
    "* alternative approach to calculate $\\tau$:\n",
    "  1. use member-local coordinate system\n",
    "  2. get impedances for all members\n",
    "  3. use transform the coordinates to junction coordinates (global)\n",
    "  4. combine all impedances and velocities at plate edge of all members of the junction\n",
    "  5. find blocked forces / tractions acting on the junction through incident wave \n",
    "  6. compute velocities at junction\n",
    "  7. compute transmitted / reflected powers and transmission coefficients\n",
    "\n",
    "* for the L-wave this is extremely simple:\n",
    "  1. coordinate system: x>0\n",
    "  2. $Z_{LIi}$\n",
    "  3. only two possibilities: coordinate transform $K_i=1$ or $K_i=-1$, applied to both $Z$ and $\\vc$\n",
    "  4. $ \\sum_i K_i Z_{LIi} K_i$\n",
    "  5. $\\Fc_j = -2 Z_{LIj} \\vc_{j+}$ where the member $j$ carries the incident wave\n",
    "  6. solve $\\left(\\sum_i K_i Z_{LIi} K_i\\right)\\vc=K_i F_j$\n",
    "  7. use \\eqref{eq:power}"
   ]
  },
  {
   "cell_type": "code",
   "execution_count": 3,
   "metadata": {},
   "outputs": [
    {
     "data": {
      "text/latex": [
       "$\\displaystyle \\frac{2 Z_{LI1} v_{1+}}{Z_{LI1} + Z_{LI2}}$"
      ],
      "text/plain": [
       "2*Z_LI1*v_1+/(Z_LI1 + Z_LI2)"
      ]
     },
     "metadata": {},
     "output_type": "display_data"
    },
    {
     "data": {
      "text/latex": [
       "$\\displaystyle \\frac{4.0 Z_{LI1} Z_{LI2}}{\\left(Z_{LI1} + Z_{LI2}\\right)^{2}}$"
      ],
      "text/plain": [
       "4.0*Z_LI1*Z_LI2/(Z_LI1 + Z_LI2)**2"
      ]
     },
     "metadata": {},
     "output_type": "display_data"
    }
   ],
   "source": [
    "# we start with step 4\n",
    "K1 = -1\n",
    "K2 = 1\n",
    "Zcomb = K1*ZL1*K1 + K2*ZL2*K2 # in this specific case, K has no effect \n",
    "Fj = -2*ZL1*v11\n",
    "v = sy.symbols(\"v\")\n",
    "v_ = sy.solve(sy.Eq(Zcomb*v,K1*Fj),v)[0]\n",
    "display(v_)\n",
    "# transmitted and incident power\n",
    "PT = 1/2 * sy.re(v_ * ZL2 * sy.conjugate(v_)) \n",
    "PI = 1/2 * sy.re(v11 * ZL1 * sy.conjugate(v11)) \n",
    "# transmission coefficient\n",
    "tau_ = sy.simplify(PT/PI)\n",
    "display(tau_)"
   ]
  },
  {
   "cell_type": "markdown",
   "metadata": {},
   "source": [
    "* this is obviously the same result as above\n",
    "* now we can easily find the result in case of three or more plates (for the simple L-wave case this is not very realistic!)\n",
    "\n",
    "(sketch with three plates, two of them parallel)\n",
    "\n",
    "* example for three plates"
   ]
  },
  {
   "cell_type": "code",
   "execution_count": 4,
   "metadata": {},
   "outputs": [
    {
     "data": {
      "text/latex": [
       "$\\displaystyle \\frac{2 Z_{LI1} v_{1+}}{Z_{LI1} + Z_{LI2} + Z_{LI3}}$"
      ],
      "text/plain": [
       "2*Z_LI1*v_1+/(Z_LI1 + Z_LI2 + Z_LI3)"
      ]
     },
     "metadata": {},
     "output_type": "display_data"
    },
    {
     "data": {
      "text/latex": [
       "$\\displaystyle \\frac{4.0 Z_{LI1} Z_{LI2}}{\\left(Z_{LI1} + Z_{LI2} + Z_{LI3}\\right)^{2}}$"
      ],
      "text/plain": [
       "4.0*Z_LI1*Z_LI2/(Z_LI1 + Z_LI2 + Z_LI3)**2"
      ]
     },
     "metadata": {},
     "output_type": "display_data"
    }
   ],
   "source": [
    "ZL3 = sy.symbols('Z_LI3',positive=True) \n",
    "K3 = 1\n",
    "Zcomb = K1*ZL1*K1 + K2*ZL2*K2 + K3*ZL3*K3\n",
    "v_ = sy.solve(sy.Eq(Zcomb*v,K1 * Fj),v)[0]\n",
    "display(v_)\n",
    "# transmitted and incident power\n",
    "PT = 1/2 * sy.re(v_ * ZL2 * sy.conjugate(v_)) \n",
    "PI = 1/2 * sy.re(v11 * ZL1 * sy.conjugate(v11)) \n",
    "# transmission coefficient\n",
    "tau_ = sy.simplify(PT/PI)\n",
    "display(tau_)"
   ]
  },
  {
   "cell_type": "markdown",
   "metadata": {},
   "source": [
    "#### Bending Waves \n",
    "(sketch with multiple plates and different connecting angles )\n",
    "\n",
    "* step 1-7 can also be used here as follows (details are omitted because of the complicated expressions)\n",
    "  1. local coordinate system (same as for L-Waves)\n",
    "  2. as bending waves need $v_y$ and $w_z$ velocities and $F_y$ and $M_z$ forces / moments, the impedance is now a (2x2) matrix $\\mathbf{\\Zc_B}$\n",
    "  3. as the angle $\\vartheta$ between the global plane and the individual plate  is arbitrary, the coordinate transformation $\\mathbf{K}$ is now also a matrix, connecting local $v_y$ and $w_z$ to global $v_x$, $v_y$ and $w_z$, depending on $\\vartheta$\n",
    "  4. $\\sum_i \\mathbf{K_i \\Zc_{Bi}K_i^T}$\n",
    "  5. $\\mathbf{F_j}=\\mathbf{\\Zc_{BFj}}\\vc_{j+}$ where $\\mathbf{\\Zc_{BFj}}$ is a (2x1) vector giving both blocked force and moment at the junction\n",
    "  6. solve $\\left(\\sum_i \\mathbf{K_i \\Zc_{Bi}K_i^T}\\right)\\mathbf{\\vc}=\\mathbf{K_j F_j}$\n",
    "  7. use \\eqref{eq:power}\n",
    "  \n",
    "* to demonstrate this, we use the special python package `transmission` implementing this unified approach with high-level object-oriented control\n",
    "* two plate example, as before\n",
    "* first, we define the properties of the member plates (we use typical values for steel)"
   ]
  },
  {
   "cell_type": "code",
   "execution_count": 5,
   "metadata": {},
   "outputs": [
    {
     "name": "stdout",
     "output_type": "stream",
     "text": [
      "B'= 153.84615384615387\n",
      "kB= 31.62892453951373\n"
     ]
    }
   ],
   "source": [
    "from transmission import *\n",
    "# define material\n",
    "mat1 = ElasticMaterial(dens=7800.,elas=2.1e11,poisson=0.3)\n",
    "# define plate section properties for isotropic plate 1\n",
    "sec1 = IsoPlateSec(mat=mat1,thick=2e-3)\n",
    "# bending stiffness\n",
    "print(\"B'=\",sec1.B1())\n",
    "# wave number at 500 Hz\n",
    "print(\"kB=\",sec1.kb4(2*np.pi*500)**0.25)"
   ]
  },
  {
   "cell_type": "markdown",
   "metadata": {},
   "source": [
    "* now we define the plate members and their orientation"
   ]
  },
  {
   "cell_type": "code",
   "execution_count": 6,
   "metadata": {},
   "outputs": [],
   "source": [
    "# same for plate 2 (same material, but different thickness)\n",
    "sec2 = IsoPlateSec(mat=mat1,thick=1e-3)\n",
    "# define the connection of the plates\n",
    "# two plates\n",
    "pl01 = InfPlate(sec=sec1,theta=180)\n",
    "pl02 = InfPlate(sec=sec2,theta=0)"
   ]
  },
  {
   "cell_type": "markdown",
   "metadata": {},
   "source": [
    "* finally we define the connection and compute $\\tau$"
   ]
  },
  {
   "cell_type": "code",
   "execution_count": 7,
   "metadata": {},
   "outputs": [
    {
     "name": "stdout",
     "output_type": "stream",
     "text": [
      "[0.93585115]\n"
     ]
    }
   ],
   "source": [
    "# connection\n",
    "conn = ContLineConnect()\n",
    "conn.add_member(pl01)\n",
    "conn.add_member(pl02)\n",
    "# calculate transmission for a single frequency\n",
    "fr = 500\n",
    "om = 2*np.pi*fr \n",
    "conn.get_trans(fr,pl01,2,pl02) # workaraound for bug in transmission :-(\n",
    "k = np.array((1e-5,))*sec1.kb4(om)**0.25 # wave number along junction, \n",
    "                                         # see text below    \n",
    "tau = conn.calck(om,k,pl01,2) # compute transmission coefficients\n",
    "print(tau[pl02][2])"
   ]
  },
  {
   "cell_type": "markdown",
   "metadata": {},
   "source": [
    "* it is possible to do a parametric study and plot the sound reduction index as function of the thickness ratio (as shown above for L-waves)"
   ]
  },
  {
   "cell_type": "code",
   "execution_count": 8,
   "metadata": {},
   "outputs": [
    {
     "data": {
      "image/png": "[encoded data removed]",
      "text/plain": [
       "<Figure size 432x288 with 1 Axes>"
      ]
     },
     "metadata": {
      "needs_background": "light"
     },
     "output_type": "display_data"
    }
   ],
   "source": [
    "@np.vectorize\n",
    "def tau_B(h2):\n",
    "    sec2.thick = h2*sec1.thick\n",
    "    tau = conn.calck(om,k,pl01,2)\n",
    "    return tau[pl02][2][0]\n",
    "\n",
    "h2 = np.logspace(-1,1,21)\n",
    "pl.semilogx(h2,-10*np.log10(tau_B(h2)))\n",
    "pl.xlabel(r'$\\frac{h_2}{h_1}$')\n",
    "pl.ylabel('R/dB')\n",
    "#reset the thickness for further use\n",
    "sec2.thick = sec1.thick"
   ]
  },
  {
   "cell_type": "markdown",
   "metadata": {},
   "source": [
    "## 8.2 Arbitrary Junctions\n",
    "\n",
    "* we can also handle arbitrary angles $\\theta$ for the orientation  the plates\n",
    "* transfer of energy may occur from one wave type to another (e.g. bending waves to L-waves)"
   ]
  },
  {
   "cell_type": "code",
   "execution_count": 9,
   "metadata": {},
   "outputs": [
    {
     "data": {
      "image/png": "[encoded data removed]",
      "text/plain": [
       "<Figure size 432x288 with 1 Axes>"
      ]
     },
     "metadata": {
      "needs_background": "light"
     },
     "output_type": "display_data"
    }
   ],
   "source": [
    "@np.vectorize\n",
    "def tau_B2(theta):#\n",
    "    pl02.theta = theta\n",
    "    tau = conn.calck(om,k,pl01,2)\n",
    "    return (tau[pl02][0][0],tau[pl02][2][0])\n",
    "\n",
    "theta = np.linspace(0,179,50)\n",
    "pl.plot(theta,-10*np.log10(tau_B2(theta)[0]),label=\"B->L\")\n",
    "pl.plot(theta,-10*np.log10(tau_B2(theta)[1]),label=\"B->B\")\n",
    "pl.legend()\n",
    "pl.xlabel(r'$\\vartheta$')\n",
    "pl.ylabel('R/dB')\n",
    "pl.ylim(0,30);"
   ]
  },
  {
   "cell_type": "markdown",
   "metadata": {},
   "source": [
    "(sketch with angle of incidence)\n",
    "\n",
    "* so far we had only perpendicular incidence\n",
    "* any other angles will result in periodicity along junction (wave impedances !)\n",
    "* the dependency an the angle of incidence $\\phi$ can be very complicated"
   ]
  },
  {
   "cell_type": "code",
   "execution_count": 10,
   "metadata": {},
   "outputs": [
    {
     "name": "stderr",
     "output_type": "stream",
     "text": [
      "/home/sarradj/sarradj/lehre/Koerperschall/skript_KS/transmission/transmission.py:890: LinAlgWarning: Ill-conditioned matrix (rcond=4.35531e-30): result may not be accurate.\n",
      "  vg[:,n] = solve(M[:,:,n],N[:,n])\n",
      "/home/sarradj/sarradj/lehre/Koerperschall/skript_KS/transmission/transmission.py:929: RuntimeWarning: invalid value encountered in true_divide\n",
      "  tau[x2]=0.5*(pout/pin)\n"
     ]
    },
    {
     "data": {
      "image/png": "[encoded data removed]",
      "text/plain": [
       "<Figure size 432x288 with 1 Axes>"
      ]
     },
     "metadata": {
      "needs_background": "light"
     },
     "output_type": "display_data"
    }
   ],
   "source": [
    "pl02.theta = 90\n",
    "sec2.thick = 2e-3\n",
    "phi = np.linspace(0,np.pi/2,500)\n",
    "kk = np.cos(phi)*sec1.kb4(om)**0.25\n",
    "tau = conn.calck(om,kk,pl01,2)\n",
    "theta = np.linspace(0,179,51)\n",
    "pl.plot(180*phi/np.pi,-10*np.log10(tau[pl02][2]))\n",
    "pl.xlabel(r'$\\phi$')\n",
    "pl.ylabel('R/dB')\n",
    "pl.ylim(0,30);"
   ]
  },
  {
   "cell_type": "markdown",
   "metadata": {},
   "source": [
    "* note the pole near 87° \n",
    "* often we are interested in a diffuse incidence (with same probability from every angle)\n",
    "* integration is necessary:\n",
    "\\begin{equation}\\label{eq:diffuse}\n",
    "\\overline\\tau = \\int_0^{\\pi/2}\\tau(\\varphi)sin(\\varphi)d\\varphi=\\int_0^1 \\tau(k_z)d \\frac{k_z}{k_B}\n",
    "\\end{equation}\n",
    "* example of connection between two different plates:\n",
    "![trex1.png](trex1.png)"
   ]
  },
  {
   "cell_type": "code",
   "execution_count": 11,
   "metadata": {},
   "outputs": [
    {
     "name": "stdout",
     "output_type": "stream",
     "text": [
      "1 L -> 1 ('L', 'T', 'B') : [ 3.14  4.95 33.28] dB\n",
      "1 L -> 2 ('L', 'T', 'B') : [11.43  9.52 19.76] dB\n",
      "1 T -> 1 ('L', 'T', 'B') : [ 7.22  3.44 28.11] dB\n",
      "1 T -> 2 ('L', 'T', 'B') : [11.52  5.57 20.65] dB\n",
      "1 B -> 1 ('L', 'T', 'B') : [50.59 43.13  0.54] dB\n",
      "1 B -> 2 ('L', 'T', 'B') : [26.88 24.87  9.52] dB\n",
      "2 L -> 1 ('L', 'T', 'B') : [11.98  9.79 10.13] dB\n",
      "2 L -> 2 ('L', 'T', 'B') : [ 1.59 14.7  21.17] dB\n",
      "2 T -> 1 ('L', 'T', 'B') : [12.19  5.97 10.25] dB\n",
      "2 T -> 2 ('L', 'T', 'B') : [16.84  2.49 20.56] dB\n",
      "2 B -> 1 ('L', 'T', 'B') : [38.84 37.45 11.3 ] dB\n",
      "2 B -> 2 ('L', 'T', 'B') : [39.71 36.99  0.34] dB\n"
     ]
    }
   ],
   "source": [
    "mat1=ElasticMaterial(dens=8000.,elas=2e11,poisson=0.3)\n",
    "sec1=IsoPlateSec(mat=mat1,thick=2e-3)\n",
    "mat2=ElasticMaterial(dens=5000.,elas=1e11,poisson=0.25)\n",
    "sec2=IsoPlateSec(mat=mat2,thick=1e-3)\n",
    "node=CNode() # default coordinates: (0,0)\n",
    "pl01=InfPlate(sec=sec1,theta=180)\n",
    "pl02=InfPlate(sec=sec2,theta=90)\n",
    "conn=ContLineConnect()\n",
    "conn.add_member(pl01)\n",
    "conn.add_member(pl02)\n",
    "# calculate transmission for a single frequency\n",
    "fr=500\n",
    "# print result table\n",
    "wavetypes=(\"L\",\"T\",\"B\")\n",
    "for x1 in range(2):\n",
    "    for wt in range(3):\n",
    "        for x2 in range(2):\n",
    "            frpl=conn.members[x1] # source member\n",
    "            topl=conn.members[x2] # receiver member\n",
    "            tau=conn.get_trans(fr,frpl,wt,topl)\n",
    "            print(x1+1,wavetypes[wt],\"->\",x2+1,wavetypes,\":\",\\\n",
    "                    array2string(-10*log10(tau),precision=2),\"dB\")"
   ]
  },
  {
   "cell_type": "markdown",
   "metadata": {},
   "source": [
    "* example of a connection with an extra stiffener beam along the connection (steel, dimensions in mm)\n",
    "![trex2.png](trex2.png)"
   ]
  },
  {
   "cell_type": "code",
   "execution_count": 12,
   "metadata": {},
   "outputs": [
    {
     "data": {
      "image/png": "[encoded data removed]",
      "text/plain": [
       "<Figure size 432x288 with 1 Axes>"
      ]
     },
     "metadata": {
      "needs_background": "light"
     },
     "output_type": "display_data"
    }
   ],
   "source": [
    "# define steel material\n",
    "steel=ElasticMaterial(dens=7800,elas=2.1e11,poisson=0.3)\n",
    "# plate and beam section\n",
    "sec1=IsoPlateSec(mat=steel,thick=0.02)\n",
    "sec2=RectBeamSec(mat=steel,leny=0.23,lenz=0.037)\n",
    "# assemble connetion\n",
    "node1=CNode()\n",
    "pl1=InfPlate(sec=sec1,node=node1,theta=0,y0=0.037/2) #shift by half  \n",
    "pl2=InfPlate(sec=sec1,node=node1,theta=180,y0=-0.037/2) # beam width\n",
    "b1=ConnBeam(sec=sec2,node=node1,theta=0)\n",
    "conn=ContLineConnect()\n",
    "conn.add_member(pl1)\n",
    "conn.add_member(pl2)\n",
    "conn.add_member(b1)\n",
    "# calculate tau for some sixth octave center frequencies\n",
    "# and plot tau for bending waves from 1 to 2\n",
    "fr1 = 10**np.arange(2.1,4.,0.05)    \n",
    "tau1 = np.vectorize(lambda fr: conn.get_trans(fr,pl1,2,pl2)[2])(fr1)\n",
    "pl.semilogx(fr1,-10*np.log10(tau1))\n",
    "pl.xlabel(r'$f$/Hz')\n",
    "pl.ylabel('R/dB');"
   ]
  },
  {
   "cell_type": "markdown",
   "metadata": {},
   "source": [
    "* example of connection with realistic `I`-Beam (steel, plates 2 mm, flanges 4 mm, Beam 10 cm x 15 cm)\n",
    "![trex3.png](trex3.png)"
   ]
  },
  {
   "cell_type": "code",
   "execution_count": 13,
   "metadata": {},
   "outputs": [
    {
     "data": {
      "image/png": "[encoded data removed]",
      "text/plain": [
       "<Figure size 432x288 with 1 Axes>"
      ]
     },
     "metadata": {
      "needs_background": "light"
     },
     "output_type": "display_data"
    }
   ],
   "source": [
    "#material and plate section parameters\n",
    "mat1=ElasticMaterial(dens=7800,elas=2e11,poisson=0.3)\n",
    "sec1=IsoPlateSec(mat=mat1,thick=2e-3) #for the plates\n",
    "sec2=IsoPlateSec(mat=mat1,thick=4e-3) #for the flanges\n",
    "#in this case we need 6 nodes\n",
    "node1=CNode(y=-0.05,z=0)\n",
    "node2=CNode(y=0,z=0)\n",
    "node3=CNode(y=0.05,z=0)\n",
    "node4=CNode(y=-0.05,z=0.15)\n",
    "node5=CNode(y=0.0,z=0.15)\n",
    "node6=CNode(y=0.05,z=0.15)\n",
    "#two plate members with given section and connection angle\n",
    "pl01=InfPlate(sec=sec1,node=node1,theta=180)\n",
    "pl02=InfPlate(sec=sec1,node=node3,theta=0)\n",
    "#five strip plates for the flange\n",
    "sp03=StripPlate(sec=sec2,node1=node1,node2=node2)\n",
    "sp05=StripPlate(sec=sec2,node1=node2,node2=node3)\n",
    "sp06=StripPlate(sec=sec2,node1=node2,node2=node5)\n",
    "sp07=StripPlate(sec=sec2,node1=node4,node2=node5)\n",
    "sp08=StripPlate(sec=sec2,node1=node5,node2=node6)\n",
    "#connection type is continuous line\n",
    "conn=ContLineConnect()\n",
    "#add the members\n",
    "conn.add_member(pl01)\n",
    "conn.add_member(pl02)\n",
    "conn.add_member(sp03)\n",
    "conn.add_member(sp05)\n",
    "conn.add_member(sp06)\n",
    "conn.add_member(sp07)\n",
    "conn.add_member(sp08)\n",
    "#calculate the transmission coeff.s for all frequencies\n",
    "fr1 = 10**np.arange(2.1,4.,0.05)    \n",
    "for fr in fr1:\n",
    "    conn.calculate(fr,100) \n",
    "    # gausspoints defaults to 50, we take 100 for improved accuracy\n",
    "# calculate tau for some sixth octave center frequencies\n",
    "# and plot tau for bending waves from 1 to 2\n",
    "tau1 = np.vectorize(lambda fr: conn.get_trans(fr,pl01,2,pl02)[2])(fr1)\n",
    "pl.semilogx(fr1,-10*np.log10(tau1))\n",
    "pl.xlabel(r'$f$/Hz')\n",
    "pl.ylabel('R/dB');"
   ]
  },
  {
   "cell_type": "markdown",
   "metadata": {},
   "source": [
    "#### ----------------------------------------\n",
    "* wave transmission over junctions is a complex phenomenon\n",
    "* transmission loss due to a jump in thickness is small\n",
    "* energy can also be transmitted from one wave type to another\n",
    "* all junctions can be analyzed using the same generic approach\n",
    "* next topic: damping"
   ]
  },
  {
   "cell_type": "markdown",
   "metadata": {},
   "source": [
    "#### License\n",
    "\n",
    "This notebook is an [Open Educational Resource](https://en.wikipedia.org/wiki/Open_educational_resources). Feel free to use it for your own purposes. The text and the images are licensed under [Creative Commons Attribution 4.0](https://creativecommons.org/licenses/by/4.0/), and any code under the [MIT license](https://opensource.org/licenses/MIT). Please attribute the work as follows: Ennes Sarradj, Structure-borne sound lecture notes, 2019."
   ]
  },
  {
   "cell_type": "code",
   "execution_count": 14,
   "metadata": {},
   "outputs": [
    {
     "data": {
      "text/html": [
       "<link href='http://fonts.googleapis.com/css?family=Roboto+Slab' rel='stylesheet' type='text/css'>\n",
       "<link href='http://fonts.googleapis.com/css?family=Roboto+Condensed' rel='stylesheet' type='text/css'>\n",
       "<link href='http://fonts.googleapis.com/css?family=Roboto:100,300,400,500,700,800,900,100italic,300italic,400italic,500italic,700italic,800italic,900italic' rel='stylesheet' type='text/css'>\n",
       "<link href='http://fonts.googleapis.com/css?family=Source+Code+Pro:300,400' rel='stylesheet' type='text/css'>\n",
       "<style>\n",
       "    @font-face {\n",
       "        font-family: \"Computer Modern\";\n",
       "        src: url('http://mirrors.ctan.org/fonts/cm-unicode/fonts/otf/cmunss.otf');\n",
       "    }\n",
       "    div.cell{\n",
       "        width:800px;\n",
       "        margin-left:16% !important;\n",
       "        margin-right:auto;\n",
       "    }\n",
       "    h1 {\n",
       "        font-family: 'Roboto Condensed', sans-serif;\n",
       "    }\n",
       "    h2 {\n",
       "        font-family: 'Roboto Slab', serif;\n",
       "    }\n",
       "    h3{\n",
       "\t\tfont-family: 'Roboto Slab', serif;\n",
       "        margin-top:12px;\n",
       "        margin-bottom: 3px;\n",
       "       }\n",
       "\th4{\n",
       "\t\tfont-family: 'Roboto Slab', serif;\n",
       "       }\n",
       "    h5 {\n",
       "        font-family: 'Roboto Condensed', sans-serif;\n",
       "    }\t   \n",
       "    div.text_cell_render{\n",
       "        font-family: 'Roboto',Computer Modern, \"Helvetica Neue\", Arial, Helvetica, Geneva, sans-serif;\n",
       "        line-height: 135%;\n",
       "        font-size: 110%;\n",
       "        width:600px;\n",
       "        margin-left:auto;\n",
       "        margin-right:auto;\n",
       "    }\n",
       "/*    .CodeMirror{\n",
       "            font-family: \"Source Code Pro\";\n",
       "\t\t\tfont-size: 100%;\n",
       "    }*/\n",
       "/*    .prompt{\n",
       "        display: None;\n",
       "    }*/\n",
       "    .text_cell_render h1 {\n",
       "        font-weight: 200;\n",
       "        font-size: 50pt;\n",
       "\t\tline-height: 100%;\n",
       "        color:#386940;\n",
       "        margin-bottom: 0.5em;\n",
       "        margin-top: 0.5em;\n",
       "        display: block;\n",
       "    }\t\n",
       "    .text_cell_render h5 {\n",
       "        font-weight: 300;\n",
       "        font-size: 16pt;\n",
       "        color: #386940;\n",
       "        font-style: italic;\n",
       "        margin-bottom: .5em;\n",
       "        margin-top: 0.5em;\n",
       "        display: block;\n",
       "    }\n",
       "    \n",
       "    .warning{\n",
       "        color: rgb( 240, 20, 20 )\n",
       "        }\n",
       "</style>\n",
       "<script>\n",
       "    MathJax.Hub.Config({\n",
       "                        TeX: {\n",
       "                           extensions: [\"AMSmath.js\"]\n",
       "                           },\n",
       "                tex2jax: {\n",
       "                    inlineMath: [ ['$','$'], [\"\\\\(\",\"\\\\)\"] ],\n",
       "                    displayMath: [ ['$$','$$'], [\"\\\\[\",\"\\\\]\"] ]\n",
       "                },\n",
       "                displayAlign: 'center', // Change this to 'center' to center equations.\n",
       "                \"HTML-CSS\": {\n",
       "                    styles: {'.MathJax_Display': {\"margin\": 4}}\n",
       "                }\n",
       "        });\n",
       "</script>"
      ],
      "text/plain": [
       "<IPython.core.display.HTML object>"
      ]
     },
     "execution_count": 14,
     "metadata": {},
     "output_type": "execute_result"
    }
   ],
   "source": [
    "# this is just for custom formatting\n",
    "from IPython.core.display import HTML\n",
    "def css_styling():\n",
    "    styles = open(\"./custom.css\", \"r\").read()\n",
    "    return HTML(styles)\n",
    "css_styling()"
   ]
  },
  {
   "cell_type": "code",
   "execution_count": null,
   "metadata": {},
   "outputs": [],
   "source": []
  }
 ],
 "metadata": {
  "author": "mes",
  "kernelspec": {
   "display_name": "Python 3",
   "language": "python",
   "name": "python3"
  },
  "language_info": {
   "codemirror_mode": {
    "name": "ipython",
    "version": 3
   },
   "file_extension": ".py",
   "mimetype": "text/x-python",
   "name": "python",
   "nbconvert_exporter": "python",
   "pygments_lexer": "ipython3",
   "version": "3.7.3"
  },
  "latex_envs": {
   "LaTeX_envs_menu_present": true,
   "autoclose": true,
   "autocomplete": false,
   "bibliofile": "biblio.bib",
   "cite_by": "apalike",
   "current_citInitial": 1,
   "eqLabelWithNumbers": true,
   "eqNumInitial": 1,
   "hotkeys": {
    "equation": "Ctrl-E",
    "itemize": "Ctrl-I"
   },
   "labels_anchors": false,
   "latex_user_defs": false,
   "report_style_numbering": false,
   "user_envs_cfg": false
  },
  "varInspector": {
   "cols": {
    "lenName": 16,
    "lenType": 16,
    "lenVar": 40
   },
   "kernels_config": {
    "python": {
     "delete_cmd_postfix": "",
     "delete_cmd_prefix": "del ",
     "library": "var_list.py",
     "varRefreshCmd": "print(var_dic_list())"
    },
    "r": {
     "delete_cmd_postfix": ") ",
     "delete_cmd_prefix": "rm(",
     "library": "var_list.r",
     "varRefreshCmd": "cat(var_dic_list()) "
    }
   },
   "oldHeight": 122.466666,
   "position": {
    "height": "296px",
    "left": "1107px",
    "right": "37px",
    "top": "141px",
    "width": "328px"
   },
   "types_to_exclude": [
    "module",
    "function",
    "builtin_function_or_method",
    "instance",
    "_Feature"
   ],
   "varInspector_section_display": "block",
   "window_display": false
  },
  "widgets": {
   "application/vnd.jupyter.widget-state+json": {
    "state": {
     "0e5d4e8e16384d0fb4a2eb791bc1d497": {
      "model_module": "@jupyter-widgets/base",
      "model_module_version": "1.1.0",
      "model_name": "LayoutModel",
      "state": {}
     },
     "20bfca12f58e4df595c6859ba993ab64": {
      "model_module": "@jupyter-widgets/base",
      "model_module_version": "1.1.0",
      "model_name": "LayoutModel",
      "state": {}
     },
     "21a8b119d86b48c292212e228b57fe7e": {
      "model_module": "@jupyter-widgets/controls",
      "model_module_version": "1.4.0",
      "model_name": "VBoxModel",
      "state": {
       "_dom_classes": [
        "widget-interact"
       ],
       "children": [
        "IPY_MODEL_62112043a2a24ba2869cf0cb20fd2929",
        "IPY_MODEL_3bb9c0b69da94557b0bc6149b6a83dec",
        "IPY_MODEL_6269532b8d1f45959e65d41110ec7e14"
       ],
       "layout": "IPY_MODEL_68ecd5cc81684ec4a5df5974c928e01a"
      }
     },
     "27a58a38c0394709905edec4eb9b47e8": {
      "model_module": "@jupyter-widgets/controls",
      "model_module_version": "1.4.0",
      "model_name": "FloatSliderModel",
      "state": {
       "description": "rho_2",
       "layout": "IPY_MODEL_c4a8cc5d1378468f9ccb4f0fa1513b46",
       "max": 10,
       "min": 0.1,
       "step": 0.1,
       "style": "IPY_MODEL_eee3c594659849b7847f5bdc642cd4aa",
       "value": 1
      }
     },
     "3bb9c0b69da94557b0bc6149b6a83dec": {
      "model_module": "@jupyter-widgets/controls",
      "model_module_version": "1.4.0",
      "model_name": "FloatSliderModel",
      "state": {
       "description": "rho_2",
       "layout": "IPY_MODEL_498610ec4b154a70b529f8efd8a5b276",
       "max": 10,
       "min": 0.1,
       "step": 0.1,
       "style": "IPY_MODEL_e670bcfd68c74595ba7207dcd4d0dacd",
       "value": 1
      }
     },
     "498610ec4b154a70b529f8efd8a5b276": {
      "model_module": "@jupyter-widgets/base",
      "model_module_version": "1.1.0",
      "model_name": "LayoutModel",
      "state": {}
     },
     "5458fb92892c4e00a4a89f8a62a93421": {
      "model_module": "@jupyter-widgets/controls",
      "model_module_version": "1.4.0",
      "model_name": "SliderStyleModel",
      "state": {
       "description_width": ""
      }
     },
     "62112043a2a24ba2869cf0cb20fd2929": {
      "model_module": "@jupyter-widgets/controls",
      "model_module_version": "1.4.0",
      "model_name": "FloatSliderModel",
      "state": {
       "description": "cL_2",
       "layout": "IPY_MODEL_76e10bbcbc764ca198420a5e08d7d4a9",
       "max": 10,
       "min": 0.1,
       "step": 0.1,
       "style": "IPY_MODEL_8d57966aae4f4a7f9a570dc8284b0622",
       "value": 1
      }
     },
     "6269532b8d1f45959e65d41110ec7e14": {
      "model_module": "@jupyter-widgets/output",
      "model_module_version": "1.0.0",
      "model_name": "OutputModel",
      "state": {
       "layout": "IPY_MODEL_c446afd94de94ae58fc4fd54f2a997bf",
       "outputs": [
        {
         "data": {
          "image/png": "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\n",
          "text/plain": "<Figure size 432x288 with 1 Axes>"
         },
         "metadata": {
          "needs_background": "light"
         },
         "output_type": "display_data"
        }
       ]
      }
     },
     "68ecd5cc81684ec4a5df5974c928e01a": {
      "model_module": "@jupyter-widgets/base",
      "model_module_version": "1.1.0",
      "model_name": "LayoutModel",
      "state": {}
     },
     "69e746c76d9f4852b991549f051c88ba": {
      "model_module": "@jupyter-widgets/controls",
      "model_module_version": "1.4.0",
      "model_name": "VBoxModel",
      "state": {
       "_dom_classes": [
        "widget-interact"
       ],
       "children": [
        "IPY_MODEL_92f96cd888c3441fa051bbe060914e01",
        "IPY_MODEL_27a58a38c0394709905edec4eb9b47e8",
        "IPY_MODEL_d960fbcffda54f8fbace4f9881906fc7"
       ],
       "layout": "IPY_MODEL_badf46df0842489680c1153dd0830aee"
      }
     },
     "76e10bbcbc764ca198420a5e08d7d4a9": {
      "model_module": "@jupyter-widgets/base",
      "model_module_version": "1.1.0",
      "model_name": "LayoutModel",
      "state": {}
     },
     "8d57966aae4f4a7f9a570dc8284b0622": {
      "model_module": "@jupyter-widgets/controls",
      "model_module_version": "1.4.0",
      "model_name": "SliderStyleModel",
      "state": {
       "description_width": ""
      }
     },
     "92f96cd888c3441fa051bbe060914e01": {
      "model_module": "@jupyter-widgets/controls",
      "model_module_version": "1.4.0",
      "model_name": "FloatSliderModel",
      "state": {
       "description": "cL_2",
       "layout": "IPY_MODEL_20bfca12f58e4df595c6859ba993ab64",
       "max": 10,
       "min": 0.1,
       "step": 0.1,
       "style": "IPY_MODEL_5458fb92892c4e00a4a89f8a62a93421",
       "value": 1
      }
     },
     "badf46df0842489680c1153dd0830aee": {
      "model_module": "@jupyter-widgets/base",
      "model_module_version": "1.1.0",
      "model_name": "LayoutModel",
      "state": {}
     },
     "c446afd94de94ae58fc4fd54f2a997bf": {
      "model_module": "@jupyter-widgets/base",
      "model_module_version": "1.1.0",
      "model_name": "LayoutModel",
      "state": {}
     },
     "c4a8cc5d1378468f9ccb4f0fa1513b46": {
      "model_module": "@jupyter-widgets/base",
      "model_module_version": "1.1.0",
      "model_name": "LayoutModel",
      "state": {}
     },
     "d960fbcffda54f8fbace4f9881906fc7": {
      "model_module": "@jupyter-widgets/output",
      "model_module_version": "1.0.0",
      "model_name": "OutputModel",
      "state": {
       "layout": "IPY_MODEL_0e5d4e8e16384d0fb4a2eb791bc1d497",
       "outputs": [
        {
         "data": {
          "image/png": "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\n",
          "text/plain": "<Figure size 432x288 with 1 Axes>"
         },
         "metadata": {
          "needs_background": "light"
         },
         "output_type": "display_data"
        }
       ]
      }
     },
     "e670bcfd68c74595ba7207dcd4d0dacd": {
      "model_module": "@jupyter-widgets/controls",
      "model_module_version": "1.4.0",
      "model_name": "SliderStyleModel",
      "state": {
       "description_width": ""
      }
     },
     "eee3c594659849b7847f5bdc642cd4aa": {
      "model_module": "@jupyter-widgets/controls",
      "model_module_version": "1.4.0",
      "model_name": "SliderStyleModel",
      "state": {
       "description_width": ""
      }
     }
    },
    "version_major": 2,
    "version_minor": 0
   }
  }
 },
 "nbformat": 4,
 "nbformat_minor": 2
}
