{
 "cells": [
  {
   "cell_type": "markdown",
   "metadata": {},
   "source": [
    "This is a [jupyter](https://jupyter.org/) notebook that contains text, equations, images and executable code in one document."
   ]
  },
  {
   "cell_type": "markdown",
   "metadata": {},
   "source": [
    "$\n",
    "\\newcommand{\\dd}{\\text{d}}\n",
    "\\newcommand{\\e}{\\operatorname{e}}\n",
    "\\newcommand{\\Fc}{\\underline F}\n",
    "\\newcommand{\\Hc}{\\underline H}\n",
    "\\newcommand{\\Xc}{\\underline X}\n",
    "\\newcommand{\\Yc}{\\underline Y}\n",
    "\\newcommand{\\Zc}{\\underline Z}\n",
    "\\newcommand{\\xic}{\\underline \\xi}\n",
    "\\newcommand{\\vc}{\\underline v}\n",
    "\\newcommand{\\xiv}{\\pmb{\\xi}}\n",
    "\\newcommand{\\Psiv}{\\pmb{\\Psi}}\n",
    "\\newcommand{\\xivc}{\\underline \\xiv}\n",
    "\\newcommand{\\xv}{\\mathbf{x}}\n",
    "\\newcommand{\\jj}{\\operatorname{j}}\n",
    "$"
   ]
  },
  {
   "cell_type": "markdown",
   "metadata": {},
   "source": [
    "# 3 Wave Equations for Structure-borne Sound\n",
    "## 3.1 Stress-Strain-Relations\n",
    "&nbsp; | &nbsp;\n",
    "- | -\n",
    "![translation](tikzfig/translation.svg \"translation\") | ![rotation](tikzfig/rotation.svg \"rotation\")\n",
    "![extension](tikzfig/extension.svg \"extension\") | ![shear](tikzfig/shear.svg \"shear\")\n",
    "\n",
    "**Deformation**:\n",
    "* (small) displacement $\\xiv$ with components $\\xi_x$, $\\xi_y$, $\\xi_z$\n",
    "* (small) rotation around the three axes, e.g. angle $\\chi_z$ around $z$-axis\n",
    "\\begin{equation}\\label{eq:rotation}\n",
    "2\\chi_z=\\frac{\\partial}{\\partial x}\\xi_y-\\frac{\\partial}{\\partial y}\\xi_x\n",
    "\\end{equation}\n",
    "and similarly for the two other axes which gives the *rotation* or *curl* of the displacement field\n",
    "\\begin{equation}\\label{eq:rotation_curl}\n",
    "\\pmb \\chi = \\frac12 \\operatorname{curl} \\xiv\n",
    "\\end{equation}\n",
    "\n",
    "* normal strain components - pure extension $\\epsilon_x$\n",
    "\\begin{equation}\\label{eq:normal_strain}\n",
    "\\epsilon_x=\\frac{\\partial}{\\partial x}\\xi_x,\\: \n",
    "\\epsilon_y=\\frac{\\partial}{\\partial y}\\xi_y,\\:\n",
    "\\epsilon_z=\\frac{\\partial}{\\partial z}\\xi_z\n",
    "\\end{equation}\n",
    "* shear angles, e.g. $\\gamma_{xy}$ in $x$-$y$-plane\n",
    "\\begin{equation}\\label{eq:shear_angle}\n",
    "\\gamma_{xy}=\\frac{\\partial}{\\partial y}\\xi_x+\\frac{\\partial}{\\partial x}\\xi_y\n",
    "\\end{equation}\n",
    "and similarly for the two other planes\n",
    "\n",
    "Let's see what this means by plotting the deformed shape of the element. Note that as we use all linear relations this holds only for displacements, strain and angles that are small enough."
   ]
  },
  {
   "cell_type": "code",
   "execution_count": 1,
   "metadata": {},
   "outputs": [
    {
     "data": {
      "application/vnd.jupyter.widget-view+json": {
       "model_id": "ff6ba5e7ec2f4d9a8cada17a623094c2",
       "version_major": 2,
       "version_minor": 0
      },
      "text/plain": [
       "interactive(children=(FloatSlider(value=0.0, description='$\\\\xi_x$', max=0.4, min=-0.4), FloatSlider(value=0.0…"
      ]
     },
     "metadata": {},
     "output_type": "display_data"
    }
   ],
   "source": [
    "import numpy as np\n",
    "import matplotlib.pyplot as pl\n",
    "import ipywidgets as ipw\n",
    "%matplotlib inline\n",
    "\n",
    "# deformation\n",
    "def plot_shape(xix,xiy,chi,epsx,epsy,gamma):\n",
    "    fig, ax = pl.subplots()\n",
    "    # four vertices\n",
    "    verts = np.array([[-1,1,1,-1,],[-1,-1,1,1]]).T\n",
    "    # undeformed\n",
    "    ax.add_patch(pl.Polygon(verts,fill=False,edgecolor='r',lw=2))\n",
    "    # translation, rotation, extension shear\n",
    "    verts = verts + np.array([xix,xiy])\n",
    "    verts = verts + chi*np.array([[0,0,-1,-1],[0,1,1,0]]).T\n",
    "    verts = verts + np.array([[0,epsx,epsx,0],[0,0,epsy,epsy]]).T\n",
    "    verts = verts + 0.5*gamma*np.array([[0,0,1,1],[0,1,1,0]]).T\n",
    "    #deformed\n",
    "    ax.add_patch(pl.Polygon(verts,fill=False,edgecolor='k',ls='--',lw=2))\n",
    "    ax.axis('scaled')\n",
    "    ax.set_xlim(-2,2)\n",
    "    ax.set_ylim(-2,2)\n",
    "    ax.set_axis_off()\n",
    "\n",
    "# widgets shortcut    \n",
    "def myw(desc):\n",
    "    return ipw.FloatSlider(min=-0.4,max=0.4,description=desc)\n",
    "\n",
    "ipw.interact(plot_shape,\n",
    "             xix=myw(r'$\\xi_x$'), xiy=myw(r'$\\xi_y$'),\n",
    "             chi=myw(r'$\\chi_z$'),\n",
    "             epsx=myw(r'$\\epsilon_x$'), epsy=myw(r'$\\epsilon_y$'),\n",
    "             gamma=myw(r'$\\gamma_{xy}$')             \n",
    "            );"
   ]
  },
  {
   "cell_type": "markdown",
   "metadata": {},
   "source": [
    "**Stresses:**\n",
    "* different kinds of mechanical stresses\n",
    "![shear_stresses](tikzfig/shear_stresses.svg \"shear_stresses\")\n",
    "* shear stress:\n",
    "\\begin{align}\\label{eq:shear_stress}\n",
    "\\tau_{xy} = \\tau_{yx} &=  G \\gamma_{xy}\\\\\n",
    "&=G \\left(\\frac{\\partial \\xi_x}{\\partial y}+\\frac{\\partial \\xi_y}{\\partial x}\\right) \n",
    "\\end{align}\n",
    "are the shear stresses directed in the $x$-$y$-plane (similar relations hold for $\\tau_{xz}$, $\\tau_{yz}$)\n",
    "* the proportionality constant $G$ is the **shear modulus**\n",
    "![normal_stresses](tikzfig/normal_stresses.svg \"normal_stresses\") \n",
    "* normal stresses $\\sigma_x$, $\\sigma_y$, $\\sigma_z$ are acting along only one axis\n",
    "* if cross-sectional contraction is prevented, an axial strain will not only result in axial stress, but also in transverse stresses\n",
    "* normal stress-strain-relation:\n",
    "\\begin{align}\n",
    "\\sigma_x &= 2 G \\left( \\epsilon_x + \\frac{\\mu}{1-2\\mu} (\\epsilon_x +\\epsilon_y +\\epsilon_z)\\right)\\\\\n",
    "\\label{eq:normal_stress}\n",
    "&=2 G\\left( \\frac{\\partial \\xi_x}{\\partial x} + \\frac{\\mu}{1-2\\mu} \\nabla\\cdot\\xiv\\right)\n",
    "\\end{align}\n",
    "where $\\nabla=\\left(\\frac{\\partial}{\\partial x},\\frac{\\partial}{\\partial y},\\frac{\\partial}{\\partial z}\\right)$ and $\\nabla\\cdot\\xiv$ is the divergence of the displacement vector\n",
    "* $\\mu$ is **poisson ratio**, the ratio of transverse to axial strain, a constant of the material\n",
    "* **Young's modulus**\n",
    "\\begin{equation}\\label{eq:young}\n",
    "E = 2 G (1+\\mu)\n",
    "\\end{equation}\n",
    "is the third material constant for isotropic material behavior \n",
    "* only two out of $G$, $\\mu$, $E$ are needed\n",
    "* spatial changes of stresses result in a force $\\mathbf{f_s}$(per unit volume) with components:\n",
    "\\begin{equation}\\label{eq:stress_forces}\n",
    "f_{sx}=\n",
    "\\frac{\\partial \\sigma_x}{\\partial x}+\n",
    "\\frac{\\partial \\tau_{yx}}{\\partial y}+\n",
    "\\frac{\\partial \\tau_{zx}}{\\partial z}\n",
    "\\end{equation}\n",
    "and similarly for $f_{sy}$, $f_{sz}$"
   ]
  },
  {
   "cell_type": "markdown",
   "metadata": {},
   "source": [
    "## 3.2 Generalized Wave Equation\n",
    "\n",
    "* momentum equation (Newton's 2nd law) - acceleration of element mass $\\rho \\dd x \\dd y \\dd z$:\n",
    "\\begin{equation}\\label{eq:}\n",
    " \\mathbf{f_m}=\\rho\\frac{\\partial^2 \\xiv}{\\partial t^2}\n",
    "\\end{equation}\n",
    "* equating $\\mathbf{f_s}$ and $\\mathbf{f_m}$ gives:\n",
    "\\begin{equation}\n",
    "\\begin{aligned}\\label{eq:bewegungsgleichung_koerperschall}\n",
    "\\frac{\\partial \\sigma_x}{\\partial x}+\\frac{\\partial \\tau_{xy}}{\\partial y}+\\frac{\\partial \\tau_{xz}}{\\partial z}&-\\rho\\frac{\\partial^2 \\xi_x}{\\partial t^2}=0,\\\\\n",
    "\\frac{\\partial \\tau_{yx}}{\\partial x}+\\frac{\\partial \\sigma_y}{\\partial y}+\\frac{\\partial \\tau_{yz}}{\\partial z}&-\\rho\\frac{\\partial^2 \\xi_y}{\\partial t^2}=0,\\\\\n",
    "\\frac{\\partial \\tau_{zx}}{\\partial x}+\\frac{\\partial \\tau_{zy}}{\\partial y}+\\frac{\\partial \\sigma_z}{\\partial z}&-\\rho\\frac{\\partial^2 \\xi_z}{\\partial t^2}=0.\\\\\n",
    "\\end{aligned}\n",
    "\\end{equation}\n",
    "* substituting \\eqref{eq:shear_stress} and \\eqref{eq:normal_stress}\n",
    "\\begin{gather}\\label{eq:gen_wave_eq}\n",
    "G\\left(\\Delta \\xiv + \\frac{1}{1-2\\mu} \\nabla\\nabla\\cdot\\xiv\\right)-\\rho\\frac{\\partial^2 \\xiv}{\\partial t^2}=0\n",
    "\\end{gather}\n",
    "we get the **generalized wave equation** for structure borne sound\n",
    "* $\\Delta=\\nabla\\cdot\\nabla$ is Laplace-operator with \n",
    "$\\Delta \\xiv=\\frac{\\partial^2}{\\partial x^2}\\xiv +\n",
    "\\frac{\\partial^2}{\\partial y^2}\\xiv +\n",
    "\\frac{\\partial^2}{\\partial z^2}\\xiv$\n",
    "* $\\nabla\\nabla\\cdot$ is gradient of the divergence\n",
    "* connects temporal and spatial changes of vector field $\\xiv(\\xv,t)$\n",
    "* all solutions are sound fields"
   ]
  },
  {
   "cell_type": "markdown",
   "metadata": {},
   "source": [
    "## 3.3 One-Dimensional Solution\n",
    "* solution to wave equation easier to find if we restrict ourselves to cases with no dependence on $y$ and $z$: $\\xiv(x,t)$ \n",
    "* wave equation reads then:\n",
    "\\begin{align}\n",
    "\\label{eq:wave_eq_longitudinal}\n",
    "\\frac{\\partial^2}{\\partial x^2} \\xi_x - \\frac{\\rho}{G\\left(1+\\frac{1}{1-2\\mu}\\right)}\\frac{\\partial^2}{\\partial t^2}\\xi_x &=0,\\\\\n",
    "\\label{eq:wave_eq_transverse_y}\n",
    "\\frac{\\partial^2}{\\partial x^2} \\xi_y - \\frac{\\rho}{G}\\frac{\\partial^2}{\\partial t^2}\\xi_y &=0,\\\\\n",
    "\\label{eq:wave_eq_transverse_z}\n",
    "\\frac{\\partial^2}{\\partial x^2} \\xi_z - \\frac{\\rho}{G}\\frac{\\partial^2}{\\partial t^2}\\xi_z &=0.\n",
    "\\end{align}\n",
    "(three independent scalar equations)\n",
    "* all PDE have same form\n",
    "\\begin{equation}\\label{eq:plane_wave_equation}\n",
    "\\frac{\\partial^2}{\\partial x^2} \\xi_i - \\frac{1}{c^2}\\frac{\\partial^2}{\\partial t^2}\\xi_i =0\n",
    "\\end{equation}\n",
    "where index $i$ is either $x, y$ or $z$ and $c$ is a constant\n",
    "* solutions have the form of **plane waves**\n",
    "\\begin{equation}\\label{eq:gen_plane_wave}\n",
    "\\xi_i(x,t) = f(x\\pm ct)\n",
    "\\end{equation}\n",
    "with $c$ being the respective **speed of sound**\n",
    "* note: by rotation of coordinate system any other direction (not only $x$ will lead to the same results)\n",
    "* let's check \\eqref{eq:gen_plane_wave} by substituting into \\eqref{eq:plane_wave_equation} :"
   ]
  },
  {
   "cell_type": "code",
   "execution_count": 2,
   "metadata": {},
   "outputs": [
    {
     "data": {
      "text/latex": [
       "$\\displaystyle \\text{True}$"
      ],
      "text/plain": [
       "True"
      ]
     },
     "execution_count": 2,
     "metadata": {},
     "output_type": "execute_result"
    }
   ],
   "source": [
    "import sympy as sy\n",
    "from sympy.solvers.pde import pdsolve\n",
    "x,t, c = sy.symbols('x t c')\n",
    "xi = sy.Function('xi_i')(x,t) \n",
    "eq = sy.Eq(xi.diff(x,2)-xi.diff(t,2)/(c**2),0) # 1D wave equation\n",
    "f = sy.Function('f')(x-c*t) # solution to test (how about + sign ?)\n",
    "eq.subs(xi,f).doit() # does wave equation hold?"
   ]
  },
  {
   "cell_type": "markdown",
   "metadata": {},
   "source": [
    "* wave equation \\eqref{eq:wave_eq_longitudinal}: motion into the same direction as changes - **longitudinal waves**\n",
    "\\begin{equation}\\label{eq:c_longitudinal}\n",
    "c_L = \\sqrt{\\frac{G\\left(1+\\frac{1}{1-2\\mu}\\right)}{\\rho}}  \n",
    "= \\sqrt{\\frac{E\\left(1-\\mu\\right)}{\\rho\\left(1+\\mu\\right)\\left(1-2\\mu\\right)}}\n",
    "\\end{equation}\n",
    "* wave equations \\eqref{eq:wave_eq_transverse_y} , \\eqref{eq:wave_eq_transverse_z}: motion transverse to direction of changes - **transverse waves**\n",
    "\\begin{gather}\\label{eq:c_transverse}\n",
    "c_T=\\sqrt{\\frac{G}{\\rho}}\n",
    "\\end{gather}\n",
    "* let's have a look at the wave motion for both wave types:"
   ]
  },
  {
   "cell_type": "code",
   "execution_count": 3,
   "metadata": {},
   "outputs": [
    {
     "data": {
      "application/vnd.jupyter.widget-view+json": {
       "model_id": "d737a3b0db144ca5a1d2a557605053a6",
       "version_major": 2,
       "version_minor": 0
      },
      "text/plain": [
       "interactive(children=(Checkbox(value=False, description='longitudinal'), Checkbox(value=False, description='tr…"
      ]
     },
     "metadata": {},
     "output_type": "display_data"
    }
   ],
   "source": [
    "mu = 0.3 # assume poisson ratio\n",
    "cT = 1.0 # transverse speed of sound\n",
    "cL = cT*np.sqrt(1+1/(1-2*mu)) # longitudinal speed of sound\n",
    "# mesh for plotting\n",
    "x0,y0 = np.meshgrid(np.arange(24.),np.arange(14.))\n",
    "color = np.zeros((13,23))\n",
    "color[5,10] = 1 # mark one element\n",
    "\n",
    "def plot_wave(longitudinal,transverse,t):\n",
    "    t *= 2*np.pi\n",
    "    x = x0+0.5*longitudinal*np.cos(x0-cL*t) # displacement L\n",
    "    y = y0+0.5*transverse*np.cos(x0-cT*t) # displacement T\n",
    "    pl.pcolormesh(x,y,color,edgecolor='k',cmap='Greys')\n",
    "    pl.ylim(1,12)\n",
    "    pl.xlim(1,22)\n",
    "    pl.gca().set_axis_off()\n",
    "    \n",
    "ipw.interact(plot_wave,\n",
    "             longitudinal=False,transverse=False,\n",
    "             t=(0,10,0.05));"
   ]
  },
  {
   "cell_type": "markdown",
   "metadata": {},
   "source": [
    "## 3.4 Complex Notation\n",
    "* sound waves can be linearly superposed\n",
    "* each wave can be build up from harmonic (i.e. $\\cos$, $\\sin$) functions\n",
    "* replace time dependency by using\n",
    "\\begin{equation}\\label{eq:complex_notation}\n",
    "\\begin{aligned}\n",
    "\\xi = \\hat{\\xi} \\cos( \\omega t+\\varphi) \\: \\Leftrightarrow\\:\\xic &= \\hat{\\xi} \\left(\\cos( \\omega t+\\varphi) + \\jj \\sin( \\omega t  +\\varphi)\\right) \\\\ &= \\hat{\\xi} \\e^{\\jj(\\omega t+\\varphi)}.\n",
    "\\end{aligned}\n",
    "\\end{equation}\n",
    "* rewrite \\eqref{eq:plane_wave_equation}\n",
    "\\begin{equation}\n",
    "\\frac{\\partial^2}{\\partial x^2} \\xic_i(x) + \\frac{\\omega^2}{c^2}\\xic_i(x) =0\n",
    "\\end{equation}\n",
    "* no derivatives w.r.t. time !\n",
    "* wave number\n",
    "\\begin{equation}\\label{eq:wavenumber}\n",
    "k=\\frac{\\omega}{c} =\\frac{2\\pi f}{c}\n",
    "\\end{equation}\n",
    "* plane wave is \n",
    "\\begin{equation}\n",
    "\\xic_i(x)=\\hat{\\xic}_i\\e^{\\mp \\jj k x}\n",
    "\\end{equation}\n",
    "* generalized wave equation \\eqref{eq:gen_wave_eq} rewritten:\n",
    "\\begin{gather}\\label{eq:gen_wave_eq2}\n",
    "\\Delta \\xivc(\\xv)+ \\frac{1}{1-2\\mu} \\nabla\\nabla\\cdot\\xivc(\\xv)+\\frac{\\rho}{G}\\omega^2\\xivc(\\xv)=0\n",
    "\\end{gather}"
   ]
  },
  {
   "cell_type": "markdown",
   "metadata": {},
   "source": [
    "## 3.5 General solutions for the wave equation\n",
    "### Split vector field into two parts\n",
    "\\begin{equation}\\label{eq:xisplit}\n",
    "\\xivc(\\xv)=\\xivc_1(\\xv)+\\xivc_2(\\xv)\n",
    "\\end{equation}\n",
    "* one is **rotation-free** (\"conservative\")\n",
    "\\begin{equation}\\label{eq:rot0}\n",
    "\\operatorname{curl}\\xivc_1(\\xv)=\\nabla \\times \\xivc_1(\\xv)=0\n",
    "\\end{equation}\n",
    "and can always be expressed as gradient of a scalar potential field $\\Phi(\\xv)$\n",
    "\\begin{equation}\n",
    "\\xivc_1(\\xv)=\\nabla\\Phi(\\xv)\\\\ \\nabla \\times \\nabla\\Phi(\\xv)=0\n",
    "\\end{equation}\n",
    "* one is **divergence-free** (\"solenoid\")\n",
    "\\begin{equation}\\label{eq:div0}\n",
    "\\operatorname{div}\\xivc_2(\\xv)=\\nabla\\cdot\\xivc_2(\\xv)=0\n",
    "\\end{equation}\n",
    "and can always be expressed as curl of a vector potential field $\\Psiv(\\xv)$\n",
    "\\begin{equation}\n",
    "\\xivc_2(\\xv)=\\nabla\\times\\Psiv(\\xv)\\\\ \\nabla \\cdot \\nabla\\times\\Psiv(\\xv)=0\n",
    "\\end{equation}"
   ]
  },
  {
   "cell_type": "markdown",
   "metadata": {},
   "source": [
    "### Split the wave equation \n",
    "* substitute $\\xivc(\\xv)=\\nabla\\Phi(\\xv)+\\nabla\\times\\Psiv(\\xv)$ into \\eqref{eq:gen_wave_eq2}\n",
    "\\begin{multline}\\label{eq:gen_wave_eq3}\n",
    "\\Delta \\nabla\\Phi(\\xv)\n",
    "+\\Delta \\left(\\nabla\\times\\Psiv(\\xv)\\right)\n",
    "+\\frac{1}{1-2\\mu} \\nabla\\nabla\\cdot\\nabla\\Phi(\\xv)\\\\\n",
    "+\\frac{\\rho}{G}\\omega^2\\nabla\\Phi(\\xv)+\\frac{\\rho}{G}\\omega^2\\nabla\\times\\Psiv(\\xv)=0\n",
    "\\end{multline}\n",
    "* all sum of all terms containing $\\Phi(\\xv)$ or $\\Psiv(\\xv)$ must  vanish independently\n",
    "* commutativity: $\\Delta\\nabla=\\nabla\\Delta$ and $\\Delta(\\nabla\\times)=\\nabla\\times\\Delta$\n",
    "* excess $\\nabla$ and $\\nabla\\times$ can be \"canceled\"\n",
    "* terms with $\\Phi(\\xv)$:\n",
    "\\begin{gather}\\label{eq:lwave}\n",
    "\\Delta \\Phi(\\xv)\n",
    "+\\frac{1}{1-2\\mu} \\Delta\\Phi(\\xv)\n",
    "+\\frac{\\rho}{G}\\omega^2\\Phi(\\xv)=0\n",
    "\\end{gather}\n",
    "and we recognize the wave equation for **longitudinal waves**:\n",
    "\\begin{gather}\n",
    "\\Delta \\Phi(\\xv) + \\frac{\\rho}{G\\left(1+\\frac{1}{1-2\\mu}\\right)}\\omega^2\\Phi(\\xv) =0\n",
    "\\end{gather}\n",
    "* terms with $\\Psiv(\\xv)$:\n",
    "\\begin{gather}\n",
    "\\label{eq:twave}\n",
    "\\Delta \\Psiv(\\xv)+\\frac{\\rho}{G}\\omega^2\\Psiv(\\xv)=0\n",
    "\\end{gather}\n",
    "which is the wave equation for **transverse waves**"
   ]
  },
  {
   "cell_type": "markdown",
   "metadata": {},
   "source": [
    "## 3.6 Plane waves\n",
    "* plane waves are solutions to both \\eqref{eq:lwave} and \\eqref{eq:twave}\n",
    "* in 3D we have for longitudinal waves\n",
    "\\begin{equation}\\label{eq:3DplaneLwave}\n",
    "\\Phi(\\xv)=\\hat{\\Phi}\\e^{-\\jj \\mathbf{k} \\xv}=\\hat{\\Phi}\\e^{-\\jj k_x x}\\e^{-\\jj k_y y}\\e^{-\\jj k_z z}\n",
    "\\end{equation}\n",
    "where the direction of the plane wave is given by the wave number vector $\\mathbf{k}$ with the components\n",
    "\\begin{equation}\\label{eq:wavenumberL}\n",
    "k_x^2+k_y^2+k_z^2=k_L^2=\\frac{\\omega^2}{c_L^2}\n",
    "\\end{equation}\n",
    "* for transverse waves similar relations hold\n"
   ]
  },
  {
   "cell_type": "markdown",
   "metadata": {},
   "source": [
    "#### ----------------------------------------\n",
    "* two different wave equations\n",
    "* plane waves as possible solutions\n",
    "* infinite extend of wave (and medium)\n",
    "* what happens if the medium is finite? (next topic)"
   ]
  },
  {
   "cell_type": "markdown",
   "metadata": {},
   "source": [
    "#### License\n",
    "\n",
    "This notebook is an [Open Educational Resource](https://en.wikipedia.org/wiki/Open_educational_resources). Feel free to use it for your own purposes. The text and the images are licensed under [Creative Commons Attribution 4.0](https://creativecommons.org/licenses/by/4.0/), and any code under the [MIT license](https://opensource.org/licenses/MIT). Please attribute the work as follows: Ennes Sarradj, Structure-borne sound lecture notes, 2019."
   ]
  },
  {
   "cell_type": "code",
   "execution_count": 4,
   "metadata": {},
   "outputs": [
    {
     "data": {
      "text/html": [
       "<link href='http://fonts.googleapis.com/css?family=Roboto+Slab' rel='stylesheet' type='text/css'>\n",
       "<link href='http://fonts.googleapis.com/css?family=Roboto+Condensed' rel='stylesheet' type='text/css'>\n",
       "<link href='http://fonts.googleapis.com/css?family=Roboto:100,300,400,500,700,800,900,100italic,300italic,400italic,500italic,700italic,800italic,900italic' rel='stylesheet' type='text/css'>\n",
       "<link href='http://fonts.googleapis.com/css?family=Source+Code+Pro:300,400' rel='stylesheet' type='text/css'>\n",
       "<style>\n",
       "/*    @font-face {\n",
       "        font-family: \"Computer Modern\";\n",
       "        src: url('http://mirrors.ctan.org/fonts/cm-unicode/fonts/otf/cmunss.otf');\n",
       "    }*/\n",
       "    div.cell{\n",
       "        width:80%;\n",
       "        margin-left:auto;\n",
       "        margin-right:auto;\n",
       "    }\n",
       "    h1 {\n",
       "        font-family: 'Roboto Condensed', sans-serif;\n",
       "    }\n",
       "    h2 {\n",
       "        font-family: 'Roboto', sans-serif;\n",
       "        font-weight: 500 !important;\n",
       "        font-size: 1.5em !important;\n",
       "    }\n",
       "    h3{\n",
       "\t\tfont-family: 'Roboto', sans-serif;\n",
       "        margin-top:12px;\n",
       "        margin-bottom: 3px;\n",
       "       }\n",
       "\th4{\n",
       "\t\tfont-family: 'Roboto', sans-serif;\n",
       "       }\n",
       "    h5 {\n",
       "        font-family: 'Roboto Condensed', sans-serif;\n",
       "    }\t   \n",
       "    div.text_cell_render{\n",
       "        font-family: 'Roboto',Computer Modern, \"Helvetica Neue\", Arial, Helvetica, Geneva, sans-serif;\n",
       "        line-height: 135%;\n",
       "        font-size: 110%;\n",
       "        width:100%;\n",
       "    }\n",
       "/*    .CodeMirror{\n",
       "            font-family: \"Source Code Pro\";\n",
       "\t\t\tfont-size: 100%;\n",
       "    }*/\n",
       "/*    .prompt{\n",
       "        display: None;\n",
       "    }*/\n",
       "    .text_cell_render h1 {\n",
       "        font-weight: 200;\n",
       "        font-size: 50pt;\n",
       "\t\tline-height: 100%;\n",
       "        color:#386940;\n",
       "        margin-bottom: 0.5em;\n",
       "        margin-top: 0.5em;\n",
       "        display: block;\n",
       "    }\t\n",
       "    .text_cell_render h5 {\n",
       "        font-weight: 300;\n",
       "        font-size: 16pt;\n",
       "        color: #386940;\n",
       "        font-style: italic;\n",
       "        margin-bottom: .5em;\n",
       "        margin-top: 0.5em;\n",
       "        display: block;\n",
       "    }\n",
       "    \n",
       "    .warning{\n",
       "        color: rgb( 240, 20, 20 )\n",
       "        }\n",
       "</style>\n",
       "<script>\n",
       "    MathJax.Hub.Config({\n",
       "                TeX: {\n",
       "                    extensions: [\"AMSmath.js\"],\n",
       "                    equationNumbers: { autoNumber: \"AMS\" }\n",
       "                },\n",
       "                tex2jax: {\n",
       "                    inlineMath: [ ['$','$'], [\"\\\\(\",\"\\\\)\"] ],\n",
       "                    displayMath: [ ['$$','$$'], [\"\\\\[\",\"\\\\]\"] ]\n",
       "                },\n",
       "                displayAlign: 'center', // Change this to 'center' to center equations.\n",
       "                \"HTML-CSS\": {\n",
       "                    styles: {'.MathJax_Display': {\"margin\": 4}}\n",
       "                }\n",
       "        });\n",
       "</script>"
      ],
      "text/plain": [
       "<IPython.core.display.HTML object>"
      ]
     },
     "execution_count": 4,
     "metadata": {},
     "output_type": "execute_result"
    }
   ],
   "source": [
    "# this is just for custom formatting\n",
    "from IPython.core.display import HTML\n",
    "def css_styling():\n",
    "    styles = open(\"./custom.css\", \"r\").read()\n",
    "    return HTML(styles)\n",
    "css_styling()"
   ]
  },
  {
   "cell_type": "code",
   "execution_count": null,
   "metadata": {},
   "outputs": [],
   "source": []
  }
 ],
 "metadata": {
  "author": "mes",
  "kernelspec": {
   "display_name": "Python 3 (ipykernel)",
   "language": "python",
   "name": "python3"
  },
  "language_info": {
   "codemirror_mode": {
    "name": "ipython",
    "version": 3
   },
   "file_extension": ".py",
   "mimetype": "text/x-python",
   "name": "python",
   "nbconvert_exporter": "python",
   "pygments_lexer": "ipython3",
   "version": "3.11.5"
  },
  "latex_envs": {
   "LaTeX_envs_menu_present": true,
   "autoclose": true,
   "autocomplete": true,
   "bibliofile": "biblio.bib",
   "cite_by": "apalike",
   "current_citInitial": 1,
   "eqLabelWithNumbers": true,
   "eqNumInitial": 1,
   "hotkeys": {
    "equation": "Ctrl-E",
    "itemize": "Ctrl-I"
   },
   "labels_anchors": false,
   "latex_user_defs": false,
   "report_style_numbering": false,
   "user_envs_cfg": false
  },
  "varInspector": {
   "cols": {
    "lenName": 16,
    "lenType": 16,
    "lenVar": 40
   },
   "kernels_config": {
    "python": {
     "delete_cmd_postfix": "",
     "delete_cmd_prefix": "del ",
     "library": "var_list.py",
     "varRefreshCmd": "print(var_dic_list())"
    },
    "r": {
     "delete_cmd_postfix": ") ",
     "delete_cmd_prefix": "rm(",
     "library": "var_list.r",
     "varRefreshCmd": "cat(var_dic_list()) "
    }
   },
   "oldHeight": 122.466666,
   "position": {
    "height": "296px",
    "left": "1107px",
    "right": "37px",
    "top": "141px",
    "width": "328px"
   },
   "types_to_exclude": [
    "module",
    "function",
    "builtin_function_or_method",
    "instance",
    "_Feature"
   ],
   "varInspector_section_display": "block",
   "window_display": false
  },
  "widgets": {
   "application/vnd.jupyter.widget-state+json": {
    "state": {
     "01a32ae78cbc4aa486dde8a3297acf6f": {
      "model_module": "@jupyter-widgets/base",
      "model_module_version": "1.2.0",
      "model_name": "LayoutModel",
      "state": {}
     },
     "01d2549d667f4afaada3bc1e8021645f": {
      "model_module": "@jupyter-widgets/base",
      "model_module_version": "1.2.0",
      "model_name": "LayoutModel",
      "state": {}
     },
     "02402fdd795749e6988cd88528cdb90f": {
      "model_module": "@jupyter-widgets/base",
      "model_module_version": "1.2.0",
      "model_name": "LayoutModel",
      "state": {}
     },
     "02bba1a1d59042c49b389e85eb89e255": {
      "model_module": "@jupyter-widgets/controls",
      "model_module_version": "1.5.0",
      "model_name": "SliderStyleModel",
      "state": {
       "description_width": ""
      }
     },
     "02f17c6b654643b7939006e2346d7d4f": {
      "model_module": "@jupyter-widgets/controls",
      "model_module_version": "1.5.0",
      "model_name": "VBoxModel",
      "state": {
       "_dom_classes": [
        "widget-interact"
       ],
       "children": [
        "IPY_MODEL_297ca7e6a3c9443f926d79bdab91c281",
        "IPY_MODEL_3bbbe81e20394da19d5e5878ca5860a5"
       ],
       "layout": "IPY_MODEL_90958af801464432b21a1c10e15847dc"
      }
     },
     "031828f90954441fb834bda54a0d3db0": {
      "model_module": "@jupyter-widgets/controls",
      "model_module_version": "1.5.0",
      "model_name": "SliderStyleModel",
      "state": {
       "description_width": ""
      }
     },
     "037f70b5a63b4e64b4e0c745d594fa8a": {
      "model_module": "@jupyter-widgets/controls",
      "model_module_version": "1.5.0",
      "model_name": "VBoxModel",
      "state": {
       "_dom_classes": [
        "widget-interact"
       ],
       "children": [
        "IPY_MODEL_ac6296b8495a4ce8b6ddf7efa86d398e",
        "IPY_MODEL_c7e0ad714da4447981c859a36e18f354"
       ],
       "layout": "IPY_MODEL_57b1eb51a80b43b2beff71e10079e8b2"
      }
     },
     "03cbc81f2fc24a0ab6eed10467677c5d": {
      "model_module": "@jupyter-widgets/controls",
      "model_module_version": "1.5.0",
      "model_name": "SliderStyleModel",
      "state": {
       "description_width": ""
      }
     },
     "03eec8e044fe4b46bbd5366375679c8f": {
      "model_module": "@jupyter-widgets/base",
      "model_module_version": "1.2.0",
      "model_name": "LayoutModel",
      "state": {}
     },
     "063e848591594088b567c762d7496188": {
      "model_module": "@jupyter-widgets/base",
      "model_module_version": "1.2.0",
      "model_name": "LayoutModel",
      "state": {}
     },
     "0718cde630f64652bddd4e7584b91d3f": {
      "model_module": "@jupyter-widgets/controls",
      "model_module_version": "1.5.0",
      "model_name": "FloatSliderModel",
      "state": {
       "description": "$\\xi_x$",
       "layout": "IPY_MODEL_6306090fcab949d8858cdc040ffc49fb",
       "max": 0.4,
       "min": -0.4,
       "step": 0.1,
       "style": "IPY_MODEL_e977abeb1e684b548afa1a147b05531e"
      }
     },
     "07d00a254dd94b28a2382ad26c9de0da": {
      "model_module": "@jupyter-widgets/output",
      "model_module_version": "1.0.0",
      "model_name": "OutputModel",
      "state": {
       "layout": "IPY_MODEL_662eee74459e41ad9827e3fa62130abc",
       "outputs": [
        {
         "data": {
          "image/png": "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\n",
          "text/plain": "<Figure size 432x288 with 1 Axes>"
         },
         "metadata": {
          "needs_background": "light"
         },
         "output_type": "display_data"
        }
       ]
      }
     },
     "08be2f9b940f400d9a4c77af5d2cb264": {
      "model_module": "@jupyter-widgets/controls",
      "model_module_version": "1.5.0",
      "model_name": "SliderStyleModel",
      "state": {
       "description_width": ""
      }
     },
     "09c64f0e7c5f4d31a8c695c8b0f8c3a7": {
      "model_module": "@jupyter-widgets/controls",
      "model_module_version": "1.5.0",
      "model_name": "FloatSliderModel",
      "state": {
       "description": "$\\gamma_{xy}$",
       "layout": "IPY_MODEL_f235441c8d764c8fa430c6d118953bd6",
       "max": 0.4,
       "min": -0.4,
       "step": 0.1,
       "style": "IPY_MODEL_b92d760708df45a590db72eaa2d27423"
      }
     },
     "0a0ab0924ce14acdbdfdc7258f090c5f": {
      "model_module": "@jupyter-widgets/controls",
      "model_module_version": "1.5.0",
      "model_name": "CheckboxModel",
      "state": {
       "description": "transverse",
       "disabled": false,
       "layout": "IPY_MODEL_db46ed722b7a4712a2b5c7e258db2bcc",
       "style": "IPY_MODEL_3ef77fa0c9ca41198d7508bc2e22c09b",
       "value": false
      }
     },
     "0ace8ac416d44e64aa6450865e118374": {
      "model_module": "@jupyter-widgets/controls",
      "model_module_version": "1.5.0",
      "model_name": "VBoxModel",
      "state": {
       "_dom_classes": [
        "widget-interact"
       ],
       "children": [
        "IPY_MODEL_670f9b19b7014d49a3a56a322c0ed881",
        "IPY_MODEL_67032440b14b4970860f04c546389ac4",
        "IPY_MODEL_5614d223ebe44f2783caa1d67cfd989a",
        "IPY_MODEL_1b79ba7954f14779a6893b4f3651f248",
        "IPY_MODEL_9471dea72200463fbcc82428b19c0337",
        "IPY_MODEL_dc2cf93ba041416f9b915871866b3168",
        "IPY_MODEL_5d049a8e2dea4b248b209ab83b9cfceb"
       ],
       "layout": "IPY_MODEL_d67651cd7e0d45fca55b4088d8e53a27"
      }
     },
     "0b00ebc34a024bc29743341914e1e144": {
      "model_module": "@jupyter-widgets/base",
      "model_module_version": "1.2.0",
      "model_name": "LayoutModel",
      "state": {}
     },
     "0bc4b12764a44df593087628c317631b": {
      "model_module": "@jupyter-widgets/base",
      "model_module_version": "1.2.0",
      "model_name": "LayoutModel",
      "state": {}
     },
     "0c5144cc74114f439a4e968e9b5dd0b4": {
      "model_module": "@jupyter-widgets/controls",
      "model_module_version": "1.5.0",
      "model_name": "SliderStyleModel",
      "state": {
       "description_width": ""
      }
     },
     "0c5e5b17d0804a31813fc3c4e1654cfe": {
      "model_module": "@jupyter-widgets/base",
      "model_module_version": "1.2.0",
      "model_name": "LayoutModel",
      "state": {}
     },
     "0ca0e246fa344d4a954facc59c3f5d43": {
      "model_module": "@jupyter-widgets/base",
      "model_module_version": "1.2.0",
      "model_name": "LayoutModel",
      "state": {}
     },
     "0d19743523fd409e9828a4398b4bd5bf": {
      "model_module": "@jupyter-widgets/controls",
      "model_module_version": "1.5.0",
      "model_name": "SliderStyleModel",
      "state": {
       "description_width": ""
      }
     },
     "0d3d3561968c49c9aaa56f6b5a8bdc94": {
      "model_module": "@jupyter-widgets/controls",
      "model_module_version": "1.5.0",
      "model_name": "VBoxModel",
      "state": {
       "_dom_classes": [
        "widget-interact"
       ],
       "children": [
        "IPY_MODEL_1eca2c14d47940b8a53470140a2d5aa2",
        "IPY_MODEL_d57b1d38cc4445248c73b46f603132ce"
       ],
       "layout": "IPY_MODEL_cd31e14ffaad4a83917c17990f23071c"
      }
     },
     "0ea9849daa24472b872ec27fcef006b5": {
      "model_module": "@jupyter-widgets/controls",
      "model_module_version": "1.5.0",
      "model_name": "FloatSliderModel",
      "state": {
       "description": "si",
       "layout": "IPY_MODEL_a20e604d8d1943d89d4d19ad5b23a522",
       "max": 2,
       "min": 0.1,
       "step": 0.1,
       "style": "IPY_MODEL_03cbc81f2fc24a0ab6eed10467677c5d",
       "value": 1
      }
     },
     "0ef13db079c1478285493479b1d758e1": {
      "model_module": "@jupyter-widgets/controls",
      "model_module_version": "1.5.0",
      "model_name": "SliderStyleModel",
      "state": {
       "description_width": ""
      }
     },
     "0f0f7e877a124919876f8f349425ed67": {
      "model_module": "@jupyter-widgets/controls",
      "model_module_version": "1.5.0",
      "model_name": "FloatSliderModel",
      "state": {
       "description": "d",
       "layout": "IPY_MODEL_c0577be10b974d319bcb8f7d30bee57e",
       "max": 0.3,
       "min": 0.01,
       "step": 0.01,
       "style": "IPY_MODEL_814cd409e0e74ec5900b95eb4785fa7d",
       "value": 0.1
      }
     },
     "0f5de1006a2f4ae3a17ae0a87367e14e": {
      "model_module": "@jupyter-widgets/base",
      "model_module_version": "1.2.0",
      "model_name": "LayoutModel",
      "state": {}
     },
     "0f6cf4b65b224be490e6bb830e910bde": {
      "model_module": "@jupyter-widgets/output",
      "model_module_version": "1.0.0",
      "model_name": "OutputModel",
      "state": {
       "layout": "IPY_MODEL_af02333b97f3489584c347fe68365cc3",
       "outputs": [
        {
         "data": {
          "image/png": "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\n",
          "text/plain": "<Figure size 432x288 with 1 Axes>"
         },
         "metadata": {
          "needs_background": "light"
         },
         "output_type": "display_data"
        }
       ]
      }
     },
     "0fdb0ad679f94a88a41a8535e9cf75a2": {
      "model_module": "@jupyter-widgets/controls",
      "model_module_version": "1.5.0",
      "model_name": "SliderStyleModel",
      "state": {
       "description_width": ""
      }
     },
     "101ffe2c6cbb4b5e8321c8aba399e5a7": {
      "model_module": "@jupyter-widgets/base",
      "model_module_version": "1.2.0",
      "model_name": "LayoutModel",
      "state": {}
     },
     "109d166408f14288986fb63594f5fc04": {
      "model_module": "@jupyter-widgets/base",
      "model_module_version": "1.2.0",
      "model_name": "LayoutModel",
      "state": {}
     },
     "11d9cf3f36444ae2b02c4d24c1579e9b": {
      "model_module": "@jupyter-widgets/controls",
      "model_module_version": "1.5.0",
      "model_name": "FloatSliderModel",
      "state": {
       "description": "$\\xi_1$",
       "layout": "IPY_MODEL_94650b05367142d2b9f22f44d710fb53",
       "max": 0.2,
       "min": -0.2,
       "step": 0.1,
       "style": "IPY_MODEL_214c09c066b946c6a043107407ff9ebe"
      }
     },
     "11db7801ad9c4aabac0172f867f1e9b7": {
      "model_module": "@jupyter-widgets/base",
      "model_module_version": "1.2.0",
      "model_name": "LayoutModel",
      "state": {}
     },
     "122801be69054dc88ea010c7cf124d50": {
      "model_module": "@jupyter-widgets/controls",
      "model_module_version": "1.5.0",
      "model_name": "VBoxModel",
      "state": {
       "_dom_classes": [
        "widget-interact"
       ],
       "children": [
        "IPY_MODEL_19f68fdc6592424fa261de5e97f658d8",
        "IPY_MODEL_ba97f661ae674441b1de7276b1df5a2d"
       ],
       "layout": "IPY_MODEL_e4e58379e8f74c299d0b064d6d76481b"
      }
     },
     "12530975c6534f0a93c19f0cd4d29667": {
      "model_module": "@jupyter-widgets/base",
      "model_module_version": "1.2.0",
      "model_name": "LayoutModel",
      "state": {}
     },
     "132977e9dbed449bbd4306bfc19dbdd0": {
      "model_module": "@jupyter-widgets/base",
      "model_module_version": "1.2.0",
      "model_name": "LayoutModel",
      "state": {}
     },
     "138395feb51d4badbd295f6e7ab1acba": {
      "model_module": "@jupyter-widgets/output",
      "model_module_version": "1.0.0",
      "model_name": "OutputModel",
      "state": {
       "layout": "IPY_MODEL_d8fc10198a40470fba9c9946e20a5065",
       "outputs": [
        {
         "data": {
          "image/png": "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\n",
          "text/plain": "<Figure size 432x288 with 1 Axes>"
         },
         "metadata": {
          "needs_background": "light"
         },
         "output_type": "display_data"
        }
       ]
      }
     },
     "13845ecc27f649a09564bce63c9c202d": {
      "model_module": "@jupyter-widgets/controls",
      "model_module_version": "1.5.0",
      "model_name": "SliderStyleModel",
      "state": {
       "description_width": ""
      }
     },
     "13b2c12e3c5f4fb981849cae51bf7431": {
      "model_module": "@jupyter-widgets/output",
      "model_module_version": "1.0.0",
      "model_name": "OutputModel",
      "state": {
       "layout": "IPY_MODEL_a19dad5ab9fa48d488e4d42fa0383450",
       "outputs": [
        {
         "ename": "ValueError",
         "evalue": "The same variable should be used in all univariate expressions being plotted.",
         "output_type": "error",
         "traceback": [
          "\u001b[0;31m---------------------------------------------------------------------------\u001b[0m",
          "\u001b[0;31mValueError\u001b[0m                                Traceback (most recent call last)",
          "\u001b[0;32m~/anaconda3/envs/sbs/lib/python3.7/site-packages/ipywidgets/widgets/interaction.py\u001b[0m in \u001b[0;36mupdate\u001b[0;34m(self, *args)\u001b[0m\n\u001b[1;32m    249\u001b[0m                     \u001b[0mvalue\u001b[0m \u001b[0;34m=\u001b[0m \u001b[0mwidget\u001b[0m\u001b[0;34m.\u001b[0m\u001b[0mget_interact_value\u001b[0m\u001b[0;34m(\u001b[0m\u001b[0;34m)\u001b[0m\u001b[0;34m\u001b[0m\u001b[0;34m\u001b[0m\u001b[0m\n\u001b[1;32m    250\u001b[0m                     \u001b[0mself\u001b[0m\u001b[0;34m.\u001b[0m\u001b[0mkwargs\u001b[0m\u001b[0;34m[\u001b[0m\u001b[0mwidget\u001b[0m\u001b[0;34m.\u001b[0m\u001b[0m_kwarg\u001b[0m\u001b[0;34m]\u001b[0m \u001b[0;34m=\u001b[0m \u001b[0mvalue\u001b[0m\u001b[0;34m\u001b[0m\u001b[0;34m\u001b[0m\u001b[0m\n\u001b[0;32m--> 251\u001b[0;31m                 \u001b[0mself\u001b[0m\u001b[0;34m.\u001b[0m\u001b[0mresult\u001b[0m \u001b[0;34m=\u001b[0m \u001b[0mself\u001b[0m\u001b[0;34m.\u001b[0m\u001b[0mf\u001b[0m\u001b[0;34m(\u001b[0m\u001b[0;34m**\u001b[0m\u001b[0mself\u001b[0m\u001b[0;34m.\u001b[0m\u001b[0mkwargs\u001b[0m\u001b[0;34m)\u001b[0m\u001b[0;34m\u001b[0m\u001b[0;34m\u001b[0m\u001b[0m\n\u001b[0m\u001b[1;32m    252\u001b[0m                 \u001b[0mshow_inline_matplotlib_plots\u001b[0m\u001b[0;34m(\u001b[0m\u001b[0;34m)\u001b[0m\u001b[0;34m\u001b[0m\u001b[0;34m\u001b[0m\u001b[0m\n\u001b[1;32m    253\u001b[0m                 \u001b[0;32mif\u001b[0m \u001b[0mself\u001b[0m\u001b[0;34m.\u001b[0m\u001b[0mauto_display\u001b[0m \u001b[0;32mand\u001b[0m \u001b[0mself\u001b[0m\u001b[0;34m.\u001b[0m\u001b[0mresult\u001b[0m \u001b[0;32mis\u001b[0m \u001b[0;32mnot\u001b[0m \u001b[0;32mNone\u001b[0m\u001b[0;34m:\u001b[0m\u001b[0;34m\u001b[0m\u001b[0;34m\u001b[0m\u001b[0m\n",
          "\u001b[0;32m<ipython-input-59-a0d10772dc40>\u001b[0m in \u001b[0;36mplot_mobilty\u001b[0;34m(c)\u001b[0m\n\u001b[1;32m      2\u001b[0m     sy.plot(Y.subs({m:1,s:1,c:c}),\n\u001b[1;32m      3\u001b[0m             \u001b[0;34m(\u001b[0m\u001b[0mom\u001b[0m\u001b[0;34m,\u001b[0m\u001b[0;36m0\u001b[0m\u001b[0;34m,\u001b[0m\u001b[0;36m5\u001b[0m\u001b[0;34m)\u001b[0m\u001b[0;34m,\u001b[0m\u001b[0;34m\u001b[0m\u001b[0;34m\u001b[0m\u001b[0m\n\u001b[0;32m----> 4\u001b[0;31m             \u001b[0mtitle\u001b[0m\u001b[0;34m=\u001b[0m\u001b[0;34mr'$c$=%.2f'\u001b[0m \u001b[0;34m%\u001b[0m \u001b[0mc\u001b[0m\u001b[0;34m\u001b[0m\u001b[0;34m\u001b[0m\u001b[0m\n\u001b[0m\u001b[1;32m      5\u001b[0m            )\n\u001b[1;32m      6\u001b[0m \u001b[0mipw\u001b[0m\u001b[0;34m.\u001b[0m\u001b[0minteract\u001b[0m\u001b[0;34m(\u001b[0m\u001b[0mplot_mobilty\u001b[0m\u001b[0;34m,\u001b[0m\u001b[0mc\u001b[0m\u001b[0;34m=\u001b[0m\u001b[0;34m(\u001b[0m\u001b[0;36m0.01\u001b[0m\u001b[0;34m,\u001b[0m\u001b[0;36m0.3\u001b[0m\u001b[0;34m,\u001b[0m\u001b[0;36m0.01\u001b[0m\u001b[0;34m)\u001b[0m\u001b[0;34m)\u001b[0m\u001b[0;34m;\u001b[0m\u001b[0;34m\u001b[0m\u001b[0;34m\u001b[0m\u001b[0m\n",
          "\u001b[0;32m~/anaconda3/envs/sbs/lib/python3.7/site-packages/sympy/plotting/plot.py\u001b[0m in \u001b[0;36mplot\u001b[0;34m(*args, **kwargs)\u001b[0m\n\u001b[1;32m   1351\u001b[0m             \u001b[0;32mif\u001b[0m \u001b[0mlen\u001b[0m\u001b[0;34m(\u001b[0m\u001b[0mfree\u001b[0m\u001b[0;34m)\u001b[0m \u001b[0;34m>\u001b[0m \u001b[0;36m1\u001b[0m\u001b[0;34m:\u001b[0m\u001b[0;34m\u001b[0m\u001b[0;34m\u001b[0m\u001b[0m\n\u001b[1;32m   1352\u001b[0m                 raise ValueError(\n\u001b[0;32m-> 1353\u001b[0;31m                     \u001b[0;34m'The same variable should be used in all '\u001b[0m\u001b[0;34m\u001b[0m\u001b[0;34m\u001b[0m\u001b[0m\n\u001b[0m\u001b[1;32m   1354\u001b[0m                     'univariate expressions being plotted.')\n\u001b[1;32m   1355\u001b[0m     \u001b[0mx\u001b[0m \u001b[0;34m=\u001b[0m \u001b[0mfree\u001b[0m\u001b[0;34m.\u001b[0m\u001b[0mpop\u001b[0m\u001b[0;34m(\u001b[0m\u001b[0;34m)\u001b[0m \u001b[0;32mif\u001b[0m \u001b[0mfree\u001b[0m \u001b[0;32melse\u001b[0m \u001b[0mSymbol\u001b[0m\u001b[0;34m(\u001b[0m\u001b[0;34m'x'\u001b[0m\u001b[0;34m)\u001b[0m\u001b[0;34m\u001b[0m\u001b[0;34m\u001b[0m\u001b[0m\n",
          "\u001b[0;31mValueError\u001b[0m: The same variable should be used in all univariate expressions being plotted."
         ]
        }
       ]
      }
     },
     "14dfb6ea6cbf4f93a998aba662044aa5": {
      "model_module": "@jupyter-widgets/controls",
      "model_module_version": "1.5.0",
      "model_name": "VBoxModel",
      "state": {
       "_dom_classes": [
        "widget-interact"
       ],
       "children": [
        "IPY_MODEL_61ad10717ea54d6dad13b742d129242d",
        "IPY_MODEL_13b2c12e3c5f4fb981849cae51bf7431"
       ],
       "layout": "IPY_MODEL_844519368d1d428bad4ef538c1422fdb"
      }
     },
     "150a70f60dec492a9985c6877ead3fbb": {
      "model_module": "@jupyter-widgets/controls",
      "model_module_version": "1.5.0",
      "model_name": "VBoxModel",
      "state": {
       "_dom_classes": [
        "widget-interact"
       ],
       "children": [
        "IPY_MODEL_322538dd37894183b567702759bae88b",
        "IPY_MODEL_41281394dfbe4492af8563ebc5f96b5e"
       ],
       "layout": "IPY_MODEL_c983829f11cb4d9088992461f4dce57a"
      }
     },
     "151e5dda46774747bab3e8e7608bf40d": {
      "model_module": "@jupyter-widgets/base",
      "model_module_version": "1.2.0",
      "model_name": "LayoutModel",
      "state": {}
     },
     "16ef12e353e94ff292a1ae95d58cc01d": {
      "model_module": "@jupyter-widgets/controls",
      "model_module_version": "1.5.0",
      "model_name": "VBoxModel",
      "state": {
       "_dom_classes": [
        "widget-interact"
       ],
       "children": [
        "IPY_MODEL_6187c9b77077499db2825012bd9b0b6a",
        "IPY_MODEL_0a0ab0924ce14acdbdfdc7258f090c5f",
        "IPY_MODEL_3ed0cbf8e33443bf81d65b5081c32e22",
        "IPY_MODEL_37a092d9498842aeb708502c9d85aa81"
       ],
       "layout": "IPY_MODEL_952f0e44bb1042cf8e8ebd816b47c702"
      }
     },
     "1703c0fe089747afbdc14697c4dec9b9": {
      "model_module": "@jupyter-widgets/controls",
      "model_module_version": "1.5.0",
      "model_name": "SliderStyleModel",
      "state": {
       "description_width": ""
      }
     },
     "17de62c9733c4dba9330f5621b255b85": {
      "model_module": "@jupyter-widgets/controls",
      "model_module_version": "1.5.0",
      "model_name": "FloatSliderModel",
      "state": {
       "description": "c_",
       "layout": "IPY_MODEL_de42778b860e4b73830836e7d9df97f7",
       "max": 1,
       "min": 0.1,
       "step": 0.1,
       "style": "IPY_MODEL_fcdae7e2820d4ca49a065f953df8dfc9",
       "value": 0.1
      }
     },
     "18dec08d0837497686c2a2047a78b3e0": {
      "model_module": "@jupyter-widgets/controls",
      "model_module_version": "1.5.0",
      "model_name": "SliderStyleModel",
      "state": {
       "description_width": ""
      }
     },
     "18fb57150033459b96880efc9620cc54": {
      "model_module": "@jupyter-widgets/controls",
      "model_module_version": "1.5.0",
      "model_name": "SliderStyleModel",
      "state": {
       "description_width": ""
      }
     },
     "196601ce9afe45669d92105b92cfeac9": {
      "model_module": "@jupyter-widgets/controls",
      "model_module_version": "1.5.0",
      "model_name": "FloatSliderModel",
      "state": {
       "description": "$\\epsilon_y$",
       "layout": "IPY_MODEL_285bd0c6907a40bea3d28d0a3ebbd1a9",
       "max": 0.4,
       "min": -0.4,
       "step": 0.1,
       "style": "IPY_MODEL_18dec08d0837497686c2a2047a78b3e0"
      }
     },
     "19ed3bc97e0d4dda8347589abfe34172": {
      "model_module": "@jupyter-widgets/controls",
      "model_module_version": "1.5.0",
      "model_name": "FloatSliderModel",
      "state": {
       "description": "$\\epsilon_y$",
       "layout": "IPY_MODEL_52f298acec18406889b6f734784a94c0",
       "max": 0.4,
       "min": -0.4,
       "step": 0.1,
       "style": "IPY_MODEL_41dd4b3a98034e82825962eabc1a2b22"
      }
     },
     "19f68fdc6592424fa261de5e97f658d8": {
      "model_module": "@jupyter-widgets/controls",
      "model_module_version": "1.5.0",
      "model_name": "FloatSliderModel",
      "state": {
       "description": "c_",
       "layout": "IPY_MODEL_f7629b27cc844dfa8a19db64ee977909",
       "max": 1,
       "min": 0.1,
       "step": 0.1,
       "style": "IPY_MODEL_5c1e801c4ebc41e6b07def74c1f498dd",
       "value": 1
      }
     },
     "1a340bc19e3c46f786fac704612857da": {
      "model_module": "@jupyter-widgets/base",
      "model_module_version": "1.2.0",
      "model_name": "LayoutModel",
      "state": {}
     },
     "1a487c95926e48698efbdc4fb8279842": {
      "model_module": "@jupyter-widgets/controls",
      "model_module_version": "1.5.0",
      "model_name": "FloatSliderModel",
      "state": {
       "description": "$\\epsilon_x$",
       "layout": "IPY_MODEL_bb6e8a20c0314a48a677448851c90316",
       "max": 0.4,
       "min": -0.4,
       "step": 0.1,
       "style": "IPY_MODEL_af3990d3b65c4f33b128f4dce1e63a29"
      }
     },
     "1a51a8befb9c49eb88785d098298af39": {
      "model_module": "@jupyter-widgets/base",
      "model_module_version": "1.2.0",
      "model_name": "LayoutModel",
      "state": {}
     },
     "1b1cba64b1584c0dbcfe935a59651fe9": {
      "model_module": "@jupyter-widgets/controls",
      "model_module_version": "1.5.0",
      "model_name": "SliderStyleModel",
      "state": {
       "description_width": ""
      }
     },
     "1b36313e93bc498a90205ca5b2a43de4": {
      "model_module": "@jupyter-widgets/controls",
      "model_module_version": "1.5.0",
      "model_name": "VBoxModel",
      "state": {
       "_dom_classes": [
        "widget-interact"
       ],
       "children": [
        "IPY_MODEL_d39490c6b5ff4bc6a2a707001fca17a5",
        "IPY_MODEL_f2e1920ca8754a3490d2eac42dde1bc7"
       ],
       "layout": "IPY_MODEL_d61f08e7280f480daa8338f6ebcca5ef"
      }
     },
     "1b790abeee31441ab7802aee9308f30e": {
      "model_module": "@jupyter-widgets/base",
      "model_module_version": "1.2.0",
      "model_name": "LayoutModel",
      "state": {}
     },
     "1b79ba7954f14779a6893b4f3651f248": {
      "model_module": "@jupyter-widgets/controls",
      "model_module_version": "1.5.0",
      "model_name": "FloatSliderModel",
      "state": {
       "description": "$\\epsilon_x$",
       "layout": "IPY_MODEL_0f5de1006a2f4ae3a17ae0a87367e14e",
       "max": 0.4,
       "min": -0.4,
       "step": 0.1,
       "style": "IPY_MODEL_acca383e575f40a6a530d5959b9e6565",
       "value": -0.2
      }
     },
     "1c1694d9867d40ba87c7831ea0296156": {
      "model_module": "@jupyter-widgets/controls",
      "model_module_version": "1.5.0",
      "model_name": "SliderStyleModel",
      "state": {
       "description_width": ""
      }
     },
     "1c9b9f5370884c0286086922d1aadf0a": {
      "model_module": "@jupyter-widgets/controls",
      "model_module_version": "1.5.0",
      "model_name": "SliderStyleModel",
      "state": {
       "description_width": ""
      }
     },
     "1d0da88d0b75472ba57353a0ce0eadf4": {
      "model_module": "@jupyter-widgets/controls",
      "model_module_version": "1.5.0",
      "model_name": "FloatSliderModel",
      "state": {
       "description": "$\\xi_1$",
       "layout": "IPY_MODEL_234bbaae4ae343d09af58870c14a3c96",
       "max": 0.2,
       "min": -0.2,
       "step": 0.1,
       "style": "IPY_MODEL_1703c0fe089747afbdc14697c4dec9b9"
      }
     },
     "1d54a6615ce7496dbc2595430203234d": {
      "model_module": "@jupyter-widgets/base",
      "model_module_version": "1.2.0",
      "model_name": "LayoutModel",
      "state": {}
     },
     "1d5875c1701446b2a3bb009149a7f16d": {
      "model_module": "@jupyter-widgets/controls",
      "model_module_version": "1.5.0",
      "model_name": "SliderStyleModel",
      "state": {
       "description_width": ""
      }
     },
     "1e0c0c24e8414fafae2e12ca195b91dc": {
      "model_module": "@jupyter-widgets/base",
      "model_module_version": "1.2.0",
      "model_name": "LayoutModel",
      "state": {}
     },
     "1e17ae2fbb4842be85e277bbf1c44605": {
      "model_module": "@jupyter-widgets/base",
      "model_module_version": "1.2.0",
      "model_name": "LayoutModel",
      "state": {}
     },
     "1e5615d4b3b94c48b0c1514b2fc2fc92": {
      "model_module": "@jupyter-widgets/base",
      "model_module_version": "1.2.0",
      "model_name": "LayoutModel",
      "state": {}
     },
     "1e9ae2ee402e4b4baff8eae6917da497": {
      "model_module": "@jupyter-widgets/controls",
      "model_module_version": "1.5.0",
      "model_name": "SliderStyleModel",
      "state": {
       "description_width": ""
      }
     },
     "1eca2c14d47940b8a53470140a2d5aa2": {
      "model_module": "@jupyter-widgets/controls",
      "model_module_version": "1.5.0",
      "model_name": "FloatSliderModel",
      "state": {
       "description": "c_",
       "layout": "IPY_MODEL_a0949e9f050145709fde638aa21d8981",
       "max": 1,
       "min": 0.1,
       "step": 0.1,
       "style": "IPY_MODEL_cdb165dd8c6d4061891cde9e9e92b25e",
       "value": 0.1
      }
     },
     "1f18d64a206d497b99d35b9426fe03e6": {
      "model_module": "@jupyter-widgets/base",
      "model_module_version": "1.2.0",
      "model_name": "LayoutModel",
      "state": {}
     },
     "206e0c4105a04a49840f29d4091d510f": {
      "model_module": "@jupyter-widgets/output",
      "model_module_version": "1.0.0",
      "model_name": "OutputModel",
      "state": {
       "layout": "IPY_MODEL_b4220358177d4e359ba41724c77eb2ee",
       "outputs": [
        {
         "data": {
          "image/png": "iVBORw0KGgoAAAANSUhEUgAAAOcAAADnCAYAAADl9EEgAAAABHNCSVQICAgIfAhkiAAAAAlwSFlzAAALEgAACxIB0t1+/AAAADh0RVh0U29mdHdhcmUAbWF0cGxvdGxpYiB2ZXJzaW9uMy4xLjAsIGh0dHA6Ly9tYXRwbG90bGliLm9yZy+17YcXAAAE20lEQVR4nO3dQY7USBRFUbvVKyLXhPeE10SuyT1xSikEWT3qeL/fOZLFAKswMjf9HQHFfl3XBuT5a/UFAL8nTgglTgglTgglTgglTgglTgglTgglTgglTgglTgglTgglTgglTgglTgglTgglTgglTgglTgglTgglTgglTgglTgglTgglTgglTgglTgglTgglTgglTgglTgglTgglTgglTgglTgglTgglTgglTgglTgglTgglTgglTgglTgglTgglTgglTgglTgglTgglTgglTgglTgglTgglTgglTgglTgglTgglTgglTgglTghVGee+79efju3teHw473g77/nhvP3++de5x4fzHr/8+p++5vl23vnFuf+X39PqPzf/tco4YYL9uuo+kLbz/hQ+rmtffS187fXUvMruV2Wc22tEKrvZU7XGaayFUH+vvoAVzvvHY+lV8G8VznbbtpWOta1j0lilryHGWgglTuI97qONsZZ4rffLkxNCiRNCiRNCVe5z9r1lM5EnJ4SqfHIyy/fVF7BI5VbK416af5YtzY9V+jeEKuNs3TcbqzRO75zEe95HG09O4rXeL09OCCVOCCVOCFW5z9m6b8YslQtCrUvzU1kQAqJUjrWvPbPGf10/0c/VF7BI5VjbOiaNVfoaYqyFUOIk3rF1fo9hYy3xWu+XJyeEEieEEieEqtznbN03Y5bKBaHWfbOpWheEKp+czPJt9QUsUvnkPO5P4rPsk3is0kmnMs7WMWms0jit1kIocRJvv4824oRQ4oRQ4oRQlfucrftmzFK5ldK6ND9V69aXsRZCVY61zPJj9QUsUjnWto5JY5W+hhhrIZQ4iXfeRxtjLfFa75cnJ4QSJ4QSJ4Sq3Ods3TdjlsoFodZ9s6ksCAFRKsfa155Z43+OM1HhbLdtW+lY2zomjVX6GmKshVDiJN7jPtoYa4nXer88OSGUOCGUOCFU5T5n31s2E3lyQqjKJyezfF99AYtUbqU87qX5Z9nS/Filf0OoMs7WfbOxSuP0zkm853208eQkXuv98uSEUOKEUOKEUJX7nK37ZsxSuSDUujQ/lQUhIErlWPvaM2v81/UT/Vx9AYtUjrWtY9JYpa8hxloIJU7iHVvn9xg21hKv9X55ckIocUIocUKoyn3O1n0zZqlcEGrdN5uqdUGo8snJLN9WX8AilU/O4/4kPss+iccqnXQq42wdk8YqjdNqLYQSJ/H2+2gjTgglTgglTghVuc/Zum/GLJVbKa1L81O1bn0ZayFU5VjLLD9WX8AilWNt65g0VulriLEWQomTeOd9tDHWEq/1fnlyQihxQihxQqjKOF/7Zvu+X787zn2/tvs4/3DO69jejseH8463855ffM3n27nHh/Mev/z6n77m5N/T0j8sC1XG2fit/ZmncrUWJqh8csIE4oRQ4oRQ4oRQ4oRQ4oRQ4oRQ4oRQ4oRQ4oRQ4oRQ4oRQ4oRQ4oRQ4oRQ4oRQ4oRQ4oRQ4oRQ4oRQ4oRQ4oRQ4oRQ4oRQ4oRQ4oRQ4oRQ4oRQ4oRQ4oRQ4oRQ4oRQ4oRQ4oRQ4oRQ4oRQ4oRQ4oRQ4oRQ4oRQ4oRQ4oRQ4oRQ4oRQ4oRQ4oRQ4oRQ4oRQ4oRQ4oRQ4oRQ4oRQ4oRQ4oRQ4oRQ4oRQ4oRQ4oRQ4oRQ4oRQ/wBcJkhFZOSdcQAAAABJRU5ErkJggg==\n",
          "text/plain": "<Figure size 432x288 with 1 Axes>"
         },
         "metadata": {
          "needs_background": "light"
         },
         "output_type": "display_data"
        }
       ]
      }
     },
     "2073816beed84a3098265586a3bebc9e": {
      "model_module": "@jupyter-widgets/base",
      "model_module_version": "1.2.0",
      "model_name": "LayoutModel",
      "state": {}
     },
     "20bd7f0de4074fcd918fee79818163e5": {
      "model_module": "@jupyter-widgets/controls",
      "model_module_version": "1.5.0",
      "model_name": "SliderStyleModel",
      "state": {
       "description_width": ""
      }
     },
     "213503ed8226436e8acb5fbe73bbaa61": {
      "model_module": "@jupyter-widgets/controls",
      "model_module_version": "1.5.0",
      "model_name": "FloatSliderModel",
      "state": {
       "description": "$\\xi_x$",
       "layout": "IPY_MODEL_91aab5c328ec409eb6566c2e388cfeaf",
       "max": 0.4,
       "min": -0.4,
       "step": 0.1,
       "style": "IPY_MODEL_5cc2cea1ff194c6189e9cb7999c6e1e5"
      }
     },
     "214c09c066b946c6a043107407ff9ebe": {
      "model_module": "@jupyter-widgets/controls",
      "model_module_version": "1.5.0",
      "model_name": "SliderStyleModel",
      "state": {
       "description_width": ""
      }
     },
     "21cfeb5eb478412aae74a0d4a47f20ba": {
      "model_module": "@jupyter-widgets/controls",
      "model_module_version": "1.5.0",
      "model_name": "FloatSliderModel",
      "state": {
       "description": "$\\chi_z$",
       "layout": "IPY_MODEL_2db0853f7d7f4a44839b97fb156b5075",
       "max": 0.4,
       "min": -0.4,
       "step": 0.1,
       "style": "IPY_MODEL_7f3d6ebc95914b5891c7e9e8249cb177"
      }
     },
     "2229495b29d04a10a28b42e8ba235767": {
      "model_module": "@jupyter-widgets/controls",
      "model_module_version": "1.5.0",
      "model_name": "VBoxModel",
      "state": {
       "_dom_classes": [
        "widget-interact"
       ],
       "children": [
        "IPY_MODEL_deb65035581b4f4cae33a477a4e00547",
        "IPY_MODEL_dd11f8269131451eacb29de0197b23c0"
       ],
       "layout": "IPY_MODEL_d7e36b3fdc8248e8a20f6ccedf43db9c"
      }
     },
     "234bbaae4ae343d09af58870c14a3c96": {
      "model_module": "@jupyter-widgets/base",
      "model_module_version": "1.2.0",
      "model_name": "LayoutModel",
      "state": {}
     },
     "235ebc0bc8034a0eb86e193de7d4d917": {
      "model_module": "@jupyter-widgets/controls",
      "model_module_version": "1.5.0",
      "model_name": "SliderStyleModel",
      "state": {
       "description_width": ""
      }
     },
     "23abd1b3d8824f04bd09aeacfb24fb92": {
      "model_module": "@jupyter-widgets/base",
      "model_module_version": "1.2.0",
      "model_name": "LayoutModel",
      "state": {}
     },
     "23b0ba6f911349db8b54c5b52ca45209": {
      "model_module": "@jupyter-widgets/controls",
      "model_module_version": "1.5.0",
      "model_name": "FloatSliderModel",
      "state": {
       "description": "d",
       "layout": "IPY_MODEL_edb347a07fde4e71a514114db0205556",
       "max": 0.3,
       "min": 0.01,
       "step": 0.01,
       "style": "IPY_MODEL_3eceb58aa92e4138a6d6f360173ade3c",
       "value": 0.1
      }
     },
     "24b6101b13c744a887de42b7e742f827": {
      "model_module": "@jupyter-widgets/base",
      "model_module_version": "1.2.0",
      "model_name": "LayoutModel",
      "state": {}
     },
     "2557670d83684be4ba7dc5397c20bf56": {
      "model_module": "@jupyter-widgets/base",
      "model_module_version": "1.2.0",
      "model_name": "LayoutModel",
      "state": {}
     },
     "255aa7e2c2564f7f942db6aba3ed2752": {
      "model_module": "@jupyter-widgets/controls",
      "model_module_version": "1.5.0",
      "model_name": "FloatSliderModel",
      "state": {
       "description": "$\\xi_2$",
       "layout": "IPY_MODEL_513f706d50bd45c7bd7487a7cf846bcb",
       "max": 0.2,
       "min": -0.2,
       "step": 0.1,
       "style": "IPY_MODEL_664e7e9c99c749079ecd01112ad4c6df"
      }
     },
     "25923815a64d4d06889125d878b4ae47": {
      "model_module": "@jupyter-widgets/controls",
      "model_module_version": "1.5.0",
      "model_name": "FloatSliderModel",
      "state": {
       "description": "t",
       "layout": "IPY_MODEL_6b1734da00024bdba7a8d224fd39b28e",
       "max": 10,
       "step": 0.05,
       "style": "IPY_MODEL_a91a015b82d34312ab5fb3d92d74c271",
       "value": 5
      }
     },
     "25a98ab8d3a449bea92b5fa5d9d76268": {
      "model_module": "@jupyter-widgets/controls",
      "model_module_version": "1.5.0",
      "model_name": "SliderStyleModel",
      "state": {
       "description_width": ""
      }
     },
     "260680ec0dc54ec4bb08702ab3c85c37": {
      "model_module": "@jupyter-widgets/controls",
      "model_module_version": "1.5.0",
      "model_name": "FloatSliderModel",
      "state": {
       "description": "$\\chi$",
       "layout": "IPY_MODEL_f121c3f7d5c843deba2e1a68e382b192",
       "max": 0.4,
       "min": -0.4,
       "step": 0.1,
       "style": "IPY_MODEL_7b7f127491a846318d082d283697f584"
      }
     },
     "262b6819ec454f608ef17324efb22f38": {
      "model_module": "@jupyter-widgets/controls",
      "model_module_version": "1.5.0",
      "model_name": "DescriptionStyleModel",
      "state": {
       "description_width": ""
      }
     },
     "265d5027b34d48c38a74314c71ddc526": {
      "model_module": "@jupyter-widgets/base",
      "model_module_version": "1.2.0",
      "model_name": "LayoutModel",
      "state": {}
     },
     "275d0a80567b4a49995a0239d3105ff8": {
      "model_module": "@jupyter-widgets/output",
      "model_module_version": "1.0.0",
      "model_name": "OutputModel",
      "state": {
       "layout": "IPY_MODEL_101ffe2c6cbb4b5e8321c8aba399e5a7",
       "outputs": [
        {
         "data": {
          "image/png": "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\n",
          "text/plain": "<Figure size 432x288 with 1 Axes>"
         },
         "metadata": {
          "needs_background": "light"
         },
         "output_type": "display_data"
        }
       ]
      }
     },
     "27610179cc404e41b9ef98bad118f214": {
      "model_module": "@jupyter-widgets/base",
      "model_module_version": "1.2.0",
      "model_name": "LayoutModel",
      "state": {}
     },
     "27717d9a0da3436a920680a6bcd0ed6b": {
      "model_module": "@jupyter-widgets/base",
      "model_module_version": "1.2.0",
      "model_name": "LayoutModel",
      "state": {}
     },
     "283c0d777b6f4242a03fc08c2c319ff4": {
      "model_module": "@jupyter-widgets/controls",
      "model_module_version": "1.5.0",
      "model_name": "SliderStyleModel",
      "state": {
       "description_width": ""
      }
     },
     "285bd0c6907a40bea3d28d0a3ebbd1a9": {
      "model_module": "@jupyter-widgets/base",
      "model_module_version": "1.2.0",
      "model_name": "LayoutModel",
      "state": {}
     },
     "28baff7962bd46dfae8efbdcb85ecd2f": {
      "model_module": "@jupyter-widgets/base",
      "model_module_version": "1.2.0",
      "model_name": "LayoutModel",
      "state": {}
     },
     "28e5bfc27a9048fd88e789033ae81100": {
      "model_module": "@jupyter-widgets/controls",
      "model_module_version": "1.5.0",
      "model_name": "VBoxModel",
      "state": {
       "_dom_classes": [
        "widget-interact"
       ],
       "children": [
        "IPY_MODEL_dc582efac2284b5ebc88d87a2d80c6d1",
        "IPY_MODEL_efdde183f0044c2fbfce3a7096c7a86c"
       ],
       "layout": "IPY_MODEL_1f18d64a206d497b99d35b9426fe03e6"
      }
     },
     "290647553a374c5e96a193f2ee02a6b3": {
      "model_module": "@jupyter-widgets/base",
      "model_module_version": "1.2.0",
      "model_name": "LayoutModel",
      "state": {}
     },
     "291988f0f82f4409997a83fe71e32ecd": {
      "model_module": "@jupyter-widgets/controls",
      "model_module_version": "1.5.0",
      "model_name": "FloatSliderModel",
      "state": {
       "description": "mi",
       "layout": "IPY_MODEL_8421656118af4efc914cd5e5f6085baa",
       "max": 2,
       "min": 0.1,
       "step": 0.1,
       "style": "IPY_MODEL_84643a4283084cea85605c8fc0c3d677",
       "value": 1
      }
     },
     "2927bd7861c24f2483bafc92af98dd78": {
      "model_module": "@jupyter-widgets/controls",
      "model_module_version": "1.5.0",
      "model_name": "FloatSliderModel",
      "state": {
       "description": "$\\chi_z$",
       "layout": "IPY_MODEL_6d1086c5cf1f466090063e18c304d1f4",
       "max": 0.4,
       "min": -0.4,
       "step": 0.1,
       "style": "IPY_MODEL_f3d835d3c7424661ae17265fc7f220a9"
      }
     },
     "297ca7e6a3c9443f926d79bdab91c281": {
      "model_module": "@jupyter-widgets/controls",
      "model_module_version": "1.5.0",
      "model_name": "FloatSliderModel",
      "state": {
       "description": "d",
       "layout": "IPY_MODEL_a8636844f1604ae6a1f54acaf61aa90f",
       "max": 0.3,
       "min": 0.01,
       "step": 0.01,
       "style": "IPY_MODEL_e150d858ca4945fe8b4931aea576a5f3",
       "value": 0.06
      }
     },
     "2a0478a577914178b9f5ece13dd5b676": {
      "model_module": "@jupyter-widgets/base",
      "model_module_version": "1.2.0",
      "model_name": "LayoutModel",
      "state": {}
     },
     "2a170cae608449099f8b2e278f78223c": {
      "model_module": "@jupyter-widgets/controls",
      "model_module_version": "1.5.0",
      "model_name": "VBoxModel",
      "state": {
       "_dom_classes": [
        "widget-interact"
       ],
       "children": [
        "IPY_MODEL_352d5e3cde6f4b87966b46f0efc59af2",
        "IPY_MODEL_802b36fec31249359fe47b41087efee9",
        "IPY_MODEL_418bccfc42c34dee8da9e7456d7a1881",
        "IPY_MODEL_818bb10ec6984b729006b0b54e60b6d6"
       ],
       "layout": "IPY_MODEL_4b1f136a43d74d4c9fff7e52c996bef1"
      }
     },
     "2aa35cba128f4c94bb2d2132900c30dc": {
      "model_module": "@jupyter-widgets/controls",
      "model_module_version": "1.5.0",
      "model_name": "FloatSliderModel",
      "state": {
       "description": "cc",
       "layout": "IPY_MODEL_265d5027b34d48c38a74314c71ddc526",
       "max": 1,
       "min": 0.1,
       "step": 0.1,
       "style": "IPY_MODEL_7e8dee98b0654a0b8940e841024be9d1",
       "value": 0.2
      }
     },
     "2ad777b2350244b88ce2ba730b2c673d": {
      "model_module": "@jupyter-widgets/base",
      "model_module_version": "1.2.0",
      "model_name": "LayoutModel",
      "state": {}
     },
     "2b1efa3c6d65494cabae54f533f36c7a": {
      "model_module": "@jupyter-widgets/base",
      "model_module_version": "1.2.0",
      "model_name": "LayoutModel",
      "state": {}
     },
     "2b2a9cadf989463c8abfbef256df01e4": {
      "model_module": "@jupyter-widgets/controls",
      "model_module_version": "1.5.0",
      "model_name": "SliderStyleModel",
      "state": {
       "description_width": ""
      }
     },
     "2b806146101e4484900af20899d342f9": {
      "model_module": "@jupyter-widgets/base",
      "model_module_version": "1.2.0",
      "model_name": "LayoutModel",
      "state": {}
     },
     "2bf2cb9455be42e4b8cbf89f1d4d8379": {
      "model_module": "@jupyter-widgets/controls",
      "model_module_version": "1.5.0",
      "model_name": "FloatSliderModel",
      "state": {
       "description": "$\\epsilon_y$",
       "layout": "IPY_MODEL_aa5d108dc8c94d00a47b87dc887bc3d1",
       "max": 0.4,
       "min": -0.4,
       "step": 0.1,
       "style": "IPY_MODEL_73f309ff15604abba17e10dc2c72b012"
      }
     },
     "2cae40b656144e9eac1d8ae29bb5ce7e": {
      "model_module": "@jupyter-widgets/controls",
      "model_module_version": "1.5.0",
      "model_name": "SliderStyleModel",
      "state": {
       "description_width": ""
      }
     },
     "2cb146ecefd34b86a87da84655268206": {
      "model_module": "@jupyter-widgets/base",
      "model_module_version": "1.2.0",
      "model_name": "LayoutModel",
      "state": {}
     },
     "2d4ff461f678403984a97060d993e167": {
      "model_module": "@jupyter-widgets/controls",
      "model_module_version": "1.5.0",
      "model_name": "FloatSliderModel",
      "state": {
       "description": "$\\gamma_{xy}$",
       "layout": "IPY_MODEL_59cdd0d184b141188ba11bc7de4c5f23",
       "max": 0.4,
       "min": -0.4,
       "step": 0.1,
       "style": "IPY_MODEL_3d2fc39720974c52b19486aefa84152a"
      }
     },
     "2db0853f7d7f4a44839b97fb156b5075": {
      "model_module": "@jupyter-widgets/base",
      "model_module_version": "1.2.0",
      "model_name": "LayoutModel",
      "state": {}
     },
     "2df6aacbc50e473c999d7faf30267428": {
      "model_module": "@jupyter-widgets/base",
      "model_module_version": "1.2.0",
      "model_name": "LayoutModel",
      "state": {}
     },
     "2e60b537e5ed43f9ade8dcf42b4eacc4": {
      "model_module": "@jupyter-widgets/base",
      "model_module_version": "1.2.0",
      "model_name": "LayoutModel",
      "state": {}
     },
     "2f48d2baa22c48f2b56f1940d7f62d81": {
      "model_module": "@jupyter-widgets/base",
      "model_module_version": "1.2.0",
      "model_name": "LayoutModel",
      "state": {}
     },
     "31055b3a569d47549590f6ab211e9ab1": {
      "model_module": "@jupyter-widgets/controls",
      "model_module_version": "1.5.0",
      "model_name": "CheckboxModel",
      "state": {
       "description": "longitudinal",
       "disabled": false,
       "layout": "IPY_MODEL_f13955716f2248929bcee5d24638d179",
       "style": "IPY_MODEL_f3ece0f922a94151aa2b4ce366f711dd",
       "value": false
      }
     },
     "322538dd37894183b567702759bae88b": {
      "model_module": "@jupyter-widgets/controls",
      "model_module_version": "1.5.0",
      "model_name": "FloatSliderModel",
      "state": {
       "description": "eps1",
       "layout": "IPY_MODEL_b9fd200017d445a9bd36e29cd206ddfc",
       "max": 0.2,
       "min": -0.2,
       "step": 0.1,
       "style": "IPY_MODEL_13845ecc27f649a09564bce63c9c202d"
      }
     },
     "3231c8746545489a9bcf031616c1c1fc": {
      "model_module": "@jupyter-widgets/controls",
      "model_module_version": "1.5.0",
      "model_name": "FloatSliderModel",
      "state": {
       "description": "$\\xi_x$",
       "layout": "IPY_MODEL_fdb9932037214fb7aec7e0db2f10f3a2",
       "max": 0.4,
       "min": -0.4,
       "step": 0.1,
       "style": "IPY_MODEL_70fbc145509a4b6a8f0a6814004cdcc2"
      }
     },
     "3259b5f128b44bff971351e385ab12a6": {
      "model_module": "@jupyter-widgets/controls",
      "model_module_version": "1.5.0",
      "model_name": "DescriptionStyleModel",
      "state": {
       "description_width": ""
      }
     },
     "3286b51411734b5fb2c099101046905a": {
      "model_module": "@jupyter-widgets/base",
      "model_module_version": "1.2.0",
      "model_name": "LayoutModel",
      "state": {}
     },
     "329f8b858f364b1a9800a700aeb61d87": {
      "model_module": "@jupyter-widgets/base",
      "model_module_version": "1.2.0",
      "model_name": "LayoutModel",
      "state": {}
     },
     "3300168c9b544d6da2def1abb3ec94e7": {
      "model_module": "@jupyter-widgets/controls",
      "model_module_version": "1.5.0",
      "model_name": "FloatSliderModel",
      "state": {
       "description": "si",
       "layout": "IPY_MODEL_1a340bc19e3c46f786fac704612857da",
       "max": 2,
       "min": 0.1,
       "step": 0.1,
       "style": "IPY_MODEL_02bba1a1d59042c49b389e85eb89e255",
       "value": 1
      }
     },
     "34849acf7aa849418ce6dc4331e2db89": {
      "model_module": "@jupyter-widgets/base",
      "model_module_version": "1.2.0",
      "model_name": "LayoutModel",
      "state": {}
     },
     "34aa89a0aedc486c8cbb85c3a7dc96f3": {
      "model_module": "@jupyter-widgets/output",
      "model_module_version": "1.0.0",
      "model_name": "OutputModel",
      "state": {
       "layout": "IPY_MODEL_8b7dc1f8a57146799a5dde68e42b44b8",
       "outputs": [
        {
         "data": {
          "image/png": "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\n",
          "text/plain": "<Figure size 432x288 with 1 Axes>"
         },
         "metadata": {
          "needs_background": "light"
         },
         "output_type": "display_data"
        }
       ]
      }
     },
     "350241bea35b47418ad3f55563af8496": {
      "model_module": "@jupyter-widgets/controls",
      "model_module_version": "1.5.0",
      "model_name": "FloatSliderModel",
      "state": {
       "description": "$\\xi_y$",
       "layout": "IPY_MODEL_436fd122e8154197ab9830cac661fd8a",
       "max": 0.4,
       "min": -0.4,
       "step": 0.1,
       "style": "IPY_MODEL_ffa1b1bc84074bb1bbeb7f04648a0d95"
      }
     },
     "352d5e3cde6f4b87966b46f0efc59af2": {
      "model_module": "@jupyter-widgets/controls",
      "model_module_version": "1.5.0",
      "model_name": "CheckboxModel",
      "state": {
       "description": "longitudinal",
       "disabled": false,
       "layout": "IPY_MODEL_7c6e71c1bc1e478bad5d44f187a5c1aa",
       "style": "IPY_MODEL_262b6819ec454f608ef17324efb22f38",
       "value": true
      }
     },
     "3621abeececa44549fef8983e8355478": {
      "model_module": "@jupyter-widgets/base",
      "model_module_version": "1.2.0",
      "model_name": "LayoutModel",
      "state": {}
     },
     "37822da51eae421db8133eea2c32616e": {
      "model_module": "@jupyter-widgets/controls",
      "model_module_version": "1.5.0",
      "model_name": "VBoxModel",
      "state": {
       "_dom_classes": [
        "widget-interact"
       ],
       "children": [
        "IPY_MODEL_3fbd4de301ec4e33a27aa424adece337",
        "IPY_MODEL_a48b0a2030ac4e9d9a13613180fc8862",
        "IPY_MODEL_b6e0cd323a6a457d9b8b25a141749be3",
        "IPY_MODEL_f09e0bc089c744ba8873332aed421685"
       ],
       "layout": "IPY_MODEL_12530975c6534f0a93c19f0cd4d29667"
      }
     },
     "37a092d9498842aeb708502c9d85aa81": {
      "model_module": "@jupyter-widgets/output",
      "model_module_version": "1.0.0",
      "model_name": "OutputModel",
      "state": {
       "layout": "IPY_MODEL_40d80360f280471d8e0dc7862341445c",
       "outputs": [
        {
         "data": {
          "image/png": "iVBORw0KGgoAAAANSUhEUgAAAV0AAADnCAYAAAC9roUQAAAABHNCSVQICAgIfAhkiAAAAAlwSFlzAAALEgAACxIB0t1+/AAAADh0RVh0U29mdHdhcmUAbWF0cGxvdGxpYiB2ZXJzaW9uMy4xLjAsIGh0dHA6Ly9tYXRwbG90bGliLm9yZy+17YcXAAAD00lEQVR4nO3dQUosQRBF0Z8f97/lcuK0C9TwWpmeM5WHObo0jRjruq5/ADT+//YDAP4S0QUIiS5ASHQBQqILEHq7++Fay582AHzSdV3r1c9uo/sx/tIvXWvZ2//J/c5vt5/bv+LrBYCQ6AKERBcgJLoAIdEFCIkuQEh0AUKiCxASXYCQ6AKERBcgJLoAIdEFCIkuQEh0AUKiCxASXYDQuvvv6M71AHze3bken3QBQm6k2dsP73d+u70baQBHEV2AkOgChEQXICS6ACHRBQiJLkBIdAFCogsQEl2AkOgChEQXICS6ACHRBQiJLkBIdAFCogsQciMNYJgbaQAP4Uaavf3wfue327uRBnAU0QUIiS5ASHQBQqILEBJdgJDoAoREFyAkugAh0QUIiS5ASHQBQqILEBJdgJDoAoREFyAkugAhN9IAhrmRBvAQbqTZ2w/vd367vRtpAEcRXYCQ6AKERBcgJLoAIdEFCIkuQEh0AUKiCxASXYCQ6AKERBcgJLoAIdEFCIkuQEh0AULO9QAMc64H4CGc67G3H97v/HZ753oAjiK6ACHRBQiJLkBIdAFCogsQEl2AkOgChEQXICS6ACHRBQiJLkBIdAFCogsQEl2AkOgChEQXIORGGsAwN9IAHsKNNHv74f3Ob7d3Iw3gKKILEBJdgJDoAoREFyAkugAh0QUIiS5ASHQBQqILEBJdgJDoAoREFyAkugAh0QUIiS5ASHQBQm6kAQxzIw3gIdxIs//R/Xf99vvdSLP/6v4Vn3QBQqILEBJdgJDoAoREFyAkugAh0QUIiS5ASHQBQqILEBJdgJDoAoREFyAkugAh0QUIiS5ASHQBQm6kAQxzIw3gIdxIs7cf3u/8dns30gCOIroAIdEFCIkuQEh0AUKiCxASXYCQ6AKERBcgJLoAIdEFCIkuQEh0AUKiCxASXYCQ6AKERBcg5EYawLC7G2nO9djbD+93fru9cz0ARxFdgJDoAoREFyAkugAh0QUIiS5ASHQBQqILEBJdgJDoAoREFyAkugAh0QUIiS5ASHQBQqILEHKuB2DY3bken3QBQm6k2dsP73d+u70baQBHEV2AkOgChEQXICS6ACHRBQiJLkBIdAFCogsQEl2AkOgChEQXICS6ACHRBQiJLkBIdAFCogsQciMNYJgbaQAP4Uaavf3wfue327uRBnAU0QUIiS5ASHQBQqILEBJdgJDoAoREFyAkugAh0QUIiS5ASHQBQqILEBJdgJDoAoREFyAkugAhN9IAht3dSLuNLgCzfL0AEBJdgJDoAoREFyAkugAh0QUIvQORXArg8269EAAAAABJRU5ErkJggg==\n",
          "text/plain": "<Figure size 432x288 with 1 Axes>"
         },
         "metadata": {
          "needs_background": "light"
         },
         "output_type": "display_data"
        }
       ]
      }
     },
     "37dff8381f834c0598fad721cd704bc1": {
      "model_module": "@jupyter-widgets/output",
      "model_module_version": "1.0.0",
      "model_name": "OutputModel",
      "state": {
       "layout": "IPY_MODEL_cc3a0c2f60cd473c8790ec22a604ca56",
       "outputs": [
        {
         "data": {
          "image/png": "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\n",
          "text/plain": "<Figure size 432x288 with 1 Axes>"
         },
         "metadata": {
          "needs_background": "light"
         },
         "output_type": "display_data"
        }
       ]
      }
     },
     "3801558b42134fba80f2480247266b13": {
      "model_module": "@jupyter-widgets/controls",
      "model_module_version": "1.5.0",
      "model_name": "VBoxModel",
      "state": {
       "_dom_classes": [
        "widget-interact"
       ],
       "children": [
        "IPY_MODEL_31055b3a569d47549590f6ab211e9ab1",
        "IPY_MODEL_cbaf48fd52ef4dd3a18bcfbd3ab29a84",
        "IPY_MODEL_6ca53c31afc54d48bc8dde2e812e68a7",
        "IPY_MODEL_97d1eedcf1394e2b87b3df2c896112fa"
       ],
       "layout": "IPY_MODEL_6694525b32814bbd908d2a6b80379ebc"
      }
     },
     "380800683f664f61aa12dd875726786a": {
      "model_module": "@jupyter-widgets/controls",
      "model_module_version": "1.5.0",
      "model_name": "SliderStyleModel",
      "state": {
       "description_width": ""
      }
     },
     "3a4e69303ebe4ca19a6223b5ae848453": {
      "model_module": "@jupyter-widgets/controls",
      "model_module_version": "1.5.0",
      "model_name": "FloatSliderModel",
      "state": {
       "description": "$\\xi_y$",
       "layout": "IPY_MODEL_55cc78eb926d4fb4954aa6766f204ac2",
       "max": 0.4,
       "min": -0.4,
       "step": 0.1,
       "style": "IPY_MODEL_598929ebb71e4069939b0232bb5d324c"
      }
     },
     "3bbbe81e20394da19d5e5878ca5860a5": {
      "model_module": "@jupyter-widgets/output",
      "model_module_version": "1.0.0",
      "model_name": "OutputModel",
      "state": {
       "layout": "IPY_MODEL_6bca58bc64504e2687282e3c40c97254",
       "outputs": [
        {
         "data": {
          "image/png": "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\n",
          "text/plain": "<Figure size 432x288 with 1 Axes>"
         },
         "metadata": {
          "needs_background": "light"
         },
         "output_type": "display_data"
        }
       ]
      }
     },
     "3c440dc7175c47689c85ee996a9b1a21": {
      "model_module": "@jupyter-widgets/base",
      "model_module_version": "1.2.0",
      "model_name": "LayoutModel",
      "state": {}
     },
     "3c812c78c694437b8a6d7ec132eb87bf": {
      "model_module": "@jupyter-widgets/base",
      "model_module_version": "1.2.0",
      "model_name": "LayoutModel",
      "state": {}
     },
     "3d2b4e7497b04965934d25dc7047a693": {
      "model_module": "@jupyter-widgets/controls",
      "model_module_version": "1.5.0",
      "model_name": "FloatSliderModel",
      "state": {
       "description": "ci",
       "layout": "IPY_MODEL_d3765045572e427eaa6d189b253ae723",
       "max": 1,
       "min": 0.1,
       "step": 0.1,
       "style": "IPY_MODEL_2b2a9cadf989463c8abfbef256df01e4",
       "value": 0.1
      }
     },
     "3d2fc39720974c52b19486aefa84152a": {
      "model_module": "@jupyter-widgets/controls",
      "model_module_version": "1.5.0",
      "model_name": "SliderStyleModel",
      "state": {
       "description_width": ""
      }
     },
     "3d517908cf6843a8b3d748005b3b6775": {
      "model_module": "@jupyter-widgets/base",
      "model_module_version": "1.2.0",
      "model_name": "LayoutModel",
      "state": {}
     },
     "3d8ea63429824651ad1ef3b8c74e1e9c": {
      "model_module": "@jupyter-widgets/controls",
      "model_module_version": "1.5.0",
      "model_name": "SliderStyleModel",
      "state": {
       "description_width": ""
      }
     },
     "3eceb58aa92e4138a6d6f360173ade3c": {
      "model_module": "@jupyter-widgets/controls",
      "model_module_version": "1.5.0",
      "model_name": "SliderStyleModel",
      "state": {
       "description_width": ""
      }
     },
     "3ed0cbf8e33443bf81d65b5081c32e22": {
      "model_module": "@jupyter-widgets/controls",
      "model_module_version": "1.5.0",
      "model_name": "FloatSliderModel",
      "state": {
       "description": "t",
       "layout": "IPY_MODEL_2e60b537e5ed43f9ade8dcf42b4eacc4",
       "max": 10,
       "step": 0.05,
       "style": "IPY_MODEL_43d8f6fc536b4fb7a2dbf7f7166c06cc",
       "value": 5
      }
     },
     "3ef77fa0c9ca41198d7508bc2e22c09b": {
      "model_module": "@jupyter-widgets/controls",
      "model_module_version": "1.5.0",
      "model_name": "DescriptionStyleModel",
      "state": {
       "description_width": ""
      }
     },
     "3f02cccc39044c4fa9c870a2fc425b6f": {
      "model_module": "@jupyter-widgets/controls",
      "model_module_version": "1.5.0",
      "model_name": "SliderStyleModel",
      "state": {
       "description_width": ""
      }
     },
     "3fbd4de301ec4e33a27aa424adece337": {
      "model_module": "@jupyter-widgets/controls",
      "model_module_version": "1.5.0",
      "model_name": "FloatSliderModel",
      "state": {
       "description": "mi",
       "layout": "IPY_MODEL_af709f8935484193a7b7da0a778e1c98",
       "max": 2,
       "min": 0.1,
       "step": 0.1,
       "style": "IPY_MODEL_b0a5f88c9717436791d0c3639046e970",
       "value": 1
      }
     },
     "406635a9ceae4eb78978f1c03767fa32": {
      "model_module": "@jupyter-widgets/controls",
      "model_module_version": "1.5.0",
      "model_name": "SliderStyleModel",
      "state": {
       "description_width": ""
      }
     },
     "40d80360f280471d8e0dc7862341445c": {
      "model_module": "@jupyter-widgets/base",
      "model_module_version": "1.2.0",
      "model_name": "LayoutModel",
      "state": {}
     },
     "41281394dfbe4492af8563ebc5f96b5e": {
      "model_module": "@jupyter-widgets/output",
      "model_module_version": "1.0.0",
      "model_name": "OutputModel",
      "state": {
       "layout": "IPY_MODEL_4798b25797fc4236b3693c6118a3408d",
       "outputs": [
        {
         "data": {
          "image/png": "iVBORw0KGgoAAAANSUhEUgAAAOcAAADnCAYAAADl9EEgAAAABHNCSVQICAgIfAhkiAAAAAlwSFlzAAALEgAACxIB0t1+/AAAADh0RVh0U29mdHdhcmUAbWF0cGxvdGxpYiB2ZXJzaW9uMy4xLjAsIGh0dHA6Ly9tYXRwbG90bGliLm9yZy+17YcXAAAEwElEQVR4nO3aUW4cRRhGUQ9iRZgt4T3hNeE1DQ+0wQqJ8dvc4jtHakWKOk5Hlav+q2Zu9/v9Cej56dEPAHyfOCFKnBAlTogSJ0SJE6LECVHihChxQpQ4IUqcECVOiBInRIkTosQJUeKEKHFClDghSpwQJU6IEidEiROixAlR4oQocUKUOCFKnBAlTogSJ0SJE6LECVHihChxQpQ4IUqcECVOiBInRIkTosQJUeKEKHFClDghSpwQJU6IEidEiROixAlR4oQocUKUOCFKnBAlTogSJ0RNxnm73e7X9fLh914+/P6/rm/+/Nsn975+uO/5s595u92eP9z7+sl9bz94/u9d/+t/05LJOOEEt/v9/t93/c+8vzXu9/vt0c8CP+LNSd41ns+Ntt6c5K2ulzcnRP386Ad4qG9OLKFkMk5FcoLJOP82toc51uiEY88JUZNxPl8XlPkohb73sXZsvSbfnHACcUKUOMlbPSOw5yRvdb28OSFq8ksIvz36AeALJsfa1aP5UxlrgZTJON+uC8om95y/Xr8ODvRHWj0jmNxzru5hjjV6RjA51sIJxEne6hmBsZa81fXy5oQocULU5Ecpfzz6AeALJvecq0fzp7LnBFIm43y5LiibHGtXx6RTvV3r9Ty2XuKkb/SMYHKshROIk7zVMwJjLXmr6+XNCVGT3xD65dEPAF8wOdaunv6dylgLpIgToib3nO+z0eBAf6TVM4LJPefqHuZYo2cExlqIEidEiZO829M/5wRLxAlR4oSoyY9Sfn/0A8AXTH6Usno0f6rVj76MtRA1GefrdUHZ5Fi7Oiad6vVar5ex9RInfaNnBJNjLZxAnOStnhEYa8lbXS9vTogSJ0RNfn1vb5DnRN6cECVOiJqM8/m6oMxHKfT5hhBQIk6IEid5q2cE9pzkra6XNydETX5D6LdHPwB8weRYu3o0fypjLZAyGefbdUHZ5J7z1+vXwYH+SKtnBJN7ztU9zLFGzwgmx1o4gTjJWz0jMNaSt7pe3pwQJU6Imvwo5Y9HPwB8weSec/Vo/lT2nEDKZJwv1wVlk2Pt6ph0qrdrvZ7H1kuc9I2eEUyOtXACcZK3ekZgrCVvdb28OSFq8htCvzz6AeALJsfa1dO/UxlrgRRxQtTknvN9Nhoc6I+0ekYwuedc3cMca/SMwFgLUeKEKHGSd3v655xgiTghSpwQNflRyu+PfgD4gsmPUlaP5k+1+tGXsRaiJuN8vS4omxxrV8ekU71e6/Uytl7ipG/0jGByrIUTiJO81TMCYy15q+vlzQlR4oSoya/v7Q3ynGj2zXl7+msv873r9Xa7P13X6w/ueb+ePlzPn9z38uG+t//4mW8f7n355L7nb/7+z37myf+mR/9feZTZOKFu8rQWTuDNCVHihChxQpQ4IUqcECVOiBInRIkTosQJUeKEKHFClDghSpwQJU6IEidEiROixAlR4oQocUKUOCFKnBAlTogSJ0SJE6LECVHihChxQpQ4IUqcECVOiBInRIkTosQJUeKEKHFClDghSpwQJU6IEidEiROixAlR4oQocUKUOCFKnBAlTogSJ0SJE6LECVHihChxQpQ4IUqcECVOiBInRIkTosQJUeKEKHFClDgh6k8oFzK1xRrRzQAAAABJRU5ErkJggg==\n",
          "text/plain": "<Figure size 432x288 with 1 Axes>"
         },
         "metadata": {
          "needs_background": "light"
         },
         "output_type": "display_data"
        }
       ]
      }
     },
     "418bccfc42c34dee8da9e7456d7a1881": {
      "model_module": "@jupyter-widgets/controls",
      "model_module_version": "1.5.0",
      "model_name": "FloatSliderModel",
      "state": {
       "description": "t",
       "layout": "IPY_MODEL_2557670d83684be4ba7dc5397c20bf56",
       "max": 10,
       "step": 0.05,
       "style": "IPY_MODEL_f4d182cb81684a539a57ec1e4af01a2c",
       "value": 5
      }
     },
     "41dd4b3a98034e82825962eabc1a2b22": {
      "model_module": "@jupyter-widgets/controls",
      "model_module_version": "1.5.0",
      "model_name": "SliderStyleModel",
      "state": {
       "description_width": ""
      }
     },
     "426d2504caff466bb51b647c680b2399": {
      "model_module": "@jupyter-widgets/controls",
      "model_module_version": "1.5.0",
      "model_name": "SliderStyleModel",
      "state": {
       "description_width": ""
      }
     },
     "43252ab977cf431299bc58b56a620284": {
      "model_module": "@jupyter-widgets/controls",
      "model_module_version": "1.5.0",
      "model_name": "SliderStyleModel",
      "state": {
       "description_width": ""
      }
     },
     "433dee9b44c347bcb16b54756c048314": {
      "model_module": "@jupyter-widgets/controls",
      "model_module_version": "1.5.0",
      "model_name": "SliderStyleModel",
      "state": {
       "description_width": ""
      }
     },
     "436fd122e8154197ab9830cac661fd8a": {
      "model_module": "@jupyter-widgets/base",
      "model_module_version": "1.2.0",
      "model_name": "LayoutModel",
      "state": {}
     },
     "43d8f6fc536b4fb7a2dbf7f7166c06cc": {
      "model_module": "@jupyter-widgets/controls",
      "model_module_version": "1.5.0",
      "model_name": "SliderStyleModel",
      "state": {
       "description_width": ""
      }
     },
     "44d3fb83e16348aca2bbbedbd8c870e6": {
      "model_module": "@jupyter-widgets/base",
      "model_module_version": "1.2.0",
      "model_name": "LayoutModel",
      "state": {}
     },
     "4641042b19834dbfaf8b5a4f53dfdaaa": {
      "model_module": "@jupyter-widgets/base",
      "model_module_version": "1.2.0",
      "model_name": "LayoutModel",
      "state": {}
     },
     "46527814651c4210ae51054186b1f8e9": {
      "model_module": "@jupyter-widgets/base",
      "model_module_version": "1.2.0",
      "model_name": "LayoutModel",
      "state": {}
     },
     "46740e791bec4a43a0abdf24d64d1e80": {
      "model_module": "@jupyter-widgets/controls",
      "model_module_version": "1.5.0",
      "model_name": "FloatSliderModel",
      "state": {
       "description": "$\\xi_y$",
       "layout": "IPY_MODEL_a3408066e54b44acbace252a5b68b933",
       "max": 0.4,
       "min": -0.4,
       "step": 0.1,
       "style": "IPY_MODEL_43252ab977cf431299bc58b56a620284"
      }
     },
     "46fed345de98450aa1a1fc11abf17c91": {
      "model_module": "@jupyter-widgets/output",
      "model_module_version": "1.0.0",
      "model_name": "OutputModel",
      "state": {
       "layout": "IPY_MODEL_616b43969531405d95bc7f50739b5ed5",
       "outputs": [
        {
         "data": {
          "image/png": "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\n",
          "text/plain": "<Figure size 432x288 with 1 Axes>"
         },
         "metadata": {
          "needs_background": "light"
         },
         "output_type": "display_data"
        }
       ]
      }
     },
     "47465b7862d04090b0459dd55078e6c7": {
      "model_module": "@jupyter-widgets/base",
      "model_module_version": "1.2.0",
      "model_name": "LayoutModel",
      "state": {}
     },
     "47765fc9cf1446bc88a2f06fdf58d0ea": {
      "model_module": "@jupyter-widgets/controls",
      "model_module_version": "1.5.0",
      "model_name": "SliderStyleModel",
      "state": {
       "description_width": ""
      }
     },
     "4785531394224838b59c55a97be67ce8": {
      "model_module": "@jupyter-widgets/base",
      "model_module_version": "1.2.0",
      "model_name": "LayoutModel",
      "state": {}
     },
     "4798b25797fc4236b3693c6118a3408d": {
      "model_module": "@jupyter-widgets/base",
      "model_module_version": "1.2.0",
      "model_name": "LayoutModel",
      "state": {}
     },
     "48b29fd3392a475d983298c95ddaed1f": {
      "model_module": "@jupyter-widgets/controls",
      "model_module_version": "1.5.0",
      "model_name": "SliderStyleModel",
      "state": {
       "description_width": ""
      }
     },
     "48be685c297f4f898e97ea8fdf4a7227": {
      "model_module": "@jupyter-widgets/controls",
      "model_module_version": "1.5.0",
      "model_name": "SliderStyleModel",
      "state": {
       "description_width": ""
      }
     },
     "4930f450a2284db19d2adf2c8bc44a29": {
      "model_module": "@jupyter-widgets/controls",
      "model_module_version": "1.5.0",
      "model_name": "FloatSliderModel",
      "state": {
       "description": "c",
       "layout": "IPY_MODEL_a2f8c1b9e54243aa9776c792ba507f6c",
       "max": 0.3,
       "min": 0.01,
       "step": 0.01,
       "style": "IPY_MODEL_bcccf2b6c0f941898d81b362a2d4dfe1",
       "value": 0.1
      }
     },
     "499d659fb6e44dd3a86a05db35b727ec": {
      "model_module": "@jupyter-widgets/base",
      "model_module_version": "1.2.0",
      "model_name": "LayoutModel",
      "state": {}
     },
     "4b1f136a43d74d4c9fff7e52c996bef1": {
      "model_module": "@jupyter-widgets/base",
      "model_module_version": "1.2.0",
      "model_name": "LayoutModel",
      "state": {}
     },
     "4c1c493b20ba4375a260c97ee28bfc31": {
      "model_module": "@jupyter-widgets/base",
      "model_module_version": "1.2.0",
      "model_name": "LayoutModel",
      "state": {}
     },
     "4d882eeaf35b450093e6b7579b315494": {
      "model_module": "@jupyter-widgets/base",
      "model_module_version": "1.2.0",
      "model_name": "LayoutModel",
      "state": {}
     },
     "4dd3bff3e8214c9589710af7a08d7d1d": {
      "model_module": "@jupyter-widgets/controls",
      "model_module_version": "1.5.0",
      "model_name": "FloatSliderModel",
      "state": {
       "description": "mi",
       "layout": "IPY_MODEL_fd219845d8da4e4eb0fd6011fa6390e3",
       "max": 2,
       "min": 0.1,
       "step": 0.1,
       "style": "IPY_MODEL_c4da1c5a90d14ebb9874b230f9547417",
       "value": 1
      }
     },
     "4e9012be14c5422481a2990c627b8107": {
      "model_module": "@jupyter-widgets/controls",
      "model_module_version": "1.5.0",
      "model_name": "FloatSliderModel",
      "state": {
       "description": "$\\xi_x$",
       "layout": "IPY_MODEL_881b77268cda43b7a1009baeacbc8b40",
       "max": 0.4,
       "min": -0.4,
       "step": 0.1,
       "style": "IPY_MODEL_7abb11a7850140d1bceb06aebd3e292c"
      }
     },
     "4e94e8a5d8844e019e2212a668260013": {
      "model_module": "@jupyter-widgets/output",
      "model_module_version": "1.0.0",
      "model_name": "OutputModel",
      "state": {
       "layout": "IPY_MODEL_23abd1b3d8824f04bd09aeacfb24fb92",
       "outputs": [
        {
         "ename": "ValueError",
         "evalue": "The same variable should be used in all univariate expressions being plotted.",
         "output_type": "error",
         "traceback": [
          "\u001b[0;31m---------------------------------------------------------------------------\u001b[0m",
          "\u001b[0;31mValueError\u001b[0m                                Traceback (most recent call last)",
          "\u001b[0;32m~/anaconda3/envs/sbs/lib/python3.7/site-packages/ipywidgets/widgets/interaction.py\u001b[0m in \u001b[0;36mupdate\u001b[0;34m(self, *args)\u001b[0m\n\u001b[1;32m    249\u001b[0m                     \u001b[0mvalue\u001b[0m \u001b[0;34m=\u001b[0m \u001b[0mwidget\u001b[0m\u001b[0;34m.\u001b[0m\u001b[0mget_interact_value\u001b[0m\u001b[0;34m(\u001b[0m\u001b[0;34m)\u001b[0m\u001b[0;34m\u001b[0m\u001b[0;34m\u001b[0m\u001b[0m\n\u001b[1;32m    250\u001b[0m                     \u001b[0mself\u001b[0m\u001b[0;34m.\u001b[0m\u001b[0mkwargs\u001b[0m\u001b[0;34m[\u001b[0m\u001b[0mwidget\u001b[0m\u001b[0;34m.\u001b[0m\u001b[0m_kwarg\u001b[0m\u001b[0;34m]\u001b[0m \u001b[0;34m=\u001b[0m \u001b[0mvalue\u001b[0m\u001b[0;34m\u001b[0m\u001b[0;34m\u001b[0m\u001b[0m\n\u001b[0;32m--> 251\u001b[0;31m                 \u001b[0mself\u001b[0m\u001b[0;34m.\u001b[0m\u001b[0mresult\u001b[0m \u001b[0;34m=\u001b[0m \u001b[0mself\u001b[0m\u001b[0;34m.\u001b[0m\u001b[0mf\u001b[0m\u001b[0;34m(\u001b[0m\u001b[0;34m**\u001b[0m\u001b[0mself\u001b[0m\u001b[0;34m.\u001b[0m\u001b[0mkwargs\u001b[0m\u001b[0;34m)\u001b[0m\u001b[0;34m\u001b[0m\u001b[0;34m\u001b[0m\u001b[0m\n\u001b[0m\u001b[1;32m    252\u001b[0m                 \u001b[0mshow_inline_matplotlib_plots\u001b[0m\u001b[0;34m(\u001b[0m\u001b[0;34m)\u001b[0m\u001b[0;34m\u001b[0m\u001b[0;34m\u001b[0m\u001b[0m\n\u001b[1;32m    253\u001b[0m                 \u001b[0;32mif\u001b[0m \u001b[0mself\u001b[0m\u001b[0;34m.\u001b[0m\u001b[0mauto_display\u001b[0m \u001b[0;32mand\u001b[0m \u001b[0mself\u001b[0m\u001b[0;34m.\u001b[0m\u001b[0mresult\u001b[0m \u001b[0;32mis\u001b[0m \u001b[0;32mnot\u001b[0m \u001b[0;32mNone\u001b[0m\u001b[0;34m:\u001b[0m\u001b[0;34m\u001b[0m\u001b[0;34m\u001b[0m\u001b[0m\n",
          "\u001b[0;32m<ipython-input-60-3fcbfeabd303>\u001b[0m in \u001b[0;36mplot_mobilty\u001b[0;34m(c)\u001b[0m\n\u001b[1;32m      2\u001b[0m     sy.plot(Y.subs({m:1,s:1,c:0.1}),\n\u001b[1;32m      3\u001b[0m             \u001b[0;34m(\u001b[0m\u001b[0mom\u001b[0m\u001b[0;34m,\u001b[0m\u001b[0;36m0\u001b[0m\u001b[0;34m,\u001b[0m\u001b[0;36m5\u001b[0m\u001b[0;34m)\u001b[0m\u001b[0;34m,\u001b[0m\u001b[0;34m\u001b[0m\u001b[0;34m\u001b[0m\u001b[0m\n\u001b[0;32m----> 4\u001b[0;31m             \u001b[0mtitle\u001b[0m\u001b[0;34m=\u001b[0m\u001b[0;34mr'$c$=%.2f'\u001b[0m \u001b[0;34m%\u001b[0m \u001b[0mc\u001b[0m\u001b[0;34m\u001b[0m\u001b[0;34m\u001b[0m\u001b[0m\n\u001b[0m\u001b[1;32m      5\u001b[0m            )\n\u001b[1;32m      6\u001b[0m \u001b[0mipw\u001b[0m\u001b[0;34m.\u001b[0m\u001b[0minteract\u001b[0m\u001b[0;34m(\u001b[0m\u001b[0mplot_mobilty\u001b[0m\u001b[0;34m,\u001b[0m\u001b[0mc\u001b[0m\u001b[0;34m=\u001b[0m\u001b[0;34m(\u001b[0m\u001b[0;36m0.01\u001b[0m\u001b[0;34m,\u001b[0m\u001b[0;36m0.3\u001b[0m\u001b[0;34m,\u001b[0m\u001b[0;36m0.01\u001b[0m\u001b[0;34m)\u001b[0m\u001b[0;34m)\u001b[0m\u001b[0;34m;\u001b[0m\u001b[0;34m\u001b[0m\u001b[0;34m\u001b[0m\u001b[0m\n",
          "\u001b[0;32m~/anaconda3/envs/sbs/lib/python3.7/site-packages/sympy/plotting/plot.py\u001b[0m in \u001b[0;36mplot\u001b[0;34m(*args, **kwargs)\u001b[0m\n\u001b[1;32m   1351\u001b[0m             \u001b[0;32mif\u001b[0m \u001b[0mlen\u001b[0m\u001b[0;34m(\u001b[0m\u001b[0mfree\u001b[0m\u001b[0;34m)\u001b[0m \u001b[0;34m>\u001b[0m \u001b[0;36m1\u001b[0m\u001b[0;34m:\u001b[0m\u001b[0;34m\u001b[0m\u001b[0;34m\u001b[0m\u001b[0m\n\u001b[1;32m   1352\u001b[0m                 raise ValueError(\n\u001b[0;32m-> 1353\u001b[0;31m                     \u001b[0;34m'The same variable should be used in all '\u001b[0m\u001b[0;34m\u001b[0m\u001b[0;34m\u001b[0m\u001b[0m\n\u001b[0m\u001b[1;32m   1354\u001b[0m                     'univariate expressions being plotted.')\n\u001b[1;32m   1355\u001b[0m     \u001b[0mx\u001b[0m \u001b[0;34m=\u001b[0m \u001b[0mfree\u001b[0m\u001b[0;34m.\u001b[0m\u001b[0mpop\u001b[0m\u001b[0;34m(\u001b[0m\u001b[0;34m)\u001b[0m \u001b[0;32mif\u001b[0m \u001b[0mfree\u001b[0m \u001b[0;32melse\u001b[0m \u001b[0mSymbol\u001b[0m\u001b[0;34m(\u001b[0m\u001b[0;34m'x'\u001b[0m\u001b[0;34m)\u001b[0m\u001b[0;34m\u001b[0m\u001b[0;34m\u001b[0m\u001b[0m\n",
          "\u001b[0;31mValueError\u001b[0m: The same variable should be used in all univariate expressions being plotted."
         ]
        }
       ]
      }
     },
     "501c1199f98b4529941e9e8ea0c0c23b": {
      "model_module": "@jupyter-widgets/controls",
      "model_module_version": "1.5.0",
      "model_name": "FloatSliderModel",
      "state": {
       "description": "cc",
       "layout": "IPY_MODEL_109d166408f14288986fb63594f5fc04",
       "max": 1,
       "min": 0.1,
       "step": 0.1,
       "style": "IPY_MODEL_8acd9d711b09425a9dd9cc43f2f78c18",
       "value": 0.2
      }
     },
     "50463087edfc41d9954478c3d1aca96d": {
      "model_module": "@jupyter-widgets/controls",
      "model_module_version": "1.5.0",
      "model_name": "FloatSliderModel",
      "state": {
       "description": "d",
       "layout": "IPY_MODEL_b2e0f024545e48f78896f0448b673c56",
       "max": 0.3,
       "min": 0.01,
       "step": 0.01,
       "style": "IPY_MODEL_d091016366514010a0d01a85b2a414c4",
       "value": 0.1
      }
     },
     "5057da1b9d5f491981961022224e32d7": {
      "model_module": "@jupyter-widgets/base",
      "model_module_version": "1.2.0",
      "model_name": "LayoutModel",
      "state": {}
     },
     "511305250ad14966a489659a2b8631b4": {
      "model_module": "@jupyter-widgets/base",
      "model_module_version": "1.2.0",
      "model_name": "LayoutModel",
      "state": {}
     },
     "513f706d50bd45c7bd7487a7cf846bcb": {
      "model_module": "@jupyter-widgets/base",
      "model_module_version": "1.2.0",
      "model_name": "LayoutModel",
      "state": {}
     },
     "51bfa6cffada4514b0a7580d88766f89": {
      "model_module": "@jupyter-widgets/base",
      "model_module_version": "1.2.0",
      "model_name": "LayoutModel",
      "state": {}
     },
     "52c254e8d61c47bbb7a76312ab1d6f8e": {
      "model_module": "@jupyter-widgets/output",
      "model_module_version": "1.0.0",
      "model_name": "OutputModel",
      "state": {
       "layout": "IPY_MODEL_5a7f7726e1f84c7eb5cd22fd7fa35b68",
       "outputs": [
        {
         "data": {
          "image/png": "iVBORw0KGgoAAAANSUhEUgAAAOcAAADnCAYAAADl9EEgAAAABHNCSVQICAgIfAhkiAAAAAlwSFlzAAALEgAACxIB0t1+/AAAADh0RVh0U29mdHdhcmUAbWF0cGxvdGxpYiB2ZXJzaW9uMy4xLjAsIGh0dHA6Ly9tYXRwbG90bGliLm9yZy+17YcXAAAE20lEQVR4nO3dQY7USBRFUbvVKyLXhPeE10SuyT1xSikEWT3qeL/fOZLFAKswMjf9HQHFfl3XBuT5a/UFAL8nTgglTgglTgglTgglTgglTgglTgglTgglTgglTgglTgglTgglTgglTgglTgglTgglTgglTgglTgglTgglTgglTgglTgglTgglTgglTgglTgglTgglTgglTgglTgglTgglTgglTgglTgglTgglTgglTgglTgglTgglTgglTgglTgglTgglTgglTgglTgglTgglTgglTgglTgglTgglTgglTgglTgglTgglTgglTghVGee+79efju3teHw473g77/nhvP3++de5x4fzHr/8+p++5vl23vnFuf+X39PqPzf/tco4YYL9uuo+kLbz/hQ+rmtffS187fXUvMruV2Wc22tEKrvZU7XGaayFUH+vvoAVzvvHY+lV8G8VznbbtpWOta1j0lilryHGWgglTuI97qONsZZ4rffLkxNCiRNCiRNCVe5z9r1lM5EnJ4SqfHIyy/fVF7BI5VbK416af5YtzY9V+jeEKuNs3TcbqzRO75zEe95HG09O4rXeL09OCCVOCCVOCFW5z9m6b8YslQtCrUvzU1kQAqJUjrWvPbPGf10/0c/VF7BI5VjbOiaNVfoaYqyFUOIk3rF1fo9hYy3xWu+XJyeEEieEEieEqtznbN03Y5bKBaHWfbOpWheEKp+czPJt9QUsUvnkPO5P4rPsk3is0kmnMs7WMWms0jit1kIocRJvv4824oRQ4oRQ4oRQlfucrftmzFK5ldK6ND9V69aXsRZCVY61zPJj9QUsUjnWto5JY5W+hhhrIZQ4iXfeRxtjLfFa75cnJ4QSJ4QSJ4Sq3Ods3TdjlsoFodZ9s6ksCAFRKsfa155Z43+OM1HhbLdtW+lY2zomjVX6GmKshVDiJN7jPtoYa4nXer88OSGUOCGUOCFU5T5n31s2E3lyQqjKJyezfF99AYtUbqU87qX5Z9nS/Filf0OoMs7WfbOxSuP0zkm853208eQkXuv98uSEUOKEUOKEUJX7nK37ZsxSuSDUujQ/lQUhIErlWPvaM2v81/UT/Vx9AYtUjrWtY9JYpa8hxloIJU7iHVvn9xg21hKv9X55ckIocUIocUKoyn3O1n0zZqlcEGrdN5uqdUGo8snJLN9WX8AilU/O4/4kPss+iccqnXQq42wdk8YqjdNqLYQSJ/H2+2gjTgglTgglTghVuc/Zum/GLJVbKa1L81O1bn0ZayFU5VjLLD9WX8AilWNt65g0VulriLEWQomTeOd9tDHWEq/1fnlyQihxQihxQqjKOF/7Zvu+X787zn2/tvs4/3DO69jejseH8463855ffM3n27nHh/Mev/z6n77m5N/T0j8sC1XG2fit/ZmncrUWJqh8csIE4oRQ4oRQ4oRQ4oRQ4oRQ4oRQ4oRQ4oRQ4oRQ4oRQ4oRQ4oRQ4oRQ4oRQ4oRQ4oRQ4oRQ4oRQ4oRQ4oRQ4oRQ4oRQ4oRQ4oRQ4oRQ4oRQ4oRQ4oRQ4oRQ4oRQ4oRQ4oRQ4oRQ4oRQ4oRQ4oRQ4oRQ4oRQ4oRQ4oRQ4oRQ4oRQ4oRQ4oRQ4oRQ4oRQ4oRQ4oRQ4oRQ4oRQ4oRQ4oRQ4oRQ4oRQ4oRQ4oRQ4oRQ4oRQ4oRQ/wBcJkhFZOSdcQAAAABJRU5ErkJggg==\n",
          "text/plain": "<Figure size 432x288 with 1 Axes>"
         },
         "metadata": {
          "needs_background": "light"
         },
         "output_type": "display_data"
        }
       ]
      }
     },
     "52f298acec18406889b6f734784a94c0": {
      "model_module": "@jupyter-widgets/base",
      "model_module_version": "1.2.0",
      "model_name": "LayoutModel",
      "state": {}
     },
     "53689ac0a20b42ad8eeacb49c3ba6184": {
      "model_module": "@jupyter-widgets/controls",
      "model_module_version": "1.5.0",
      "model_name": "VBoxModel",
      "state": {
       "_dom_classes": [
        "widget-interact"
       ],
       "children": [
        "IPY_MODEL_5892097404e14b4ca7524eba18bc9c96",
        "IPY_MODEL_eb29c5a73f1c4609b2574deb68925904",
        "IPY_MODEL_260680ec0dc54ec4bb08702ab3c85c37",
        "IPY_MODEL_df5cb1db0492483b8b5fef3a8390b0a7",
        "IPY_MODEL_ee38639c939643cb90f036c533ff984e",
        "IPY_MODEL_70f08ad0728846c79ed19dbeb594d788",
        "IPY_MODEL_206e0c4105a04a49840f29d4091d510f"
       ],
       "layout": "IPY_MODEL_6b59aaa88efd482095aea3cb493ed4d8"
      }
     },
     "543fa78b417d4c15b1528f50a5f9384f": {
      "model_module": "@jupyter-widgets/output",
      "model_module_version": "1.0.0",
      "model_name": "OutputModel",
      "state": {
       "layout": "IPY_MODEL_55d366644cb140b3b18aa28f64ed27f5",
       "outputs": [
        {
         "data": {
          "image/png": "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\n",
          "text/plain": "<Figure size 432x288 with 1 Axes>"
         },
         "metadata": {
          "needs_background": "light"
         },
         "output_type": "display_data"
        }
       ]
      }
     },
     "55cc78eb926d4fb4954aa6766f204ac2": {
      "model_module": "@jupyter-widgets/base",
      "model_module_version": "1.2.0",
      "model_name": "LayoutModel",
      "state": {}
     },
     "55d366644cb140b3b18aa28f64ed27f5": {
      "model_module": "@jupyter-widgets/base",
      "model_module_version": "1.2.0",
      "model_name": "LayoutModel",
      "state": {}
     },
     "5614d223ebe44f2783caa1d67cfd989a": {
      "model_module": "@jupyter-widgets/controls",
      "model_module_version": "1.5.0",
      "model_name": "FloatSliderModel",
      "state": {
       "description": "$\\chi_z$",
       "layout": "IPY_MODEL_76d89d6ab9ac40c9a01e29e6a0f1f671",
       "max": 0.4,
       "min": -0.4,
       "step": 0.1,
       "style": "IPY_MODEL_6e45102aebb04f2ea303c7d557712cbc"
      }
     },
     "567fa37371c4448f88d8efd5e960556c": {
      "model_module": "@jupyter-widgets/base",
      "model_module_version": "1.2.0",
      "model_name": "LayoutModel",
      "state": {}
     },
     "579954364d0f44288354f7bb43794ce6": {
      "model_module": "@jupyter-widgets/base",
      "model_module_version": "1.2.0",
      "model_name": "LayoutModel",
      "state": {}
     },
     "57b1eb51a80b43b2beff71e10079e8b2": {
      "model_module": "@jupyter-widgets/base",
      "model_module_version": "1.2.0",
      "model_name": "LayoutModel",
      "state": {}
     },
     "5892097404e14b4ca7524eba18bc9c96": {
      "model_module": "@jupyter-widgets/controls",
      "model_module_version": "1.5.0",
      "model_name": "FloatSliderModel",
      "state": {
       "description": "$\\xi_1$",
       "layout": "IPY_MODEL_acc3803fbf60449ba6e07c02c162b8c6",
       "max": 0.4,
       "min": -0.4,
       "step": 0.1,
       "style": "IPY_MODEL_c793398a6e9747df8022fdbf24a2721e"
      }
     },
     "58aac359d5c04310811059eaa0242702": {
      "model_module": "@jupyter-widgets/controls",
      "model_module_version": "1.5.0",
      "model_name": "SliderStyleModel",
      "state": {
       "description_width": ""
      }
     },
     "58c5431ded5b420ea1ae19451d45578d": {
      "model_module": "@jupyter-widgets/controls",
      "model_module_version": "1.5.0",
      "model_name": "SliderStyleModel",
      "state": {
       "description_width": ""
      }
     },
     "58ef7600a4994000bbdbc0deacdc0be0": {
      "model_module": "@jupyter-widgets/base",
      "model_module_version": "1.2.0",
      "model_name": "LayoutModel",
      "state": {}
     },
     "5943fdf32f82486f93470b05b05f9361": {
      "model_module": "@jupyter-widgets/base",
      "model_module_version": "1.2.0",
      "model_name": "LayoutModel",
      "state": {}
     },
     "598929ebb71e4069939b0232bb5d324c": {
      "model_module": "@jupyter-widgets/controls",
      "model_module_version": "1.5.0",
      "model_name": "SliderStyleModel",
      "state": {
       "description_width": ""
      }
     },
     "59cdd0d184b141188ba11bc7de4c5f23": {
      "model_module": "@jupyter-widgets/base",
      "model_module_version": "1.2.0",
      "model_name": "LayoutModel",
      "state": {}
     },
     "5a7f7726e1f84c7eb5cd22fd7fa35b68": {
      "model_module": "@jupyter-widgets/base",
      "model_module_version": "1.2.0",
      "model_name": "LayoutModel",
      "state": {}
     },
     "5ab67c4cd80d45568efae30a030c4c16": {
      "model_module": "@jupyter-widgets/controls",
      "model_module_version": "1.5.0",
      "model_name": "FloatSliderModel",
      "state": {
       "description": "ci",
       "layout": "IPY_MODEL_764a2c55d8224541bf654b8168c84a55",
       "max": 1,
       "min": 0.1,
       "step": 0.1,
       "style": "IPY_MODEL_77c4f938b12b49e094eefd4fda3876fa",
       "value": 0.5
      }
     },
     "5b931d4fc2ae48b8adf704b409a24c77": {
      "model_module": "@jupyter-widgets/base",
      "model_module_version": "1.2.0",
      "model_name": "LayoutModel",
      "state": {}
     },
     "5c1e801c4ebc41e6b07def74c1f498dd": {
      "model_module": "@jupyter-widgets/controls",
      "model_module_version": "1.5.0",
      "model_name": "SliderStyleModel",
      "state": {
       "description_width": ""
      }
     },
     "5c78eded40d449b586739ee75cd0e665": {
      "model_module": "@jupyter-widgets/controls",
      "model_module_version": "1.5.0",
      "model_name": "SliderStyleModel",
      "state": {
       "description_width": ""
      }
     },
     "5cc2cea1ff194c6189e9cb7999c6e1e5": {
      "model_module": "@jupyter-widgets/controls",
      "model_module_version": "1.5.0",
      "model_name": "SliderStyleModel",
      "state": {
       "description_width": ""
      }
     },
     "5d049a8e2dea4b248b209ab83b9cfceb": {
      "model_module": "@jupyter-widgets/output",
      "model_module_version": "1.0.0",
      "model_name": "OutputModel",
      "state": {
       "layout": "IPY_MODEL_b6388647fa6f43259510040d2e47a488",
       "outputs": [
        {
         "data": {
          "image/png": "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\n",
          "text/plain": "<Figure size 432x288 with 1 Axes>"
         },
         "metadata": {
          "needs_background": "light"
         },
         "output_type": "display_data"
        }
       ]
      }
     },
     "5d1584f8c79848809e56496581ae0bf7": {
      "model_module": "@jupyter-widgets/base",
      "model_module_version": "1.2.0",
      "model_name": "LayoutModel",
      "state": {}
     },
     "5d7284d3cfb544428f58968339efea9f": {
      "model_module": "@jupyter-widgets/controls",
      "model_module_version": "1.5.0",
      "model_name": "SliderStyleModel",
      "state": {
       "description_width": ""
      }
     },
     "5e49d80ebb1b4afcb7b706b81423afe1": {
      "model_module": "@jupyter-widgets/base",
      "model_module_version": "1.2.0",
      "model_name": "LayoutModel",
      "state": {}
     },
     "5e9482f23c8d4bc68fbf7977ed13cf00": {
      "model_module": "@jupyter-widgets/controls",
      "model_module_version": "1.5.0",
      "model_name": "FloatSliderModel",
      "state": {
       "description": "$\\epsilon_x$",
       "layout": "IPY_MODEL_d947438658b34949b833dfe643046f4c",
       "max": 0.4,
       "min": -0.4,
       "step": 0.1,
       "style": "IPY_MODEL_a1c81aebcfc34e7a99ebbf1bb0e63609"
      }
     },
     "5e94c059e872406c91df9d284764c40a": {
      "model_module": "@jupyter-widgets/controls",
      "model_module_version": "1.5.0",
      "model_name": "FloatSliderModel",
      "state": {
       "description": "si",
       "layout": "IPY_MODEL_58ef7600a4994000bbdbc0deacdc0be0",
       "max": 2,
       "min": 0.1,
       "step": 0.1,
       "style": "IPY_MODEL_5d7284d3cfb544428f58968339efea9f",
       "value": 1
      }
     },
     "5fb38b31c9044d8e9812ed1e3c4bdf06": {
      "model_module": "@jupyter-widgets/controls",
      "model_module_version": "1.5.0",
      "model_name": "VBoxModel",
      "state": {
       "_dom_classes": [
        "widget-interact"
       ],
       "children": [
        "IPY_MODEL_ed6ffc50921c4fafb1eb1393a6b65a48",
        "IPY_MODEL_9da5e52dc66d45639428764950dd5534"
       ],
       "layout": "IPY_MODEL_cfc2183e7e7947c3bd70ac04b2af43ab"
      }
     },
     "609cfeaa9c52413aabff8514f973e4f7": {
      "model_module": "@jupyter-widgets/output",
      "model_module_version": "1.0.0",
      "model_name": "OutputModel",
      "state": {
       "layout": "IPY_MODEL_e4bd14d47a194f5997aa6fad3c33a128",
       "outputs": [
        {
         "data": {
          "image/png": "iVBORw0KGgoAAAANSUhEUgAAAOcAAADnCAYAAADl9EEgAAAAOXRFWHRTb2Z0d2FyZQBNYXRwbG90bGliIHZlcnNpb24zLjMuMiwgaHR0cHM6Ly9tYXRwbG90bGliLm9yZy8vihELAAAACXBIWXMAAAsTAAALEwEAmpwYAAAE20lEQVR4nO3dQY7USBRFUbvVKyLXhPeE10SuyT1xSikEWT3qeL/fOZLFAKswMjf9HQHFfl3XBuT5a/UFAL8nTgglTgglTgglTgglTgglTgglTgglTgglTgglTgglTgglTgglTgglTgglTgglTgglTgglTgglTgglTgglTgglTgglTgglTgglTgglTgglTgglTgglTgglTgglTgglTgglTgglTgglTgglTgglTgglTgglTgglTgglTgglTgglTgglTgglTgglTgglTgglTgglTgglTgglTgglTgglTgglTgglTgglTgglTgglTghVGee+79efju3teHw473g77/nhvP3++de5x4fzHr/8+p++5vl23vnFuf+X39PqPzf/tco4YYL9uuo+kLbz/hQ+rmtffS187fXUvMruV2Wc22tEKrvZU7XGaayFUH+vvoAVzvvHY+lV8G8VznbbtpWOta1j0lilryHGWgglTuI97qONsZZ4rffLkxNCiRNCiRNCVe5z9r1lM5EnJ4SqfHIyy/fVF7BI5VbK416af5YtzY9V+jeEKuNs3TcbqzRO75zEe95HG09O4rXeL09OCCVOCCVOCFW5z9m6b8YslQtCrUvzU1kQAqJUjrWvPbPGf10/0c/VF7BI5VjbOiaNVfoaYqyFUOIk3rF1fo9hYy3xWu+XJyeEEieEEieEqtznbN03Y5bKBaHWfbOpWheEKp+czPJt9QUsUvnkPO5P4rPsk3is0kmnMs7WMWms0jit1kIocRJvv4824oRQ4oRQ4oRQlfucrftmzFK5ldK6ND9V69aXsRZCVY61zPJj9QUsUjnWto5JY5W+hhhrIZQ4iXfeRxtjLfFa75cnJ4QSJ4QSJ4Sq3Ods3TdjlsoFodZ9s6ksCAFRKsfa155Z43+OM1HhbLdtW+lY2zomjVX6GmKshVDiJN7jPtoYa4nXer88OSGUOCGUOCFU5T5n31s2E3lyQqjKJyezfF99AYtUbqU87qX5Z9nS/Filf0OoMs7WfbOxSuP0zkm853208eQkXuv98uSEUOKEUOKEUJX7nK37ZsxSuSDUujQ/lQUhIErlWPvaM2v81/UT/Vx9AYtUjrWtY9JYpa8hxloIJU7iHVvn9xg21hKv9X55ckIocUIocUKoyn3O1n0zZqlcEGrdN5uqdUGo8snJLN9WX8AilU/O4/4kPss+iccqnXQq42wdk8YqjdNqLYQSJ/H2+2gjTgglTgglTghVuc/Zum/GLJVbKa1L81O1bn0ZayFU5VjLLD9WX8AilWNt65g0VulriLEWQomTeOd9tDHWEq/1fnlyQihxQihxQqjKOF/7Zvu+X787zn2/tvs4/3DO69jejseH8463855ffM3n27nHh/Mev/z6n77m5N/T0j8sC1XG2fit/ZmncrUWJqh8csIE4oRQ4oRQ4oRQ4oRQ4oRQ4oRQ4oRQ4oRQ4oRQ4oRQ4oRQ4oRQ4oRQ4oRQ4oRQ4oRQ4oRQ4oRQ4oRQ4oRQ4oRQ4oRQ4oRQ4oRQ4oRQ4oRQ4oRQ4oRQ4oRQ4oRQ4oRQ4oRQ4oRQ4oRQ4oRQ4oRQ4oRQ4oRQ4oRQ4oRQ4oRQ4oRQ4oRQ4oRQ4oRQ4oRQ4oRQ4oRQ4oRQ4oRQ4oRQ4oRQ4oRQ4oRQ4oRQ4oRQ4oRQ4oRQ4oRQ/wBcJkhFZOSdcQAAAABJRU5ErkJggg==\n",
          "text/plain": "<Figure size 432x288 with 1 Axes>"
         },
         "metadata": {
          "needs_background": "light"
         },
         "output_type": "display_data"
        }
       ]
      }
     },
     "60ac60eebe40486d9e78fd19f5270959": {
      "model_module": "@jupyter-widgets/base",
      "model_module_version": "1.2.0",
      "model_name": "LayoutModel",
      "state": {}
     },
     "616b43969531405d95bc7f50739b5ed5": {
      "model_module": "@jupyter-widgets/base",
      "model_module_version": "1.2.0",
      "model_name": "LayoutModel",
      "state": {}
     },
     "6187c9b77077499db2825012bd9b0b6a": {
      "model_module": "@jupyter-widgets/controls",
      "model_module_version": "1.5.0",
      "model_name": "CheckboxModel",
      "state": {
       "description": "longitudinal",
       "disabled": false,
       "layout": "IPY_MODEL_1b790abeee31441ab7802aee9308f30e",
       "style": "IPY_MODEL_acbde3ef46584525b8080e5b91ac6793",
       "value": false
      }
     },
     "61ad10717ea54d6dad13b742d129242d": {
      "model_module": "@jupyter-widgets/controls",
      "model_module_version": "1.5.0",
      "model_name": "FloatSliderModel",
      "state": {
       "description": "c",
       "layout": "IPY_MODEL_82b3dd749b1147d8a183b63a40508de4",
       "max": 0.3,
       "min": 0.01,
       "step": 0.01,
       "style": "IPY_MODEL_c3e23d07643e450788b9539d0c4da859",
       "value": 0.1
      }
     },
     "6306090fcab949d8858cdc040ffc49fb": {
      "model_module": "@jupyter-widgets/base",
      "model_module_version": "1.2.0",
      "model_name": "LayoutModel",
      "state": {}
     },
     "63492bcb2837404db32ad87cbe59066f": {
      "model_module": "@jupyter-widgets/controls",
      "model_module_version": "1.5.0",
      "model_name": "VBoxModel",
      "state": {
       "_dom_classes": [
        "widget-interact"
       ],
       "children": [
        "IPY_MODEL_50463087edfc41d9954478c3d1aca96d",
        "IPY_MODEL_9548361869b34258b6bdff168f55c952"
       ],
       "layout": "IPY_MODEL_b985ab28c0754c9c9629a30eb0db9fb7"
      }
     },
     "6366f59ecb7844b78853881d15ebda79": {
      "model_module": "@jupyter-widgets/controls",
      "model_module_version": "1.5.0",
      "model_name": "VBoxModel",
      "state": {
       "_dom_classes": [
        "widget-interact"
       ],
       "children": [
        "IPY_MODEL_d01e2d8ada0648c3af67326c2a955e8e",
        "IPY_MODEL_c58883a1a99145d6ad240f4cc29714c3",
        "IPY_MODEL_e5c4fa9255ab4c4aa7361ffe13722f64",
        "IPY_MODEL_86c234299cc54e94be481c7ce3829b10"
       ],
       "layout": "IPY_MODEL_bd8a3f5ec5774a0b9498f65316ecda07"
      }
     },
     "63f425c9180c47c8811fac302a819af8": {
      "model_module": "@jupyter-widgets/base",
      "model_module_version": "1.2.0",
      "model_name": "LayoutModel",
      "state": {}
     },
     "64c3ee63aa2546a4ac0d1e9535a74bfc": {
      "model_module": "@jupyter-widgets/controls",
      "model_module_version": "1.5.0",
      "model_name": "FloatSliderModel",
      "state": {
       "description": "$\\epsilon_y$",
       "layout": "IPY_MODEL_47465b7862d04090b0459dd55078e6c7",
       "max": 0.4,
       "min": -0.4,
       "step": 0.1,
       "style": "IPY_MODEL_0c5144cc74114f439a4e968e9b5dd0b4"
      }
     },
     "65e1398b55394c64b1a6942f00c43477": {
      "model_module": "@jupyter-widgets/controls",
      "model_module_version": "1.5.0",
      "model_name": "FloatSliderModel",
      "state": {
       "description": "mi",
       "layout": "IPY_MODEL_329f8b858f364b1a9800a700aeb61d87",
       "max": 2,
       "min": 0.1,
       "step": 0.1,
       "style": "IPY_MODEL_406635a9ceae4eb78978f1c03767fa32",
       "value": 1
      }
     },
     "662eee74459e41ad9827e3fa62130abc": {
      "model_module": "@jupyter-widgets/base",
      "model_module_version": "1.2.0",
      "model_name": "LayoutModel",
      "state": {}
     },
     "664e7e9c99c749079ecd01112ad4c6df": {
      "model_module": "@jupyter-widgets/controls",
      "model_module_version": "1.5.0",
      "model_name": "SliderStyleModel",
      "state": {
       "description_width": ""
      }
     },
     "6694525b32814bbd908d2a6b80379ebc": {
      "model_module": "@jupyter-widgets/base",
      "model_module_version": "1.2.0",
      "model_name": "LayoutModel",
      "state": {}
     },
     "66b1226e77eb4c759a2f2aaf0519fbf5": {
      "model_module": "@jupyter-widgets/base",
      "model_module_version": "1.2.0",
      "model_name": "LayoutModel",
      "state": {}
     },
     "66daa5475e3c4f3385a0e8ca104612ff": {
      "model_module": "@jupyter-widgets/controls",
      "model_module_version": "1.5.0",
      "model_name": "SliderStyleModel",
      "state": {
       "description_width": ""
      }
     },
     "66dc4c6b7abc4ffe8859f41e507638a2": {
      "model_module": "@jupyter-widgets/base",
      "model_module_version": "1.2.0",
      "model_name": "LayoutModel",
      "state": {}
     },
     "67032440b14b4970860f04c546389ac4": {
      "model_module": "@jupyter-widgets/controls",
      "model_module_version": "1.5.0",
      "model_name": "FloatSliderModel",
      "state": {
       "description": "$\\xi_y$",
       "layout": "IPY_MODEL_eac2a619afc84d8294790d5be3513431",
       "max": 0.4,
       "min": -0.4,
       "step": 0.1,
       "style": "IPY_MODEL_6c8d7ce4145e42bbb10573b8becd4db8",
       "value": 0.1
      }
     },
     "670f9b19b7014d49a3a56a322c0ed881": {
      "model_module": "@jupyter-widgets/controls",
      "model_module_version": "1.5.0",
      "model_name": "FloatSliderModel",
      "state": {
       "description": "$\\xi_x$",
       "layout": "IPY_MODEL_02402fdd795749e6988cd88528cdb90f",
       "max": 0.4,
       "min": -0.4,
       "step": 0.1,
       "style": "IPY_MODEL_48b29fd3392a475d983298c95ddaed1f"
      }
     },
     "6720f9f5278a46059b7f2ed36376cb76": {
      "model_module": "@jupyter-widgets/base",
      "model_module_version": "1.2.0",
      "model_name": "LayoutModel",
      "state": {}
     },
     "68760b708ffa494ca8397bacf326cf6b": {
      "model_module": "@jupyter-widgets/base",
      "model_module_version": "1.2.0",
      "model_name": "LayoutModel",
      "state": {}
     },
     "68f1eaad861e48ab9b937d64bec022dc": {
      "model_module": "@jupyter-widgets/base",
      "model_module_version": "1.2.0",
      "model_name": "LayoutModel",
      "state": {}
     },
     "699b00d2343a493fa51bb64459461943": {
      "model_module": "@jupyter-widgets/controls",
      "model_module_version": "1.5.0",
      "model_name": "DescriptionStyleModel",
      "state": {
       "description_width": ""
      }
     },
     "6acbbd0174c244b58d88d0abb20c5609": {
      "model_module": "@jupyter-widgets/base",
      "model_module_version": "1.2.0",
      "model_name": "LayoutModel",
      "state": {}
     },
     "6b1734da00024bdba7a8d224fd39b28e": {
      "model_module": "@jupyter-widgets/base",
      "model_module_version": "1.2.0",
      "model_name": "LayoutModel",
      "state": {}
     },
     "6b59aaa88efd482095aea3cb493ed4d8": {
      "model_module": "@jupyter-widgets/base",
      "model_module_version": "1.2.0",
      "model_name": "LayoutModel",
      "state": {}
     },
     "6bca58bc64504e2687282e3c40c97254": {
      "model_module": "@jupyter-widgets/base",
      "model_module_version": "1.2.0",
      "model_name": "LayoutModel",
      "state": {}
     },
     "6c68e59d0eec4ecdb9d2f0651af3019f": {
      "model_module": "@jupyter-widgets/base",
      "model_module_version": "1.2.0",
      "model_name": "LayoutModel",
      "state": {}
     },
     "6c88c5bd41c9450e96cc7027e025842d": {
      "model_module": "@jupyter-widgets/base",
      "model_module_version": "1.2.0",
      "model_name": "LayoutModel",
      "state": {}
     },
     "6c8d7ce4145e42bbb10573b8becd4db8": {
      "model_module": "@jupyter-widgets/controls",
      "model_module_version": "1.5.0",
      "model_name": "SliderStyleModel",
      "state": {
       "description_width": ""
      }
     },
     "6ca53c31afc54d48bc8dde2e812e68a7": {
      "model_module": "@jupyter-widgets/controls",
      "model_module_version": "1.5.0",
      "model_name": "FloatSliderModel",
      "state": {
       "description": "t",
       "layout": "IPY_MODEL_4785531394224838b59c55a97be67ce8",
       "max": 10,
       "step": 0.05,
       "style": "IPY_MODEL_76798fab466b40d3bbabe109472b7d44",
       "value": 5
      }
     },
     "6cfda47e5a7847e5857248c8574d2d5c": {
      "model_module": "@jupyter-widgets/controls",
      "model_module_version": "1.5.0",
      "model_name": "FloatSliderModel",
      "state": {
       "description": "$\\gamma_{xy}$",
       "layout": "IPY_MODEL_68760b708ffa494ca8397bacf326cf6b",
       "max": 0.4,
       "min": -0.4,
       "step": 0.1,
       "style": "IPY_MODEL_08be2f9b940f400d9a4c77af5d2cb264"
      }
     },
     "6d1086c5cf1f466090063e18c304d1f4": {
      "model_module": "@jupyter-widgets/base",
      "model_module_version": "1.2.0",
      "model_name": "LayoutModel",
      "state": {}
     },
     "6d17eb9dffaf4e62b117d07b0ffe987e": {
      "model_module": "@jupyter-widgets/controls",
      "model_module_version": "1.5.0",
      "model_name": "FloatSliderModel",
      "state": {
       "description": "$\\epsilon_x$",
       "layout": "IPY_MODEL_6c68e59d0eec4ecdb9d2f0651af3019f",
       "max": 0.4,
       "min": -0.4,
       "step": 0.1,
       "style": "IPY_MODEL_3d8ea63429824651ad1ef3b8c74e1e9c"
      }
     },
     "6e45102aebb04f2ea303c7d557712cbc": {
      "model_module": "@jupyter-widgets/controls",
      "model_module_version": "1.5.0",
      "model_name": "SliderStyleModel",
      "state": {
       "description_width": ""
      }
     },
     "6e8432eee4574b8e955cf7cc6dcbb489": {
      "model_module": "@jupyter-widgets/base",
      "model_module_version": "1.2.0",
      "model_name": "LayoutModel",
      "state": {}
     },
     "6e8df5525f954c0b8677fa7a35b4b80e": {
      "model_module": "@jupyter-widgets/controls",
      "model_module_version": "1.5.0",
      "model_name": "FloatSliderModel",
      "state": {
       "description": "cc",
       "layout": "IPY_MODEL_5943fdf32f82486f93470b05b05f9361",
       "max": 1,
       "min": 0.1,
       "step": 0.1,
       "style": "IPY_MODEL_d1d989a32341411193d4cc17a3978ebd",
       "value": 1
      }
     },
     "70c9c41c42864c0ba742cf31bbace18c": {
      "model_module": "@jupyter-widgets/base",
      "model_module_version": "1.2.0",
      "model_name": "LayoutModel",
      "state": {}
     },
     "70f08ad0728846c79ed19dbeb594d788": {
      "model_module": "@jupyter-widgets/controls",
      "model_module_version": "1.5.0",
      "model_name": "FloatSliderModel",
      "state": {
       "description": "$\\gamma$",
       "layout": "IPY_MODEL_44d3fb83e16348aca2bbbedbd8c870e6",
       "max": 0.4,
       "min": -0.4,
       "step": 0.1,
       "style": "IPY_MODEL_3f02cccc39044c4fa9c870a2fc425b6f"
      }
     },
     "70fbc145509a4b6a8f0a6814004cdcc2": {
      "model_module": "@jupyter-widgets/controls",
      "model_module_version": "1.5.0",
      "model_name": "SliderStyleModel",
      "state": {
       "description_width": ""
      }
     },
     "7309aacce7964761ad2d9df2efe3b2cf": {
      "model_module": "@jupyter-widgets/base",
      "model_module_version": "1.2.0",
      "model_name": "LayoutModel",
      "state": {}
     },
     "731e35c6003145d5b63b7558c0842188": {
      "model_module": "@jupyter-widgets/controls",
      "model_module_version": "1.5.0",
      "model_name": "FloatSliderModel",
      "state": {
       "description": "eps1",
       "layout": "IPY_MODEL_8c4914f38014438fbb6d832813a1e1fb",
       "max": 0.2,
       "min": -0.2,
       "step": 0.1,
       "style": "IPY_MODEL_433dee9b44c347bcb16b54756c048314"
      }
     },
     "73f309ff15604abba17e10dc2c72b012": {
      "model_module": "@jupyter-widgets/controls",
      "model_module_version": "1.5.0",
      "model_name": "SliderStyleModel",
      "state": {
       "description_width": ""
      }
     },
     "73f4ef9deb9e4e5b8dde7e7cf1044db1": {
      "model_module": "@jupyter-widgets/controls",
      "model_module_version": "1.5.0",
      "model_name": "VBoxModel",
      "state": {
       "_dom_classes": [
        "widget-interact"
       ],
       "children": [
        "IPY_MODEL_b8c0c22609f049eb9caa843da6c011d6",
        "IPY_MODEL_37dff8381f834c0598fad721cd704bc1"
       ],
       "layout": "IPY_MODEL_3d517908cf6843a8b3d748005b3b6775"
      }
     },
     "74e7f55e1909428cbc55f0be0b977b4b": {
      "model_module": "@jupyter-widgets/controls",
      "model_module_version": "1.5.0",
      "model_name": "FloatSliderModel",
      "state": {
       "description": "cc",
       "layout": "IPY_MODEL_e4564a147be74deb9ad58166316791ff",
       "max": 0.30000000000000004,
       "min": -0.1,
       "step": 0.1,
       "style": "IPY_MODEL_1d5875c1701446b2a3bb009149a7f16d",
       "value": 0.1
      }
     },
     "764a2c55d8224541bf654b8168c84a55": {
      "model_module": "@jupyter-widgets/base",
      "model_module_version": "1.2.0",
      "model_name": "LayoutModel",
      "state": {}
     },
     "76798fab466b40d3bbabe109472b7d44": {
      "model_module": "@jupyter-widgets/controls",
      "model_module_version": "1.5.0",
      "model_name": "SliderStyleModel",
      "state": {
       "description_width": ""
      }
     },
     "76d89d6ab9ac40c9a01e29e6a0f1f671": {
      "model_module": "@jupyter-widgets/base",
      "model_module_version": "1.2.0",
      "model_name": "LayoutModel",
      "state": {}
     },
     "7769d31ef9d04c85853e76e09ee6c813": {
      "model_module": "@jupyter-widgets/controls",
      "model_module_version": "1.5.0",
      "model_name": "VBoxModel",
      "state": {
       "_dom_classes": [
        "widget-interact"
       ],
       "children": [
        "IPY_MODEL_501c1199f98b4529941e9e8ea0c0c23b",
        "IPY_MODEL_7f72874e77534679af35ed0a650a98fb"
       ],
       "layout": "IPY_MODEL_511305250ad14966a489659a2b8631b4"
      }
     },
     "77b757be3b13478687b14f05f1252107": {
      "model_module": "@jupyter-widgets/base",
      "model_module_version": "1.2.0",
      "model_name": "LayoutModel",
      "state": {}
     },
     "77c4f938b12b49e094eefd4fda3876fa": {
      "model_module": "@jupyter-widgets/controls",
      "model_module_version": "1.5.0",
      "model_name": "SliderStyleModel",
      "state": {
       "description_width": ""
      }
     },
     "789f8d6dff354b9681e07fcf098f2bc4": {
      "model_module": "@jupyter-widgets/base",
      "model_module_version": "1.2.0",
      "model_name": "LayoutModel",
      "state": {}
     },
     "79720732525b40599c8374ab0c73fec2": {
      "model_module": "@jupyter-widgets/controls",
      "model_module_version": "1.5.0",
      "model_name": "SliderStyleModel",
      "state": {
       "description_width": ""
      }
     },
     "79eb17989db04d9ea1ca113136950e22": {
      "model_module": "@jupyter-widgets/controls",
      "model_module_version": "1.5.0",
      "model_name": "SliderStyleModel",
      "state": {
       "description_width": ""
      }
     },
     "79f64202756c4e329e14493983d5b9e2": {
      "model_module": "@jupyter-widgets/output",
      "model_module_version": "1.0.0",
      "model_name": "OutputModel",
      "state": {
       "layout": "IPY_MODEL_897478c6d86c4d59be3478b82ac0d71f",
       "outputs": [
        {
         "data": {
          "image/png": "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\n",
          "text/plain": "<Figure size 432x288 with 1 Axes>"
         },
         "metadata": {
          "needs_background": "light"
         },
         "output_type": "display_data"
        }
       ]
      }
     },
     "7a7987fa02b743dfbf0031b0d7e4348e": {
      "model_module": "@jupyter-widgets/base",
      "model_module_version": "1.2.0",
      "model_name": "LayoutModel",
      "state": {}
     },
     "7aa3b4b22d9f45f08eb486caa2a452a9": {
      "model_module": "@jupyter-widgets/controls",
      "model_module_version": "1.5.0",
      "model_name": "DescriptionStyleModel",
      "state": {
       "description_width": ""
      }
     },
     "7abb11a7850140d1bceb06aebd3e292c": {
      "model_module": "@jupyter-widgets/controls",
      "model_module_version": "1.5.0",
      "model_name": "SliderStyleModel",
      "state": {
       "description_width": ""
      }
     },
     "7b6260eb7ca349188774ebee38c899f7": {
      "model_module": "@jupyter-widgets/controls",
      "model_module_version": "1.5.0",
      "model_name": "FloatSliderModel",
      "state": {
       "description": "c_",
       "layout": "IPY_MODEL_e7808db57b9f48b9bdc566825e4d0c6a",
       "max": 0.30000000000000004,
       "min": -0.1,
       "step": 0.1,
       "style": "IPY_MODEL_0fdb0ad679f94a88a41a8535e9cf75a2",
       "value": 0.3
      }
     },
     "7b7f127491a846318d082d283697f584": {
      "model_module": "@jupyter-widgets/controls",
      "model_module_version": "1.5.0",
      "model_name": "SliderStyleModel",
      "state": {
       "description_width": ""
      }
     },
     "7c6e71c1bc1e478bad5d44f187a5c1aa": {
      "model_module": "@jupyter-widgets/base",
      "model_module_version": "1.2.0",
      "model_name": "LayoutModel",
      "state": {}
     },
     "7cc9cb4e152349718a2ca67d18b67dc4": {
      "model_module": "@jupyter-widgets/controls",
      "model_module_version": "1.5.0",
      "model_name": "VBoxModel",
      "state": {
       "_dom_classes": [
        "widget-interact"
       ],
       "children": [
        "IPY_MODEL_0f0f7e877a124919876f8f349425ed67",
        "IPY_MODEL_07d00a254dd94b28a2382ad26c9de0da"
       ],
       "layout": "IPY_MODEL_f90db51ea316432c91d9ae0ef7656a41"
      }
     },
     "7d91eee6ff0a4d1b9cca0055b010ee68": {
      "model_module": "@jupyter-widgets/base",
      "model_module_version": "1.2.0",
      "model_name": "LayoutModel",
      "state": {}
     },
     "7d9575c143d94fadb995e0bf5f1c5eb0": {
      "model_module": "@jupyter-widgets/base",
      "model_module_version": "1.2.0",
      "model_name": "LayoutModel",
      "state": {}
     },
     "7db271ad82f44ddcb4f97e75464cf2ff": {
      "model_module": "@jupyter-widgets/base",
      "model_module_version": "1.2.0",
      "model_name": "LayoutModel",
      "state": {}
     },
     "7e8dee98b0654a0b8940e841024be9d1": {
      "model_module": "@jupyter-widgets/controls",
      "model_module_version": "1.5.0",
      "model_name": "SliderStyleModel",
      "state": {
       "description_width": ""
      }
     },
     "7f0d495408c04b40b6432523f73251f1": {
      "model_module": "@jupyter-widgets/controls",
      "model_module_version": "1.5.0",
      "model_name": "SliderStyleModel",
      "state": {
       "description_width": ""
      }
     },
     "7f148e70fdc44adead6b35aea17f5596": {
      "model_module": "@jupyter-widgets/controls",
      "model_module_version": "1.5.0",
      "model_name": "CheckboxModel",
      "state": {
       "description": "longitudinal",
       "disabled": false,
       "layout": "IPY_MODEL_cb0d99bbd6e5499f9619b7b94d9add99",
       "style": "IPY_MODEL_699b00d2343a493fa51bb64459461943",
       "value": false
      }
     },
     "7f3d6ebc95914b5891c7e9e8249cb177": {
      "model_module": "@jupyter-widgets/controls",
      "model_module_version": "1.5.0",
      "model_name": "SliderStyleModel",
      "state": {
       "description_width": ""
      }
     },
     "7f4cb910ca02424288b21e6efa1e7b6b": {
      "model_module": "@jupyter-widgets/controls",
      "model_module_version": "1.5.0",
      "model_name": "SliderStyleModel",
      "state": {
       "description_width": ""
      }
     },
     "7f72874e77534679af35ed0a650a98fb": {
      "model_module": "@jupyter-widgets/output",
      "model_module_version": "1.0.0",
      "model_name": "OutputModel",
      "state": {
       "layout": "IPY_MODEL_4641042b19834dbfaf8b5a4f53dfdaaa",
       "outputs": [
        {
         "data": {
          "image/png": "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\n",
          "text/plain": "<Figure size 432x288 with 1 Axes>"
         },
         "metadata": {
          "needs_background": "light"
         },
         "output_type": "display_data"
        }
       ]
      }
     },
     "7fbfdafecdac4c409631aba5c5ff27f2": {
      "model_module": "@jupyter-widgets/controls",
      "model_module_version": "1.5.0",
      "model_name": "FloatSliderModel",
      "state": {
       "description": "$\\xi_y$",
       "layout": "IPY_MODEL_34849acf7aa849418ce6dc4331e2db89",
       "max": 0.4,
       "min": -0.4,
       "step": 0.1,
       "style": "IPY_MODEL_380800683f664f61aa12dd875726786a"
      }
     },
     "7fcd3360bcc04829b3876a4a07c5bb8c": {
      "model_module": "@jupyter-widgets/base",
      "model_module_version": "1.2.0",
      "model_name": "LayoutModel",
      "state": {}
     },
     "800062c45ade408faeb0bbac7776a683": {
      "model_module": "@jupyter-widgets/controls",
      "model_module_version": "1.5.0",
      "model_name": "SliderStyleModel",
      "state": {
       "description_width": ""
      }
     },
     "802b36fec31249359fe47b41087efee9": {
      "model_module": "@jupyter-widgets/controls",
      "model_module_version": "1.5.0",
      "model_name": "CheckboxModel",
      "state": {
       "description": "transverse",
       "disabled": false,
       "layout": "IPY_MODEL_063e848591594088b567c762d7496188",
       "style": "IPY_MODEL_a8e2bdf441e542428da5c5f8dd64eb72",
       "value": true
      }
     },
     "80edbd802c354f51b66ee667b97eb0e2": {
      "model_module": "@jupyter-widgets/base",
      "model_module_version": "1.2.0",
      "model_name": "LayoutModel",
      "state": {}
     },
     "80fa6576607e43bcaf0100b3475a9563": {
      "model_module": "@jupyter-widgets/base",
      "model_module_version": "1.2.0",
      "model_name": "LayoutModel",
      "state": {}
     },
     "814cd409e0e74ec5900b95eb4785fa7d": {
      "model_module": "@jupyter-widgets/controls",
      "model_module_version": "1.5.0",
      "model_name": "SliderStyleModel",
      "state": {
       "description_width": ""
      }
     },
     "818bb10ec6984b729006b0b54e60b6d6": {
      "model_module": "@jupyter-widgets/output",
      "model_module_version": "1.0.0",
      "model_name": "OutputModel",
      "state": {
       "layout": "IPY_MODEL_7fcd3360bcc04829b3876a4a07c5bb8c",
       "outputs": [
        {
         "data": {
          "image/png": "iVBORw0KGgoAAAANSUhEUgAAAV0AAADnCAYAAAC9roUQAAAAOXRFWHRTb2Z0d2FyZQBNYXRwbG90bGliIHZlcnNpb24zLjMuMiwgaHR0cHM6Ly9tYXRwbG90bGliLm9yZy8vihELAAAACXBIWXMAAAsTAAALEwEAmpwYAAAam0lEQVR4nO2d23YkIa5EqVnz/79c58GTp3GaiwAhhSD2Wv1gd7mSzECR4v75fr+JEEKIDf/xLgAhhNwETZcQQgyh6RJCiCE0XUIIMYSmSwghhvy38//flFL6fD4/P3RmOjyf+/Mlhb+Tfufo37X+Py/f9/udLoO0LCtofHdNj4ed9y3VabYsu569haYlRq43UsYRraRl0n5GO5957/tH7733ffnHav/RM90hnkK8b2T3Q+2xGuBRye+zVLk+n4/Ls7hVj4dSnHjHyBuUcuzGw7NUTfehFuweFev2AH9AeSH2su+bQDBfxscPlvGxvU/3+/3+KbBV4LFC/aXVZNytCw23TC1GrPVgfJS1SElXD7OBNIubeX/v+/rkN5bBTj36eOpBfvNosSNhNJ+9YG2+zzVJnd3B/h7ApB5trPUgbbQ9a0uf7gj5LIKU1ipE6QGwUsnZ0cfIAJ+npccMbG2s0ev3zT/Twt10U1rrxJ6Z8kHaaAd7/p1kHI1gp+Hq804YU5J5FoTpPvRmPeSwT2o/tWB/kGrAANehpcdIPFAPPXoxUgLKdHNGb2bm5omMlWfLAN/HbIwQfXpz4nNgTfehdTOelWim6R290r+DfKbbxxqUcuxEsuoPoe71tDhlTKZXZnjTzdFYurvCagDfYAAWaPY1S64RMfBTKvc5WqB5TaRES4tQpuuFxh4GsxURbXmoJ7PPcGZfg9bvqMUPWt1NpTouHUeIqEXTdG/OzCSzInYNXvQCP2JFW8V6lop00Oo2Lay60qSb00Q04aFM12uDFEsQpqC9u1G890vwpNbPZ5UQSDYNKn32RLwNTrI6zLuMEpqme0vAIxhtC61J2ZFAHFS52YARW70zJoxAN9OtZRUnVzDU+2kF/SkvQ0SzLXGLAZcyR0QjS6lvwiiaDHUvWG5/tpsIzZAWp2W/Ucy2xEiwR+LUGMl/53FPU7MXIptv5OAucUL2e5Mmz++Q7+80PR5QukuXpoz1lu2iCRU145ByQvaLXr5RoscIWvlWQUgY1ebp7tihSpNIfVOrSLJfb04PbinoMXIqni9D9cURvR2qEFaSnVyZ3vT6taiHPegJCkIZLLHWY9uKNElT14LbA/wBpZmLkmkjgGC+jI9/WOnhckaaFaxQcj6fz///23mNB2rxj1KM7Nbiuca7HGS/HmZ7L/QyrfdnVmGA97EcVKAefSwzX7Y4+vS6SmcxPyMtpfZWdNqVgQHep9Ya0dKDhjvGzkzr/T3Uo492fLjvMqY1d+7UuYWW7Mh8GeDzaGda7E5YQ2tKprvpprTW9VCrhKxQ80j0WPlOMsbIoLQ0TqjHOrMJI4Tp5kgrGPukbJAspZR+B1mjpcVDTxNqoUtv9WEJONN9GLmZmRvXBH1ZpwaSgG/9HdGnt+dD7/PelBIptDKOIC07rOnmlALeU5yVrC8lvMo/Qt6kat2H1ctv13UiGkBtsKf2f1aMaHTD2EwI033wXrqrdW12jazhYeinBf4Odr4Ac6JrEcp0PWgN1GnNspB+PnplW8Vi0LR2DerwF63WXS2OJFr0vhsRnpFWYVeAS/++1YURrZKt0qqHu56FdNMgavEbzefR6i5p/Q5dk+Ez0lLCv6lZEKeftaalPP9/Kq3+PcuEgAb8A4K5SbJh9GSxe0ZaSjbLRD1BNNscSdCjlFULhAAvcaMBI5vYyAwOlMHRpT7dyAGPbrQ1tFbFoBJp9PoGAy69/CKbMIJnTZ2RlpLvdnSrRArsGqdlv9E1kRpwJFBbGyPUXhKeMTKd6VruiKRJ9OAuYb2DmzYnBHdOb7EOepycpscDimctTxnrbcqBJFjUjGOEyP3wyGWbJVqL5FTDzfE2361npOU/e4sXrW9qlR2b1mhyQ3BLQYwR77JY4JUwbjsjLSX/NL5Ujhsq0xu0F+Lthoumxxvv61tjrcfWFWm9N4kFtxtuDkKwo2TaCCAkKLe/AHOs4sPk5Ijvt35O2s4gpOG2KU2voR4+lGLEUo+nDKTuV1p6mO69YJlpMcBlWA0qUA8ZFnqwtSGjNwtlFpcNb3pz557PaF2L9NkV7Mym5tjVNXfbgLIWmoNu7ruMaWW/J86/9WBnpkU9xtHca4IvwHU0EkZ3032YMd9WRWSFWmMm06Ie+xjRoxcr1EKHlme1njGM6T5I55fWMls2lXRpZVrSZ80g10NSx/nys2W07xfOdHMkTSuESnRDs03azH1/7sRngULk1l/E5dESJGWHNt2H0pvEU5iVTONNtAqWZ1oIZd/VskG6xxFK085Kv7diRp/Tx2dCmC4C0gxitJJJDPykCrcKF9dgMqNLqVVU+56TWpM03QY9o119I0srqne2goJFBtQyABrwb3b06dcy9d61I+nBM9IKjIwKr9D6Pqt5zBHwqoeSHcLenzsd6z5jab91JBPmGWn/A3UAAmG/BC9ama21Ed9uwEj9rJJsGDlh5BlpCatC1ZBMpUMr8yzoetxmwMgGltJYlwSCJsPH9ZwS8FZdCDs49WWIbrYlTjfgiMuGWyaMECPDA2knBHyk/p8WJ2W/J2giNeAInKBHC88YUT0jLf8ZVaRolV9KVD1SOjPAJQaMep8n6pESToyonZGWEl4a/+b9djvRgKXLqBFBqiuaoAR7j4jdOzN466E6T3fnDlWrRGxyr+I10i/hRj0eamMjSM8BqSy78EoYtyyO6O2IZC3ozQGeElZrBPEF4AFyguJ9fQ8s9TA/I630805uN9w3rZVWu58PDfcvnuZ7at/tChZ6HHtG2ufzoeF2KE2teT83LRjgbUoxskuL57tJnZ16uJyRlpJt1wMDvI7FoAINV45FpkXDldMaF5ldbAG34Y12BWOAy9hlvjTcOXrjIrNEXOyAgKSrVFq33U1XI/uNvLoMjZ2ZL/UYp5dp5Z/pwe62dVovKenzdTfdnNGAb72hWanWkLwMRzIk6rGGxHxLny99hlro0FoA08JkIG2U2sBbK+Bbg3VkjZVnS110yZ9l67nWBn2oxR5G6jlUpvtG8ibxqkSSjO+0Cl7KtqxnpewkYpl7yUnvsx6sNs+RkZQb2nRz3gGPYLaan00pXkVDKK/FlCqE+xyhlKx4LkjS+PtoGrQIY7qe9CrQSLYxep3ZaSmn4pGNRjbg3czq0XoxzPZbR4Gm26DXTNMcyGt9F4PersmcG0Av+G/V4mEmGZEgHTCPmg3zjLQXXjMiRitalAq2Si3DsaibvTGF2wzYq6/4NBOeOiMtJdwbmgV18MFrFR8CSEF0uwEjNe+l3XmoSePUGWn5706oYEgVqoXFkl0E0PXoZV6nGTCqeeVIsmGUOFk6Iy0lnBsZBT2wW5ya/UbVpJUFRzCsGrWWRoR7kmjiVbemz0hLae+mHDtBarauckL2G9VsS0jmlkeYkXJSjDy8k0avGFmavdDblANRqAhv6RlOyX4jlFEKcrbV4kTDfWh5ltV9qkwZi5JtvQ3odANGbuqeHNglelPQEO7/Jk08zVd174XWngneAR8t49Pg0QNtqe5NwV0CNUZybtGkFB+PFrv02HpGWkr+/b63B/gDSmsEyVg8QdWD8bFfj+27jNXeJBawQv2llfXu1oWG+xfP1iHj4y8Wepht7WhduVih+rSaVtpQjza1riArPchvWn61ivl+uh5vdgZ4m93BTsMdw1oPUqc1LjL7HN03vKnNnXv+b4ST5nt6sGNE98YBTC16UzJHibzYAQGtKbLuppvSeid2rdIwyOfYYb7UYh7JFMDRGKEe+kj1gDDdB8kE/9bvat9F5ui92aUZErXQQbIXSunz0t+TMSSrD0tAmW7OaNOHTaV9rDxbBvg+erqwu82OEQOGNd2HVsXyrECjGd8Jlf2tReueEF9+iGXSQDLIg1D/es8fscwz9MoNb7oPIwG/C81BjBZRK5sVWgNL0mtE1MOz5cdZL23CmK4nq/3Ho5XQexUfMqsBPaNVdAPehVZ3U6mOr/ZbI8Pjeiq07n22v3nlurebr/UMFY0ZAydiNXgqXcUaMRsePq4nwk2t4D39rNSNojWPOSK17MYqIWhlX9TCPi5aZSn9HlGX7nE93htyWOBttD1QNkexBLEpebMBo+khXSGG2FrvZrq1rOLkgEe9J8k8ZtSyS0EL7hpSA35/Nhqle0E0spT62TCKZw2fkZbSGQEfPTBOzH6jajIzABSBqHo8oMbI1OwF1JuREr0y5ZyQ/UbJbiVIJslHGBs5KUYeUMZH1M9Iy39GEypqxiElmh4lIpRRiqQLAu1+TzTbHIQYUT0jLSXcOaaR+qZWGdnDwovTg/tNhLGRmzTxNF/1/XS/X7uNmKXcVJnelPR48NLkZj1SwoyRN7do8mhhqce2FWm9QTcrbg/wB5TWCJKxeNOKES89bo2PlOz0cDkjzQpWKDkWmVakwT1LvDJfxkeZ3XqY7b1gnWmxQvWxnAJIw+1jmfmyxdFnV2vdZcOb1kq35/81r0Xa7B5UoOGOsdN8bxpQ1kI7PswPpnxTW843UxGY3a5R6wpaaVrRcOepNXNnYXys0YsPqTYQWzuuTPBH3zchIr03+8p3knGkerSeMQ1Xn1aLvfV8IUw3R1rB2CTaj9byVga4DrXYeKAe9khWIL6BM92HkZuZuXEyRi/ge39H9Bmt94havFu2iGWUIi07rOnm1AIeZSraTUaUN6lGmrMWaF4zmgH0ut+870WqDUqM7ySE6T5IA34XWkHNbHwNqwU3HAQcR1uPE004lOl60Bqom3kBjFZKlEwFAYsmtKS/lFr8oNXCq9VxyThCRC14RlqFXbMipH9vNY85Aq16uOtZSHYI23l9VCz7jmdMWPP6u+AZaRmI089mp6WcQi2zsUwIaMA/eGeZ0jnL6Mli94y0lGyWiXqCaLY5K/OYo4KawdxowKgmNrpwBCVpXOrTjZxxoRttDck8ZvR7aIFqtiVuMOBIy4Zrq8VKP3tqsnxGWv5zlMoVKbBrSAI+0j1F10RqwJHw7k7QoPaS8IyRpTPSUrLZEUmT6MFdInr2e0Jw50hW8iHf42l6PFju4tZiecpYpH7fqBmHlOjZL3LZZonWH3+q4eZ4m6/aLmM7dqjS5IbKlNPSA4Hb9GjBGPGhtovbbi3UF0cg9vveVplyELPfm/VICTNGcryvb4115rv9jLSU7JZtlkBtxnmAEOwIGR0KiHrcHCNWXaUmm5jXmropce08ErubVjTcMl5dczTcMrv1MN17wfLNTsPtYzkLhYbbxyo+qIWMXasfYc5IS2lPsNNwZezs12KQj7Gzay7SYgcUtGeguO8yptWPcuL8Ww+0zZcBvYZmtsXuhHV6CePzmRbupvsw07RqVURWqDV6L8MaNNk9SPWQjJ0wNnRoeVbrGcOY7oO0aVWrcAx6XVqZFp+1Pb063tOEhqtPbwXiGzjTzZE2rbwr0g1ZxEgzly8/G0Z32UKqm2j7IWghKTu06T6U3iSewqxkGjkRK1duqAjl32XuSPcopdUF53UfM/qc3vccwnQRkPQfj1YwZoPjcHENJjO6vONGMkiV/11UaLodapWpVEFGKoO0kjLo/2ExQ0Xairldi5TkdXjkWUm6TKKbMM9IK9AyWi1637U6LeUkPOphL/ipxV92PIcZE95VFi2Gz0hLCfuGVrAw21EQ1ud70QomayOWbBz0/txJoBibdPAQOWEcPiMt//mUCoZSoVr0tMg/Ex10PW4zYGQDG5nB0Zs/a8XwcT271+hbgZjVSkDcqlGTaP11pxtwtGXDvUVUCDEyPJBmtf3ZTqIFdo2Tsl/07FaC1IAjcEqM1PA03+nZC1G7HqJVfgnRs98TAzyyJifqkRJOwrjljLT8ZyTB3g/4ZAOOmGkh1RVNosZISlhl08JbD7V5ur09E7zFi9jkXmF0PbgnN+iRgzo2cmuMWJvvlsURKGk8wrUR8H6zk7+0YsRbD+/rW2OdMG49ruf79T+R9nbDzWnpgZ4Nn0pJE0s9buhOGMFCD56RdjGewU49fmNtvqXvpib/2KmHyxlpKe3veqDhyvDoCqIedSy6HdiqkdNaATm72MIk0x1B++3OAJdh1fVAPWTsyrSY3c6hGR/uu4xpDPJEXV2GyM5BN+oxjmamxdbfOrWppiPP1t10H2a6HlpvGFaqNaTzfaVveeqxxuj861asUAsdWpq0njGM6eZIKlht2Sj7q3TRWNrKINdDWsfZ+rNjdE48pOk+SG4GoRIhl02T2suwNS3wtGeAxOiMIBQtauU7IRuXlBvadHPeAe8lykgmPfLZiJUMocw7p1SlhHGPo5SSFY/7WNHm5AG/MKbrzWj/8WiFa739T6pwq1h3H52Qfe1mRpPWi6E3UPX++2jQdBv0mmlaA3m9SsvAt2sy5wbQ6sO+VYccidnOPCfJgHlkE+YZaQWs+8RGMuXIzd4ZPAdMpYOIt2iRkk9/8YwJ7y7TCjwj7X+gDj5IZnJ4l3EXSIE0MovjRD1QtUhJNjCHxNIZaflnIoNUoWpIgh6tzLOg69GbVXNDfCAxasLemiydkZYSzo2Mgh7YLU59GUbUZMSAo1HL4NHvqWfC3p41fUZaSns35djJKc3BU7LfiGZbYnSSPDKnxEjOO2n0ipGl2QsWOyJpEz0Yaswso0YkQhkltLKtaDGCWs4ZEDxLZcpY60by//fmXabTDXh22a4Fp2S3UiJ0zZ1stm88zVd1nu7OHapWQXwJ7EbS34iwUukWPR5qzdzn/xBAKcduPMzX7Iy0/GdLQW8P8AcUTZCybU9Q9ChxY4xYmu/WFWmSfsad0HD/UutWsQh2Gu5fPM2X8fEXi65Ss5Mjvl/bQxFZofpQDxy844P8pqXHKubH9VhXrueapMyjR2m0XUsPGq4ci/ig4cqp6ZHS/HOE2/BmJZW/bURcmx39WjTcOXbNQCnFF024j+aUTHfT1Zjgj7pvQlR2mC+1mENrAQxffvuRGrC76eaMDCr03s6sVOv0BhWkGRK10GE0+609d+qhw+wKRCjTfZiZ9cCm0j5Wni0DfB+9BT7sbrNjxIAhTTenFfAoiy1uybrfWrTuC/nlh1y2UaSDPCh1cOQlgVLmUXrlhjfdh5GA38lMwI78TdSKZonFnG/EVWIjeLb8OOulTRjT9WQlkx2tgIgrlJDQCuiRaUDRDXgXs1rUNgOSLFtvfU8Uusf1RL2xVbT6j0een6TpRT1+s+t5SAatbtVCwuqzqRlz63dR9Ohmuu+mXJQbm8Vz+pmkM/62oK/15Vs1myVTtt6fOxXPcZWTTHi4e+HEjEuS1XqhNU8zGmgDp+/r32bAaHrMmDAKU2ek5b87sYKh3pPmqhhkImQstxgwqnG9GTFhb02Gz0hLSXelkhdob+5RPHen2kVUTaQGHI3ayy/CPSG3EKdmL1hsf7aTCJmUlBOy36hmW0LaL49+fyfFyMN7LMDLfNXPSMt/RhQqwlt6loh6vIlQRinI2VaNE802ByFh3HZGWv4zgnClynSqAc8so7bm9OB+U6tv6DFyKp6epbqf7ve7f2/WGW6qTG9Kejx4aXKzHimVNfGOkTe3aFKLj516bFuR1kvjrbg9wB962a/Vc0EyFm8QBqYZHz9Yxsf2kyNamdZuWKHkWGRaNNwyXpkv46PMbj14RtrFWAb7e7CCevzFSw9SpqbHKuYb3nisaWeAt9k9ohtp+hoCu7sd3nrQgNtoD7q57zJWEn32ZpjdrrFjRJeGO4/2uAjjYw2thNHddFNam+Bfq4SsUPNIKtfsd5JxpHq0njENV5/ZhBHCdHOkFYxNov30ln1KNWCA60A98JCsQHwDZ7oPI+u8Z26cyFl5vgzwfYzqgqjFu2WLWEYpUs+CNd2HVsVCmYo2YkSRK1VKv5tUI81ZSzSuHc0AajODWv9viVQTlBhfoVdmeNPNkQb8LrSCmaxhteAGybRm8JiZoH29E0z4TSjT9UCz2TZTIZHW5ntj0aKQ9JdSix+0uppqdby1V0XvO5HpnpF2K5JZETv7Ny3nMaPTes67noVkh7Cd10fFsu/4VBMeynSj9XON4hHcPTTnMUekFlSWCQEN+AdvgzvFhLvH9dxQydDn+q7MY45KSROEe7zRgFFbvKMmjJI0djPdVmf8qRkX8v3sWDWGBKrZlrjBgEuZ4wkm7KnJ8hlp+c9RKlekwK5xWvYbXROpAUciQlO9RasrytOzls5IS2nfphy7iB7cJaK/DKMH95veYCtKM7fGaXo8oIyPLE8Z270jkiZRMw4pJ2S/6OUbJVqCcqrhPiDooTZPt7cjkrd4kfqmNNixaY0mpwe3FCTzvU0Tr4RRfXEEYlP3tsqUI+lrtH4eN+uREn7rEKEMlljrYXpGWunn3dwe4DkIL0SUTBsBhNYh4+MfVua7fRnwygquVZC6NyKw23zfetCAf/B6GdJwy/RehquY7r1g+Wan4faxDHbq0cdKD77sZOxa/eiy4U0ty9kR7AzwPrtHdGm4Y+zsmrttQFkDiR4j9dp9lzGt7PfE+bceaPdr0XDn0c602J2whtZiC3fTfZhtWqHvmxCV2X4t6qHPSOYrjRPqsc7sYgsY032QTPAv/fz8LZtKukje7tLvIGtIMt+eJtRCl5mJAnCmmyNtXnlXJKQ5lrsYaermL7+Tn4k3kg1eWp/3BmXeuBbSckOb7kMp4D2FqVXukSw7csVCCo5dLRv0/RFKlMqLoNWoRqd3hYQw3QfP7oPWdWfKxW6QeayeHcpLPgozurxf4pJurOhahDJdD1oDQ7NBOVI5Gfj/sJihIm3F3K5FSntadpIuk+ha8Iy0Ar2sdhXJd1jNY46ARz3sDZDc+jK07jc+0YSHz0hLCf+mZkGc7oSwPt+LVmZracQ04B8QzG3GhNHonpGW0nmjjG8iLKy4RYuUsPW40YCRTWxkBgfK4OjwcT07lol6gJjVSpDMY0a/hxYI2ZSUGww42rLhngkjeNbwQJrV9mc7iRTYLU7KfpGzWwnSYI/CSTGCNj4yPXshal9jtMovIXr2e0qA57SyYPSX4ol6pISTMG45Iy3/GUmwEw33TSQ93iCXbYVImpxquDneCePnxIdKCCGo/Me7AIQQchM0XUIIMYSmSwghhtB0CSHEEJouIYQYQtMlhBBD/g+7R++7avxlYgAAAABJRU5ErkJggg==\n",
          "text/plain": "<Figure size 432x288 with 1 Axes>"
         },
         "metadata": {
          "needs_background": "light"
         },
         "output_type": "display_data"
        }
       ]
      }
     },
     "81b348fb9d8a48239df0ce502eb1079d": {
      "model_module": "@jupyter-widgets/base",
      "model_module_version": "1.2.0",
      "model_name": "LayoutModel",
      "state": {}
     },
     "82b3dd749b1147d8a183b63a40508de4": {
      "model_module": "@jupyter-widgets/base",
      "model_module_version": "1.2.0",
      "model_name": "LayoutModel",
      "state": {}
     },
     "82c78018b5bb4e29be9784c96bf55a1a": {
      "model_module": "@jupyter-widgets/base",
      "model_module_version": "1.2.0",
      "model_name": "LayoutModel",
      "state": {}
     },
     "82db3bb6784a4e44a4d0a9cc8312705c": {
      "model_module": "@jupyter-widgets/base",
      "model_module_version": "1.2.0",
      "model_name": "LayoutModel",
      "state": {}
     },
     "8389e301ab5049cda79294ab5f081f5e": {
      "model_module": "@jupyter-widgets/output",
      "model_module_version": "1.0.0",
      "model_name": "OutputModel",
      "state": {
       "layout": "IPY_MODEL_290647553a374c5e96a193f2ee02a6b3",
       "outputs": [
        {
         "data": {
          "image/png": "iVBORw0KGgoAAAANSUhEUgAAAOcAAADnCAYAAADl9EEgAAAABHNCSVQICAgIfAhkiAAAAAlwSFlzAAALEgAACxIB0t1+/AAAADh0RVh0U29mdHdhcmUAbWF0cGxvdGxpYiB2ZXJzaW9uMy4xLjAsIGh0dHA6Ly9tYXRwbG90bGliLm9yZy+17YcXAAAE20lEQVR4nO3dQY7USBRFUbvVKyLXhPeE10SuyT1xSikEWT3qeL/fOZLFAKswMjf9HQHFfl3XBuT5a/UFAL8nTgglTgglTgglTgglTgglTgglTgglTgglTgglTgglTgglTgglTgglTgglTgglTgglTgglTgglTgglTgglTgglTgglTgglTgglTgglTgglTgglTgglTgglTgglTgglTgglTgglTgglTgglTgglTgglTgglTgglTgglTgglTgglTgglTgglTgglTgglTgglTgglTgglTgglTgglTgglTgglTgglTgglTgglTgglTghVGee+79efju3teHw473g77/nhvP3++de5x4fzHr/8+p++5vl23vnFuf+X39PqPzf/tco4YYL9uuo+kLbz/hQ+rmtffS187fXUvMruV2Wc22tEKrvZU7XGaayFUH+vvoAVzvvHY+lV8G8VznbbtpWOta1j0lilryHGWgglTuI97qONsZZ4rffLkxNCiRNCiRNCVe5z9r1lM5EnJ4SqfHIyy/fVF7BI5VbK416af5YtzY9V+jeEKuNs3TcbqzRO75zEe95HG09O4rXeL09OCCVOCCVOCFW5z9m6b8YslQtCrUvzU1kQAqJUjrWvPbPGf10/0c/VF7BI5VjbOiaNVfoaYqyFUOIk3rF1fo9hYy3xWu+XJyeEEieEEieEqtznbN03Y5bKBaHWfbOpWheEKp+czPJt9QUsUvnkPO5P4rPsk3is0kmnMs7WMWms0jit1kIocRJvv4824oRQ4oRQ4oRQlfucrftmzFK5ldK6ND9V69aXsRZCVY61zPJj9QUsUjnWto5JY5W+hhhrIZQ4iXfeRxtjLfFa75cnJ4QSJ4QSJ4Sq3Ods3TdjlsoFodZ9s6ksCAFRKsfa155Z43+OM1HhbLdtW+lY2zomjVX6GmKshVDiJN7jPtoYa4nXer88OSGUOCGUOCFU5T5n31s2E3lyQqjKJyezfF99AYtUbqU87qX5Z9nS/Filf0OoMs7WfbOxSuP0zkm853208eQkXuv98uSEUOKEUOKEUJX7nK37ZsxSuSDUujQ/lQUhIErlWPvaM2v81/UT/Vx9AYtUjrWtY9JYpa8hxloIJU7iHVvn9xg21hKv9X55ckIocUIocUKoyn3O1n0zZqlcEGrdN5uqdUGo8snJLN9WX8AilU/O4/4kPss+iccqnXQq42wdk8YqjdNqLYQSJ/H2+2gjTgglTgglTghVuc/Zum/GLJVbKa1L81O1bn0ZayFU5VjLLD9WX8AilWNt65g0VulriLEWQomTeOd9tDHWEq/1fnlyQihxQihxQqjKOF/7Zvu+X787zn2/tvs4/3DO69jejseH8463855ffM3n27nHh/Mev/z6n77m5N/T0j8sC1XG2fit/ZmncrUWJqh8csIE4oRQ4oRQ4oRQ4oRQ4oRQ4oRQ4oRQ4oRQ4oRQ4oRQ4oRQ4oRQ4oRQ4oRQ4oRQ4oRQ4oRQ4oRQ4oRQ4oRQ4oRQ4oRQ4oRQ4oRQ4oRQ4oRQ4oRQ4oRQ4oRQ4oRQ4oRQ4oRQ4oRQ4oRQ4oRQ4oRQ4oRQ4oRQ4oRQ4oRQ4oRQ4oRQ4oRQ4oRQ4oRQ4oRQ4oRQ4oRQ4oRQ4oRQ4oRQ4oRQ4oRQ4oRQ4oRQ4oRQ4oRQ4oRQ4oRQ/wBcJkhFZOSdcQAAAABJRU5ErkJggg==\n",
          "text/plain": "<Figure size 432x288 with 1 Axes>"
         },
         "metadata": {
          "needs_background": "light"
         },
         "output_type": "display_data"
        }
       ]
      }
     },
     "8421656118af4efc914cd5e5f6085baa": {
      "model_module": "@jupyter-widgets/base",
      "model_module_version": "1.2.0",
      "model_name": "LayoutModel",
      "state": {}
     },
     "844519368d1d428bad4ef538c1422fdb": {
      "model_module": "@jupyter-widgets/base",
      "model_module_version": "1.2.0",
      "model_name": "LayoutModel",
      "state": {}
     },
     "845777ae15474683a07ccc3e10ceeef3": {
      "model_module": "@jupyter-widgets/controls",
      "model_module_version": "1.5.0",
      "model_name": "FloatSliderModel",
      "state": {
       "description": "c",
       "layout": "IPY_MODEL_4d882eeaf35b450093e6b7579b315494",
       "max": 0.3,
       "min": 0.01,
       "step": 0.01,
       "style": "IPY_MODEL_eda6603698f740d8a15c7f4c9d88d7cb",
       "value": 0.1
      }
     },
     "84643a4283084cea85605c8fc0c3d677": {
      "model_module": "@jupyter-widgets/controls",
      "model_module_version": "1.5.0",
      "model_name": "SliderStyleModel",
      "state": {
       "description_width": ""
      }
     },
     "853a54fb4e15439690a77ca50bccebaa": {
      "model_module": "@jupyter-widgets/controls",
      "model_module_version": "1.5.0",
      "model_name": "FloatSliderModel",
      "state": {
       "description": "$\\epsilon_2$",
       "layout": "IPY_MODEL_6c88c5bd41c9450e96cc7027e025842d",
       "max": 0.2,
       "min": -0.2,
       "step": 0.1,
       "style": "IPY_MODEL_8d776ce88daf428cbcd5665e9c7705f4",
       "value": -0.1
      }
     },
     "86c234299cc54e94be481c7ce3829b10": {
      "model_module": "@jupyter-widgets/output",
      "model_module_version": "1.0.0",
      "model_name": "OutputModel",
      "state": {
       "layout": "IPY_MODEL_2ad777b2350244b88ce2ba730b2c673d",
       "outputs": [
        {
         "ename": "TypeError",
         "evalue": "can't convert expression to float",
         "output_type": "error",
         "traceback": [
          "\u001b[0;31m---------------------------------------------------------------------------\u001b[0m",
          "\u001b[0;31mTypeError\u001b[0m                                 Traceback (most recent call last)",
          "\u001b[0;32m~/anaconda3/envs/sbs/lib/python3.7/site-packages/ipywidgets/widgets/interaction.py\u001b[0m in \u001b[0;36mupdate\u001b[0;34m(self, *args)\u001b[0m\n\u001b[1;32m    249\u001b[0m                     \u001b[0mvalue\u001b[0m \u001b[0;34m=\u001b[0m \u001b[0mwidget\u001b[0m\u001b[0;34m.\u001b[0m\u001b[0mget_interact_value\u001b[0m\u001b[0;34m(\u001b[0m\u001b[0;34m)\u001b[0m\u001b[0;34m\u001b[0m\u001b[0;34m\u001b[0m\u001b[0m\n\u001b[1;32m    250\u001b[0m                     \u001b[0mself\u001b[0m\u001b[0;34m.\u001b[0m\u001b[0mkwargs\u001b[0m\u001b[0;34m[\u001b[0m\u001b[0mwidget\u001b[0m\u001b[0;34m.\u001b[0m\u001b[0m_kwarg\u001b[0m\u001b[0;34m]\u001b[0m \u001b[0;34m=\u001b[0m \u001b[0mvalue\u001b[0m\u001b[0;34m\u001b[0m\u001b[0;34m\u001b[0m\u001b[0m\n\u001b[0;32m--> 251\u001b[0;31m                 \u001b[0mself\u001b[0m\u001b[0;34m.\u001b[0m\u001b[0mresult\u001b[0m \u001b[0;34m=\u001b[0m \u001b[0mself\u001b[0m\u001b[0;34m.\u001b[0m\u001b[0mf\u001b[0m\u001b[0;34m(\u001b[0m\u001b[0;34m**\u001b[0m\u001b[0mself\u001b[0m\u001b[0;34m.\u001b[0m\u001b[0mkwargs\u001b[0m\u001b[0;34m)\u001b[0m\u001b[0;34m\u001b[0m\u001b[0;34m\u001b[0m\u001b[0m\n\u001b[0m\u001b[1;32m    252\u001b[0m                 \u001b[0mshow_inline_matplotlib_plots\u001b[0m\u001b[0;34m(\u001b[0m\u001b[0;34m)\u001b[0m\u001b[0;34m\u001b[0m\u001b[0;34m\u001b[0m\u001b[0m\n\u001b[1;32m    253\u001b[0m                 \u001b[0;32mif\u001b[0m \u001b[0mself\u001b[0m\u001b[0;34m.\u001b[0m\u001b[0mauto_display\u001b[0m \u001b[0;32mand\u001b[0m \u001b[0mself\u001b[0m\u001b[0;34m.\u001b[0m\u001b[0mresult\u001b[0m \u001b[0;32mis\u001b[0m \u001b[0;32mnot\u001b[0m \u001b[0;32mNone\u001b[0m\u001b[0;34m:\u001b[0m\u001b[0;34m\u001b[0m\u001b[0;34m\u001b[0m\u001b[0m\n",
          "\u001b[0;32m<ipython-input-9-f167b2f11308>\u001b[0m in \u001b[0;36mplot_mobilty\u001b[0;34m(mi, ci, si)\u001b[0m\n\u001b[1;32m      9\u001b[0m \u001b[0;34m\u001b[0m\u001b[0m\n\u001b[1;32m     10\u001b[0m \u001b[0;32mdef\u001b[0m \u001b[0mplot_mobilty\u001b[0m\u001b[0;34m(\u001b[0m\u001b[0mmi\u001b[0m\u001b[0;34m=\u001b[0m\u001b[0;36m1\u001b[0m\u001b[0;34m,\u001b[0m \u001b[0mci\u001b[0m\u001b[0;34m=\u001b[0m\u001b[0;36m0.1\u001b[0m\u001b[0;34m,\u001b[0m \u001b[0msi\u001b[0m\u001b[0;34m=\u001b[0m\u001b[0;36m1\u001b[0m\u001b[0;34m)\u001b[0m\u001b[0;34m:\u001b[0m\u001b[0;34m\u001b[0m\u001b[0;34m\u001b[0m\u001b[0m\n\u001b[0;32m---> 11\u001b[0;31m     \u001b[0mpl\u001b[0m\u001b[0;34m.\u001b[0m\u001b[0mloglog\u001b[0m\u001b[0;34m(\u001b[0m\u001b[0momi\u001b[0m\u001b[0;34m,\u001b[0m\u001b[0mabs\u001b[0m\u001b[0;34m(\u001b[0m\u001b[0mYi\u001b[0m\u001b[0;34m(\u001b[0m\u001b[0momi\u001b[0m\u001b[0;34m,\u001b[0m\u001b[0mmi\u001b[0m\u001b[0;34m,\u001b[0m\u001b[0mci\u001b[0m\u001b[0;34m,\u001b[0m\u001b[0msi\u001b[0m\u001b[0;34m)\u001b[0m\u001b[0;34m)\u001b[0m\u001b[0;34m)\u001b[0m\u001b[0;34m\u001b[0m\u001b[0;34m\u001b[0m\u001b[0m\n\u001b[0m\u001b[1;32m     12\u001b[0m     \u001b[0mpl\u001b[0m\u001b[0;34m.\u001b[0m\u001b[0mxlabel\u001b[0m\u001b[0;34m(\u001b[0m\u001b[0;34mr'$\\omega$'\u001b[0m\u001b[0;34m)\u001b[0m\u001b[0;34m\u001b[0m\u001b[0;34m\u001b[0m\u001b[0m\n\u001b[1;32m     13\u001b[0m     \u001b[0mpl\u001b[0m\u001b[0;34m.\u001b[0m\u001b[0mylabel\u001b[0m\u001b[0;34m(\u001b[0m\u001b[0;34mr'$|Y|$'\u001b[0m\u001b[0;34m)\u001b[0m\u001b[0;34m\u001b[0m\u001b[0;34m\u001b[0m\u001b[0m\n",
          "\u001b[0;32m~/anaconda3/envs/sbs/lib/python3.7/site-packages/matplotlib/pyplot.py\u001b[0m in \u001b[0;36mloglog\u001b[0;34m(*args, **kwargs)\u001b[0m\n\u001b[1;32m   2695\u001b[0m \u001b[0;34m@\u001b[0m\u001b[0mdocstring\u001b[0m\u001b[0;34m.\u001b[0m\u001b[0mcopy\u001b[0m\u001b[0;34m(\u001b[0m\u001b[0mAxes\u001b[0m\u001b[0;34m.\u001b[0m\u001b[0mloglog\u001b[0m\u001b[0;34m)\u001b[0m\u001b[0;34m\u001b[0m\u001b[0;34m\u001b[0m\u001b[0m\n\u001b[1;32m   2696\u001b[0m \u001b[0;32mdef\u001b[0m \u001b[0mloglog\u001b[0m\u001b[0;34m(\u001b[0m\u001b[0;34m*\u001b[0m\u001b[0margs\u001b[0m\u001b[0;34m,\u001b[0m \u001b[0;34m**\u001b[0m\u001b[0mkwargs\u001b[0m\u001b[0;34m)\u001b[0m\u001b[0;34m:\u001b[0m\u001b[0;34m\u001b[0m\u001b[0;34m\u001b[0m\u001b[0m\n\u001b[0;32m-> 2697\u001b[0;31m     \u001b[0;32mreturn\u001b[0m \u001b[0mgca\u001b[0m\u001b[0;34m(\u001b[0m\u001b[0;34m)\u001b[0m\u001b[0;34m.\u001b[0m\u001b[0mloglog\u001b[0m\u001b[0;34m(\u001b[0m\u001b[0;34m*\u001b[0m\u001b[0margs\u001b[0m\u001b[0;34m,\u001b[0m \u001b[0;34m**\u001b[0m\u001b[0mkwargs\u001b[0m\u001b[0;34m)\u001b[0m\u001b[0;34m\u001b[0m\u001b[0;34m\u001b[0m\u001b[0m\n\u001b[0m\u001b[1;32m   2698\u001b[0m \u001b[0;34m\u001b[0m\u001b[0m\n\u001b[1;32m   2699\u001b[0m \u001b[0;34m\u001b[0m\u001b[0m\n",
          "\u001b[0;32m~/anaconda3/envs/sbs/lib/python3.7/site-packages/matplotlib/axes/_axes.py\u001b[0m in \u001b[0;36mloglog\u001b[0;34m(self, *args, **kwargs)\u001b[0m\n\u001b[1;32m   1799\u001b[0m         \u001b[0mself\u001b[0m\u001b[0;34m.\u001b[0m\u001b[0mset_yscale\u001b[0m\u001b[0;34m(\u001b[0m\u001b[0;34m'log'\u001b[0m\u001b[0;34m,\u001b[0m \u001b[0;34m**\u001b[0m\u001b[0mdy\u001b[0m\u001b[0;34m)\u001b[0m\u001b[0;34m\u001b[0m\u001b[0;34m\u001b[0m\u001b[0m\n\u001b[1;32m   1800\u001b[0m \u001b[0;34m\u001b[0m\u001b[0m\n\u001b[0;32m-> 1801\u001b[0;31m         \u001b[0ml\u001b[0m \u001b[0;34m=\u001b[0m \u001b[0mself\u001b[0m\u001b[0;34m.\u001b[0m\u001b[0mplot\u001b[0m\u001b[0;34m(\u001b[0m\u001b[0;34m*\u001b[0m\u001b[0margs\u001b[0m\u001b[0;34m,\u001b[0m \u001b[0;34m**\u001b[0m\u001b[0mkwargs\u001b[0m\u001b[0;34m)\u001b[0m\u001b[0;34m\u001b[0m\u001b[0;34m\u001b[0m\u001b[0m\n\u001b[0m\u001b[1;32m   1802\u001b[0m         \u001b[0;32mreturn\u001b[0m \u001b[0ml\u001b[0m\u001b[0;34m\u001b[0m\u001b[0;34m\u001b[0m\u001b[0m\n\u001b[1;32m   1803\u001b[0m \u001b[0;34m\u001b[0m\u001b[0m\n",
          "\u001b[0;32m~/anaconda3/envs/sbs/lib/python3.7/site-packages/matplotlib/axes/_axes.py\u001b[0m in \u001b[0;36mplot\u001b[0;34m(self, scalex, scaley, data, *args, **kwargs)\u001b[0m\n\u001b[1;32m   1666\u001b[0m         \u001b[0mlines\u001b[0m \u001b[0;34m=\u001b[0m \u001b[0;34m[\u001b[0m\u001b[0;34m*\u001b[0m\u001b[0mself\u001b[0m\u001b[0;34m.\u001b[0m\u001b[0m_get_lines\u001b[0m\u001b[0;34m(\u001b[0m\u001b[0;34m*\u001b[0m\u001b[0margs\u001b[0m\u001b[0;34m,\u001b[0m \u001b[0mdata\u001b[0m\u001b[0;34m=\u001b[0m\u001b[0mdata\u001b[0m\u001b[0;34m,\u001b[0m \u001b[0;34m**\u001b[0m\u001b[0mkwargs\u001b[0m\u001b[0;34m)\u001b[0m\u001b[0;34m]\u001b[0m\u001b[0;34m\u001b[0m\u001b[0;34m\u001b[0m\u001b[0m\n\u001b[1;32m   1667\u001b[0m         \u001b[0;32mfor\u001b[0m \u001b[0mline\u001b[0m \u001b[0;32min\u001b[0m \u001b[0mlines\u001b[0m\u001b[0;34m:\u001b[0m\u001b[0;34m\u001b[0m\u001b[0;34m\u001b[0m\u001b[0m\n\u001b[0;32m-> 1668\u001b[0;31m             \u001b[0mself\u001b[0m\u001b[0;34m.\u001b[0m\u001b[0madd_line\u001b[0m\u001b[0;34m(\u001b[0m\u001b[0mline\u001b[0m\u001b[0;34m)\u001b[0m\u001b[0;34m\u001b[0m\u001b[0;34m\u001b[0m\u001b[0m\n\u001b[0m\u001b[1;32m   1669\u001b[0m         \u001b[0mself\u001b[0m\u001b[0;34m.\u001b[0m\u001b[0mautoscale_view\u001b[0m\u001b[0;34m(\u001b[0m\u001b[0mscalex\u001b[0m\u001b[0;34m=\u001b[0m\u001b[0mscalex\u001b[0m\u001b[0;34m,\u001b[0m \u001b[0mscaley\u001b[0m\u001b[0;34m=\u001b[0m\u001b[0mscaley\u001b[0m\u001b[0;34m)\u001b[0m\u001b[0;34m\u001b[0m\u001b[0;34m\u001b[0m\u001b[0m\n\u001b[1;32m   1670\u001b[0m         \u001b[0;32mreturn\u001b[0m \u001b[0mlines\u001b[0m\u001b[0;34m\u001b[0m\u001b[0;34m\u001b[0m\u001b[0m\n",
          "\u001b[0;32m~/anaconda3/envs/sbs/lib/python3.7/site-packages/matplotlib/axes/_base.py\u001b[0m in \u001b[0;36madd_line\u001b[0;34m(self, line)\u001b[0m\n\u001b[1;32m   1898\u001b[0m             \u001b[0mline\u001b[0m\u001b[0;34m.\u001b[0m\u001b[0mset_clip_path\u001b[0m\u001b[0;34m(\u001b[0m\u001b[0mself\u001b[0m\u001b[0;34m.\u001b[0m\u001b[0mpatch\u001b[0m\u001b[0;34m)\u001b[0m\u001b[0;34m\u001b[0m\u001b[0;34m\u001b[0m\u001b[0m\n\u001b[1;32m   1899\u001b[0m \u001b[0;34m\u001b[0m\u001b[0m\n\u001b[0;32m-> 1900\u001b[0;31m         \u001b[0mself\u001b[0m\u001b[0;34m.\u001b[0m\u001b[0m_update_line_limits\u001b[0m\u001b[0;34m(\u001b[0m\u001b[0mline\u001b[0m\u001b[0;34m)\u001b[0m\u001b[0;34m\u001b[0m\u001b[0;34m\u001b[0m\u001b[0m\n\u001b[0m\u001b[1;32m   1901\u001b[0m         \u001b[0;32mif\u001b[0m \u001b[0;32mnot\u001b[0m \u001b[0mline\u001b[0m\u001b[0;34m.\u001b[0m\u001b[0mget_label\u001b[0m\u001b[0;34m(\u001b[0m\u001b[0;34m)\u001b[0m\u001b[0;34m:\u001b[0m\u001b[0;34m\u001b[0m\u001b[0;34m\u001b[0m\u001b[0m\n\u001b[1;32m   1902\u001b[0m             \u001b[0mline\u001b[0m\u001b[0;34m.\u001b[0m\u001b[0mset_label\u001b[0m\u001b[0;34m(\u001b[0m\u001b[0;34m'_line%d'\u001b[0m \u001b[0;34m%\u001b[0m \u001b[0mlen\u001b[0m\u001b[0;34m(\u001b[0m\u001b[0mself\u001b[0m\u001b[0;34m.\u001b[0m\u001b[0mlines\u001b[0m\u001b[0;34m)\u001b[0m\u001b[0;34m)\u001b[0m\u001b[0;34m\u001b[0m\u001b[0;34m\u001b[0m\u001b[0m\n",
          "\u001b[0;32m~/anaconda3/envs/sbs/lib/python3.7/site-packages/matplotlib/axes/_base.py\u001b[0m in \u001b[0;36m_update_line_limits\u001b[0;34m(self, line)\u001b[0m\n\u001b[1;32m   1920\u001b[0m         \u001b[0mFigures\u001b[0m \u001b[0mout\u001b[0m \u001b[0mthe\u001b[0m \u001b[0mdata\u001b[0m \u001b[0mlimit\u001b[0m \u001b[0mof\u001b[0m \u001b[0mthe\u001b[0m \u001b[0mgiven\u001b[0m \u001b[0mline\u001b[0m\u001b[0;34m,\u001b[0m \u001b[0mupdating\u001b[0m \u001b[0mself\u001b[0m\u001b[0;34m.\u001b[0m\u001b[0mdataLim\u001b[0m\u001b[0;34m.\u001b[0m\u001b[0;34m\u001b[0m\u001b[0;34m\u001b[0m\u001b[0m\n\u001b[1;32m   1921\u001b[0m         \"\"\"\n\u001b[0;32m-> 1922\u001b[0;31m         \u001b[0mpath\u001b[0m \u001b[0;34m=\u001b[0m \u001b[0mline\u001b[0m\u001b[0;34m.\u001b[0m\u001b[0mget_path\u001b[0m\u001b[0;34m(\u001b[0m\u001b[0;34m)\u001b[0m\u001b[0;34m\u001b[0m\u001b[0;34m\u001b[0m\u001b[0m\n\u001b[0m\u001b[1;32m   1923\u001b[0m         \u001b[0;32mif\u001b[0m \u001b[0mpath\u001b[0m\u001b[0;34m.\u001b[0m\u001b[0mvertices\u001b[0m\u001b[0;34m.\u001b[0m\u001b[0msize\u001b[0m \u001b[0;34m==\u001b[0m \u001b[0;36m0\u001b[0m\u001b[0;34m:\u001b[0m\u001b[0;34m\u001b[0m\u001b[0;34m\u001b[0m\u001b[0m\n\u001b[1;32m   1924\u001b[0m             \u001b[0;32mreturn\u001b[0m\u001b[0;34m\u001b[0m\u001b[0;34m\u001b[0m\u001b[0m\n",
          "\u001b[0;32m~/anaconda3/envs/sbs/lib/python3.7/site-packages/matplotlib/lines.py\u001b[0m in \u001b[0;36mget_path\u001b[0;34m(self)\u001b[0m\n\u001b[1;32m   1025\u001b[0m         \"\"\"\n\u001b[1;32m   1026\u001b[0m         \u001b[0;32mif\u001b[0m \u001b[0mself\u001b[0m\u001b[0;34m.\u001b[0m\u001b[0m_invalidy\u001b[0m \u001b[0;32mor\u001b[0m \u001b[0mself\u001b[0m\u001b[0;34m.\u001b[0m\u001b[0m_invalidx\u001b[0m\u001b[0;34m:\u001b[0m\u001b[0;34m\u001b[0m\u001b[0;34m\u001b[0m\u001b[0m\n\u001b[0;32m-> 1027\u001b[0;31m             \u001b[0mself\u001b[0m\u001b[0;34m.\u001b[0m\u001b[0mrecache\u001b[0m\u001b[0;34m(\u001b[0m\u001b[0;34m)\u001b[0m\u001b[0;34m\u001b[0m\u001b[0;34m\u001b[0m\u001b[0m\n\u001b[0m\u001b[1;32m   1028\u001b[0m         \u001b[0;32mreturn\u001b[0m \u001b[0mself\u001b[0m\u001b[0;34m.\u001b[0m\u001b[0m_path\u001b[0m\u001b[0;34m\u001b[0m\u001b[0;34m\u001b[0m\u001b[0m\n\u001b[1;32m   1029\u001b[0m \u001b[0;34m\u001b[0m\u001b[0m\n",
          "\u001b[0;32m~/anaconda3/envs/sbs/lib/python3.7/site-packages/matplotlib/lines.py\u001b[0m in \u001b[0;36mrecache\u001b[0;34m(self, always)\u001b[0m\n\u001b[1;32m    673\u001b[0m         \u001b[0;32mif\u001b[0m \u001b[0malways\u001b[0m \u001b[0;32mor\u001b[0m \u001b[0mself\u001b[0m\u001b[0;34m.\u001b[0m\u001b[0m_invalidy\u001b[0m\u001b[0;34m:\u001b[0m\u001b[0;34m\u001b[0m\u001b[0;34m\u001b[0m\u001b[0m\n\u001b[1;32m    674\u001b[0m             \u001b[0myconv\u001b[0m \u001b[0;34m=\u001b[0m \u001b[0mself\u001b[0m\u001b[0;34m.\u001b[0m\u001b[0mconvert_yunits\u001b[0m\u001b[0;34m(\u001b[0m\u001b[0mself\u001b[0m\u001b[0;34m.\u001b[0m\u001b[0m_yorig\u001b[0m\u001b[0;34m)\u001b[0m\u001b[0;34m\u001b[0m\u001b[0;34m\u001b[0m\u001b[0m\n\u001b[0;32m--> 675\u001b[0;31m             \u001b[0my\u001b[0m \u001b[0;34m=\u001b[0m \u001b[0m_to_unmasked_float_array\u001b[0m\u001b[0;34m(\u001b[0m\u001b[0myconv\u001b[0m\u001b[0;34m)\u001b[0m\u001b[0;34m.\u001b[0m\u001b[0mravel\u001b[0m\u001b[0;34m(\u001b[0m\u001b[0;34m)\u001b[0m\u001b[0;34m\u001b[0m\u001b[0;34m\u001b[0m\u001b[0m\n\u001b[0m\u001b[1;32m    676\u001b[0m         \u001b[0;32melse\u001b[0m\u001b[0;34m:\u001b[0m\u001b[0;34m\u001b[0m\u001b[0;34m\u001b[0m\u001b[0m\n\u001b[1;32m    677\u001b[0m             \u001b[0my\u001b[0m \u001b[0;34m=\u001b[0m \u001b[0mself\u001b[0m\u001b[0;34m.\u001b[0m\u001b[0m_y\u001b[0m\u001b[0;34m\u001b[0m\u001b[0;34m\u001b[0m\u001b[0m\n",
          "\u001b[0;32m~/anaconda3/envs/sbs/lib/python3.7/site-packages/matplotlib/cbook/__init__.py\u001b[0m in \u001b[0;36m_to_unmasked_float_array\u001b[0;34m(x)\u001b[0m\n\u001b[1;32m   1388\u001b[0m         \u001b[0;32mreturn\u001b[0m \u001b[0mnp\u001b[0m\u001b[0;34m.\u001b[0m\u001b[0mma\u001b[0m\u001b[0;34m.\u001b[0m\u001b[0masarray\u001b[0m\u001b[0;34m(\u001b[0m\u001b[0mx\u001b[0m\u001b[0;34m,\u001b[0m \u001b[0mfloat\u001b[0m\u001b[0;34m)\u001b[0m\u001b[0;34m.\u001b[0m\u001b[0mfilled\u001b[0m\u001b[0;34m(\u001b[0m\u001b[0mnp\u001b[0m\u001b[0;34m.\u001b[0m\u001b[0mnan\u001b[0m\u001b[0;34m)\u001b[0m\u001b[0;34m\u001b[0m\u001b[0;34m\u001b[0m\u001b[0m\n\u001b[1;32m   1389\u001b[0m     \u001b[0;32melse\u001b[0m\u001b[0;34m:\u001b[0m\u001b[0;34m\u001b[0m\u001b[0;34m\u001b[0m\u001b[0m\n\u001b[0;32m-> 1390\u001b[0;31m         \u001b[0;32mreturn\u001b[0m \u001b[0mnp\u001b[0m\u001b[0;34m.\u001b[0m\u001b[0masarray\u001b[0m\u001b[0;34m(\u001b[0m\u001b[0mx\u001b[0m\u001b[0;34m,\u001b[0m \u001b[0mfloat\u001b[0m\u001b[0;34m)\u001b[0m\u001b[0;34m\u001b[0m\u001b[0;34m\u001b[0m\u001b[0m\n\u001b[0m\u001b[1;32m   1391\u001b[0m \u001b[0;34m\u001b[0m\u001b[0m\n\u001b[1;32m   1392\u001b[0m \u001b[0;34m\u001b[0m\u001b[0m\n",
          "\u001b[0;32m~/anaconda3/envs/sbs/lib/python3.7/site-packages/numpy/core/numeric.py\u001b[0m in \u001b[0;36masarray\u001b[0;34m(a, dtype, order)\u001b[0m\n\u001b[1;32m    536\u001b[0m \u001b[0;34m\u001b[0m\u001b[0m\n\u001b[1;32m    537\u001b[0m     \"\"\"\n\u001b[0;32m--> 538\u001b[0;31m     \u001b[0;32mreturn\u001b[0m \u001b[0marray\u001b[0m\u001b[0;34m(\u001b[0m\u001b[0ma\u001b[0m\u001b[0;34m,\u001b[0m \u001b[0mdtype\u001b[0m\u001b[0;34m,\u001b[0m \u001b[0mcopy\u001b[0m\u001b[0;34m=\u001b[0m\u001b[0;32mFalse\u001b[0m\u001b[0;34m,\u001b[0m \u001b[0morder\u001b[0m\u001b[0;34m=\u001b[0m\u001b[0morder\u001b[0m\u001b[0;34m)\u001b[0m\u001b[0;34m\u001b[0m\u001b[0;34m\u001b[0m\u001b[0m\n\u001b[0m\u001b[1;32m    539\u001b[0m \u001b[0;34m\u001b[0m\u001b[0m\n\u001b[1;32m    540\u001b[0m \u001b[0;34m\u001b[0m\u001b[0m\n",
          "\u001b[0;32m~/anaconda3/envs/sbs/lib/python3.7/site-packages/sympy/core/expr.py\u001b[0m in \u001b[0;36m__float__\u001b[0;34m(self)\u001b[0m\n\u001b[1;32m    278\u001b[0m         \u001b[0;32mif\u001b[0m \u001b[0mresult\u001b[0m\u001b[0;34m.\u001b[0m\u001b[0mis_number\u001b[0m \u001b[0;32mand\u001b[0m \u001b[0mresult\u001b[0m\u001b[0;34m.\u001b[0m\u001b[0mas_real_imag\u001b[0m\u001b[0;34m(\u001b[0m\u001b[0;34m)\u001b[0m\u001b[0;34m[\u001b[0m\u001b[0;36m1\u001b[0m\u001b[0;34m]\u001b[0m\u001b[0;34m:\u001b[0m\u001b[0;34m\u001b[0m\u001b[0;34m\u001b[0m\u001b[0m\n\u001b[1;32m    279\u001b[0m             \u001b[0;32mraise\u001b[0m \u001b[0mTypeError\u001b[0m\u001b[0;34m(\u001b[0m\u001b[0;34m\"can't convert complex to float\"\u001b[0m\u001b[0;34m)\u001b[0m\u001b[0;34m\u001b[0m\u001b[0;34m\u001b[0m\u001b[0m\n\u001b[0;32m--> 280\u001b[0;31m         \u001b[0;32mraise\u001b[0m \u001b[0mTypeError\u001b[0m\u001b[0;34m(\u001b[0m\u001b[0;34m\"can't convert expression to float\"\u001b[0m\u001b[0;34m)\u001b[0m\u001b[0;34m\u001b[0m\u001b[0;34m\u001b[0m\u001b[0m\n\u001b[0m\u001b[1;32m    281\u001b[0m \u001b[0;34m\u001b[0m\u001b[0m\n\u001b[1;32m    282\u001b[0m     \u001b[0;32mdef\u001b[0m \u001b[0m__complex__\u001b[0m\u001b[0;34m(\u001b[0m\u001b[0mself\u001b[0m\u001b[0;34m)\u001b[0m\u001b[0;34m:\u001b[0m\u001b[0;34m\u001b[0m\u001b[0;34m\u001b[0m\u001b[0m\n",
          "\u001b[0;31mTypeError\u001b[0m: can't convert expression to float"
         ]
        }
       ]
      }
     },
     "86c591680fb947298ea4088e04651e8a": {
      "model_module": "@jupyter-widgets/base",
      "model_module_version": "1.2.0",
      "model_name": "LayoutModel",
      "state": {}
     },
     "8738888badfe4b899006e4e7b0fe7b0a": {
      "model_module": "@jupyter-widgets/controls",
      "model_module_version": "1.5.0",
      "model_name": "VBoxModel",
      "state": {
       "_dom_classes": [
        "widget-interact"
       ],
       "layout": "IPY_MODEL_a4efdbf079014d98bc4cbaab7e06bb98"
      }
     },
     "873d6ea236934b7984e3b215205c11ee": {
      "model_module": "@jupyter-widgets/base",
      "model_module_version": "1.2.0",
      "model_name": "LayoutModel",
      "state": {}
     },
     "8796e80427894730abd1bd0fa8dc1aa9": {
      "model_module": "@jupyter-widgets/output",
      "model_module_version": "1.0.0",
      "model_name": "OutputModel",
      "state": {
       "layout": "IPY_MODEL_c01d50a7b2f34aaab91a21ba2f76a32e",
       "outputs": [
        {
         "data": {
          "image/png": "iVBORw0KGgoAAAANSUhEUgAAAOcAAADnCAYAAADl9EEgAAAABHNCSVQICAgIfAhkiAAAAAlwSFlzAAALEgAACxIB0t1+/AAAADh0RVh0U29mdHdhcmUAbWF0cGxvdGxpYiB2ZXJzaW9uMy4xLjAsIGh0dHA6Ly9tYXRwbG90bGliLm9yZy+17YcXAAAEwElEQVR4nO3aUW4cRRhGUQ9iRZgt4T3hNeE1DQ+0wQqJ8dvc4jtHakWKOk5Hlav+q2Zu9/v9Cej56dEPAHyfOCFKnBAlTogSJ0SJE6LECVHihChxQpQ4IUqcECVOiBInRIkTosQJUeKEKHFClDghSpwQJU6IEidEiROixAlR4oQocUKUOCFKnBAlTogSJ0SJE6LECVHihChxQpQ4IUqcECVOiBInRIkTosQJUeKEKHFClDghSpwQJU6IEidEiROixAlR4oQocUKUOCFKnBAlTogSJ0RNxnm73e7X9fLh914+/P6/rm/+/Nsn975+uO/5s595u92eP9z7+sl9bz94/u9d/+t/05LJOOEEt/v9/t93/c+8vzXu9/vt0c8CP+LNSd41ns+Ntt6c5K2ulzcnRP386Ad4qG9OLKFkMk5FcoLJOP82toc51uiEY88JUZNxPl8XlPkohb73sXZsvSbfnHACcUKUOMlbPSOw5yRvdb28OSFq8ksIvz36AeALJsfa1aP5UxlrgZTJON+uC8om95y/Xr8ODvRHWj0jmNxzru5hjjV6RjA51sIJxEne6hmBsZa81fXy5oQocULU5Ecpfzz6AeALJvecq0fzp7LnBFIm43y5LiibHGtXx6RTvV3r9Ty2XuKkb/SMYHKshROIk7zVMwJjLXmr6+XNCVGT3xD65dEPAF8wOdaunv6dylgLpIgToib3nO+z0eBAf6TVM4LJPefqHuZYo2cExlqIEidEiZO829M/5wRLxAlR4oSoyY9Sfn/0A8AXTH6Usno0f6rVj76MtRA1GefrdUHZ5Fi7Oiad6vVar5ex9RInfaNnBJNjLZxAnOStnhEYa8lbXS9vTogSJ0RNfn1vb5DnRN6cECVOiJqM8/m6oMxHKfT5hhBQIk6IEid5q2cE9pzkra6XNydETX5D6LdHPwB8weRYu3o0fypjLZAyGefbdUHZ5J7z1+vXwYH+SKtnBJN7ztU9zLFGzwgmx1o4gTjJWz0jMNaSt7pe3pwQJU6Imvwo5Y9HPwB8weSec/Vo/lT2nEDKZJwv1wVlk2Pt6ph0qrdrvZ7H1kuc9I2eEUyOtXACcZK3ekZgrCVvdb28OSFq8htCvzz6AeALJsfa1dO/UxlrgRRxQtTknvN9Nhoc6I+0ekYwuedc3cMca/SMwFgLUeKEKHGSd3v655xgiTghSpwQNflRyu+PfgD4gsmPUlaP5k+1+tGXsRaiJuN8vS4omxxrV8ekU71e6/Uytl7ipG/0jGByrIUTiJO81TMCYy15q+vlzQlR4oSoya/v7Q3ynGj2zXl7+msv873r9Xa7P13X6w/ueb+ePlzPn9z38uG+t//4mW8f7n355L7nb/7+z37myf+mR/9feZTZOKFu8rQWTuDNCVHihChxQpQ4IUqcECVOiBInRIkTosQJUeKEKHFClDghSpwQJU6IEidEiROixAlR4oQocUKUOCFKnBAlTogSJ0SJE6LECVHihChxQpQ4IUqcECVOiBInRIkTosQJUeKEKHFClDghSpwQJU6IEidEiROixAlR4oQocUKUOCFKnBAlTogSJ0SJE6LECVHihChxQpQ4IUqcECVOiBInRIkTosQJUeKEKHFClDgh6k8oFzK1xRrRzQAAAABJRU5ErkJggg==\n",
          "text/plain": "<Figure size 432x288 with 1 Axes>"
         },
         "metadata": {
          "needs_background": "light"
         },
         "output_type": "display_data"
        }
       ]
      }
     },
     "881b77268cda43b7a1009baeacbc8b40": {
      "model_module": "@jupyter-widgets/base",
      "model_module_version": "1.2.0",
      "model_name": "LayoutModel",
      "state": {}
     },
     "888c1125f03e44a4a2014a35b0e9dd95": {
      "model_module": "@jupyter-widgets/base",
      "model_module_version": "1.2.0",
      "model_name": "LayoutModel",
      "state": {}
     },
     "897478c6d86c4d59be3478b82ac0d71f": {
      "model_module": "@jupyter-widgets/base",
      "model_module_version": "1.2.0",
      "model_name": "LayoutModel",
      "state": {}
     },
     "8ab03761dbc1464d96f5fba7730717bd": {
      "model_module": "@jupyter-widgets/output",
      "model_module_version": "1.0.0",
      "model_name": "OutputModel",
      "state": {
       "layout": "IPY_MODEL_03eec8e044fe4b46bbd5366375679c8f",
       "outputs": [
        {
         "data": {
          "image/png": "iVBORw0KGgoAAAANSUhEUgAAAOcAAADnCAYAAADl9EEgAAAABHNCSVQICAgIfAhkiAAAAAlwSFlzAAALEgAACxIB0t1+/AAAADh0RVh0U29mdHdhcmUAbWF0cGxvdGxpYiB2ZXJzaW9uMy4xLjAsIGh0dHA6Ly9tYXRwbG90bGliLm9yZy+17YcXAAAE20lEQVR4nO3dQY7USBRFUbvVKyLXhPeE10SuyT1xSikEWT3qeL/fOZLFAKswMjf9HQHFfl3XBuT5a/UFAL8nTgglTgglTgglTgglTgglTgglTgglTgglTgglTgglTgglTgglTgglTgglTgglTgglTgglTgglTgglTgglTgglTgglTgglTgglTgglTgglTgglTgglTgglTgglTgglTgglTgglTgglTgglTgglTgglTgglTgglTgglTgglTgglTgglTgglTgglTgglTgglTgglTgglTgglTgglTgglTgglTgglTgglTgglTgglTghVGee+79efju3teHw473g77/nhvP3++de5x4fzHr/8+p++5vl23vnFuf+X39PqPzf/tco4YYL9uuo+kLbz/hQ+rmtffS187fXUvMruV2Wc22tEKrvZU7XGaayFUH+vvoAVzvvHY+lV8G8VznbbtpWOta1j0lilryHGWgglTuI97qONsZZ4rffLkxNCiRNCiRNCVe5z9r1lM5EnJ4SqfHIyy/fVF7BI5VbK416af5YtzY9V+jeEKuNs3TcbqzRO75zEe95HG09O4rXeL09OCCVOCCVOCFW5z9m6b8YslQtCrUvzU1kQAqJUjrWvPbPGf10/0c/VF7BI5VjbOiaNVfoaYqyFUOIk3rF1fo9hYy3xWu+XJyeEEieEEieEqtznbN03Y5bKBaHWfbOpWheEKp+czPJt9QUsUvnkPO5P4rPsk3is0kmnMs7WMWms0jit1kIocRJvv4824oRQ4oRQ4oRQlfucrftmzFK5ldK6ND9V69aXsRZCVY61zPJj9QUsUjnWto5JY5W+hhhrIZQ4iXfeRxtjLfFa75cnJ4QSJ4QSJ4Sq3Ods3TdjlsoFodZ9s6ksCAFRKsfa155Z43+OM1HhbLdtW+lY2zomjVX6GmKshVDiJN7jPtoYa4nXer88OSGUOCGUOCFU5T5n31s2E3lyQqjKJyezfF99AYtUbqU87qX5Z9nS/Filf0OoMs7WfbOxSuP0zkm853208eQkXuv98uSEUOKEUOKEUJX7nK37ZsxSuSDUujQ/lQUhIErlWPvaM2v81/UT/Vx9AYtUjrWtY9JYpa8hxloIJU7iHVvn9xg21hKv9X55ckIocUIocUKoyn3O1n0zZqlcEGrdN5uqdUGo8snJLN9WX8AilU/O4/4kPss+iccqnXQq42wdk8YqjdNqLYQSJ/H2+2gjTgglTgglTghVuc/Zum/GLJVbKa1L81O1bn0ZayFU5VjLLD9WX8AilWNt65g0VulriLEWQomTeOd9tDHWEq/1fnlyQihxQihxQqjKOF/7Zvu+X787zn2/tvs4/3DO69jejseH8463855ffM3n27nHh/Mev/z6n77m5N/T0j8sC1XG2fit/ZmncrUWJqh8csIE4oRQ4oRQ4oRQ4oRQ4oRQ4oRQ4oRQ4oRQ4oRQ4oRQ4oRQ4oRQ4oRQ4oRQ4oRQ4oRQ4oRQ4oRQ4oRQ4oRQ4oRQ4oRQ4oRQ4oRQ4oRQ4oRQ4oRQ4oRQ4oRQ4oRQ4oRQ4oRQ4oRQ4oRQ4oRQ4oRQ4oRQ4oRQ4oRQ4oRQ4oRQ4oRQ4oRQ4oRQ4oRQ4oRQ4oRQ4oRQ4oRQ4oRQ4oRQ4oRQ4oRQ4oRQ4oRQ4oRQ4oRQ4oRQ4oRQ/wBcJkhFZOSdcQAAAABJRU5ErkJggg==\n",
          "text/plain": "<Figure size 432x288 with 1 Axes>"
         },
         "metadata": {
          "needs_background": "light"
         },
         "output_type": "display_data"
        }
       ]
      }
     },
     "8acd9d711b09425a9dd9cc43f2f78c18": {
      "model_module": "@jupyter-widgets/controls",
      "model_module_version": "1.5.0",
      "model_name": "SliderStyleModel",
      "state": {
       "description_width": ""
      }
     },
     "8b30b7cdf5cc404082a9f83b05f3a765": {
      "model_module": "@jupyter-widgets/controls",
      "model_module_version": "1.5.0",
      "model_name": "VBoxModel",
      "state": {
       "_dom_classes": [
        "widget-interact"
       ],
       "children": [
        "IPY_MODEL_4e9012be14c5422481a2990c627b8107",
        "IPY_MODEL_350241bea35b47418ad3f55563af8496",
        "IPY_MODEL_b1e68103ceee446a852ed6f0427a994c",
        "IPY_MODEL_d2852cd4f3cb4939b29cfe426d6c8f59",
        "IPY_MODEL_19ed3bc97e0d4dda8347589abfe34172",
        "IPY_MODEL_a069c11dab6f4f1a989490479f4e59a0",
        "IPY_MODEL_e87a9e34a3984b25b1c9f067720d3aad"
       ],
       "layout": "IPY_MODEL_95f9a6f0bc3643f2bb02a3180d9b517b"
      }
     },
     "8b7dc1f8a57146799a5dde68e42b44b8": {
      "model_module": "@jupyter-widgets/base",
      "model_module_version": "1.2.0",
      "model_name": "LayoutModel",
      "state": {}
     },
     "8bab8d8957944c6abaf97f1fb6b4fd11": {
      "model_module": "@jupyter-widgets/controls",
      "model_module_version": "1.5.0",
      "model_name": "VBoxModel",
      "state": {
       "_dom_classes": [
        "widget-interact"
       ],
       "children": [
        "IPY_MODEL_d6f4308f05854b0da77c95bd744dcc2a",
        "IPY_MODEL_0f6cf4b65b224be490e6bb830e910bde"
       ],
       "layout": "IPY_MODEL_27717d9a0da3436a920680a6bcd0ed6b"
      }
     },
     "8c4914f38014438fbb6d832813a1e1fb": {
      "model_module": "@jupyter-widgets/base",
      "model_module_version": "1.2.0",
      "model_name": "LayoutModel",
      "state": {}
     },
     "8c90a924f7414ca58d50d2cdc4009833": {
      "model_module": "@jupyter-widgets/base",
      "model_module_version": "1.2.0",
      "model_name": "LayoutModel",
      "state": {}
     },
     "8cd6ef30b32b4146bca9a19c80704551": {
      "model_module": "@jupyter-widgets/base",
      "model_module_version": "1.2.0",
      "model_name": "LayoutModel",
      "state": {}
     },
     "8d642f6b4f5249e7be99115b3b0204bb": {
      "model_module": "@jupyter-widgets/base",
      "model_module_version": "1.2.0",
      "model_name": "LayoutModel",
      "state": {}
     },
     "8d7644619bc9438b8ade0286a32ca3f4": {
      "model_module": "@jupyter-widgets/base",
      "model_module_version": "1.2.0",
      "model_name": "LayoutModel",
      "state": {}
     },
     "8d776ce88daf428cbcd5665e9c7705f4": {
      "model_module": "@jupyter-widgets/controls",
      "model_module_version": "1.5.0",
      "model_name": "SliderStyleModel",
      "state": {
       "description_width": ""
      }
     },
     "8eeebeb2167044c6bca5cc988e13a7dd": {
      "model_module": "@jupyter-widgets/controls",
      "model_module_version": "1.5.0",
      "model_name": "SliderStyleModel",
      "state": {
       "description_width": ""
      }
     },
     "8f027d6d121f4662a9a201bb25295424": {
      "model_module": "@jupyter-widgets/controls",
      "model_module_version": "1.5.0",
      "model_name": "VBoxModel",
      "state": {
       "_dom_classes": [
        "widget-interact"
       ],
       "children": [
        "IPY_MODEL_74e7f55e1909428cbc55f0be0b977b4b",
        "IPY_MODEL_c641a1052d914bea82d1acaf16cb6ff0"
       ],
       "layout": "IPY_MODEL_81b348fb9d8a48239df0ce502eb1079d"
      }
     },
     "8fd97b86e054477a8b661bbf3f44a276": {
      "model_module": "@jupyter-widgets/controls",
      "model_module_version": "1.5.0",
      "model_name": "VBoxModel",
      "state": {
       "_dom_classes": [
        "widget-interact"
       ],
       "children": [
        "IPY_MODEL_213503ed8226436e8acb5fbe73bbaa61",
        "IPY_MODEL_46740e791bec4a43a0abdf24d64d1e80",
        "IPY_MODEL_2927bd7861c24f2483bafc92af98dd78",
        "IPY_MODEL_6d17eb9dffaf4e62b117d07b0ffe987e",
        "IPY_MODEL_64c3ee63aa2546a4ac0d1e9535a74bfc",
        "IPY_MODEL_2d4ff461f678403984a97060d993e167",
        "IPY_MODEL_962cd61d235a4bb986ec3bccd7bef993"
       ],
       "layout": "IPY_MODEL_51bfa6cffada4514b0a7580d88766f89"
      }
     },
     "90958af801464432b21a1c10e15847dc": {
      "model_module": "@jupyter-widgets/base",
      "model_module_version": "1.2.0",
      "model_name": "LayoutModel",
      "state": {}
     },
     "90b6c53caa6d49ce9e0b8b3eb99fa72f": {
      "model_module": "@jupyter-widgets/output",
      "model_module_version": "1.0.0",
      "model_name": "OutputModel",
      "state": {
       "layout": "IPY_MODEL_68f1eaad861e48ab9b937d64bec022dc",
       "outputs": [
        {
         "data": {
          "image/png": "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\n",
          "text/plain": "<Figure size 432x288 with 1 Axes>"
         },
         "metadata": {
          "needs_background": "light"
         },
         "output_type": "display_data"
        }
       ]
      }
     },
     "91aab5c328ec409eb6566c2e388cfeaf": {
      "model_module": "@jupyter-widgets/base",
      "model_module_version": "1.2.0",
      "model_name": "LayoutModel",
      "state": {}
     },
     "9218924e9c6a4f15bd23136c79d4ea46": {
      "model_module": "@jupyter-widgets/controls",
      "model_module_version": "1.5.0",
      "model_name": "SliderStyleModel",
      "state": {
       "description_width": ""
      }
     },
     "930a7052b7074d2691607245567acd85": {
      "model_module": "@jupyter-widgets/controls",
      "model_module_version": "1.5.0",
      "model_name": "VBoxModel",
      "state": {
       "_dom_classes": [
        "widget-interact"
       ],
       "children": [
        "IPY_MODEL_845777ae15474683a07ccc3e10ceeef3",
        "IPY_MODEL_4e94e8a5d8844e019e2212a668260013"
       ],
       "layout": "IPY_MODEL_e5767330d89c4572878c32d9ff7c61fa"
      }
     },
     "94650b05367142d2b9f22f44d710fb53": {
      "model_module": "@jupyter-widgets/base",
      "model_module_version": "1.2.0",
      "model_name": "LayoutModel",
      "state": {}
     },
     "9471dea72200463fbcc82428b19c0337": {
      "model_module": "@jupyter-widgets/controls",
      "model_module_version": "1.5.0",
      "model_name": "FloatSliderModel",
      "state": {
       "description": "$\\epsilon_y$",
       "layout": "IPY_MODEL_151e5dda46774747bab3e8e7608bf40d",
       "max": 0.4,
       "min": -0.4,
       "step": 0.1,
       "style": "IPY_MODEL_7f0d495408c04b40b6432523f73251f1"
      }
     },
     "94cf522a905443019f390532d533a316": {
      "model_module": "@jupyter-widgets/controls",
      "model_module_version": "1.5.0",
      "model_name": "SliderStyleModel",
      "state": {
       "description_width": ""
      }
     },
     "94e1045d84824f5b82d63738d1553166": {
      "model_module": "@jupyter-widgets/controls",
      "model_module_version": "1.5.0",
      "model_name": "SliderStyleModel",
      "state": {
       "description_width": ""
      }
     },
     "952f0e44bb1042cf8e8ebd816b47c702": {
      "model_module": "@jupyter-widgets/base",
      "model_module_version": "1.2.0",
      "model_name": "LayoutModel",
      "state": {}
     },
     "9548361869b34258b6bdff168f55c952": {
      "model_module": "@jupyter-widgets/output",
      "model_module_version": "1.0.0",
      "model_name": "OutputModel",
      "state": {
       "layout": "IPY_MODEL_fc0f8a3db0034b93a503780a6fca8391",
       "outputs": [
        {
         "data": {
          "image/png": "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\n",
          "text/plain": "<Figure size 432x288 with 1 Axes>"
         },
         "metadata": {
          "needs_background": "light"
         },
         "output_type": "display_data"
        }
       ]
      }
     },
     "95f40146e3a64f0195a949d73e77c8cd": {
      "model_module": "@jupyter-widgets/controls",
      "model_module_version": "1.5.0",
      "model_name": "FloatSliderModel",
      "state": {
       "description": "$\\chi_z$",
       "layout": "IPY_MODEL_dadb787ba5a14ced876f83c654b59eef",
       "max": 0.4,
       "min": -0.4,
       "step": 0.1,
       "style": "IPY_MODEL_1c1694d9867d40ba87c7831ea0296156"
      }
     },
     "95f9a6f0bc3643f2bb02a3180d9b517b": {
      "model_module": "@jupyter-widgets/base",
      "model_module_version": "1.2.0",
      "model_name": "LayoutModel",
      "state": {}
     },
     "962cd61d235a4bb986ec3bccd7bef993": {
      "model_module": "@jupyter-widgets/output",
      "model_module_version": "1.0.0",
      "model_name": "OutputModel",
      "state": {
       "layout": "IPY_MODEL_5d1584f8c79848809e56496581ae0bf7",
       "outputs": [
        {
         "data": {
          "image/png": "iVBORw0KGgoAAAANSUhEUgAAAOcAAADnCAYAAADl9EEgAAAABHNCSVQICAgIfAhkiAAAAAlwSFlzAAALEgAACxIB0t1+/AAAADh0RVh0U29mdHdhcmUAbWF0cGxvdGxpYiB2ZXJzaW9uMy4xLjAsIGh0dHA6Ly9tYXRwbG90bGliLm9yZy+17YcXAAAE20lEQVR4nO3dQY7USBRFUbvVKyLXhPeE10SuyT1xSikEWT3qeL/fOZLFAKswMjf9HQHFfl3XBuT5a/UFAL8nTgglTgglTgglTgglTgglTgglTgglTgglTgglTgglTgglTgglTgglTgglTgglTgglTgglTgglTgglTgglTgglTgglTgglTgglTgglTgglTgglTgglTgglTgglTgglTgglTgglTgglTgglTgglTgglTgglTgglTgglTgglTgglTgglTgglTgglTgglTgglTgglTgglTgglTgglTgglTgglTgglTgglTgglTgglTghVGee+79efju3teHw473g77/nhvP3++de5x4fzHr/8+p++5vl23vnFuf+X39PqPzf/tco4YYL9uuo+kLbz/hQ+rmtffS187fXUvMruV2Wc22tEKrvZU7XGaayFUH+vvoAVzvvHY+lV8G8VznbbtpWOta1j0lilryHGWgglTuI97qONsZZ4rffLkxNCiRNCiRNCVe5z9r1lM5EnJ4SqfHIyy/fVF7BI5VbK416af5YtzY9V+jeEKuNs3TcbqzRO75zEe95HG09O4rXeL09OCCVOCCVOCFW5z9m6b8YslQtCrUvzU1kQAqJUjrWvPbPGf10/0c/VF7BI5VjbOiaNVfoaYqyFUOIk3rF1fo9hYy3xWu+XJyeEEieEEieEqtznbN03Y5bKBaHWfbOpWheEKp+czPJt9QUsUvnkPO5P4rPsk3is0kmnMs7WMWms0jit1kIocRJvv4824oRQ4oRQ4oRQlfucrftmzFK5ldK6ND9V69aXsRZCVY61zPJj9QUsUjnWto5JY5W+hhhrIZQ4iXfeRxtjLfFa75cnJ4QSJ4QSJ4Sq3Ods3TdjlsoFodZ9s6ksCAFRKsfa155Z43+OM1HhbLdtW+lY2zomjVX6GmKshVDiJN7jPtoYa4nXer88OSGUOCGUOCFU5T5n31s2E3lyQqjKJyezfF99AYtUbqU87qX5Z9nS/Filf0OoMs7WfbOxSuP0zkm853208eQkXuv98uSEUOKEUOKEUJX7nK37ZsxSuSDUujQ/lQUhIErlWPvaM2v81/UT/Vx9AYtUjrWtY9JYpa8hxloIJU7iHVvn9xg21hKv9X55ckIocUIocUKoyn3O1n0zZqlcEGrdN5uqdUGo8snJLN9WX8AilU/O4/4kPss+iccqnXQq42wdk8YqjdNqLYQSJ/H2+2gjTgglTgglTghVuc/Zum/GLJVbKa1L81O1bn0ZayFU5VjLLD9WX8AilWNt65g0VulriLEWQomTeOd9tDHWEq/1fnlyQihxQihxQqjKOF/7Zvu+X787zn2/tvs4/3DO69jejseH8463855ffM3n27nHh/Mev/z6n77m5N/T0j8sC1XG2fit/ZmncrUWJqh8csIE4oRQ4oRQ4oRQ4oRQ4oRQ4oRQ4oRQ4oRQ4oRQ4oRQ4oRQ4oRQ4oRQ4oRQ4oRQ4oRQ4oRQ4oRQ4oRQ4oRQ4oRQ4oRQ4oRQ4oRQ4oRQ4oRQ4oRQ4oRQ4oRQ4oRQ4oRQ4oRQ4oRQ4oRQ4oRQ4oRQ4oRQ4oRQ4oRQ4oRQ4oRQ4oRQ4oRQ4oRQ4oRQ4oRQ4oRQ4oRQ4oRQ4oRQ4oRQ4oRQ4oRQ4oRQ4oRQ4oRQ4oRQ4oRQ4oRQ/wBcJkhFZOSdcQAAAABJRU5ErkJggg==\n",
          "text/plain": "<Figure size 432x288 with 1 Axes>"
         },
         "metadata": {
          "needs_background": "light"
         },
         "output_type": "display_data"
        }
       ]
      }
     },
     "96373b991c004970b8ba3db3859c4630": {
      "model_module": "@jupyter-widgets/controls",
      "model_module_version": "1.5.0",
      "model_name": "FloatSliderModel",
      "state": {
       "description": "$\\epsilon_1$",
       "layout": "IPY_MODEL_80edbd802c354f51b66ee667b97eb0e2",
       "max": 0.2,
       "min": -0.2,
       "step": 0.1,
       "style": "IPY_MODEL_235ebc0bc8034a0eb86e193de7d4d917"
      }
     },
     "96d55ebf9ef14c46af01f1235855dbb6": {
      "model_module": "@jupyter-widgets/controls",
      "model_module_version": "1.5.0",
      "model_name": "SliderStyleModel",
      "state": {
       "description_width": ""
      }
     },
     "9729d499415e4f89bfba7166fe8cd030": {
      "model_module": "@jupyter-widgets/controls",
      "model_module_version": "1.5.0",
      "model_name": "VBoxModel",
      "state": {
       "_dom_classes": [
        "widget-interact"
       ],
       "children": [
        "IPY_MODEL_4dd3bff3e8214c9589710af7a08d7d1d",
        "IPY_MODEL_e9a526972a5d4f4bb76ae619dc014111",
        "IPY_MODEL_5e94c059e872406c91df9d284764c40a",
        "IPY_MODEL_90b6c53caa6d49ce9e0b8b3eb99fa72f"
       ],
       "layout": "IPY_MODEL_82c78018b5bb4e29be9784c96bf55a1a"
      }
     },
     "97a64093a94f47c1a8d6c975c7a595f7": {
      "model_module": "@jupyter-widgets/controls",
      "model_module_version": "1.5.0",
      "model_name": "VBoxModel",
      "state": {
       "_dom_classes": [
        "widget-interact"
       ],
       "children": [
        "IPY_MODEL_6e8df5525f954c0b8677fa7a35b4b80e",
        "IPY_MODEL_a10738029caa49f7853d084b3a1db567"
       ],
       "layout": "IPY_MODEL_499d659fb6e44dd3a86a05db35b727ec"
      }
     },
     "97aa9c64f45246eba7bb67f9b6234376": {
      "model_module": "@jupyter-widgets/controls",
      "model_module_version": "1.5.0",
      "model_name": "FloatSliderModel",
      "state": {
       "description": "$\\gamma_{xy}$",
       "layout": "IPY_MODEL_cd177281c9a24fa29a7e7145532ccddc",
       "max": 0.4,
       "min": -0.4,
       "step": 0.1,
       "style": "IPY_MODEL_ae1ffeff855c41ae891771140094bd5b"
      }
     },
     "97ca648078bf487bb2673bfab5e69754": {
      "model_module": "@jupyter-widgets/controls",
      "model_module_version": "1.5.0",
      "model_name": "FloatSliderModel",
      "state": {
       "description": "c_",
       "layout": "IPY_MODEL_5057da1b9d5f491981961022224e32d7",
       "max": 1,
       "min": 0.1,
       "step": 0.1,
       "style": "IPY_MODEL_cf19f871178645b0b8dbfb5acf99c97a",
       "value": 1
      }
     },
     "97d1eedcf1394e2b87b3df2c896112fa": {
      "model_module": "@jupyter-widgets/output",
      "model_module_version": "1.0.0",
      "model_name": "OutputModel",
      "state": {
       "layout": "IPY_MODEL_c75c77c920a6425ea43092573642b400",
       "outputs": [
        {
         "data": {
          "image/png": "iVBORw0KGgoAAAANSUhEUgAAAV0AAADnCAYAAAC9roUQAAAABHNCSVQICAgIfAhkiAAAAAlwSFlzAAALEgAACxIB0t1+/AAAADh0RVh0U29mdHdhcmUAbWF0cGxvdGxpYiB2ZXJzaW9uMy4xLjAsIGh0dHA6Ly9tYXRwbG90bGliLm9yZy+17YcXAAAD00lEQVR4nO3dQUosQRBF0Z8f97/lcuK0C9TwWpmeM5WHObo0jRjruq5/ADT+//YDAP4S0QUIiS5ASHQBQqILEHq7++Fay582AHzSdV3r1c9uo/sx/tIvXWvZ2//J/c5vt5/bv+LrBYCQ6AKERBcgJLoAIdEFCIkuQEh0AUKiCxASXYCQ6AKERBcgJLoAIdEFCIkuQEh0AUKiCxASXYDQuvvv6M71AHze3bken3QBQm6k2dsP73d+u70baQBHEV2AkOgChEQXICS6ACHRBQiJLkBIdAFCogsQEl2AkOgChEQXICS6ACHRBQiJLkBIdAFCogsQciMNYJgbaQAP4Uaavf3wfue327uRBnAU0QUIiS5ASHQBQqILEBJdgJDoAoREFyAkugAh0QUIiS5ASHQBQqILEBJdgJDoAoREFyAkugAhN9IAhrmRBvAQbqTZ2w/vd367vRtpAEcRXYCQ6AKERBcgJLoAIdEFCIkuQEh0AUKiCxASXYCQ6AKERBcgJLoAIdEFCIkuQEh0AULO9QAMc64H4CGc67G3H97v/HZ753oAjiK6ACHRBQiJLkBIdAFCogsQEl2AkOgChEQXICS6ACHRBQiJLkBIdAFCogsQEl2AkOgChEQXIORGGsAwN9IAHsKNNHv74f3Ob7d3Iw3gKKILEBJdgJDoAoREFyAkugAh0QUIiS5ASHQBQqILEBJdgJDoAoREFyAkugAh0QUIiS5ASHQBQm6kAQxzIw3gIdxIs//R/Xf99vvdSLP/6v4Vn3QBQqILEBJdgJDoAoREFyAkugAh0QUIiS5ASHQBQqILEBJdgJDoAoREFyAkugAh0QUIiS5ASHQBQm6kAQxzIw3gIdxIs7cf3u/8dns30gCOIroAIdEFCIkuQEh0AUKiCxASXYCQ6AKERBcgJLoAIdEFCIkuQEh0AUKiCxASXYCQ6AKERBcg5EYawLC7G2nO9djbD+93fru9cz0ARxFdgJDoAoREFyAkugAh0QUIiS5ASHQBQqILEBJdgJDoAoREFyAkugAh0QUIiS5ASHQBQqILEHKuB2DY3bken3QBQm6k2dsP73d+u70baQBHEV2AkOgChEQXICS6ACHRBQiJLkBIdAFCogsQEl2AkOgChEQXICS6ACHRBQiJLkBIdAFCogsQciMNYJgbaQAP4Uaavf3wfue327uRBnAU0QUIiS5ASHQBQqILEBJdgJDoAoREFyAkugAh0QUIiS5ASHQBQqILEBJdgJDoAoREFyAkugAhN9IAht3dSLuNLgCzfL0AEBJdgJDoAoREFyAkugAh0QUIvQORXArg8269EAAAAABJRU5ErkJggg==\n",
          "text/plain": "<Figure size 432x288 with 1 Axes>"
         },
         "metadata": {
          "needs_background": "light"
         },
         "output_type": "display_data"
        }
       ]
      }
     },
     "984bb65cf2274e1d94450d1ad1fc2f45": {
      "model_module": "@jupyter-widgets/controls",
      "model_module_version": "1.5.0",
      "model_name": "VBoxModel",
      "state": {
       "_dom_classes": [
        "widget-interact"
       ],
       "children": [
        "IPY_MODEL_97ca648078bf487bb2673bfab5e69754",
        "IPY_MODEL_543fa78b417d4c15b1528f50a5f9384f"
       ],
       "layout": "IPY_MODEL_e8049832e8a147bf8c4fc6f58603fb32"
      }
     },
     "98598d1b2ed347f0a50d41cf4ff9e75f": {
      "model_module": "@jupyter-widgets/output",
      "model_module_version": "1.0.0",
      "model_name": "OutputModel",
      "state": {
       "layout": "IPY_MODEL_d184a8733fe7414eaa271c312fe40744",
       "outputs": [
        {
         "ename": "ValueError",
         "evalue": "The same variable should be used in all univariate expressions being plotted.",
         "output_type": "error",
         "traceback": [
          "\u001b[0;31m---------------------------------------------------------------------------\u001b[0m",
          "\u001b[0;31mValueError\u001b[0m                                Traceback (most recent call last)",
          "\u001b[0;32m~/anaconda3/envs/sbs/lib/python3.7/site-packages/ipywidgets/widgets/interaction.py\u001b[0m in \u001b[0;36mupdate\u001b[0;34m(self, *args)\u001b[0m\n\u001b[1;32m    249\u001b[0m                     \u001b[0mvalue\u001b[0m \u001b[0;34m=\u001b[0m \u001b[0mwidget\u001b[0m\u001b[0;34m.\u001b[0m\u001b[0mget_interact_value\u001b[0m\u001b[0;34m(\u001b[0m\u001b[0;34m)\u001b[0m\u001b[0;34m\u001b[0m\u001b[0;34m\u001b[0m\u001b[0m\n\u001b[1;32m    250\u001b[0m                     \u001b[0mself\u001b[0m\u001b[0;34m.\u001b[0m\u001b[0mkwargs\u001b[0m\u001b[0;34m[\u001b[0m\u001b[0mwidget\u001b[0m\u001b[0;34m.\u001b[0m\u001b[0m_kwarg\u001b[0m\u001b[0;34m]\u001b[0m \u001b[0;34m=\u001b[0m \u001b[0mvalue\u001b[0m\u001b[0;34m\u001b[0m\u001b[0;34m\u001b[0m\u001b[0m\n\u001b[0;32m--> 251\u001b[0;31m                 \u001b[0mself\u001b[0m\u001b[0;34m.\u001b[0m\u001b[0mresult\u001b[0m \u001b[0;34m=\u001b[0m \u001b[0mself\u001b[0m\u001b[0;34m.\u001b[0m\u001b[0mf\u001b[0m\u001b[0;34m(\u001b[0m\u001b[0;34m**\u001b[0m\u001b[0mself\u001b[0m\u001b[0;34m.\u001b[0m\u001b[0mkwargs\u001b[0m\u001b[0;34m)\u001b[0m\u001b[0;34m\u001b[0m\u001b[0;34m\u001b[0m\u001b[0m\n\u001b[0m\u001b[1;32m    252\u001b[0m                 \u001b[0mshow_inline_matplotlib_plots\u001b[0m\u001b[0;34m(\u001b[0m\u001b[0;34m)\u001b[0m\u001b[0;34m\u001b[0m\u001b[0;34m\u001b[0m\u001b[0m\n\u001b[1;32m    253\u001b[0m                 \u001b[0;32mif\u001b[0m \u001b[0mself\u001b[0m\u001b[0;34m.\u001b[0m\u001b[0mauto_display\u001b[0m \u001b[0;32mand\u001b[0m \u001b[0mself\u001b[0m\u001b[0;34m.\u001b[0m\u001b[0mresult\u001b[0m \u001b[0;32mis\u001b[0m \u001b[0;32mnot\u001b[0m \u001b[0;32mNone\u001b[0m\u001b[0;34m:\u001b[0m\u001b[0;34m\u001b[0m\u001b[0;34m\u001b[0m\u001b[0m\n",
          "\u001b[0;32m<ipython-input-58-780b6d8c8e8d>\u001b[0m in \u001b[0;36mplot_mobilty\u001b[0;34m(c)\u001b[0m\n\u001b[1;32m      2\u001b[0m     sy.plot(Y.subs({m:1,s:1}),\n\u001b[1;32m      3\u001b[0m             \u001b[0;34m(\u001b[0m\u001b[0mom\u001b[0m\u001b[0;34m,\u001b[0m\u001b[0;36m0\u001b[0m\u001b[0;34m,\u001b[0m\u001b[0;36m5\u001b[0m\u001b[0;34m)\u001b[0m\u001b[0;34m,\u001b[0m\u001b[0;34m\u001b[0m\u001b[0;34m\u001b[0m\u001b[0m\n\u001b[0;32m----> 4\u001b[0;31m             \u001b[0mtitle\u001b[0m\u001b[0;34m=\u001b[0m\u001b[0;34mr'$c$=%.2f'\u001b[0m \u001b[0;34m%\u001b[0m \u001b[0mc\u001b[0m\u001b[0;34m\u001b[0m\u001b[0;34m\u001b[0m\u001b[0m\n\u001b[0m\u001b[1;32m      5\u001b[0m            )\n\u001b[1;32m      6\u001b[0m \u001b[0mipw\u001b[0m\u001b[0;34m.\u001b[0m\u001b[0minteract\u001b[0m\u001b[0;34m(\u001b[0m\u001b[0mplot_mobilty\u001b[0m\u001b[0;34m,\u001b[0m\u001b[0mc\u001b[0m\u001b[0;34m=\u001b[0m\u001b[0;34m(\u001b[0m\u001b[0;36m0.01\u001b[0m\u001b[0;34m,\u001b[0m\u001b[0;36m0.3\u001b[0m\u001b[0;34m,\u001b[0m\u001b[0;36m0.01\u001b[0m\u001b[0;34m)\u001b[0m\u001b[0;34m)\u001b[0m\u001b[0;34m;\u001b[0m\u001b[0;34m\u001b[0m\u001b[0;34m\u001b[0m\u001b[0m\n",
          "\u001b[0;32m~/anaconda3/envs/sbs/lib/python3.7/site-packages/sympy/plotting/plot.py\u001b[0m in \u001b[0;36mplot\u001b[0;34m(*args, **kwargs)\u001b[0m\n\u001b[1;32m   1351\u001b[0m             \u001b[0;32mif\u001b[0m \u001b[0mlen\u001b[0m\u001b[0;34m(\u001b[0m\u001b[0mfree\u001b[0m\u001b[0;34m)\u001b[0m \u001b[0;34m>\u001b[0m \u001b[0;36m1\u001b[0m\u001b[0;34m:\u001b[0m\u001b[0;34m\u001b[0m\u001b[0;34m\u001b[0m\u001b[0m\n\u001b[1;32m   1352\u001b[0m                 raise ValueError(\n\u001b[0;32m-> 1353\u001b[0;31m                     \u001b[0;34m'The same variable should be used in all '\u001b[0m\u001b[0;34m\u001b[0m\u001b[0;34m\u001b[0m\u001b[0m\n\u001b[0m\u001b[1;32m   1354\u001b[0m                     'univariate expressions being plotted.')\n\u001b[1;32m   1355\u001b[0m     \u001b[0mx\u001b[0m \u001b[0;34m=\u001b[0m \u001b[0mfree\u001b[0m\u001b[0;34m.\u001b[0m\u001b[0mpop\u001b[0m\u001b[0;34m(\u001b[0m\u001b[0;34m)\u001b[0m \u001b[0;32mif\u001b[0m \u001b[0mfree\u001b[0m \u001b[0;32melse\u001b[0m \u001b[0mSymbol\u001b[0m\u001b[0;34m(\u001b[0m\u001b[0;34m'x'\u001b[0m\u001b[0;34m)\u001b[0m\u001b[0;34m\u001b[0m\u001b[0;34m\u001b[0m\u001b[0m\n",
          "\u001b[0;31mValueError\u001b[0m: The same variable should be used in all univariate expressions being plotted."
         ]
        }
       ]
      }
     },
     "989d3fbd74e040bba855bc3867e43cd7": {
      "model_module": "@jupyter-widgets/controls",
      "model_module_version": "1.5.0",
      "model_name": "SliderStyleModel",
      "state": {
       "description_width": ""
      }
     },
     "99422dafbc4442cebf23c90d40444678": {
      "model_module": "@jupyter-widgets/controls",
      "model_module_version": "1.5.0",
      "model_name": "FloatSliderModel",
      "state": {
       "description": "$\\chi$",
       "layout": "IPY_MODEL_579954364d0f44288354f7bb43794ce6",
       "max": 0.2,
       "min": -0.2,
       "step": 0.1,
       "style": "IPY_MODEL_79eb17989db04d9ea1ca113136950e22",
       "value": 0.1
      }
     },
     "9ae87c510ad74350abaac479d40b8593": {
      "model_module": "@jupyter-widgets/output",
      "model_module_version": "1.0.0",
      "model_name": "OutputModel",
      "state": {
       "layout": "IPY_MODEL_b06719ac67a74722b46261967792718f",
       "outputs": [
        {
         "data": {
          "image/png": "iVBORw0KGgoAAAANSUhEUgAAAV0AAADnCAYAAAC9roUQAAAABHNCSVQICAgIfAhkiAAAAAlwSFlzAAALEgAACxIB0t1+/AAAADh0RVh0U29mdHdhcmUAbWF0cGxvdGxpYiB2ZXJzaW9uMy4xLjAsIGh0dHA6Ly9tYXRwbG90bGliLm9yZy+17YcXAAAD00lEQVR4nO3dQUosQRBF0Z8f97/lcuK0C9TwWpmeM5WHObo0jRjruq5/ADT+//YDAP4S0QUIiS5ASHQBQqILEHq7++Fay582AHzSdV3r1c9uo/sx/tIvXWvZ2//J/c5vt5/bv+LrBYCQ6AKERBcgJLoAIdEFCIkuQEh0AUKiCxASXYCQ6AKERBcgJLoAIdEFCIkuQEh0AUKiCxASXYDQuvvv6M71AHze3bken3QBQm6k2dsP73d+u70baQBHEV2AkOgChEQXICS6ACHRBQiJLkBIdAFCogsQEl2AkOgChEQXICS6ACHRBQiJLkBIdAFCogsQciMNYJgbaQAP4Uaavf3wfue327uRBnAU0QUIiS5ASHQBQqILEBJdgJDoAoREFyAkugAh0QUIiS5ASHQBQqILEBJdgJDoAoREFyAkugAhN9IAhrmRBvAQbqTZ2w/vd367vRtpAEcRXYCQ6AKERBcgJLoAIdEFCIkuQEh0AUKiCxASXYCQ6AKERBcgJLoAIdEFCIkuQEh0AULO9QAMc64H4CGc67G3H97v/HZ753oAjiK6ACHRBQiJLkBIdAFCogsQEl2AkOgChEQXICS6ACHRBQiJLkBIdAFCogsQEl2AkOgChEQXIORGGsAwN9IAHsKNNHv74f3Ob7d3Iw3gKKILEBJdgJDoAoREFyAkugAh0QUIiS5ASHQBQqILEBJdgJDoAoREFyAkugAh0QUIiS5ASHQBQm6kAQxzIw3gIdxIs//R/Xf99vvdSLP/6v4Vn3QBQqILEBJdgJDoAoREFyAkugAh0QUIiS5ASHQBQqILEBJdgJDoAoREFyAkugAh0QUIiS5ASHQBQm6kAQxzIw3gIdxIs7cf3u/8dns30gCOIroAIdEFCIkuQEh0AUKiCxASXYCQ6AKERBcgJLoAIdEFCIkuQEh0AUKiCxASXYCQ6AKERBcg5EYawLC7G2nO9djbD+93fru9cz0ARxFdgJDoAoREFyAkugAh0QUIiS5ASHQBQqILEBJdgJDoAoREFyAkugAh0QUIiS5ASHQBQqILEHKuB2DY3bken3QBQm6k2dsP73d+u70baQBHEV2AkOgChEQXICS6ACHRBQiJLkBIdAFCogsQEl2AkOgChEQXICS6ACHRBQiJLkBIdAFCogsQciMNYJgbaQAP4Uaavf3wfue327uRBnAU0QUIiS5ASHQBQqILEBJdgJDoAoREFyAkugAh0QUIiS5ASHQBQqILEBJdgJDoAoREFyAkugAhN9IAht3dSLuNLgCzfL0AEBJdgJDoAoREFyAkugAh0QUIvQORXArg8269EAAAAABJRU5ErkJggg==\n",
          "text/plain": "<Figure size 432x288 with 1 Axes>"
         },
         "metadata": {
          "needs_background": "light"
         },
         "output_type": "display_data"
        }
       ]
      }
     },
     "9b78ebbd02684502bad87d2c40fbb353": {
      "model_module": "@jupyter-widgets/output",
      "model_module_version": "1.0.0",
      "model_name": "OutputModel",
      "state": {
       "layout": "IPY_MODEL_3c440dc7175c47689c85ee996a9b1a21",
       "outputs": [
        {
         "data": {
          "image/png": "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\n",
          "text/plain": "<Figure size 432x288 with 1 Axes>"
         },
         "metadata": {
          "needs_background": "light"
         },
         "output_type": "display_data"
        }
       ]
      }
     },
     "9d09e50658cd4d1084a0c0c68cbd8c13": {
      "model_module": "@jupyter-widgets/controls",
      "model_module_version": "1.5.0",
      "model_name": "CheckboxModel",
      "state": {
       "description": "transverse",
       "disabled": false,
       "layout": "IPY_MODEL_e36df613b043462698c1ac2c66c7583a",
       "style": "IPY_MODEL_3259b5f128b44bff971351e385ab12a6",
       "value": false
      }
     },
     "9da5e52dc66d45639428764950dd5534": {
      "model_module": "@jupyter-widgets/output",
      "model_module_version": "1.0.0",
      "model_name": "OutputModel",
      "state": {
       "layout": "IPY_MODEL_1d54a6615ce7496dbc2595430203234d",
       "outputs": [
        {
         "data": {
          "image/png": "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\n",
          "text/plain": "<Figure size 432x288 with 1 Axes>"
         },
         "metadata": {
          "needs_background": "light"
         },
         "output_type": "display_data"
        }
       ]
      }
     },
     "9de3bd60e109450ba37f19ff2c433d8f": {
      "model_module": "@jupyter-widgets/controls",
      "model_module_version": "1.5.0",
      "model_name": "FloatSliderModel",
      "state": {
       "description": "$\\epsilon_x$",
       "layout": "IPY_MODEL_6e8432eee4574b8e955cf7cc6dcbb489",
       "max": 0.4,
       "min": -0.4,
       "step": 0.1,
       "style": "IPY_MODEL_18fb57150033459b96880efc9620cc54"
      }
     },
     "9f64a2f2702745a0b4c0ce1379194925": {
      "model_module": "@jupyter-widgets/controls",
      "model_module_version": "1.5.0",
      "model_name": "FloatSliderModel",
      "state": {
       "description": "$\\epsilon_2$",
       "layout": "IPY_MODEL_c3dc40ab8dfd4dfca03cb0a735cd8e3b",
       "max": 0.2,
       "min": -0.2,
       "step": 0.1,
       "style": "IPY_MODEL_c478061b55534cd1ac641c685d6673dd"
      }
     },
     "a069c11dab6f4f1a989490479f4e59a0": {
      "model_module": "@jupyter-widgets/controls",
      "model_module_version": "1.5.0",
      "model_name": "FloatSliderModel",
      "state": {
       "description": "$\\gamma_{xy}$",
       "layout": "IPY_MODEL_d6477cd61be246d8a4425b72c9fb6cbb",
       "max": 0.4,
       "min": -0.4,
       "step": 0.1,
       "style": "IPY_MODEL_0d19743523fd409e9828a4398b4bd5bf"
      }
     },
     "a0949e9f050145709fde638aa21d8981": {
      "model_module": "@jupyter-widgets/base",
      "model_module_version": "1.2.0",
      "model_name": "LayoutModel",
      "state": {}
     },
     "a10738029caa49f7853d084b3a1db567": {
      "model_module": "@jupyter-widgets/output",
      "model_module_version": "1.0.0",
      "model_name": "OutputModel",
      "state": {
       "layout": "IPY_MODEL_cfbf0bcf61bd4da796bbfd77872041ac",
       "outputs": [
        {
         "data": {
          "image/png": "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\n",
          "text/plain": "<Figure size 432x288 with 1 Axes>"
         },
         "metadata": {
          "needs_background": "light"
         },
         "output_type": "display_data"
        }
       ]
      }
     },
     "a12cd0a39c734487a89e7d4e6915e570": {
      "model_module": "@jupyter-widgets/base",
      "model_module_version": "1.2.0",
      "model_name": "LayoutModel",
      "state": {}
     },
     "a19dad5ab9fa48d488e4d42fa0383450": {
      "model_module": "@jupyter-widgets/base",
      "model_module_version": "1.2.0",
      "model_name": "LayoutModel",
      "state": {}
     },
     "a1c81aebcfc34e7a99ebbf1bb0e63609": {
      "model_module": "@jupyter-widgets/controls",
      "model_module_version": "1.5.0",
      "model_name": "SliderStyleModel",
      "state": {
       "description_width": ""
      }
     },
     "a20e604d8d1943d89d4d19ad5b23a522": {
      "model_module": "@jupyter-widgets/base",
      "model_module_version": "1.2.0",
      "model_name": "LayoutModel",
      "state": {}
     },
     "a2a9225ac8a24b76a849095bb70c97ef": {
      "model_module": "@jupyter-widgets/controls",
      "model_module_version": "1.5.0",
      "model_name": "VBoxModel",
      "state": {
       "_dom_classes": [
        "widget-interact"
       ],
       "children": [
        "IPY_MODEL_731e35c6003145d5b63b7558c0842188",
        "IPY_MODEL_e3c443a3a23243acb83d0035c9777361"
       ],
       "layout": "IPY_MODEL_28baff7962bd46dfae8efbdcb85ecd2f"
      }
     },
     "a2f8c1b9e54243aa9776c792ba507f6c": {
      "model_module": "@jupyter-widgets/base",
      "model_module_version": "1.2.0",
      "model_name": "LayoutModel",
      "state": {}
     },
     "a3408066e54b44acbace252a5b68b933": {
      "model_module": "@jupyter-widgets/base",
      "model_module_version": "1.2.0",
      "model_name": "LayoutModel",
      "state": {}
     },
     "a3dfd40b69c545f3bf3914f359c6efe1": {
      "model_module": "@jupyter-widgets/controls",
      "model_module_version": "1.5.0",
      "model_name": "VBoxModel",
      "state": {
       "_dom_classes": [
        "widget-interact"
       ],
       "children": [
        "IPY_MODEL_17de62c9733c4dba9330f5621b255b85",
        "IPY_MODEL_be434862f8ae428bb317fd7fdc831461"
       ],
       "layout": "IPY_MODEL_b4b35d4fb9354769879ff5946f83e7a1"
      }
     },
     "a3e48bc12221472fbfef5759d0aed20f": {
      "model_module": "@jupyter-widgets/base",
      "model_module_version": "1.2.0",
      "model_name": "LayoutModel",
      "state": {}
     },
     "a48b0a2030ac4e9d9a13613180fc8862": {
      "model_module": "@jupyter-widgets/controls",
      "model_module_version": "1.5.0",
      "model_name": "FloatSliderModel",
      "state": {
       "description": "ci",
       "layout": "IPY_MODEL_e3a94a3f84b34f60a6e4f187e530d852",
       "max": 1,
       "min": 0.1,
       "step": 0.1,
       "style": "IPY_MODEL_9218924e9c6a4f15bd23136c79d4ea46",
       "value": 0.1
      }
     },
     "a4efdbf079014d98bc4cbaab7e06bb98": {
      "model_module": "@jupyter-widgets/base",
      "model_module_version": "1.2.0",
      "model_name": "LayoutModel",
      "state": {}
     },
     "a53ae03e9553412aa22f84cc39d5d729": {
      "model_module": "@jupyter-widgets/base",
      "model_module_version": "1.2.0",
      "model_name": "LayoutModel",
      "state": {}
     },
     "a5472138bd9d41be8aeb23ff79fbf923": {
      "model_module": "@jupyter-widgets/base",
      "model_module_version": "1.2.0",
      "model_name": "LayoutModel",
      "state": {}
     },
     "a644d925cbcf45f1b3279116125319ab": {
      "model_module": "@jupyter-widgets/controls",
      "model_module_version": "1.5.0",
      "model_name": "SliderStyleModel",
      "state": {
       "description_width": ""
      }
     },
     "a73d4931374947568982a339eebae025": {
      "model_module": "@jupyter-widgets/base",
      "model_module_version": "1.2.0",
      "model_name": "LayoutModel",
      "state": {}
     },
     "a8636844f1604ae6a1f54acaf61aa90f": {
      "model_module": "@jupyter-widgets/base",
      "model_module_version": "1.2.0",
      "model_name": "LayoutModel",
      "state": {}
     },
     "a878310229054f868b8ee0676a8d4886": {
      "model_module": "@jupyter-widgets/controls",
      "model_module_version": "1.5.0",
      "model_name": "SliderStyleModel",
      "state": {
       "description_width": ""
      }
     },
     "a894984490734da0af687cbcf2c11442": {
      "model_module": "@jupyter-widgets/controls",
      "model_module_version": "1.5.0",
      "model_name": "VBoxModel",
      "state": {
       "_dom_classes": [
        "widget-interact"
       ],
       "children": [
        "IPY_MODEL_3231c8746545489a9bcf031616c1c1fc",
        "IPY_MODEL_7fbfdafecdac4c409631aba5c5ff27f2",
        "IPY_MODEL_21cfeb5eb478412aae74a0d4a47f20ba",
        "IPY_MODEL_5e9482f23c8d4bc68fbf7977ed13cf00",
        "IPY_MODEL_2bf2cb9455be42e4b8cbf89f1d4d8379",
        "IPY_MODEL_ac84e168429a491aac22f1b64cb7670f",
        "IPY_MODEL_52c254e8d61c47bbb7a76312ab1d6f8e"
       ],
       "layout": "IPY_MODEL_70c9c41c42864c0ba742cf31bbace18c"
      }
     },
     "a8acba18b2854cb6a492c34fe16034b6": {
      "model_module": "@jupyter-widgets/controls",
      "model_module_version": "1.5.0",
      "model_name": "VBoxModel",
      "state": {
       "_dom_classes": [
        "widget-interact"
       ],
       "children": [
        "IPY_MODEL_b119ef8cd8d44cf49627d4db42794574",
        "IPY_MODEL_8796e80427894730abd1bd0fa8dc1aa9"
       ],
       "layout": "IPY_MODEL_2f48d2baa22c48f2b56f1940d7f62d81"
      }
     },
     "a8e2bdf441e542428da5c5f8dd64eb72": {
      "model_module": "@jupyter-widgets/controls",
      "model_module_version": "1.5.0",
      "model_name": "DescriptionStyleModel",
      "state": {
       "description_width": ""
      }
     },
     "a91a015b82d34312ab5fb3d92d74c271": {
      "model_module": "@jupyter-widgets/controls",
      "model_module_version": "1.5.0",
      "model_name": "SliderStyleModel",
      "state": {
       "description_width": ""
      }
     },
     "aa1afd372a0b4d2ea72edcaf5c3ef89d": {
      "model_module": "@jupyter-widgets/controls",
      "model_module_version": "1.5.0",
      "model_name": "VBoxModel",
      "state": {
       "_dom_classes": [
        "widget-interact"
       ],
       "children": [
        "IPY_MODEL_4930f450a2284db19d2adf2c8bc44a29",
        "IPY_MODEL_98598d1b2ed347f0a50d41cf4ff9e75f"
       ],
       "layout": "IPY_MODEL_b0aa05d2554f448c8a098f111f92c61e"
      }
     },
     "aa5d108dc8c94d00a47b87dc887bc3d1": {
      "model_module": "@jupyter-widgets/base",
      "model_module_version": "1.2.0",
      "model_name": "LayoutModel",
      "state": {}
     },
     "aacd9f8ad5fc4a87bcb05ce881bb05f0": {
      "model_module": "@jupyter-widgets/output",
      "model_module_version": "1.0.0",
      "model_name": "OutputModel",
      "state": {
       "layout": "IPY_MODEL_01a32ae78cbc4aa486dde8a3297acf6f",
       "outputs": [
        {
         "data": {
          "image/png": "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\n",
          "text/plain": "<Figure size 432x288 with 1 Axes>"
         },
         "metadata": {
          "needs_background": "light"
         },
         "output_type": "display_data"
        }
       ]
      }
     },
     "aae18976c5794d1e8026594e7797d4b9": {
      "model_module": "@jupyter-widgets/controls",
      "model_module_version": "1.5.0",
      "model_name": "VBoxModel",
      "state": {
       "_dom_classes": [
        "widget-interact"
       ],
       "children": [
        "IPY_MODEL_d11443ff3f8a4a6bba508501e65765da",
        "IPY_MODEL_bb5dac5e95fc493da808baa028b745de",
        "IPY_MODEL_99422dafbc4442cebf23c90d40444678",
        "IPY_MODEL_c29b47bd2e3b415aac513b58fa8c2730",
        "IPY_MODEL_853a54fb4e15439690a77ca50bccebaa",
        "IPY_MODEL_f50aad23d2ae4149816b476801614e83",
        "IPY_MODEL_9b78ebbd02684502bad87d2c40fbb353"
       ],
       "layout": "IPY_MODEL_7d9575c143d94fadb995e0bf5f1c5eb0"
      }
     },
     "ab7abed7dc4c4aa18a7b2e453f71dc28": {
      "model_module": "@jupyter-widgets/base",
      "model_module_version": "1.2.0",
      "model_name": "LayoutModel",
      "state": {}
     },
     "ac1ddf8172524128ab887da70551e6cd": {
      "model_module": "@jupyter-widgets/controls",
      "model_module_version": "1.5.0",
      "model_name": "VBoxModel",
      "state": {
       "_dom_classes": [
        "widget-interact"
       ],
       "children": [
        "IPY_MODEL_b329c7a2c9dc43c1939c596bc1bf48e3",
        "IPY_MODEL_f1808d4b8684458db835b5f9b98c053b",
        "IPY_MODEL_f19f165141a84499a09c73f31cda7ea9",
        "IPY_MODEL_9ae87c510ad74350abaac479d40b8593"
       ],
       "layout": "IPY_MODEL_5b931d4fc2ae48b8adf704b409a24c77"
      }
     },
     "ac6296b8495a4ce8b6ddf7efa86d398e": {
      "model_module": "@jupyter-widgets/controls",
      "model_module_version": "1.5.0",
      "model_name": "FloatSliderModel",
      "state": {
       "description": "c_",
       "layout": "IPY_MODEL_b54aba13d17e4de4be7bbd1fd6aefa48",
       "max": 1,
       "min": 0.1,
       "step": 0.1,
       "style": "IPY_MODEL_25a98ab8d3a449bea92b5fa5d9d76268",
       "value": 0.1
      }
     },
     "ac84e168429a491aac22f1b64cb7670f": {
      "model_module": "@jupyter-widgets/controls",
      "model_module_version": "1.5.0",
      "model_name": "FloatSliderModel",
      "state": {
       "description": "$\\gamma_{xy}$",
       "layout": "IPY_MODEL_0ca0e246fa344d4a954facc59c3f5d43",
       "max": 0.4,
       "min": -0.4,
       "step": 0.1,
       "style": "IPY_MODEL_47765fc9cf1446bc88a2f06fdf58d0ea"
      }
     },
     "acabfc905b4a4f558b85b18416213c1c": {
      "model_module": "@jupyter-widgets/controls",
      "model_module_version": "1.5.0",
      "model_name": "FloatSliderModel",
      "state": {
       "description": "c_",
       "layout": "IPY_MODEL_24b6101b13c744a887de42b7e742f827",
       "max": 0.30000000000000004,
       "min": -0.1,
       "step": 0.1,
       "style": "IPY_MODEL_af445883e4a64afbb31b0b65e6612976",
       "value": 0.1
      }
     },
     "acbde3ef46584525b8080e5b91ac6793": {
      "model_module": "@jupyter-widgets/controls",
      "model_module_version": "1.5.0",
      "model_name": "DescriptionStyleModel",
      "state": {
       "description_width": ""
      }
     },
     "acc3803fbf60449ba6e07c02c162b8c6": {
      "model_module": "@jupyter-widgets/base",
      "model_module_version": "1.2.0",
      "model_name": "LayoutModel",
      "state": {}
     },
     "acca383e575f40a6a530d5959b9e6565": {
      "model_module": "@jupyter-widgets/controls",
      "model_module_version": "1.5.0",
      "model_name": "SliderStyleModel",
      "state": {
       "description_width": ""
      }
     },
     "ad3ddc6777c14ec59a52482ae296f7bc": {
      "model_module": "@jupyter-widgets/controls",
      "model_module_version": "1.5.0",
      "model_name": "FloatSliderModel",
      "state": {
       "description": "$\\gamma$",
       "layout": "IPY_MODEL_ae2b252ee7e648f2a0a096e287f67d2b",
       "max": 0.2,
       "min": -0.2,
       "step": 0.1,
       "style": "IPY_MODEL_a644d925cbcf45f1b3279116125319ab"
      }
     },
     "add4ece213624fb4af283568a94f9aa9": {
      "model_module": "@jupyter-widgets/controls",
      "model_module_version": "1.5.0",
      "model_name": "DescriptionStyleModel",
      "state": {
       "description_width": ""
      }
     },
     "ae1ffeff855c41ae891771140094bd5b": {
      "model_module": "@jupyter-widgets/controls",
      "model_module_version": "1.5.0",
      "model_name": "SliderStyleModel",
      "state": {
       "description_width": ""
      }
     },
     "ae2b252ee7e648f2a0a096e287f67d2b": {
      "model_module": "@jupyter-widgets/base",
      "model_module_version": "1.2.0",
      "model_name": "LayoutModel",
      "state": {}
     },
     "ae7f0cadb0484b44bdd3149882d49d6d": {
      "model_module": "@jupyter-widgets/controls",
      "model_module_version": "1.5.0",
      "model_name": "DescriptionStyleModel",
      "state": {
       "description_width": ""
      }
     },
     "af02333b97f3489584c347fe68365cc3": {
      "model_module": "@jupyter-widgets/base",
      "model_module_version": "1.2.0",
      "model_name": "LayoutModel",
      "state": {}
     },
     "af3990d3b65c4f33b128f4dce1e63a29": {
      "model_module": "@jupyter-widgets/controls",
      "model_module_version": "1.5.0",
      "model_name": "SliderStyleModel",
      "state": {
       "description_width": ""
      }
     },
     "af445883e4a64afbb31b0b65e6612976": {
      "model_module": "@jupyter-widgets/controls",
      "model_module_version": "1.5.0",
      "model_name": "SliderStyleModel",
      "state": {
       "description_width": ""
      }
     },
     "af709f8935484193a7b7da0a778e1c98": {
      "model_module": "@jupyter-widgets/base",
      "model_module_version": "1.2.0",
      "model_name": "LayoutModel",
      "state": {}
     },
     "afcfa6fe402148bb8b85194ec81e1b63": {
      "model_module": "@jupyter-widgets/controls",
      "model_module_version": "1.5.0",
      "model_name": "VBoxModel",
      "state": {
       "_dom_classes": [
        "widget-interact"
       ],
       "children": [
        "IPY_MODEL_0718cde630f64652bddd4e7584b91d3f",
        "IPY_MODEL_3a4e69303ebe4ca19a6223b5ae848453",
        "IPY_MODEL_b57408f9cbf44ab9a1f749cf2e7679cb",
        "IPY_MODEL_e2918ca948424430b9aa799962e4c1a9",
        "IPY_MODEL_196601ce9afe45669d92105b92cfeac9",
        "IPY_MODEL_97aa9c64f45246eba7bb67f9b6234376",
        "IPY_MODEL_edbc8f671e42466f8eca58a9b396c825"
       ],
       "layout": "IPY_MODEL_7a7987fa02b743dfbf0031b0d7e4348e"
      }
     },
     "affcca8d4cbf449dafc928023a3e2efe": {
      "model_module": "@jupyter-widgets/controls",
      "model_module_version": "1.5.0",
      "model_name": "VBoxModel",
      "state": {
       "_dom_classes": [
        "widget-interact"
       ],
       "children": [
        "IPY_MODEL_11d9cf3f36444ae2b02c4d24c1579e9b",
        "IPY_MODEL_255aa7e2c2564f7f942db6aba3ed2752",
        "IPY_MODEL_ffb8116e86804ca495a9b5319fa9995b",
        "IPY_MODEL_96373b991c004970b8ba3db3859c4630",
        "IPY_MODEL_9f64a2f2702745a0b4c0ce1379194925",
        "IPY_MODEL_ad3ddc6777c14ec59a52482ae296f7bc",
        "IPY_MODEL_8ab03761dbc1464d96f5fba7730717bd"
       ],
       "layout": "IPY_MODEL_11db7801ad9c4aabac0172f867f1e9b7"
      }
     },
     "b06719ac67a74722b46261967792718f": {
      "model_module": "@jupyter-widgets/base",
      "model_module_version": "1.2.0",
      "model_name": "LayoutModel",
      "state": {}
     },
     "b0a5f88c9717436791d0c3639046e970": {
      "model_module": "@jupyter-widgets/controls",
      "model_module_version": "1.5.0",
      "model_name": "SliderStyleModel",
      "state": {
       "description_width": ""
      }
     },
     "b0aa05d2554f448c8a098f111f92c61e": {
      "model_module": "@jupyter-widgets/base",
      "model_module_version": "1.2.0",
      "model_name": "LayoutModel",
      "state": {}
     },
     "b119ef8cd8d44cf49627d4db42794574": {
      "model_module": "@jupyter-widgets/controls",
      "model_module_version": "1.5.0",
      "model_name": "FloatSliderModel",
      "state": {
       "description": "$\\epsilon_1$",
       "layout": "IPY_MODEL_873d6ea236934b7984e3b215205c11ee",
       "max": 0.2,
       "min": -0.2,
       "step": 0.1,
       "style": "IPY_MODEL_e4cdb51503704695ac9c8b288f76b276"
      }
     },
     "b1e68103ceee446a852ed6f0427a994c": {
      "model_module": "@jupyter-widgets/controls",
      "model_module_version": "1.5.0",
      "model_name": "FloatSliderModel",
      "state": {
       "description": "$\\chi_z$",
       "layout": "IPY_MODEL_1e5615d4b3b94c48b0c1514b2fc2fc92",
       "max": 0.4,
       "min": -0.4,
       "step": 0.1,
       "style": "IPY_MODEL_989d3fbd74e040bba855bc3867e43cd7"
      }
     },
     "b219b29b03b64103b6a1b20d83071051": {
      "model_module": "@jupyter-widgets/base",
      "model_module_version": "1.2.0",
      "model_name": "LayoutModel",
      "state": {}
     },
     "b2e0f024545e48f78896f0448b673c56": {
      "model_module": "@jupyter-widgets/base",
      "model_module_version": "1.2.0",
      "model_name": "LayoutModel",
      "state": {}
     },
     "b329c7a2c9dc43c1939c596bc1bf48e3": {
      "model_module": "@jupyter-widgets/controls",
      "model_module_version": "1.5.0",
      "model_name": "CheckboxModel",
      "state": {
       "description": "longitudinal",
       "disabled": false,
       "layout": "IPY_MODEL_ab7abed7dc4c4aa18a7b2e453f71dc28",
       "style": "IPY_MODEL_7aa3b4b22d9f45f08eb486caa2a452a9",
       "value": false
      }
     },
     "b4220358177d4e359ba41724c77eb2ee": {
      "model_module": "@jupyter-widgets/base",
      "model_module_version": "1.2.0",
      "model_name": "LayoutModel",
      "state": {}
     },
     "b4b35d4fb9354769879ff5946f83e7a1": {
      "model_module": "@jupyter-widgets/base",
      "model_module_version": "1.2.0",
      "model_name": "LayoutModel",
      "state": {}
     },
     "b54aba13d17e4de4be7bbd1fd6aefa48": {
      "model_module": "@jupyter-widgets/base",
      "model_module_version": "1.2.0",
      "model_name": "LayoutModel",
      "state": {}
     },
     "b57408f9cbf44ab9a1f749cf2e7679cb": {
      "model_module": "@jupyter-widgets/controls",
      "model_module_version": "1.5.0",
      "model_name": "FloatSliderModel",
      "state": {
       "description": "$\\chi_z$",
       "layout": "IPY_MODEL_a73d4931374947568982a339eebae025",
       "max": 0.4,
       "min": -0.4,
       "step": 0.1,
       "style": "IPY_MODEL_1b1cba64b1584c0dbcfe935a59651fe9"
      }
     },
     "b6388647fa6f43259510040d2e47a488": {
      "model_module": "@jupyter-widgets/base",
      "model_module_version": "1.2.0",
      "model_name": "LayoutModel",
      "state": {}
     },
     "b68dde8d92924693a46033339dc32845": {
      "model_module": "@jupyter-widgets/output",
      "model_module_version": "1.0.0",
      "model_name": "OutputModel",
      "state": {
       "layout": "IPY_MODEL_6acbbd0174c244b58d88d0abb20c5609",
       "outputs": [
        {
         "ename": "ValueError",
         "evalue": "The same variable should be used in all univariate expressions being plotted.",
         "output_type": "error",
         "traceback": [
          "\u001b[0;31m---------------------------------------------------------------------------\u001b[0m",
          "\u001b[0;31mValueError\u001b[0m                                Traceback (most recent call last)",
          "\u001b[0;32m~/anaconda3/envs/sbs/lib/python3.7/site-packages/ipywidgets/widgets/interaction.py\u001b[0m in \u001b[0;36mupdate\u001b[0;34m(self, *args)\u001b[0m\n\u001b[1;32m    249\u001b[0m                     \u001b[0mvalue\u001b[0m \u001b[0;34m=\u001b[0m \u001b[0mwidget\u001b[0m\u001b[0;34m.\u001b[0m\u001b[0mget_interact_value\u001b[0m\u001b[0;34m(\u001b[0m\u001b[0;34m)\u001b[0m\u001b[0;34m\u001b[0m\u001b[0;34m\u001b[0m\u001b[0m\n\u001b[1;32m    250\u001b[0m                     \u001b[0mself\u001b[0m\u001b[0;34m.\u001b[0m\u001b[0mkwargs\u001b[0m\u001b[0;34m[\u001b[0m\u001b[0mwidget\u001b[0m\u001b[0;34m.\u001b[0m\u001b[0m_kwarg\u001b[0m\u001b[0;34m]\u001b[0m \u001b[0;34m=\u001b[0m \u001b[0mvalue\u001b[0m\u001b[0;34m\u001b[0m\u001b[0;34m\u001b[0m\u001b[0m\n\u001b[0;32m--> 251\u001b[0;31m                 \u001b[0mself\u001b[0m\u001b[0;34m.\u001b[0m\u001b[0mresult\u001b[0m \u001b[0;34m=\u001b[0m \u001b[0mself\u001b[0m\u001b[0;34m.\u001b[0m\u001b[0mf\u001b[0m\u001b[0;34m(\u001b[0m\u001b[0;34m**\u001b[0m\u001b[0mself\u001b[0m\u001b[0;34m.\u001b[0m\u001b[0mkwargs\u001b[0m\u001b[0;34m)\u001b[0m\u001b[0;34m\u001b[0m\u001b[0;34m\u001b[0m\u001b[0m\n\u001b[0m\u001b[1;32m    252\u001b[0m                 \u001b[0mshow_inline_matplotlib_plots\u001b[0m\u001b[0;34m(\u001b[0m\u001b[0;34m)\u001b[0m\u001b[0;34m\u001b[0m\u001b[0;34m\u001b[0m\u001b[0m\n\u001b[1;32m    253\u001b[0m                 \u001b[0;32mif\u001b[0m \u001b[0mself\u001b[0m\u001b[0;34m.\u001b[0m\u001b[0mauto_display\u001b[0m \u001b[0;32mand\u001b[0m \u001b[0mself\u001b[0m\u001b[0;34m.\u001b[0m\u001b[0mresult\u001b[0m \u001b[0;32mis\u001b[0m \u001b[0;32mnot\u001b[0m \u001b[0;32mNone\u001b[0m\u001b[0;34m:\u001b[0m\u001b[0;34m\u001b[0m\u001b[0;34m\u001b[0m\u001b[0m\n",
          "\u001b[0;32m<ipython-input-21-5b900fddfee3>\u001b[0m in \u001b[0;36mplot_impulse_response\u001b[0;34m(d)\u001b[0m\n\u001b[1;32m      3\u001b[0m     sy.plot(sol_h.rhs.subs({delta:d,ome0:1.0,m:1.0}),\n\u001b[1;32m      4\u001b[0m             \u001b[0;34m(\u001b[0m\u001b[0mt\u001b[0m\u001b[0;34m,\u001b[0m\u001b[0;36m0\u001b[0m\u001b[0;34m,\u001b[0m\u001b[0;36m50\u001b[0m\u001b[0;34m)\u001b[0m\u001b[0;34m,\u001b[0m\u001b[0;34m\u001b[0m\u001b[0;34m\u001b[0m\u001b[0m\n\u001b[0;32m----> 5\u001b[0;31m             \u001b[0mtitle\u001b[0m\u001b[0;34m=\u001b[0m\u001b[0;34mr'$\\delta$=%.2f'\u001b[0m \u001b[0;34m%\u001b[0m \u001b[0md\u001b[0m\u001b[0;34m\u001b[0m\u001b[0;34m\u001b[0m\u001b[0m\n\u001b[0m\u001b[1;32m      6\u001b[0m            )\n\u001b[1;32m      7\u001b[0m \u001b[0mipw\u001b[0m\u001b[0;34m.\u001b[0m\u001b[0minteract\u001b[0m\u001b[0;34m(\u001b[0m\u001b[0mplot_impulse_response\u001b[0m\u001b[0;34m,\u001b[0m\u001b[0md\u001b[0m\u001b[0;34m=\u001b[0m\u001b[0;34m(\u001b[0m\u001b[0;36m0.01\u001b[0m\u001b[0;34m,\u001b[0m\u001b[0;36m0.3\u001b[0m\u001b[0;34m,\u001b[0m\u001b[0;36m0.01\u001b[0m\u001b[0;34m)\u001b[0m\u001b[0;34m)\u001b[0m\u001b[0;34m;\u001b[0m\u001b[0;34m\u001b[0m\u001b[0;34m\u001b[0m\u001b[0m\n",
          "\u001b[0;32m~/anaconda3/envs/sbs/lib/python3.7/site-packages/sympy/plotting/plot.py\u001b[0m in \u001b[0;36mplot\u001b[0;34m(*args, **kwargs)\u001b[0m\n\u001b[1;32m   1351\u001b[0m             \u001b[0;32mif\u001b[0m \u001b[0mlen\u001b[0m\u001b[0;34m(\u001b[0m\u001b[0mfree\u001b[0m\u001b[0;34m)\u001b[0m \u001b[0;34m>\u001b[0m \u001b[0;36m1\u001b[0m\u001b[0;34m:\u001b[0m\u001b[0;34m\u001b[0m\u001b[0;34m\u001b[0m\u001b[0m\n\u001b[1;32m   1352\u001b[0m                 raise ValueError(\n\u001b[0;32m-> 1353\u001b[0;31m                     \u001b[0;34m'The same variable should be used in all '\u001b[0m\u001b[0;34m\u001b[0m\u001b[0;34m\u001b[0m\u001b[0m\n\u001b[0m\u001b[1;32m   1354\u001b[0m                     'univariate expressions being plotted.')\n\u001b[1;32m   1355\u001b[0m     \u001b[0mx\u001b[0m \u001b[0;34m=\u001b[0m \u001b[0mfree\u001b[0m\u001b[0;34m.\u001b[0m\u001b[0mpop\u001b[0m\u001b[0;34m(\u001b[0m\u001b[0;34m)\u001b[0m \u001b[0;32mif\u001b[0m \u001b[0mfree\u001b[0m \u001b[0;32melse\u001b[0m \u001b[0mSymbol\u001b[0m\u001b[0;34m(\u001b[0m\u001b[0;34m'x'\u001b[0m\u001b[0;34m)\u001b[0m\u001b[0;34m\u001b[0m\u001b[0;34m\u001b[0m\u001b[0m\n",
          "\u001b[0;31mValueError\u001b[0m: The same variable should be used in all univariate expressions being plotted."
         ]
        }
       ]
      }
     },
     "b6e0cd323a6a457d9b8b25a141749be3": {
      "model_module": "@jupyter-widgets/controls",
      "model_module_version": "1.5.0",
      "model_name": "FloatSliderModel",
      "state": {
       "description": "si",
       "layout": "IPY_MODEL_c99c78dfec5e4fb58a6d0a817370de81",
       "max": 2,
       "min": 0.1,
       "step": 0.1,
       "style": "IPY_MODEL_426d2504caff466bb51b647c680b2399",
       "value": 1
      }
     },
     "b876473e0845488abe375c2d5993da33": {
      "model_module": "@jupyter-widgets/controls",
      "model_module_version": "1.5.0",
      "model_name": "SliderStyleModel",
      "state": {
       "description_width": ""
      }
     },
     "b8c0c22609f049eb9caa843da6c011d6": {
      "model_module": "@jupyter-widgets/controls",
      "model_module_version": "1.5.0",
      "model_name": "FloatSliderModel",
      "state": {
       "description": "c_",
       "layout": "IPY_MODEL_a5472138bd9d41be8aeb23ff79fbf923",
       "max": 1,
       "min": 0.1,
       "step": 0.1,
       "style": "IPY_MODEL_7f4cb910ca02424288b21e6efa1e7b6b",
       "value": 0.1
      }
     },
     "b91a21a562d546d39cedbda5d25eed5c": {
      "model_module": "@jupyter-widgets/controls",
      "model_module_version": "1.5.0",
      "model_name": "FloatSliderModel",
      "state": {
       "description": "$\\xi_x$",
       "layout": "IPY_MODEL_b219b29b03b64103b6a1b20d83071051",
       "max": 0.4,
       "min": -0.4,
       "step": 0.1,
       "style": "IPY_MODEL_cd72e22f74a1479e816f226c099f7934"
      }
     },
     "b92d760708df45a590db72eaa2d27423": {
      "model_module": "@jupyter-widgets/controls",
      "model_module_version": "1.5.0",
      "model_name": "SliderStyleModel",
      "state": {
       "description_width": ""
      }
     },
     "b9769705fa004225ab1543fee91a9432": {
      "model_module": "@jupyter-widgets/controls",
      "model_module_version": "1.5.0",
      "model_name": "SliderStyleModel",
      "state": {
       "description_width": ""
      }
     },
     "b985ab28c0754c9c9629a30eb0db9fb7": {
      "model_module": "@jupyter-widgets/base",
      "model_module_version": "1.2.0",
      "model_name": "LayoutModel",
      "state": {}
     },
     "b9fd200017d445a9bd36e29cd206ddfc": {
      "model_module": "@jupyter-widgets/base",
      "model_module_version": "1.2.0",
      "model_name": "LayoutModel",
      "state": {}
     },
     "ba20856d7d374cc68d93826e2158ac7e": {
      "model_module": "@jupyter-widgets/controls",
      "model_module_version": "1.5.0",
      "model_name": "SliderStyleModel",
      "state": {
       "description_width": ""
      }
     },
     "ba97f661ae674441b1de7276b1df5a2d": {
      "model_module": "@jupyter-widgets/output",
      "model_module_version": "1.0.0",
      "model_name": "OutputModel",
      "state": {
       "layout": "IPY_MODEL_f410cdb00744416a8832705c9f02c49a",
       "outputs": [
        {
         "data": {
          "image/png": "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\n",
          "text/plain": "<Figure size 432x288 with 1 Axes>"
         },
         "metadata": {
          "needs_background": "light"
         },
         "output_type": "display_data"
        }
       ]
      }
     },
     "bb5dac5e95fc493da808baa028b745de": {
      "model_module": "@jupyter-widgets/controls",
      "model_module_version": "1.5.0",
      "model_name": "FloatSliderModel",
      "state": {
       "description": "$\\xi_2$",
       "layout": "IPY_MODEL_bbb135781e9a4788a1962b7d3d5e79a1",
       "max": 0.2,
       "min": -0.2,
       "step": 0.1,
       "style": "IPY_MODEL_ba20856d7d374cc68d93826e2158ac7e",
       "value": -0.1
      }
     },
     "bb6e8a20c0314a48a677448851c90316": {
      "model_module": "@jupyter-widgets/base",
      "model_module_version": "1.2.0",
      "model_name": "LayoutModel",
      "state": {}
     },
     "bbb135781e9a4788a1962b7d3d5e79a1": {
      "model_module": "@jupyter-widgets/base",
      "model_module_version": "1.2.0",
      "model_name": "LayoutModel",
      "state": {}
     },
     "bbf593897c8342b3b267af53c20435ea": {
      "model_module": "@jupyter-widgets/base",
      "model_module_version": "1.2.0",
      "model_name": "LayoutModel",
      "state": {}
     },
     "bcccf2b6c0f941898d81b362a2d4dfe1": {
      "model_module": "@jupyter-widgets/controls",
      "model_module_version": "1.5.0",
      "model_name": "SliderStyleModel",
      "state": {
       "description_width": ""
      }
     },
     "bd8a3f5ec5774a0b9498f65316ecda07": {
      "model_module": "@jupyter-widgets/base",
      "model_module_version": "1.2.0",
      "model_name": "LayoutModel",
      "state": {}
     },
     "be0a92bd99914b29a66dda0544e63360": {
      "model_module": "@jupyter-widgets/controls",
      "model_module_version": "1.5.0",
      "model_name": "VBoxModel",
      "state": {
       "_dom_classes": [
        "widget-interact"
       ],
       "children": [
        "IPY_MODEL_acabfc905b4a4f558b85b18416213c1c",
        "IPY_MODEL_79f64202756c4e329e14493983d5b9e2"
       ],
       "layout": "IPY_MODEL_d9a2a88bea9c4e6b98c71038d6edf45e"
      }
     },
     "be434862f8ae428bb317fd7fdc831461": {
      "model_module": "@jupyter-widgets/output",
      "model_module_version": "1.0.0",
      "model_name": "OutputModel",
      "state": {
       "layout": "IPY_MODEL_ded9320a42a14ddb85e1586695058d37",
       "outputs": [
        {
         "data": {
          "image/png": "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\n",
          "text/plain": "<Figure size 432x288 with 1 Axes>"
         },
         "metadata": {
          "needs_background": "light"
         },
         "output_type": "display_data"
        }
       ]
      }
     },
     "c01d50a7b2f34aaab91a21ba2f76a32e": {
      "model_module": "@jupyter-widgets/base",
      "model_module_version": "1.2.0",
      "model_name": "LayoutModel",
      "state": {}
     },
     "c0577be10b974d319bcb8f7d30bee57e": {
      "model_module": "@jupyter-widgets/base",
      "model_module_version": "1.2.0",
      "model_name": "LayoutModel",
      "state": {}
     },
     "c29b47bd2e3b415aac513b58fa8c2730": {
      "model_module": "@jupyter-widgets/controls",
      "model_module_version": "1.5.0",
      "model_name": "FloatSliderModel",
      "state": {
       "description": "$\\epsilon_1$",
       "layout": "IPY_MODEL_46527814651c4210ae51054186b1f8e9",
       "max": 0.2,
       "min": -0.2,
       "step": 0.1,
       "style": "IPY_MODEL_48be685c297f4f898e97ea8fdf4a7227",
       "value": 0.2
      }
     },
     "c3dc40ab8dfd4dfca03cb0a735cd8e3b": {
      "model_module": "@jupyter-widgets/base",
      "model_module_version": "1.2.0",
      "model_name": "LayoutModel",
      "state": {}
     },
     "c3e23d07643e450788b9539d0c4da859": {
      "model_module": "@jupyter-widgets/controls",
      "model_module_version": "1.5.0",
      "model_name": "SliderStyleModel",
      "state": {
       "description_width": ""
      }
     },
     "c478061b55534cd1ac641c685d6673dd": {
      "model_module": "@jupyter-widgets/controls",
      "model_module_version": "1.5.0",
      "model_name": "SliderStyleModel",
      "state": {
       "description_width": ""
      }
     },
     "c4da1c5a90d14ebb9874b230f9547417": {
      "model_module": "@jupyter-widgets/controls",
      "model_module_version": "1.5.0",
      "model_name": "SliderStyleModel",
      "state": {
       "description_width": ""
      }
     },
     "c5465ac3ca2940598419fae28ce3673b": {
      "model_module": "@jupyter-widgets/controls",
      "model_module_version": "1.5.0",
      "model_name": "FloatSliderModel",
      "state": {
       "description": "$\\epsilon_y$",
       "layout": "IPY_MODEL_1a51a8befb9c49eb88785d098298af39",
       "max": 0.4,
       "min": -0.4,
       "step": 0.1,
       "style": "IPY_MODEL_2cae40b656144e9eac1d8ae29bb5ce7e"
      }
     },
     "c58883a1a99145d6ad240f4cc29714c3": {
      "model_module": "@jupyter-widgets/controls",
      "model_module_version": "1.5.0",
      "model_name": "FloatSliderModel",
      "state": {
       "description": "ci",
       "layout": "IPY_MODEL_2073816beed84a3098265586a3bebc9e",
       "max": 1,
       "min": 0.1,
       "step": 0.1,
       "style": "IPY_MODEL_94cf522a905443019f390532d533a316",
       "value": 0.1
      }
     },
     "c641a1052d914bea82d1acaf16cb6ff0": {
      "model_module": "@jupyter-widgets/output",
      "model_module_version": "1.0.0",
      "model_name": "OutputModel",
      "state": {
       "layout": "IPY_MODEL_c8df0ad1f05e423ab7e38bed4061cb03",
       "outputs": [
        {
         "data": {
          "image/png": "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\n",
          "text/plain": "<Figure size 432x288 with 1 Axes>"
         },
         "metadata": {
          "needs_background": "light"
         },
         "output_type": "display_data"
        }
       ]
      }
     },
     "c75c77c920a6425ea43092573642b400": {
      "model_module": "@jupyter-widgets/base",
      "model_module_version": "1.2.0",
      "model_name": "LayoutModel",
      "state": {}
     },
     "c793398a6e9747df8022fdbf24a2721e": {
      "model_module": "@jupyter-widgets/controls",
      "model_module_version": "1.5.0",
      "model_name": "SliderStyleModel",
      "state": {
       "description_width": ""
      }
     },
     "c7e0ad714da4447981c859a36e18f354": {
      "model_module": "@jupyter-widgets/output",
      "model_module_version": "1.0.0",
      "model_name": "OutputModel",
      "state": {
       "layout": "IPY_MODEL_8d7644619bc9438b8ade0286a32ca3f4",
       "outputs": [
        {
         "name": "stderr",
         "output_type": "stream",
         "text": "/home/sarradj/anaconda3/envs/sbs/lib/python3.7/site-packages/sympy/plotting/plot.py:1025: UserWarning: Attempted to set non-positive left xlim on a log-scaled axis.\nInvalid limit will be ignored.\n  self.ax.set_xlim(min(starts), max(ends))\n"
        },
        {
         "data": {
          "image/png": "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\n",
          "text/plain": "<Figure size 432x288 with 1 Axes>"
         },
         "metadata": {
          "needs_background": "light"
         },
         "output_type": "display_data"
        }
       ]
      }
     },
     "c80929e46b8c4ab5b85506904008587d": {
      "model_module": "@jupyter-widgets/controls",
      "model_module_version": "1.5.0",
      "model_name": "VBoxModel",
      "state": {
       "_dom_classes": [
        "widget-interact"
       ],
       "children": [
        "IPY_MODEL_c821fb0867524399a3aad9c48c924ca9",
        "IPY_MODEL_34aa89a0aedc486c8cbb85c3a7dc96f3"
       ],
       "layout": "IPY_MODEL_a12cd0a39c734487a89e7d4e6915e570"
      }
     },
     "c821fb0867524399a3aad9c48c924ca9": {
      "model_module": "@jupyter-widgets/controls",
      "model_module_version": "1.5.0",
      "model_name": "FloatSliderModel",
      "state": {
       "description": "d",
       "layout": "IPY_MODEL_0bc4b12764a44df593087628c317631b",
       "max": 0.3,
       "min": 0.01,
       "step": 0.01,
       "style": "IPY_MODEL_5c78eded40d449b586739ee75cd0e665",
       "value": 0.1
      }
     },
     "c8df0ad1f05e423ab7e38bed4061cb03": {
      "model_module": "@jupyter-widgets/base",
      "model_module_version": "1.2.0",
      "model_name": "LayoutModel",
      "state": {}
     },
     "c935e292616d4f04836a726c6390b5be": {
      "model_module": "@jupyter-widgets/controls",
      "model_module_version": "1.5.0",
      "model_name": "SliderStyleModel",
      "state": {
       "description_width": ""
      }
     },
     "c983829f11cb4d9088992461f4dce57a": {
      "model_module": "@jupyter-widgets/base",
      "model_module_version": "1.2.0",
      "model_name": "LayoutModel",
      "state": {}
     },
     "c99c78dfec5e4fb58a6d0a817370de81": {
      "model_module": "@jupyter-widgets/base",
      "model_module_version": "1.2.0",
      "model_name": "LayoutModel",
      "state": {}
     },
     "cb0d99bbd6e5499f9619b7b94d9add99": {
      "model_module": "@jupyter-widgets/base",
      "model_module_version": "1.2.0",
      "model_name": "LayoutModel",
      "state": {}
     },
     "cbaf48fd52ef4dd3a18bcfbd3ab29a84": {
      "model_module": "@jupyter-widgets/controls",
      "model_module_version": "1.5.0",
      "model_name": "CheckboxModel",
      "state": {
       "description": "transverse",
       "disabled": false,
       "layout": "IPY_MODEL_ff2a74547176433787efdb114f2266b7",
       "style": "IPY_MODEL_add4ece213624fb4af283568a94f9aa9",
       "value": false
      }
     },
     "cc3a0c2f60cd473c8790ec22a604ca56": {
      "model_module": "@jupyter-widgets/base",
      "model_module_version": "1.2.0",
      "model_name": "LayoutModel",
      "state": {}
     },
     "ccd1de8aace544a2ab3acb90f18c7801": {
      "model_module": "@jupyter-widgets/controls",
      "model_module_version": "1.5.0",
      "model_name": "FloatSliderModel",
      "state": {
       "description": "$\\xi_y$",
       "layout": "IPY_MODEL_789f8d6dff354b9681e07fcf098f2bc4",
       "max": 0.4,
       "min": -0.4,
       "step": 0.1,
       "style": "IPY_MODEL_df25ee6a4fda4d73bac997b55b551c1c"
      }
     },
     "cd177281c9a24fa29a7e7145532ccddc": {
      "model_module": "@jupyter-widgets/base",
      "model_module_version": "1.2.0",
      "model_name": "LayoutModel",
      "state": {}
     },
     "cd31e14ffaad4a83917c17990f23071c": {
      "model_module": "@jupyter-widgets/base",
      "model_module_version": "1.2.0",
      "model_name": "LayoutModel",
      "state": {}
     },
     "cd72e22f74a1479e816f226c099f7934": {
      "model_module": "@jupyter-widgets/controls",
      "model_module_version": "1.5.0",
      "model_name": "SliderStyleModel",
      "state": {
       "description_width": ""
      }
     },
     "cdb165dd8c6d4061891cde9e9e92b25e": {
      "model_module": "@jupyter-widgets/controls",
      "model_module_version": "1.5.0",
      "model_name": "SliderStyleModel",
      "state": {
       "description_width": ""
      }
     },
     "ce7b851b7740493da16ba0443242d744": {
      "model_module": "@jupyter-widgets/controls",
      "model_module_version": "1.5.0",
      "model_name": "VBoxModel",
      "state": {
       "_dom_classes": [
        "widget-interact"
       ],
       "children": [
        "IPY_MODEL_f1b071edaf714777aeb7444225e79ad1",
        "IPY_MODEL_5ab67c4cd80d45568efae30a030c4c16",
        "IPY_MODEL_d294511cfa3941ff9dab2dab1c0018e0",
        "IPY_MODEL_275d0a80567b4a49995a0239d3105ff8"
       ],
       "layout": "IPY_MODEL_2df6aacbc50e473c999d7faf30267428"
      }
     },
     "cee27beaceaf4451bc54b65dc950d6dc": {
      "model_module": "@jupyter-widgets/controls",
      "model_module_version": "1.5.0",
      "model_name": "VBoxModel",
      "state": {
       "_dom_classes": [
        "widget-interact"
       ],
       "children": [
        "IPY_MODEL_291988f0f82f4409997a83fe71e32ecd",
        "IPY_MODEL_fc5e56a63fac44019da2321491010670",
        "IPY_MODEL_0ea9849daa24472b872ec27fcef006b5",
        "IPY_MODEL_138395feb51d4badbd295f6e7ab1acba"
       ],
       "layout": "IPY_MODEL_66dc4c6b7abc4ffe8859f41e507638a2"
      }
     },
     "cf19f871178645b0b8dbfb5acf99c97a": {
      "model_module": "@jupyter-widgets/controls",
      "model_module_version": "1.5.0",
      "model_name": "SliderStyleModel",
      "state": {
       "description_width": ""
      }
     },
     "cfbf0bcf61bd4da796bbfd77872041ac": {
      "model_module": "@jupyter-widgets/base",
      "model_module_version": "1.2.0",
      "model_name": "LayoutModel",
      "state": {}
     },
     "cfc2183e7e7947c3bd70ac04b2af43ab": {
      "model_module": "@jupyter-widgets/base",
      "model_module_version": "1.2.0",
      "model_name": "LayoutModel",
      "state": {}
     },
     "d01e2d8ada0648c3af67326c2a955e8e": {
      "model_module": "@jupyter-widgets/controls",
      "model_module_version": "1.5.0",
      "model_name": "FloatSliderModel",
      "state": {
       "description": "mi",
       "layout": "IPY_MODEL_3286b51411734b5fb2c099101046905a",
       "max": 2,
       "min": 0.1,
       "step": 0.1,
       "style": "IPY_MODEL_031828f90954441fb834bda54a0d3db0",
       "value": 1
      }
     },
     "d07fe4ee13d54ecaa36110c3f6232256": {
      "model_module": "@jupyter-widgets/controls",
      "model_module_version": "1.5.0",
      "model_name": "FloatSliderModel",
      "state": {
       "description": "$\\xi_y$",
       "layout": "IPY_MODEL_63f425c9180c47c8811fac302a819af8",
       "max": 0.4,
       "min": -0.4,
       "step": 0.1,
       "style": "IPY_MODEL_94e1045d84824f5b82d63738d1553166"
      }
     },
     "d091016366514010a0d01a85b2a414c4": {
      "model_module": "@jupyter-widgets/controls",
      "model_module_version": "1.5.0",
      "model_name": "SliderStyleModel",
      "state": {
       "description_width": ""
      }
     },
     "d11443ff3f8a4a6bba508501e65765da": {
      "model_module": "@jupyter-widgets/controls",
      "model_module_version": "1.5.0",
      "model_name": "FloatSliderModel",
      "state": {
       "description": "$\\xi_1$",
       "layout": "IPY_MODEL_60ac60eebe40486d9e78fd19f5270959",
       "max": 0.2,
       "min": -0.2,
       "step": 0.1,
       "style": "IPY_MODEL_283c0d777b6f4242a03fc08c2c319ff4",
       "value": 0.1
      }
     },
     "d184a8733fe7414eaa271c312fe40744": {
      "model_module": "@jupyter-widgets/base",
      "model_module_version": "1.2.0",
      "model_name": "LayoutModel",
      "state": {}
     },
     "d1d989a32341411193d4cc17a3978ebd": {
      "model_module": "@jupyter-widgets/controls",
      "model_module_version": "1.5.0",
      "model_name": "SliderStyleModel",
      "state": {
       "description_width": ""
      }
     },
     "d2852cd4f3cb4939b29cfe426d6c8f59": {
      "model_module": "@jupyter-widgets/controls",
      "model_module_version": "1.5.0",
      "model_name": "FloatSliderModel",
      "state": {
       "description": "$\\epsilon_x$",
       "layout": "IPY_MODEL_7309aacce7964761ad2d9df2efe3b2cf",
       "max": 0.4,
       "min": -0.4,
       "step": 0.1,
       "style": "IPY_MODEL_fb4bb565590b45108a57e3a211c459e2"
      }
     },
     "d294511cfa3941ff9dab2dab1c0018e0": {
      "model_module": "@jupyter-widgets/controls",
      "model_module_version": "1.5.0",
      "model_name": "FloatSliderModel",
      "state": {
       "description": "si",
       "layout": "IPY_MODEL_3621abeececa44549fef8983e8355478",
       "max": 2,
       "min": 0.1,
       "step": 0.1,
       "style": "IPY_MODEL_a878310229054f868b8ee0676a8d4886",
       "value": 1
      }
     },
     "d3765045572e427eaa6d189b253ae723": {
      "model_module": "@jupyter-widgets/base",
      "model_module_version": "1.2.0",
      "model_name": "LayoutModel",
      "state": {}
     },
     "d39490c6b5ff4bc6a2a707001fca17a5": {
      "model_module": "@jupyter-widgets/controls",
      "model_module_version": "1.5.0",
      "model_name": "FloatSliderModel",
      "state": {
       "description": "c_",
       "layout": "IPY_MODEL_fd17a837cca6410cbb3143e192e3b6b0",
       "max": 1,
       "min": 0.1,
       "step": 0.1,
       "style": "IPY_MODEL_0ef13db079c1478285493479b1d758e1",
       "value": 0.1
      }
     },
     "d3e10c8273764874bd470cdcfa41bb58": {
      "model_module": "@jupyter-widgets/base",
      "model_module_version": "1.2.0",
      "model_name": "LayoutModel",
      "state": {}
     },
     "d57b1d38cc4445248c73b46f603132ce": {
      "model_module": "@jupyter-widgets/output",
      "model_module_version": "1.0.0",
      "model_name": "OutputModel",
      "state": {
       "layout": "IPY_MODEL_1e17ae2fbb4842be85e277bbf1c44605",
       "outputs": [
        {
         "ename": "ValueError",
         "evalue": "Image size of 374304x28163 pixels is too large. It must be less than 2^16 in each direction.",
         "output_type": "error",
         "traceback": [
          "\u001b[0;31m---------------------------------------------------------------------------\u001b[0m",
          "\u001b[0;31mValueError\u001b[0m                                Traceback (most recent call last)",
          "\u001b[0;32m~/anaconda3/envs/sbs/lib/python3.7/site-packages/IPython/core/formatters.py\u001b[0m in \u001b[0;36m__call__\u001b[0;34m(self, obj)\u001b[0m\n\u001b[1;32m    339\u001b[0m                 \u001b[0;32mpass\u001b[0m\u001b[0;34m\u001b[0m\u001b[0;34m\u001b[0m\u001b[0m\n\u001b[1;32m    340\u001b[0m             \u001b[0;32melse\u001b[0m\u001b[0;34m:\u001b[0m\u001b[0;34m\u001b[0m\u001b[0;34m\u001b[0m\u001b[0m\n\u001b[0;32m--> 341\u001b[0;31m                 \u001b[0;32mreturn\u001b[0m \u001b[0mprinter\u001b[0m\u001b[0;34m(\u001b[0m\u001b[0mobj\u001b[0m\u001b[0;34m)\u001b[0m\u001b[0;34m\u001b[0m\u001b[0;34m\u001b[0m\u001b[0m\n\u001b[0m\u001b[1;32m    342\u001b[0m             \u001b[0;31m# Finally look for special method names\u001b[0m\u001b[0;34m\u001b[0m\u001b[0;34m\u001b[0m\u001b[0;34m\u001b[0m\u001b[0m\n\u001b[1;32m    343\u001b[0m             \u001b[0mmethod\u001b[0m \u001b[0;34m=\u001b[0m \u001b[0mget_real_method\u001b[0m\u001b[0;34m(\u001b[0m\u001b[0mobj\u001b[0m\u001b[0;34m,\u001b[0m \u001b[0mself\u001b[0m\u001b[0;34m.\u001b[0m\u001b[0mprint_method\u001b[0m\u001b[0;34m)\u001b[0m\u001b[0;34m\u001b[0m\u001b[0;34m\u001b[0m\u001b[0m\n",
          "\u001b[0;32m~/anaconda3/envs/sbs/lib/python3.7/site-packages/IPython/core/pylabtools.py\u001b[0m in \u001b[0;36m<lambda>\u001b[0;34m(fig)\u001b[0m\n\u001b[1;32m    242\u001b[0m \u001b[0;34m\u001b[0m\u001b[0m\n\u001b[1;32m    243\u001b[0m     \u001b[0;32mif\u001b[0m \u001b[0;34m'png'\u001b[0m \u001b[0;32min\u001b[0m \u001b[0mformats\u001b[0m\u001b[0;34m:\u001b[0m\u001b[0;34m\u001b[0m\u001b[0;34m\u001b[0m\u001b[0m\n\u001b[0;32m--> 244\u001b[0;31m         \u001b[0mpng_formatter\u001b[0m\u001b[0;34m.\u001b[0m\u001b[0mfor_type\u001b[0m\u001b[0;34m(\u001b[0m\u001b[0mFigure\u001b[0m\u001b[0;34m,\u001b[0m \u001b[0;32mlambda\u001b[0m \u001b[0mfig\u001b[0m\u001b[0;34m:\u001b[0m \u001b[0mprint_figure\u001b[0m\u001b[0;34m(\u001b[0m\u001b[0mfig\u001b[0m\u001b[0;34m,\u001b[0m \u001b[0;34m'png'\u001b[0m\u001b[0;34m,\u001b[0m \u001b[0;34m**\u001b[0m\u001b[0mkwargs\u001b[0m\u001b[0;34m)\u001b[0m\u001b[0;34m)\u001b[0m\u001b[0;34m\u001b[0m\u001b[0;34m\u001b[0m\u001b[0m\n\u001b[0m\u001b[1;32m    245\u001b[0m     \u001b[0;32mif\u001b[0m \u001b[0;34m'retina'\u001b[0m \u001b[0;32min\u001b[0m \u001b[0mformats\u001b[0m \u001b[0;32mor\u001b[0m \u001b[0;34m'png2x'\u001b[0m \u001b[0;32min\u001b[0m \u001b[0mformats\u001b[0m\u001b[0;34m:\u001b[0m\u001b[0;34m\u001b[0m\u001b[0;34m\u001b[0m\u001b[0m\n\u001b[1;32m    246\u001b[0m         \u001b[0mpng_formatter\u001b[0m\u001b[0;34m.\u001b[0m\u001b[0mfor_type\u001b[0m\u001b[0;34m(\u001b[0m\u001b[0mFigure\u001b[0m\u001b[0;34m,\u001b[0m \u001b[0;32mlambda\u001b[0m \u001b[0mfig\u001b[0m\u001b[0;34m:\u001b[0m \u001b[0mretina_figure\u001b[0m\u001b[0;34m(\u001b[0m\u001b[0mfig\u001b[0m\u001b[0;34m,\u001b[0m \u001b[0;34m**\u001b[0m\u001b[0mkwargs\u001b[0m\u001b[0;34m)\u001b[0m\u001b[0;34m)\u001b[0m\u001b[0;34m\u001b[0m\u001b[0;34m\u001b[0m\u001b[0m\n",
          "\u001b[0;32m~/anaconda3/envs/sbs/lib/python3.7/site-packages/IPython/core/pylabtools.py\u001b[0m in \u001b[0;36mprint_figure\u001b[0;34m(fig, fmt, bbox_inches, **kwargs)\u001b[0m\n\u001b[1;32m    126\u001b[0m \u001b[0;34m\u001b[0m\u001b[0m\n\u001b[1;32m    127\u001b[0m     \u001b[0mbytes_io\u001b[0m \u001b[0;34m=\u001b[0m \u001b[0mBytesIO\u001b[0m\u001b[0;34m(\u001b[0m\u001b[0;34m)\u001b[0m\u001b[0;34m\u001b[0m\u001b[0;34m\u001b[0m\u001b[0m\n\u001b[0;32m--> 128\u001b[0;31m     \u001b[0mfig\u001b[0m\u001b[0;34m.\u001b[0m\u001b[0mcanvas\u001b[0m\u001b[0;34m.\u001b[0m\u001b[0mprint_figure\u001b[0m\u001b[0;34m(\u001b[0m\u001b[0mbytes_io\u001b[0m\u001b[0;34m,\u001b[0m \u001b[0;34m**\u001b[0m\u001b[0mkw\u001b[0m\u001b[0;34m)\u001b[0m\u001b[0;34m\u001b[0m\u001b[0;34m\u001b[0m\u001b[0m\n\u001b[0m\u001b[1;32m    129\u001b[0m     \u001b[0mdata\u001b[0m \u001b[0;34m=\u001b[0m \u001b[0mbytes_io\u001b[0m\u001b[0;34m.\u001b[0m\u001b[0mgetvalue\u001b[0m\u001b[0;34m(\u001b[0m\u001b[0;34m)\u001b[0m\u001b[0;34m\u001b[0m\u001b[0;34m\u001b[0m\u001b[0m\n\u001b[1;32m    130\u001b[0m     \u001b[0;32mif\u001b[0m \u001b[0mfmt\u001b[0m \u001b[0;34m==\u001b[0m \u001b[0;34m'svg'\u001b[0m\u001b[0;34m:\u001b[0m\u001b[0;34m\u001b[0m\u001b[0;34m\u001b[0m\u001b[0m\n",
          "\u001b[0;32m~/anaconda3/envs/sbs/lib/python3.7/site-packages/matplotlib/backend_bases.py\u001b[0m in \u001b[0;36mprint_figure\u001b[0;34m(self, filename, dpi, facecolor, edgecolor, orientation, format, bbox_inches, **kwargs)\u001b[0m\n\u001b[1;32m   2080\u001b[0m                     \u001b[0morientation\u001b[0m\u001b[0;34m=\u001b[0m\u001b[0morientation\u001b[0m\u001b[0;34m,\u001b[0m\u001b[0;34m\u001b[0m\u001b[0;34m\u001b[0m\u001b[0m\n\u001b[1;32m   2081\u001b[0m                     \u001b[0mbbox_inches_restore\u001b[0m\u001b[0;34m=\u001b[0m\u001b[0m_bbox_inches_restore\u001b[0m\u001b[0;34m,\u001b[0m\u001b[0;34m\u001b[0m\u001b[0;34m\u001b[0m\u001b[0m\n\u001b[0;32m-> 2082\u001b[0;31m                     **kwargs)\n\u001b[0m\u001b[1;32m   2083\u001b[0m             \u001b[0;32mfinally\u001b[0m\u001b[0;34m:\u001b[0m\u001b[0;34m\u001b[0m\u001b[0;34m\u001b[0m\u001b[0m\n\u001b[1;32m   2084\u001b[0m                 \u001b[0;32mif\u001b[0m \u001b[0mbbox_inches\u001b[0m \u001b[0;32mand\u001b[0m \u001b[0mrestore_bbox\u001b[0m\u001b[0;34m:\u001b[0m\u001b[0;34m\u001b[0m\u001b[0;34m\u001b[0m\u001b[0m\n",
          "\u001b[0;32m~/anaconda3/envs/sbs/lib/python3.7/site-packages/matplotlib/backends/backend_agg.py\u001b[0m in \u001b[0;36mprint_png\u001b[0;34m(self, filename_or_obj, metadata, pil_kwargs, *args, **kwargs)\u001b[0m\n\u001b[1;32m    525\u001b[0m \u001b[0;34m\u001b[0m\u001b[0m\n\u001b[1;32m    526\u001b[0m         \u001b[0;32melse\u001b[0m\u001b[0;34m:\u001b[0m\u001b[0;34m\u001b[0m\u001b[0;34m\u001b[0m\u001b[0m\n\u001b[0;32m--> 527\u001b[0;31m             \u001b[0mFigureCanvasAgg\u001b[0m\u001b[0;34m.\u001b[0m\u001b[0mdraw\u001b[0m\u001b[0;34m(\u001b[0m\u001b[0mself\u001b[0m\u001b[0;34m)\u001b[0m\u001b[0;34m\u001b[0m\u001b[0;34m\u001b[0m\u001b[0m\n\u001b[0m\u001b[1;32m    528\u001b[0m             \u001b[0mrenderer\u001b[0m \u001b[0;34m=\u001b[0m \u001b[0mself\u001b[0m\u001b[0;34m.\u001b[0m\u001b[0mget_renderer\u001b[0m\u001b[0;34m(\u001b[0m\u001b[0;34m)\u001b[0m\u001b[0;34m\u001b[0m\u001b[0;34m\u001b[0m\u001b[0m\n\u001b[1;32m    529\u001b[0m             \u001b[0;32mwith\u001b[0m \u001b[0mcbook\u001b[0m\u001b[0;34m.\u001b[0m\u001b[0m_setattr_cm\u001b[0m\u001b[0;34m(\u001b[0m\u001b[0mrenderer\u001b[0m\u001b[0;34m,\u001b[0m \u001b[0mdpi\u001b[0m\u001b[0;34m=\u001b[0m\u001b[0mself\u001b[0m\u001b[0;34m.\u001b[0m\u001b[0mfigure\u001b[0m\u001b[0;34m.\u001b[0m\u001b[0mdpi\u001b[0m\u001b[0;34m)\u001b[0m\u001b[0;34m,\u001b[0m\u001b[0;31m \u001b[0m\u001b[0;31m\\\u001b[0m\u001b[0;34m\u001b[0m\u001b[0;34m\u001b[0m\u001b[0m\n",
          "\u001b[0;32m~/anaconda3/envs/sbs/lib/python3.7/site-packages/matplotlib/backends/backend_agg.py\u001b[0m in \u001b[0;36mdraw\u001b[0;34m(self)\u001b[0m\n\u001b[1;32m    384\u001b[0m         \u001b[0mDraw\u001b[0m \u001b[0mthe\u001b[0m \u001b[0mfigure\u001b[0m \u001b[0musing\u001b[0m \u001b[0mthe\u001b[0m \u001b[0mrenderer\u001b[0m\u001b[0;34m.\u001b[0m\u001b[0;34m\u001b[0m\u001b[0;34m\u001b[0m\u001b[0m\n\u001b[1;32m    385\u001b[0m         \"\"\"\n\u001b[0;32m--> 386\u001b[0;31m         \u001b[0mself\u001b[0m\u001b[0;34m.\u001b[0m\u001b[0mrenderer\u001b[0m \u001b[0;34m=\u001b[0m \u001b[0mself\u001b[0m\u001b[0;34m.\u001b[0m\u001b[0mget_renderer\u001b[0m\u001b[0;34m(\u001b[0m\u001b[0mcleared\u001b[0m\u001b[0;34m=\u001b[0m\u001b[0;32mTrue\u001b[0m\u001b[0;34m)\u001b[0m\u001b[0;34m\u001b[0m\u001b[0;34m\u001b[0m\u001b[0m\n\u001b[0m\u001b[1;32m    387\u001b[0m         \u001b[0;32mwith\u001b[0m \u001b[0mRendererAgg\u001b[0m\u001b[0;34m.\u001b[0m\u001b[0mlock\u001b[0m\u001b[0;34m:\u001b[0m\u001b[0;34m\u001b[0m\u001b[0;34m\u001b[0m\u001b[0m\n\u001b[1;32m    388\u001b[0m             \u001b[0mself\u001b[0m\u001b[0;34m.\u001b[0m\u001b[0mfigure\u001b[0m\u001b[0;34m.\u001b[0m\u001b[0mdraw\u001b[0m\u001b[0;34m(\u001b[0m\u001b[0mself\u001b[0m\u001b[0;34m.\u001b[0m\u001b[0mrenderer\u001b[0m\u001b[0;34m)\u001b[0m\u001b[0;34m\u001b[0m\u001b[0;34m\u001b[0m\u001b[0m\n",
          "\u001b[0;32m~/anaconda3/envs/sbs/lib/python3.7/site-packages/matplotlib/backends/backend_agg.py\u001b[0m in \u001b[0;36mget_renderer\u001b[0;34m(self, cleared)\u001b[0m\n\u001b[1;32m    397\u001b[0m                           and getattr(self, \"_lastKey\", None) == key)\n\u001b[1;32m    398\u001b[0m         \u001b[0;32mif\u001b[0m \u001b[0;32mnot\u001b[0m \u001b[0mreuse_renderer\u001b[0m\u001b[0;34m:\u001b[0m\u001b[0;34m\u001b[0m\u001b[0;34m\u001b[0m\u001b[0m\n\u001b[0;32m--> 399\u001b[0;31m             \u001b[0mself\u001b[0m\u001b[0;34m.\u001b[0m\u001b[0mrenderer\u001b[0m \u001b[0;34m=\u001b[0m \u001b[0mRendererAgg\u001b[0m\u001b[0;34m(\u001b[0m\u001b[0mw\u001b[0m\u001b[0;34m,\u001b[0m \u001b[0mh\u001b[0m\u001b[0;34m,\u001b[0m \u001b[0mself\u001b[0m\u001b[0;34m.\u001b[0m\u001b[0mfigure\u001b[0m\u001b[0;34m.\u001b[0m\u001b[0mdpi\u001b[0m\u001b[0;34m)\u001b[0m\u001b[0;34m\u001b[0m\u001b[0;34m\u001b[0m\u001b[0m\n\u001b[0m\u001b[1;32m    400\u001b[0m             \u001b[0mself\u001b[0m\u001b[0;34m.\u001b[0m\u001b[0m_lastKey\u001b[0m \u001b[0;34m=\u001b[0m \u001b[0mkey\u001b[0m\u001b[0;34m\u001b[0m\u001b[0;34m\u001b[0m\u001b[0m\n\u001b[1;32m    401\u001b[0m         \u001b[0;32melif\u001b[0m \u001b[0mcleared\u001b[0m\u001b[0;34m:\u001b[0m\u001b[0;34m\u001b[0m\u001b[0;34m\u001b[0m\u001b[0m\n",
          "\u001b[0;32m~/anaconda3/envs/sbs/lib/python3.7/site-packages/matplotlib/backends/backend_agg.py\u001b[0m in \u001b[0;36m__init__\u001b[0;34m(self, width, height, dpi)\u001b[0m\n\u001b[1;32m     84\u001b[0m         \u001b[0mself\u001b[0m\u001b[0;34m.\u001b[0m\u001b[0mwidth\u001b[0m \u001b[0;34m=\u001b[0m \u001b[0mwidth\u001b[0m\u001b[0;34m\u001b[0m\u001b[0;34m\u001b[0m\u001b[0m\n\u001b[1;32m     85\u001b[0m         \u001b[0mself\u001b[0m\u001b[0;34m.\u001b[0m\u001b[0mheight\u001b[0m \u001b[0;34m=\u001b[0m \u001b[0mheight\u001b[0m\u001b[0;34m\u001b[0m\u001b[0;34m\u001b[0m\u001b[0m\n\u001b[0;32m---> 86\u001b[0;31m         \u001b[0mself\u001b[0m\u001b[0;34m.\u001b[0m\u001b[0m_renderer\u001b[0m \u001b[0;34m=\u001b[0m \u001b[0m_RendererAgg\u001b[0m\u001b[0;34m(\u001b[0m\u001b[0mint\u001b[0m\u001b[0;34m(\u001b[0m\u001b[0mwidth\u001b[0m\u001b[0;34m)\u001b[0m\u001b[0;34m,\u001b[0m \u001b[0mint\u001b[0m\u001b[0;34m(\u001b[0m\u001b[0mheight\u001b[0m\u001b[0;34m)\u001b[0m\u001b[0;34m,\u001b[0m \u001b[0mdpi\u001b[0m\u001b[0;34m)\u001b[0m\u001b[0;34m\u001b[0m\u001b[0;34m\u001b[0m\u001b[0m\n\u001b[0m\u001b[1;32m     87\u001b[0m         \u001b[0mself\u001b[0m\u001b[0;34m.\u001b[0m\u001b[0m_filter_renderers\u001b[0m \u001b[0;34m=\u001b[0m \u001b[0;34m[\u001b[0m\u001b[0;34m]\u001b[0m\u001b[0;34m\u001b[0m\u001b[0;34m\u001b[0m\u001b[0m\n\u001b[1;32m     88\u001b[0m \u001b[0;34m\u001b[0m\u001b[0m\n",
          "\u001b[0;31mValueError\u001b[0m: Image size of 374304x28163 pixels is too large. It must be less than 2^16 in each direction."
         ]
        },
        {
         "data": {
          "text/plain": "<Figure size 432x288 with 1 Axes>"
         },
         "metadata": {
          "needs_background": "light"
         },
         "output_type": "display_data"
        }
       ]
      }
     },
     "d61f08e7280f480daa8338f6ebcca5ef": {
      "model_module": "@jupyter-widgets/base",
      "model_module_version": "1.2.0",
      "model_name": "LayoutModel",
      "state": {}
     },
     "d6477cd61be246d8a4425b72c9fb6cbb": {
      "model_module": "@jupyter-widgets/base",
      "model_module_version": "1.2.0",
      "model_name": "LayoutModel",
      "state": {}
     },
     "d67651cd7e0d45fca55b4088d8e53a27": {
      "model_module": "@jupyter-widgets/base",
      "model_module_version": "1.2.0",
      "model_name": "LayoutModel",
      "state": {}
     },
     "d6f4308f05854b0da77c95bd744dcc2a": {
      "model_module": "@jupyter-widgets/controls",
      "model_module_version": "1.5.0",
      "model_name": "FloatSliderModel",
      "state": {
       "description": "d",
       "layout": "IPY_MODEL_132977e9dbed449bbd4306bfc19dbdd0",
       "max": 0.3,
       "min": 0.01,
       "step": 0.01,
       "style": "IPY_MODEL_1e9ae2ee402e4b4baff8eae6917da497",
       "value": 0.1
      }
     },
     "d7e36b3fdc8248e8a20f6ccedf43db9c": {
      "model_module": "@jupyter-widgets/base",
      "model_module_version": "1.2.0",
      "model_name": "LayoutModel",
      "state": {}
     },
     "d8fc10198a40470fba9c9946e20a5065": {
      "model_module": "@jupyter-widgets/base",
      "model_module_version": "1.2.0",
      "model_name": "LayoutModel",
      "state": {}
     },
     "d90a206783ea49f5bb98894715b1dff5": {
      "model_module": "@jupyter-widgets/controls",
      "model_module_version": "1.5.0",
      "model_name": "SliderStyleModel",
      "state": {
       "description_width": ""
      }
     },
     "d91d57fbf03b4fc199ae8f9a551ab0de": {
      "model_module": "@jupyter-widgets/base",
      "model_module_version": "1.2.0",
      "model_name": "LayoutModel",
      "state": {}
     },
     "d947438658b34949b833dfe643046f4c": {
      "model_module": "@jupyter-widgets/base",
      "model_module_version": "1.2.0",
      "model_name": "LayoutModel",
      "state": {}
     },
     "d9a2a88bea9c4e6b98c71038d6edf45e": {
      "model_module": "@jupyter-widgets/base",
      "model_module_version": "1.2.0",
      "model_name": "LayoutModel",
      "state": {}
     },
     "d9b3d6f5496e419aaf3b10384ef22947": {
      "model_module": "@jupyter-widgets/controls",
      "model_module_version": "1.5.0",
      "model_name": "VBoxModel",
      "state": {
       "_dom_classes": [
        "widget-interact"
       ],
       "children": [
        "IPY_MODEL_23b0ba6f911349db8b54c5b52ca45209",
        "IPY_MODEL_b68dde8d92924693a46033339dc32845"
       ],
       "layout": "IPY_MODEL_a53ae03e9553412aa22f84cc39d5d729"
      }
     },
     "dadb787ba5a14ced876f83c654b59eef": {
      "model_module": "@jupyter-widgets/base",
      "model_module_version": "1.2.0",
      "model_name": "LayoutModel",
      "state": {}
     },
     "db46ed722b7a4712a2b5c7e258db2bcc": {
      "model_module": "@jupyter-widgets/base",
      "model_module_version": "1.2.0",
      "model_name": "LayoutModel",
      "state": {}
     },
     "dc2cf93ba041416f9b915871866b3168": {
      "model_module": "@jupyter-widgets/controls",
      "model_module_version": "1.5.0",
      "model_name": "FloatSliderModel",
      "state": {
       "description": "$\\gamma_{xy}$",
       "layout": "IPY_MODEL_80fa6576607e43bcaf0100b3475a9563",
       "max": 0.4,
       "min": -0.4,
       "step": 0.1,
       "style": "IPY_MODEL_20bd7f0de4074fcd918fee79818163e5",
       "value": 0.2
      }
     },
     "dc582efac2284b5ebc88d87a2d80c6d1": {
      "model_module": "@jupyter-widgets/controls",
      "model_module_version": "1.5.0",
      "model_name": "FloatSliderModel",
      "state": {
       "description": "c",
       "layout": "IPY_MODEL_3c812c78c694437b8a6d7ec132eb87bf",
       "max": 0.3,
       "min": 0.01,
       "step": 0.01,
       "style": "IPY_MODEL_e468a6e4dd25468b8235a8cfb5968406",
       "value": 0.1
      }
     },
     "dd11f8269131451eacb29de0197b23c0": {
      "model_module": "@jupyter-widgets/output",
      "model_module_version": "1.0.0",
      "model_name": "OutputModel",
      "state": {
       "layout": "IPY_MODEL_2a0478a577914178b9f5ece13dd5b676",
       "outputs": [
        {
         "ename": "NameError",
         "evalue": "name 'omega' is not defined",
         "output_type": "error",
         "traceback": [
          "\u001b[0;31m---------------------------------------------------------------------------\u001b[0m",
          "\u001b[0;31mNameError\u001b[0m                                 Traceback (most recent call last)",
          "\u001b[0;32m~/anaconda3/envs/sbs/lib/python3.7/site-packages/ipywidgets/widgets/interaction.py\u001b[0m in \u001b[0;36mupdate\u001b[0;34m(self, *args)\u001b[0m\n\u001b[1;32m    249\u001b[0m                     \u001b[0mvalue\u001b[0m \u001b[0;34m=\u001b[0m \u001b[0mwidget\u001b[0m\u001b[0;34m.\u001b[0m\u001b[0mget_interact_value\u001b[0m\u001b[0;34m(\u001b[0m\u001b[0;34m)\u001b[0m\u001b[0;34m\u001b[0m\u001b[0;34m\u001b[0m\u001b[0m\n\u001b[1;32m    250\u001b[0m                     \u001b[0mself\u001b[0m\u001b[0;34m.\u001b[0m\u001b[0mkwargs\u001b[0m\u001b[0;34m[\u001b[0m\u001b[0mwidget\u001b[0m\u001b[0;34m.\u001b[0m\u001b[0m_kwarg\u001b[0m\u001b[0;34m]\u001b[0m \u001b[0;34m=\u001b[0m \u001b[0mvalue\u001b[0m\u001b[0;34m\u001b[0m\u001b[0;34m\u001b[0m\u001b[0m\n\u001b[0;32m--> 251\u001b[0;31m                 \u001b[0mself\u001b[0m\u001b[0;34m.\u001b[0m\u001b[0mresult\u001b[0m \u001b[0;34m=\u001b[0m \u001b[0mself\u001b[0m\u001b[0;34m.\u001b[0m\u001b[0mf\u001b[0m\u001b[0;34m(\u001b[0m\u001b[0;34m**\u001b[0m\u001b[0mself\u001b[0m\u001b[0;34m.\u001b[0m\u001b[0mkwargs\u001b[0m\u001b[0;34m)\u001b[0m\u001b[0;34m\u001b[0m\u001b[0;34m\u001b[0m\u001b[0m\n\u001b[0m\u001b[1;32m    252\u001b[0m                 \u001b[0mshow_inline_matplotlib_plots\u001b[0m\u001b[0;34m(\u001b[0m\u001b[0;34m)\u001b[0m\u001b[0;34m\u001b[0m\u001b[0;34m\u001b[0m\u001b[0m\n\u001b[1;32m    253\u001b[0m                 \u001b[0;32mif\u001b[0m \u001b[0mself\u001b[0m\u001b[0;34m.\u001b[0m\u001b[0mauto_display\u001b[0m \u001b[0;32mand\u001b[0m \u001b[0mself\u001b[0m\u001b[0;34m.\u001b[0m\u001b[0mresult\u001b[0m \u001b[0;32mis\u001b[0m \u001b[0;32mnot\u001b[0m \u001b[0;32mNone\u001b[0m\u001b[0;34m:\u001b[0m\u001b[0;34m\u001b[0m\u001b[0;34m\u001b[0m\u001b[0m\n",
          "\u001b[0;32m<ipython-input-63-3d0ae4d756c5>\u001b[0m in \u001b[0;36mplot_mobilty\u001b[0;34m(c)\u001b[0m\n\u001b[1;32m      1\u001b[0m \u001b[0;32mdef\u001b[0m \u001b[0mplot_mobilty\u001b[0m\u001b[0;34m(\u001b[0m\u001b[0mc\u001b[0m\u001b[0;34m=\u001b[0m\u001b[0;36m0.1\u001b[0m\u001b[0;34m)\u001b[0m\u001b[0;34m:\u001b[0m\u001b[0;34m\u001b[0m\u001b[0;34m\u001b[0m\u001b[0m\n\u001b[1;32m      2\u001b[0m     sy.plot(Y.subs({m:1,s:1,c:0.1}),\n\u001b[0;32m----> 3\u001b[0;31m             \u001b[0;34m(\u001b[0m\u001b[0momega\u001b[0m\u001b[0;34m,\u001b[0m\u001b[0;36m0\u001b[0m\u001b[0;34m,\u001b[0m\u001b[0;36m5\u001b[0m\u001b[0;34m)\u001b[0m\u001b[0;34m,\u001b[0m\u001b[0;34m\u001b[0m\u001b[0;34m\u001b[0m\u001b[0m\n\u001b[0m\u001b[1;32m      4\u001b[0m             \u001b[0mtitle\u001b[0m\u001b[0;34m=\u001b[0m\u001b[0;34mr'$c$=%.2f'\u001b[0m \u001b[0;34m%\u001b[0m \u001b[0mc\u001b[0m\u001b[0;34m\u001b[0m\u001b[0;34m\u001b[0m\u001b[0m\n\u001b[1;32m      5\u001b[0m            )\n",
          "\u001b[0;31mNameError\u001b[0m: name 'omega' is not defined"
         ]
        }
       ]
      }
     },
     "de35499d11c34af4a6e67c6fe07e27d4": {
      "model_module": "@jupyter-widgets/output",
      "model_module_version": "1.0.0",
      "model_name": "OutputModel",
      "state": {
       "layout": "IPY_MODEL_fe04aaf8f2f74f4393585435904320f5",
       "outputs": [
        {
         "data": {
          "image/png": "iVBORw0KGgoAAAANSUhEUgAAAV0AAADnCAYAAAC9roUQAAAAOXRFWHRTb2Z0d2FyZQBNYXRwbG90bGliIHZlcnNpb24zLjMuMiwgaHR0cHM6Ly9tYXRwbG90bGliLm9yZy8vihELAAAACXBIWXMAAAsTAAALEwEAmpwYAAAD00lEQVR4nO3dQUosQRBF0Z8f97/lcuK0C9TwWpmeM5WHObo0jRjruq5/ADT+//YDAP4S0QUIiS5ASHQBQqILEHq7++Fay582AHzSdV3r1c9uo/sx/tIvXWvZ2//J/c5vt5/bv+LrBYCQ6AKERBcgJLoAIdEFCIkuQEh0AUKiCxASXYCQ6AKERBcgJLoAIdEFCIkuQEh0AUKiCxASXYDQuvvv6M71AHze3bken3QBQm6k2dsP73d+u70baQBHEV2AkOgChEQXICS6ACHRBQiJLkBIdAFCogsQEl2AkOgChEQXICS6ACHRBQiJLkBIdAFCogsQciMNYJgbaQAP4Uaavf3wfue327uRBnAU0QUIiS5ASHQBQqILEBJdgJDoAoREFyAkugAh0QUIiS5ASHQBQqILEBJdgJDoAoREFyAkugAhN9IAhrmRBvAQbqTZ2w/vd367vRtpAEcRXYCQ6AKERBcgJLoAIdEFCIkuQEh0AUKiCxASXYCQ6AKERBcgJLoAIdEFCIkuQEh0AULO9QAMc64H4CGc67G3H97v/HZ753oAjiK6ACHRBQiJLkBIdAFCogsQEl2AkOgChEQXICS6ACHRBQiJLkBIdAFCogsQEl2AkOgChEQXIORGGsAwN9IAHsKNNHv74f3Ob7d3Iw3gKKILEBJdgJDoAoREFyAkugAh0QUIiS5ASHQBQqILEBJdgJDoAoREFyAkugAh0QUIiS5ASHQBQm6kAQxzIw3gIdxIs//R/Xf99vvdSLP/6v4Vn3QBQqILEBJdgJDoAoREFyAkugAh0QUIiS5ASHQBQqILEBJdgJDoAoREFyAkugAh0QUIiS5ASHQBQm6kAQxzIw3gIdxIs7cf3u/8dns30gCOIroAIdEFCIkuQEh0AUKiCxASXYCQ6AKERBcgJLoAIdEFCIkuQEh0AUKiCxASXYCQ6AKERBcg5EYawLC7G2nO9djbD+93fru9cz0ARxFdgJDoAoREFyAkugAh0QUIiS5ASHQBQqILEBJdgJDoAoREFyAkugAh0QUIiS5ASHQBQqILEHKuB2DY3bken3QBQm6k2dsP73d+u70baQBHEV2AkOgChEQXICS6ACHRBQiJLkBIdAFCogsQEl2AkOgChEQXICS6ACHRBQiJLkBIdAFCogsQciMNYJgbaQAP4Uaavf3wfue327uRBnAU0QUIiS5ASHQBQqILEBJdgJDoAoREFyAkugAh0QUIiS5ASHQBQqILEBJdgJDoAoREFyAkugAhN9IAht3dSLuNLgCzfL0AEBJdgJDoAoREFyAkugAh0QUIvQORXArg8269EAAAAABJRU5ErkJggg==\n",
          "text/plain": "<Figure size 432x288 with 1 Axes>"
         },
         "metadata": {
          "needs_background": "light"
         },
         "output_type": "display_data"
        }
       ]
      }
     },
     "de42778b860e4b73830836e7d9df97f7": {
      "model_module": "@jupyter-widgets/base",
      "model_module_version": "1.2.0",
      "model_name": "LayoutModel",
      "state": {}
     },
     "deb65035581b4f4cae33a477a4e00547": {
      "model_module": "@jupyter-widgets/controls",
      "model_module_version": "1.5.0",
      "model_name": "FloatSliderModel",
      "state": {
       "description": "c",
       "layout": "IPY_MODEL_d91d57fbf03b4fc199ae8f9a551ab0de",
       "max": 0.3,
       "min": 0.01,
       "step": 0.01,
       "style": "IPY_MODEL_b876473e0845488abe375c2d5993da33",
       "value": 0.1
      }
     },
     "ded9320a42a14ddb85e1586695058d37": {
      "model_module": "@jupyter-widgets/base",
      "model_module_version": "1.2.0",
      "model_name": "LayoutModel",
      "state": {}
     },
     "df25ee6a4fda4d73bac997b55b551c1c": {
      "model_module": "@jupyter-widgets/controls",
      "model_module_version": "1.5.0",
      "model_name": "SliderStyleModel",
      "state": {
       "description_width": ""
      }
     },
     "df5cb1db0492483b8b5fef3a8390b0a7": {
      "model_module": "@jupyter-widgets/controls",
      "model_module_version": "1.5.0",
      "model_name": "FloatSliderModel",
      "state": {
       "description": "$\\epsilon_1$",
       "layout": "IPY_MODEL_0c5e5b17d0804a31813fc3c4e1654cfe",
       "max": 0.4,
       "min": -0.4,
       "step": 0.1,
       "style": "IPY_MODEL_ee56ce9c86be43898352d84092f71338"
      }
     },
     "e0a1c1155aab40faaaa77f511b821615": {
      "model_module": "@jupyter-widgets/base",
      "model_module_version": "1.2.0",
      "model_name": "LayoutModel",
      "state": {}
     },
     "e0ff0240ea2140a2bc13fa2083ee0af1": {
      "model_module": "@jupyter-widgets/controls",
      "model_module_version": "1.5.0",
      "model_name": "VBoxModel",
      "state": {
       "_dom_classes": [
        "widget-interact"
       ],
       "children": [
        "IPY_MODEL_2aa35cba128f4c94bb2d2132900c30dc",
        "IPY_MODEL_ffdecb5e7e684eca9c6bc5518ff9cc5c"
       ],
       "layout": "IPY_MODEL_7d91eee6ff0a4d1b9cca0055b010ee68"
      }
     },
     "e150d858ca4945fe8b4931aea576a5f3": {
      "model_module": "@jupyter-widgets/controls",
      "model_module_version": "1.5.0",
      "model_name": "SliderStyleModel",
      "state": {
       "description_width": ""
      }
     },
     "e2918ca948424430b9aa799962e4c1a9": {
      "model_module": "@jupyter-widgets/controls",
      "model_module_version": "1.5.0",
      "model_name": "FloatSliderModel",
      "state": {
       "description": "$\\epsilon_x$",
       "layout": "IPY_MODEL_0b00ebc34a024bc29743341914e1e144",
       "max": 0.4,
       "min": -0.4,
       "step": 0.1,
       "style": "IPY_MODEL_1c9b9f5370884c0286086922d1aadf0a"
      }
     },
     "e36df613b043462698c1ac2c66c7583a": {
      "model_module": "@jupyter-widgets/base",
      "model_module_version": "1.2.0",
      "model_name": "LayoutModel",
      "state": {}
     },
     "e3a94a3f84b34f60a6e4f187e530d852": {
      "model_module": "@jupyter-widgets/base",
      "model_module_version": "1.2.0",
      "model_name": "LayoutModel",
      "state": {}
     },
     "e3c443a3a23243acb83d0035c9777361": {
      "model_module": "@jupyter-widgets/output",
      "model_module_version": "1.0.0",
      "model_name": "OutputModel",
      "state": {
       "layout": "IPY_MODEL_f0aff703c41b495aa9288f9eaa7fe310",
       "outputs": [
        {
         "data": {
          "image/png": "iVBORw0KGgoAAAANSUhEUgAAAOcAAADnCAYAAADl9EEgAAAABHNCSVQICAgIfAhkiAAAAAlwSFlzAAALEgAACxIB0t1+/AAAADh0RVh0U29mdHdhcmUAbWF0cGxvdGxpYiB2ZXJzaW9uMy4xLjAsIGh0dHA6Ly9tYXRwbG90bGliLm9yZy+17YcXAAAEwElEQVR4nO3aUW4cRRhGUQ9iRZgt4T3hNeE1DQ+0wQqJ8dvc4jtHakWKOk5Hlav+q2Zu9/v9Cej56dEPAHyfOCFKnBAlTogSJ0SJE6LECVHihChxQpQ4IUqcECVOiBInRIkTosQJUeKEKHFClDghSpwQJU6IEidEiROixAlR4oQocUKUOCFKnBAlTogSJ0SJE6LECVHihChxQpQ4IUqcECVOiBInRIkTosQJUeKEKHFClDghSpwQJU6IEidEiROixAlR4oQocUKUOCFKnBAlTogSJ0RNxnm73e7X9fLh914+/P6/rm/+/Nsn975+uO/5s595u92eP9z7+sl9bz94/u9d/+t/05LJOOEEt/v9/t93/c+8vzXu9/vt0c8CP+LNSd41ns+Ntt6c5K2ulzcnRP386Ad4qG9OLKFkMk5FcoLJOP82toc51uiEY88JUZNxPl8XlPkohb73sXZsvSbfnHACcUKUOMlbPSOw5yRvdb28OSFq8ksIvz36AeALJsfa1aP5UxlrgZTJON+uC8om95y/Xr8ODvRHWj0jmNxzru5hjjV6RjA51sIJxEne6hmBsZa81fXy5oQocULU5Ecpfzz6AeALJvecq0fzp7LnBFIm43y5LiibHGtXx6RTvV3r9Ty2XuKkb/SMYHKshROIk7zVMwJjLXmr6+XNCVGT3xD65dEPAF8wOdaunv6dylgLpIgToib3nO+z0eBAf6TVM4LJPefqHuZYo2cExlqIEidEiZO829M/5wRLxAlR4oSoyY9Sfn/0A8AXTH6Usno0f6rVj76MtRA1GefrdUHZ5Fi7Oiad6vVar5ex9RInfaNnBJNjLZxAnOStnhEYa8lbXS9vTogSJ0RNfn1vb5DnRN6cECVOiJqM8/m6oMxHKfT5hhBQIk6IEid5q2cE9pzkra6XNydETX5D6LdHPwB8weRYu3o0fypjLZAyGefbdUHZ5J7z1+vXwYH+SKtnBJN7ztU9zLFGzwgmx1o4gTjJWz0jMNaSt7pe3pwQJU6Imvwo5Y9HPwB8weSec/Vo/lT2nEDKZJwv1wVlk2Pt6ph0qrdrvZ7H1kuc9I2eEUyOtXACcZK3ekZgrCVvdb28OSFq8htCvzz6AeALJsfa1dO/UxlrgRRxQtTknvN9Nhoc6I+0ekYwuedc3cMca/SMwFgLUeKEKHGSd3v655xgiTghSpwQNflRyu+PfgD4gsmPUlaP5k+1+tGXsRaiJuN8vS4omxxrV8ekU71e6/Uytl7ipG/0jGByrIUTiJO81TMCYy15q+vlzQlR4oSoya/v7Q3ynGj2zXl7+msv873r9Xa7P13X6w/ueb+ePlzPn9z38uG+t//4mW8f7n355L7nb/7+z37myf+mR/9feZTZOKFu8rQWTuDNCVHihChxQpQ4IUqcECVOiBInRIkTosQJUeKEKHFClDghSpwQJU6IEidEiROixAlR4oQocUKUOCFKnBAlTogSJ0SJE6LECVHihChxQpQ4IUqcECVOiBInRIkTosQJUeKEKHFClDghSpwQJU6IEidEiROixAlR4oQocUKUOCFKnBAlTogSJ0SJE6LECVHihChxQpQ4IUqcECVOiBInRIkTosQJUeKEKHFClDgh6k8oFzK1xRrRzQAAAABJRU5ErkJggg==\n",
          "text/plain": "<Figure size 432x288 with 1 Axes>"
         },
         "metadata": {
          "needs_background": "light"
         },
         "output_type": "display_data"
        }
       ]
      }
     },
     "e4564a147be74deb9ad58166316791ff": {
      "model_module": "@jupyter-widgets/base",
      "model_module_version": "1.2.0",
      "model_name": "LayoutModel",
      "state": {}
     },
     "e468a6e4dd25468b8235a8cfb5968406": {
      "model_module": "@jupyter-widgets/controls",
      "model_module_version": "1.5.0",
      "model_name": "SliderStyleModel",
      "state": {
       "description_width": ""
      }
     },
     "e4adbd894a9844b5a65b0454272c3a40": {
      "model_module": "@jupyter-widgets/controls",
      "model_module_version": "1.5.0",
      "model_name": "VBoxModel",
      "state": {
       "_dom_classes": [
        "widget-interact"
       ],
       "children": [
        "IPY_MODEL_b91a21a562d546d39cedbda5d25eed5c",
        "IPY_MODEL_d07fe4ee13d54ecaa36110c3f6232256",
        "IPY_MODEL_e6bdec51023f45b4950bc3a1aa834e7d",
        "IPY_MODEL_9de3bd60e109450ba37f19ff2c433d8f",
        "IPY_MODEL_c5465ac3ca2940598419fae28ce3673b",
        "IPY_MODEL_09c64f0e7c5f4d31a8c695c8b0f8c3a7",
        "IPY_MODEL_609cfeaa9c52413aabff8514f973e4f7"
       ],
       "layout": "IPY_MODEL_77b757be3b13478687b14f05f1252107"
      }
     },
     "e4bd14d47a194f5997aa6fad3c33a128": {
      "model_module": "@jupyter-widgets/base",
      "model_module_version": "1.2.0",
      "model_name": "LayoutModel",
      "state": {}
     },
     "e4cdb51503704695ac9c8b288f76b276": {
      "model_module": "@jupyter-widgets/controls",
      "model_module_version": "1.5.0",
      "model_name": "SliderStyleModel",
      "state": {
       "description_width": ""
      }
     },
     "e4e58379e8f74c299d0b064d6d76481b": {
      "model_module": "@jupyter-widgets/base",
      "model_module_version": "1.2.0",
      "model_name": "LayoutModel",
      "state": {}
     },
     "e5767330d89c4572878c32d9ff7c61fa": {
      "model_module": "@jupyter-widgets/base",
      "model_module_version": "1.2.0",
      "model_name": "LayoutModel",
      "state": {}
     },
     "e57ea97e6720498f861351ccec7fd9ec": {
      "model_module": "@jupyter-widgets/controls",
      "model_module_version": "1.5.0",
      "model_name": "VBoxModel",
      "state": {
       "_dom_classes": [
        "widget-interact"
       ],
       "children": [
        "IPY_MODEL_fd573e3fb0a640c5b31e52a7f0d3885b",
        "IPY_MODEL_ccd1de8aace544a2ab3acb90f18c7801",
        "IPY_MODEL_95f40146e3a64f0195a949d73e77c8cd",
        "IPY_MODEL_1a487c95926e48698efbdc4fb8279842",
        "IPY_MODEL_f7f7e78bb371448c9e70e06894d5a78c",
        "IPY_MODEL_6cfda47e5a7847e5857248c8574d2d5c",
        "IPY_MODEL_8389e301ab5049cda79294ab5f081f5e"
       ],
       "layout": "IPY_MODEL_5e49d80ebb1b4afcb7b706b81423afe1"
      }
     },
     "e5c4fa9255ab4c4aa7361ffe13722f64": {
      "model_module": "@jupyter-widgets/controls",
      "model_module_version": "1.5.0",
      "model_name": "FloatSliderModel",
      "state": {
       "description": "si",
       "layout": "IPY_MODEL_6720f9f5278a46059b7f2ed36376cb76",
       "max": 2,
       "min": 0.1,
       "step": 0.1,
       "style": "IPY_MODEL_79720732525b40599c8374ab0c73fec2",
       "value": 1
      }
     },
     "e6bdec51023f45b4950bc3a1aa834e7d": {
      "model_module": "@jupyter-widgets/controls",
      "model_module_version": "1.5.0",
      "model_name": "FloatSliderModel",
      "state": {
       "description": "$\\chi_z$",
       "layout": "IPY_MODEL_e9737262984745a1947709668854f55a",
       "max": 0.4,
       "min": -0.4,
       "step": 0.1,
       "style": "IPY_MODEL_ee32b43438f44391a84f656329a9d5ca"
      }
     },
     "e7808db57b9f48b9bdc566825e4d0c6a": {
      "model_module": "@jupyter-widgets/base",
      "model_module_version": "1.2.0",
      "model_name": "LayoutModel",
      "state": {}
     },
     "e8049832e8a147bf8c4fc6f58603fb32": {
      "model_module": "@jupyter-widgets/base",
      "model_module_version": "1.2.0",
      "model_name": "LayoutModel",
      "state": {}
     },
     "e85529e989874cb387709e3338033d57": {
      "model_module": "@jupyter-widgets/base",
      "model_module_version": "1.2.0",
      "model_name": "LayoutModel",
      "state": {}
     },
     "e87a9e34a3984b25b1c9f067720d3aad": {
      "model_module": "@jupyter-widgets/output",
      "model_module_version": "1.0.0",
      "model_name": "OutputModel",
      "state": {
       "layout": "IPY_MODEL_2b1efa3c6d65494cabae54f533f36c7a",
       "outputs": [
        {
         "data": {
          "image/png": "iVBORw0KGgoAAAANSUhEUgAAAOcAAADnCAYAAADl9EEgAAAABHNCSVQICAgIfAhkiAAAAAlwSFlzAAALEgAACxIB0t1+/AAAADh0RVh0U29mdHdhcmUAbWF0cGxvdGxpYiB2ZXJzaW9uMy4xLjAsIGh0dHA6Ly9tYXRwbG90bGliLm9yZy+17YcXAAAE20lEQVR4nO3dQY7USBRFUbvVKyLXhPeE10SuyT1xSikEWT3qeL/fOZLFAKswMjf9HQHFfl3XBuT5a/UFAL8nTgglTgglTgglTgglTgglTgglTgglTgglTgglTgglTgglTgglTgglTgglTgglTgglTgglTgglTgglTgglTgglTgglTgglTgglTgglTgglTgglTgglTgglTgglTgglTgglTgglTgglTgglTgglTgglTgglTgglTgglTgglTgglTgglTgglTgglTgglTgglTgglTgglTgglTgglTgglTgglTgglTgglTgglTgglTghVGee+79efju3teHw473g77/nhvP3++de5x4fzHr/8+p++5vl23vnFuf+X39PqPzf/tco4YYL9uuo+kLbz/hQ+rmtffS187fXUvMruV2Wc22tEKrvZU7XGaayFUH+vvoAVzvvHY+lV8G8VznbbtpWOta1j0lilryHGWgglTuI97qONsZZ4rffLkxNCiRNCiRNCVe5z9r1lM5EnJ4SqfHIyy/fVF7BI5VbK416af5YtzY9V+jeEKuNs3TcbqzRO75zEe95HG09O4rXeL09OCCVOCCVOCFW5z9m6b8YslQtCrUvzU1kQAqJUjrWvPbPGf10/0c/VF7BI5VjbOiaNVfoaYqyFUOIk3rF1fo9hYy3xWu+XJyeEEieEEieEqtznbN03Y5bKBaHWfbOpWheEKp+czPJt9QUsUvnkPO5P4rPsk3is0kmnMs7WMWms0jit1kIocRJvv4824oRQ4oRQ4oRQlfucrftmzFK5ldK6ND9V69aXsRZCVY61zPJj9QUsUjnWto5JY5W+hhhrIZQ4iXfeRxtjLfFa75cnJ4QSJ4QSJ4Sq3Ods3TdjlsoFodZ9s6ksCAFRKsfa155Z43+OM1HhbLdtW+lY2zomjVX6GmKshVDiJN7jPtoYa4nXer88OSGUOCGUOCFU5T5n31s2E3lyQqjKJyezfF99AYtUbqU87qX5Z9nS/Filf0OoMs7WfbOxSuP0zkm853208eQkXuv98uSEUOKEUOKEUJX7nK37ZsxSuSDUujQ/lQUhIErlWPvaM2v81/UT/Vx9AYtUjrWtY9JYpa8hxloIJU7iHVvn9xg21hKv9X55ckIocUIocUKoyn3O1n0zZqlcEGrdN5uqdUGo8snJLN9WX8AilU/O4/4kPss+iccqnXQq42wdk8YqjdNqLYQSJ/H2+2gjTgglTgglTghVuc/Zum/GLJVbKa1L81O1bn0ZayFU5VjLLD9WX8AilWNt65g0VulriLEWQomTeOd9tDHWEq/1fnlyQihxQihxQqjKOF/7Zvu+X787zn2/tvs4/3DO69jejseH8463855ffM3n27nHh/Mev/z6n77m5N/T0j8sC1XG2fit/ZmncrUWJqh8csIE4oRQ4oRQ4oRQ4oRQ4oRQ4oRQ4oRQ4oRQ4oRQ4oRQ4oRQ4oRQ4oRQ4oRQ4oRQ4oRQ4oRQ4oRQ4oRQ4oRQ4oRQ4oRQ4oRQ4oRQ4oRQ4oRQ4oRQ4oRQ4oRQ4oRQ4oRQ4oRQ4oRQ4oRQ4oRQ4oRQ4oRQ4oRQ4oRQ4oRQ4oRQ4oRQ4oRQ4oRQ4oRQ4oRQ4oRQ4oRQ4oRQ4oRQ4oRQ4oRQ4oRQ4oRQ4oRQ4oRQ4oRQ4oRQ4oRQ/wBcJkhFZOSdcQAAAABJRU5ErkJggg==\n",
          "text/plain": "<Figure size 432x288 with 1 Axes>"
         },
         "metadata": {
          "needs_background": "light"
         },
         "output_type": "display_data"
        }
       ]
      }
     },
     "e9737262984745a1947709668854f55a": {
      "model_module": "@jupyter-widgets/base",
      "model_module_version": "1.2.0",
      "model_name": "LayoutModel",
      "state": {}
     },
     "e977abeb1e684b548afa1a147b05531e": {
      "model_module": "@jupyter-widgets/controls",
      "model_module_version": "1.5.0",
      "model_name": "SliderStyleModel",
      "state": {
       "description_width": ""
      }
     },
     "e9a526972a5d4f4bb76ae619dc014111": {
      "model_module": "@jupyter-widgets/controls",
      "model_module_version": "1.5.0",
      "model_name": "FloatSliderModel",
      "state": {
       "description": "ci",
       "layout": "IPY_MODEL_a3e48bc12221472fbfef5759d0aed20f",
       "max": 1,
       "min": 0.1,
       "step": 0.1,
       "style": "IPY_MODEL_c935e292616d4f04836a726c6390b5be",
       "value": 0.1
      }
     },
     "eac2a619afc84d8294790d5be3513431": {
      "model_module": "@jupyter-widgets/base",
      "model_module_version": "1.2.0",
      "model_name": "LayoutModel",
      "state": {}
     },
     "eb29c5a73f1c4609b2574deb68925904": {
      "model_module": "@jupyter-widgets/controls",
      "model_module_version": "1.5.0",
      "model_name": "FloatSliderModel",
      "state": {
       "description": "$\\xi_2$",
       "layout": "IPY_MODEL_82db3bb6784a4e44a4d0a9cc8312705c",
       "max": 0.4,
       "min": -0.4,
       "step": 0.1,
       "style": "IPY_MODEL_d90a206783ea49f5bb98894715b1dff5"
      }
     },
     "ec805e73704443c091bc43dc5eb9efd6": {
      "model_module": "@jupyter-widgets/controls",
      "model_module_version": "1.5.0",
      "model_name": "VBoxModel",
      "state": {
       "_dom_classes": [
        "widget-interact"
       ],
       "children": [
        "IPY_MODEL_7f148e70fdc44adead6b35aea17f5596",
        "IPY_MODEL_9d09e50658cd4d1084a0c0c68cbd8c13",
        "IPY_MODEL_25923815a64d4d06889125d878b4ae47",
        "IPY_MODEL_de35499d11c34af4a6e67c6fe07e27d4"
       ],
       "layout": "IPY_MODEL_8c90a924f7414ca58d50d2cdc4009833"
      }
     },
     "ed6ffc50921c4fafb1eb1393a6b65a48": {
      "model_module": "@jupyter-widgets/controls",
      "model_module_version": "1.5.0",
      "model_name": "FloatSliderModel",
      "state": {
       "description": "c_",
       "layout": "IPY_MODEL_8cd6ef30b32b4146bca9a19c80704551",
       "max": 0.30000000000000004,
       "min": -0.1,
       "step": 0.1,
       "style": "IPY_MODEL_8eeebeb2167044c6bca5cc988e13a7dd",
       "value": 0.3
      }
     },
     "eda6603698f740d8a15c7f4c9d88d7cb": {
      "model_module": "@jupyter-widgets/controls",
      "model_module_version": "1.5.0",
      "model_name": "SliderStyleModel",
      "state": {
       "description_width": ""
      }
     },
     "edb347a07fde4e71a514114db0205556": {
      "model_module": "@jupyter-widgets/base",
      "model_module_version": "1.2.0",
      "model_name": "LayoutModel",
      "state": {}
     },
     "edbc8f671e42466f8eca58a9b396c825": {
      "model_module": "@jupyter-widgets/output",
      "model_module_version": "1.0.0",
      "model_name": "OutputModel",
      "state": {
       "layout": "IPY_MODEL_7db271ad82f44ddcb4f97e75464cf2ff",
       "outputs": [
        {
         "data": {
          "image/png": "iVBORw0KGgoAAAANSUhEUgAAAOcAAADnCAYAAADl9EEgAAAAOXRFWHRTb2Z0d2FyZQBNYXRwbG90bGliIHZlcnNpb24zLjMuMiwgaHR0cHM6Ly9tYXRwbG90bGliLm9yZy8vihELAAAACXBIWXMAAAsTAAALEwEAmpwYAAAE20lEQVR4nO3dQY7USBRFUbvVKyLXhPeE10SuyT1xSikEWT3qeL/fOZLFAKswMjf9HQHFfl3XBuT5a/UFAL8nTgglTgglTgglTgglTgglTgglTgglTgglTgglTgglTgglTgglTgglTgglTgglTgglTgglTgglTgglTgglTgglTgglTgglTgglTgglTgglTgglTgglTgglTgglTgglTgglTgglTgglTgglTgglTgglTgglTgglTgglTgglTgglTgglTgglTgglTgglTgglTgglTgglTgglTgglTgglTgglTgglTgglTgglTgglTghVGee+79efju3teHw473g77/nhvP3++de5x4fzHr/8+p++5vl23vnFuf+X39PqPzf/tco4YYL9uuo+kLbz/hQ+rmtffS187fXUvMruV2Wc22tEKrvZU7XGaayFUH+vvoAVzvvHY+lV8G8VznbbtpWOta1j0lilryHGWgglTuI97qONsZZ4rffLkxNCiRNCiRNCVe5z9r1lM5EnJ4SqfHIyy/fVF7BI5VbK416af5YtzY9V+jeEKuNs3TcbqzRO75zEe95HG09O4rXeL09OCCVOCCVOCFW5z9m6b8YslQtCrUvzU1kQAqJUjrWvPbPGf10/0c/VF7BI5VjbOiaNVfoaYqyFUOIk3rF1fo9hYy3xWu+XJyeEEieEEieEqtznbN03Y5bKBaHWfbOpWheEKp+czPJt9QUsUvnkPO5P4rPsk3is0kmnMs7WMWms0jit1kIocRJvv4824oRQ4oRQ4oRQlfucrftmzFK5ldK6ND9V69aXsRZCVY61zPJj9QUsUjnWto5JY5W+hhhrIZQ4iXfeRxtjLfFa75cnJ4QSJ4QSJ4Sq3Ods3TdjlsoFodZ9s6ksCAFRKsfa155Z43+OM1HhbLdtW+lY2zomjVX6GmKshVDiJN7jPtoYa4nXer88OSGUOCGUOCFU5T5n31s2E3lyQqjKJyezfF99AYtUbqU87qX5Z9nS/Filf0OoMs7WfbOxSuP0zkm853208eQkXuv98uSEUOKEUOKEUJX7nK37ZsxSuSDUujQ/lQUhIErlWPvaM2v81/UT/Vx9AYtUjrWtY9JYpa8hxloIJU7iHVvn9xg21hKv9X55ckIocUIocUKoyn3O1n0zZqlcEGrdN5uqdUGo8snJLN9WX8AilU/O4/4kPss+iccqnXQq42wdk8YqjdNqLYQSJ/H2+2gjTgglTgglTghVuc/Zum/GLJVbKa1L81O1bn0ZayFU5VjLLD9WX8AilWNt65g0VulriLEWQomTeOd9tDHWEq/1fnlyQihxQihxQqjKOF/7Zvu+X787zn2/tvs4/3DO69jejseH8463855ffM3n27nHh/Mev/z6n77m5N/T0j8sC1XG2fit/ZmncrUWJqh8csIE4oRQ4oRQ4oRQ4oRQ4oRQ4oRQ4oRQ4oRQ4oRQ4oRQ4oRQ4oRQ4oRQ4oRQ4oRQ4oRQ4oRQ4oRQ4oRQ4oRQ4oRQ4oRQ4oRQ4oRQ4oRQ4oRQ4oRQ4oRQ4oRQ4oRQ4oRQ4oRQ4oRQ4oRQ4oRQ4oRQ4oRQ4oRQ4oRQ4oRQ4oRQ4oRQ4oRQ4oRQ4oRQ4oRQ4oRQ4oRQ4oRQ4oRQ4oRQ4oRQ4oRQ4oRQ4oRQ4oRQ4oRQ4oRQ4oRQ/wBcJkhFZOSdcQAAAABJRU5ErkJggg==\n",
          "text/plain": "<Figure size 432x288 with 1 Axes>"
         },
         "metadata": {
          "needs_background": "light"
         },
         "output_type": "display_data"
        }
       ]
      }
     },
     "ee32b43438f44391a84f656329a9d5ca": {
      "model_module": "@jupyter-widgets/controls",
      "model_module_version": "1.5.0",
      "model_name": "SliderStyleModel",
      "state": {
       "description_width": ""
      }
     },
     "ee38639c939643cb90f036c533ff984e": {
      "model_module": "@jupyter-widgets/controls",
      "model_module_version": "1.5.0",
      "model_name": "FloatSliderModel",
      "state": {
       "description": "$\\epsilon_2$",
       "layout": "IPY_MODEL_01d2549d667f4afaada3bc1e8021645f",
       "max": 0.4,
       "min": -0.4,
       "step": 0.1,
       "style": "IPY_MODEL_66daa5475e3c4f3385a0e8ca104612ff"
      }
     },
     "ee56ce9c86be43898352d84092f71338": {
      "model_module": "@jupyter-widgets/controls",
      "model_module_version": "1.5.0",
      "model_name": "SliderStyleModel",
      "state": {
       "description_width": ""
      }
     },
     "efdde183f0044c2fbfce3a7096c7a86c": {
      "model_module": "@jupyter-widgets/output",
      "model_module_version": "1.0.0",
      "model_name": "OutputModel",
      "state": {
       "layout": "IPY_MODEL_e0a1c1155aab40faaaa77f511b821615",
       "outputs": [
        {
         "ename": "ValueError",
         "evalue": "The same variable should be used in all univariate expressions being plotted.",
         "output_type": "error",
         "traceback": [
          "\u001b[0;31m---------------------------------------------------------------------------\u001b[0m",
          "\u001b[0;31mValueError\u001b[0m                                Traceback (most recent call last)",
          "\u001b[0;32m~/anaconda3/envs/sbs/lib/python3.7/site-packages/ipywidgets/widgets/interaction.py\u001b[0m in \u001b[0;36mupdate\u001b[0;34m(self, *args)\u001b[0m\n\u001b[1;32m    249\u001b[0m                     \u001b[0mvalue\u001b[0m \u001b[0;34m=\u001b[0m \u001b[0mwidget\u001b[0m\u001b[0;34m.\u001b[0m\u001b[0mget_interact_value\u001b[0m\u001b[0;34m(\u001b[0m\u001b[0;34m)\u001b[0m\u001b[0;34m\u001b[0m\u001b[0;34m\u001b[0m\u001b[0m\n\u001b[1;32m    250\u001b[0m                     \u001b[0mself\u001b[0m\u001b[0;34m.\u001b[0m\u001b[0mkwargs\u001b[0m\u001b[0;34m[\u001b[0m\u001b[0mwidget\u001b[0m\u001b[0;34m.\u001b[0m\u001b[0m_kwarg\u001b[0m\u001b[0;34m]\u001b[0m \u001b[0;34m=\u001b[0m \u001b[0mvalue\u001b[0m\u001b[0;34m\u001b[0m\u001b[0;34m\u001b[0m\u001b[0m\n\u001b[0;32m--> 251\u001b[0;31m                 \u001b[0mself\u001b[0m\u001b[0;34m.\u001b[0m\u001b[0mresult\u001b[0m \u001b[0;34m=\u001b[0m \u001b[0mself\u001b[0m\u001b[0;34m.\u001b[0m\u001b[0mf\u001b[0m\u001b[0;34m(\u001b[0m\u001b[0;34m**\u001b[0m\u001b[0mself\u001b[0m\u001b[0;34m.\u001b[0m\u001b[0mkwargs\u001b[0m\u001b[0;34m)\u001b[0m\u001b[0;34m\u001b[0m\u001b[0;34m\u001b[0m\u001b[0m\n\u001b[0m\u001b[1;32m    252\u001b[0m                 \u001b[0mshow_inline_matplotlib_plots\u001b[0m\u001b[0;34m(\u001b[0m\u001b[0;34m)\u001b[0m\u001b[0;34m\u001b[0m\u001b[0;34m\u001b[0m\u001b[0m\n\u001b[1;32m    253\u001b[0m                 \u001b[0;32mif\u001b[0m \u001b[0mself\u001b[0m\u001b[0;34m.\u001b[0m\u001b[0mauto_display\u001b[0m \u001b[0;32mand\u001b[0m \u001b[0mself\u001b[0m\u001b[0;34m.\u001b[0m\u001b[0mresult\u001b[0m \u001b[0;32mis\u001b[0m \u001b[0;32mnot\u001b[0m \u001b[0;32mNone\u001b[0m\u001b[0;34m:\u001b[0m\u001b[0;34m\u001b[0m\u001b[0;34m\u001b[0m\u001b[0m\n",
          "\u001b[0;32m<ipython-input-64-3fcbfeabd303>\u001b[0m in \u001b[0;36mplot_mobilty\u001b[0;34m(c)\u001b[0m\n\u001b[1;32m      2\u001b[0m     sy.plot(Y.subs({m:1,s:1,c:0.1}),\n\u001b[1;32m      3\u001b[0m             \u001b[0;34m(\u001b[0m\u001b[0mom\u001b[0m\u001b[0;34m,\u001b[0m\u001b[0;36m0\u001b[0m\u001b[0;34m,\u001b[0m\u001b[0;36m5\u001b[0m\u001b[0;34m)\u001b[0m\u001b[0;34m,\u001b[0m\u001b[0;34m\u001b[0m\u001b[0;34m\u001b[0m\u001b[0m\n\u001b[0;32m----> 4\u001b[0;31m             \u001b[0mtitle\u001b[0m\u001b[0;34m=\u001b[0m\u001b[0;34mr'$c$=%.2f'\u001b[0m \u001b[0;34m%\u001b[0m \u001b[0mc\u001b[0m\u001b[0;34m\u001b[0m\u001b[0;34m\u001b[0m\u001b[0m\n\u001b[0m\u001b[1;32m      5\u001b[0m            )\n\u001b[1;32m      6\u001b[0m \u001b[0mipw\u001b[0m\u001b[0;34m.\u001b[0m\u001b[0minteract\u001b[0m\u001b[0;34m(\u001b[0m\u001b[0mplot_mobilty\u001b[0m\u001b[0;34m,\u001b[0m\u001b[0mc\u001b[0m\u001b[0;34m=\u001b[0m\u001b[0;34m(\u001b[0m\u001b[0;36m0.01\u001b[0m\u001b[0;34m,\u001b[0m\u001b[0;36m0.3\u001b[0m\u001b[0;34m,\u001b[0m\u001b[0;36m0.01\u001b[0m\u001b[0;34m)\u001b[0m\u001b[0;34m)\u001b[0m\u001b[0;34m;\u001b[0m\u001b[0;34m\u001b[0m\u001b[0;34m\u001b[0m\u001b[0m\n",
          "\u001b[0;32m~/anaconda3/envs/sbs/lib/python3.7/site-packages/sympy/plotting/plot.py\u001b[0m in \u001b[0;36mplot\u001b[0;34m(*args, **kwargs)\u001b[0m\n\u001b[1;32m   1351\u001b[0m             \u001b[0;32mif\u001b[0m \u001b[0mlen\u001b[0m\u001b[0;34m(\u001b[0m\u001b[0mfree\u001b[0m\u001b[0;34m)\u001b[0m \u001b[0;34m>\u001b[0m \u001b[0;36m1\u001b[0m\u001b[0;34m:\u001b[0m\u001b[0;34m\u001b[0m\u001b[0;34m\u001b[0m\u001b[0m\n\u001b[1;32m   1352\u001b[0m                 raise ValueError(\n\u001b[0;32m-> 1353\u001b[0;31m                     \u001b[0;34m'The same variable should be used in all '\u001b[0m\u001b[0;34m\u001b[0m\u001b[0;34m\u001b[0m\u001b[0m\n\u001b[0m\u001b[1;32m   1354\u001b[0m                     'univariate expressions being plotted.')\n\u001b[1;32m   1355\u001b[0m     \u001b[0mx\u001b[0m \u001b[0;34m=\u001b[0m \u001b[0mfree\u001b[0m\u001b[0;34m.\u001b[0m\u001b[0mpop\u001b[0m\u001b[0;34m(\u001b[0m\u001b[0;34m)\u001b[0m \u001b[0;32mif\u001b[0m \u001b[0mfree\u001b[0m \u001b[0;32melse\u001b[0m \u001b[0mSymbol\u001b[0m\u001b[0;34m(\u001b[0m\u001b[0;34m'x'\u001b[0m\u001b[0;34m)\u001b[0m\u001b[0;34m\u001b[0m\u001b[0;34m\u001b[0m\u001b[0m\n",
          "\u001b[0;31mValueError\u001b[0m: The same variable should be used in all univariate expressions being plotted."
         ]
        }
       ]
      }
     },
     "f09e0bc089c744ba8873332aed421685": {
      "model_module": "@jupyter-widgets/output",
      "model_module_version": "1.0.0",
      "model_name": "OutputModel",
      "state": {
       "layout": "IPY_MODEL_1e0c0c24e8414fafae2e12ca195b91dc",
       "outputs": [
        {
         "data": {
          "image/png": "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\n",
          "text/plain": "<Figure size 432x288 with 1 Axes>"
         },
         "metadata": {
          "needs_background": "light"
         },
         "output_type": "display_data"
        }
       ]
      }
     },
     "f0aff703c41b495aa9288f9eaa7fe310": {
      "model_module": "@jupyter-widgets/base",
      "model_module_version": "1.2.0",
      "model_name": "LayoutModel",
      "state": {}
     },
     "f121c3f7d5c843deba2e1a68e382b192": {
      "model_module": "@jupyter-widgets/base",
      "model_module_version": "1.2.0",
      "model_name": "LayoutModel",
      "state": {}
     },
     "f13955716f2248929bcee5d24638d179": {
      "model_module": "@jupyter-widgets/base",
      "model_module_version": "1.2.0",
      "model_name": "LayoutModel",
      "state": {}
     },
     "f1808d4b8684458db835b5f9b98c053b": {
      "model_module": "@jupyter-widgets/controls",
      "model_module_version": "1.5.0",
      "model_name": "CheckboxModel",
      "state": {
       "description": "transverse",
       "disabled": false,
       "layout": "IPY_MODEL_e85529e989874cb387709e3338033d57",
       "style": "IPY_MODEL_ae7f0cadb0484b44bdd3149882d49d6d",
       "value": false
      }
     },
     "f19f165141a84499a09c73f31cda7ea9": {
      "model_module": "@jupyter-widgets/controls",
      "model_module_version": "1.5.0",
      "model_name": "FloatSliderModel",
      "state": {
       "description": "t",
       "layout": "IPY_MODEL_8d642f6b4f5249e7be99115b3b0204bb",
       "max": 10,
       "step": 0.05,
       "style": "IPY_MODEL_800062c45ade408faeb0bbac7776a683",
       "value": 5
      }
     },
     "f1b071edaf714777aeb7444225e79ad1": {
      "model_module": "@jupyter-widgets/controls",
      "model_module_version": "1.5.0",
      "model_name": "FloatSliderModel",
      "state": {
       "description": "mi",
       "layout": "IPY_MODEL_d3e10c8273764874bd470cdcfa41bb58",
       "max": 2,
       "min": 0.1,
       "step": 0.1,
       "style": "IPY_MODEL_58aac359d5c04310811059eaa0242702",
       "value": 1
      }
     },
     "f235441c8d764c8fa430c6d118953bd6": {
      "model_module": "@jupyter-widgets/base",
      "model_module_version": "1.2.0",
      "model_name": "LayoutModel",
      "state": {}
     },
     "f2e1920ca8754a3490d2eac42dde1bc7": {
      "model_module": "@jupyter-widgets/output",
      "model_module_version": "1.0.0",
      "model_name": "OutputModel",
      "state": {
       "layout": "IPY_MODEL_888c1125f03e44a4a2014a35b0e9dd95",
       "outputs": [
        {
         "data": {
          "image/png": "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\n",
          "text/plain": "<Figure size 432x288 with 1 Axes>"
         },
         "metadata": {
          "needs_background": "light"
         },
         "output_type": "display_data"
        }
       ]
      }
     },
     "f3d835d3c7424661ae17265fc7f220a9": {
      "model_module": "@jupyter-widgets/controls",
      "model_module_version": "1.5.0",
      "model_name": "SliderStyleModel",
      "state": {
       "description_width": ""
      }
     },
     "f3ece0f922a94151aa2b4ce366f711dd": {
      "model_module": "@jupyter-widgets/controls",
      "model_module_version": "1.5.0",
      "model_name": "DescriptionStyleModel",
      "state": {
       "description_width": ""
      }
     },
     "f410cdb00744416a8832705c9f02c49a": {
      "model_module": "@jupyter-widgets/base",
      "model_module_version": "1.2.0",
      "model_name": "LayoutModel",
      "state": {}
     },
     "f470ed3dcc3b49abaf03934f735a7e20": {
      "model_module": "@jupyter-widgets/controls",
      "model_module_version": "1.5.0",
      "model_name": "VBoxModel",
      "state": {
       "_dom_classes": [
        "widget-interact"
       ],
       "children": [
        "IPY_MODEL_7b6260eb7ca349188774ebee38c899f7",
        "IPY_MODEL_aacd9f8ad5fc4a87bcb05ce881bb05f0"
       ],
       "layout": "IPY_MODEL_4c1c493b20ba4375a260c97ee28bfc31"
      }
     },
     "f4d182cb81684a539a57ec1e4af01a2c": {
      "model_module": "@jupyter-widgets/controls",
      "model_module_version": "1.5.0",
      "model_name": "SliderStyleModel",
      "state": {
       "description_width": ""
      }
     },
     "f50aad23d2ae4149816b476801614e83": {
      "model_module": "@jupyter-widgets/controls",
      "model_module_version": "1.5.0",
      "model_name": "FloatSliderModel",
      "state": {
       "description": "$\\gamma$",
       "layout": "IPY_MODEL_567fa37371c4448f88d8efd5e960556c",
       "max": 0.2,
       "min": -0.2,
       "step": 0.1,
       "style": "IPY_MODEL_58c5431ded5b420ea1ae19451d45578d",
       "value": 0.2
      }
     },
     "f73fe89398c54bed802ac8654473b15d": {
      "model_module": "@jupyter-widgets/controls",
      "model_module_version": "1.5.0",
      "model_name": "VBoxModel",
      "state": {
       "_dom_classes": [
        "widget-interact"
       ],
       "children": [
        "IPY_MODEL_65e1398b55394c64b1a6942f00c43477",
        "IPY_MODEL_3d2b4e7497b04965934d25dc7047a693",
        "IPY_MODEL_3300168c9b544d6da2def1abb3ec94e7",
        "IPY_MODEL_46fed345de98450aa1a1fc11abf17c91"
       ],
       "layout": "IPY_MODEL_66b1226e77eb4c759a2f2aaf0519fbf5"
      }
     },
     "f7629b27cc844dfa8a19db64ee977909": {
      "model_module": "@jupyter-widgets/base",
      "model_module_version": "1.2.0",
      "model_name": "LayoutModel",
      "state": {}
     },
     "f7f7e78bb371448c9e70e06894d5a78c": {
      "model_module": "@jupyter-widgets/controls",
      "model_module_version": "1.5.0",
      "model_name": "FloatSliderModel",
      "state": {
       "description": "$\\epsilon_y$",
       "layout": "IPY_MODEL_2b806146101e4484900af20899d342f9",
       "max": 0.4,
       "min": -0.4,
       "step": 0.1,
       "style": "IPY_MODEL_96d55ebf9ef14c46af01f1235855dbb6"
      }
     },
     "f90db51ea316432c91d9ae0ef7656a41": {
      "model_module": "@jupyter-widgets/base",
      "model_module_version": "1.2.0",
      "model_name": "LayoutModel",
      "state": {}
     },
     "fa0812b919754e5b9ba967ba3aebaa9a": {
      "model_module": "@jupyter-widgets/controls",
      "model_module_version": "1.5.0",
      "model_name": "SliderStyleModel",
      "state": {
       "description_width": ""
      }
     },
     "fa8b58072eec4540ad831785e6d5d531": {
      "model_module": "@jupyter-widgets/controls",
      "model_module_version": "1.5.0",
      "model_name": "SliderStyleModel",
      "state": {
       "description_width": ""
      }
     },
     "fb4bb565590b45108a57e3a211c459e2": {
      "model_module": "@jupyter-widgets/controls",
      "model_module_version": "1.5.0",
      "model_name": "SliderStyleModel",
      "state": {
       "description_width": ""
      }
     },
     "fc0f8a3db0034b93a503780a6fca8391": {
      "model_module": "@jupyter-widgets/base",
      "model_module_version": "1.2.0",
      "model_name": "LayoutModel",
      "state": {}
     },
     "fc5e56a63fac44019da2321491010670": {
      "model_module": "@jupyter-widgets/controls",
      "model_module_version": "1.5.0",
      "model_name": "FloatSliderModel",
      "state": {
       "description": "ci",
       "layout": "IPY_MODEL_86c591680fb947298ea4088e04651e8a",
       "max": 1,
       "min": 0.1,
       "step": 0.1,
       "style": "IPY_MODEL_fa8b58072eec4540ad831785e6d5d531",
       "value": 0.1
      }
     },
     "fcdae7e2820d4ca49a065f953df8dfc9": {
      "model_module": "@jupyter-widgets/controls",
      "model_module_version": "1.5.0",
      "model_name": "SliderStyleModel",
      "state": {
       "description_width": ""
      }
     },
     "fd17a837cca6410cbb3143e192e3b6b0": {
      "model_module": "@jupyter-widgets/base",
      "model_module_version": "1.2.0",
      "model_name": "LayoutModel",
      "state": {}
     },
     "fd219845d8da4e4eb0fd6011fa6390e3": {
      "model_module": "@jupyter-widgets/base",
      "model_module_version": "1.2.0",
      "model_name": "LayoutModel",
      "state": {}
     },
     "fd573e3fb0a640c5b31e52a7f0d3885b": {
      "model_module": "@jupyter-widgets/controls",
      "model_module_version": "1.5.0",
      "model_name": "FloatSliderModel",
      "state": {
       "description": "$\\xi_x$",
       "layout": "IPY_MODEL_27610179cc404e41b9ef98bad118f214",
       "max": 0.4,
       "min": -0.4,
       "step": 0.1,
       "style": "IPY_MODEL_b9769705fa004225ab1543fee91a9432"
      }
     },
     "fdb9932037214fb7aec7e0db2f10f3a2": {
      "model_module": "@jupyter-widgets/base",
      "model_module_version": "1.2.0",
      "model_name": "LayoutModel",
      "state": {}
     },
     "fe04aaf8f2f74f4393585435904320f5": {
      "model_module": "@jupyter-widgets/base",
      "model_module_version": "1.2.0",
      "model_name": "LayoutModel",
      "state": {}
     },
     "ff2a74547176433787efdb114f2266b7": {
      "model_module": "@jupyter-widgets/base",
      "model_module_version": "1.2.0",
      "model_name": "LayoutModel",
      "state": {}
     },
     "ffa1b1bc84074bb1bbeb7f04648a0d95": {
      "model_module": "@jupyter-widgets/controls",
      "model_module_version": "1.5.0",
      "model_name": "SliderStyleModel",
      "state": {
       "description_width": ""
      }
     },
     "ffb8116e86804ca495a9b5319fa9995b": {
      "model_module": "@jupyter-widgets/controls",
      "model_module_version": "1.5.0",
      "model_name": "FloatSliderModel",
      "state": {
       "description": "$\\chi$",
       "layout": "IPY_MODEL_bbf593897c8342b3b267af53c20435ea",
       "max": 0.2,
       "min": -0.2,
       "step": 0.1,
       "style": "IPY_MODEL_fa0812b919754e5b9ba967ba3aebaa9a"
      }
     },
     "ffdecb5e7e684eca9c6bc5518ff9cc5c": {
      "model_module": "@jupyter-widgets/output",
      "model_module_version": "1.0.0",
      "model_name": "OutputModel",
      "state": {
       "layout": "IPY_MODEL_2cb146ecefd34b86a87da84655268206",
       "outputs": [
        {
         "data": {
          "image/png": "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\n",
          "text/plain": "<Figure size 432x288 with 1 Axes>"
         },
         "metadata": {
          "needs_background": "light"
         },
         "output_type": "display_data"
        }
       ]
      }
     }
    },
    "version_major": 2,
    "version_minor": 0
   }
  }
 },
 "nbformat": 4,
 "nbformat_minor": 2
}
